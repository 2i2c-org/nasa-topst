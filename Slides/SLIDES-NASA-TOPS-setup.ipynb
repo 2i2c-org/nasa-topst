{
 "cells": [
  {
   "cell_type": "code",
   "execution_count": null,
   "metadata": {
    "slideshow": {
     "slide_type": "skip"
    }
   },
   "outputs": [],
   "source": [
    "from IPython.display import Markdown\n"
   ]
  },
  {
   "cell_type": "markdown",
   "metadata": {
    "slideshow": {
     "slide_type": "slide"
    }
   },
   "source": [
    "# Analizando el Riesgo de Inundaciones de manera Reproducible con NASA Earthdata Cloud\n",
    "\n",
    "### Cofiguración del hub de 2i2c y las credenciales de NASA EarthData"
   ]
  },
  {
   "cell_type": "markdown",
   "metadata": {
    "slideshow": {
     "slide_type": "slide"
    }
   },
   "source": [
    "## Antes de empezar\n",
    "\n",
    "- Aceptaste estas [pautas de convivencia](https://www.metadocencia.org/pdc/).\n",
    "- Si hablas, luego silencia tu micrófono para evitar interrupciones por ruidos de fondo. Puede que lo hagamos por ti.\n",
    "- Para decir algo, pide la palabra o usa el chat.\n",
    "- ¿Podemos grabar el chat? ¿Podemos “sacar fotos”?\n",
    "\n"
   ]
  },
  {
   "cell_type": "markdown",
   "metadata": {
    "slideshow": {
     "slide_type": "slide"
    }
   },
   "source": [
    "\n",
    "<style>\n",
    "  .container {\n",
    "    text-align: center;\n",
    "  }\n",
    "  .title {\n",
    "    font-size: 40px; \n",
    "    font-weight: bold;\n",
    "    margin-bottom: 20px;\n",
    "  }\n",
    "  .centered-image {\n",
    "    display: flex;\n",
    "    margin: 0 auto;\n",
    "    margin-bottom: 20px;\n",
    "    justify-content: center;\n",
    "  }\n",
    "  .sub-images {\n",
    "    display: flex;\n",
    "    justify-content: center;\n",
    "  }\n",
    "  .sub-images img {\n",
    "    margin: 0 10px;\n",
    "  }\n",
    "</style>\n",
    "\n",
    "\n",
    "<div class=\"container\">\n",
    "  <div class=\"title\" >NASA Transform to Open Science</div>\n",
    "  <img width=\"300\" height=\"300\" src=\"imgs/TOPS.png\" alt=\"Logo de NASA TOPS\" class=\"centered-image\">\n",
    "  <div class=\"sub-images\">\n",
    "    <img width=\"100\" height=\"100\" src=\"imgs/MD_logo.png\" alt=\"Logo de MetaDocencia\">\n",
    "    <img width=\"100\" height=\"100\" src=\"imgs/2i2c_logo.png\" alt=\"Logo de 2i2c\">\n",
    "  </div>\n",
    "</div>\n",
    "\n"
   ]
  },
  {
   "cell_type": "markdown",
   "metadata": {
    "slideshow": {
     "slide_type": "slide"
    }
   },
   "source": [
    "## Para poder seguir el taller necesitas contar con:\n",
    "- Una cuenta de usuario gratuita en NASA EarthData: https://urs.earthdata.nasa.gov/ \n",
    "- Una cuenta de usuario gratuita en GitHub: https://github.com/\n",
    "- Una cuenta de usuario en hub 2i2c: https://showcase.2i2c.cloud/hub/login\n"
   ]
  },
  {
   "cell_type": "markdown",
   "metadata": {
    "slideshow": {
     "slide_type": "slide"
    }
   },
   "source": [
    "## Demostración en vivo"
   ]
  },
  {
   "cell_type": "markdown",
   "metadata": {
    "slideshow": {
     "slide_type": "slide"
    }
   },
   "source": [
    "      \n",
    "## Resumiendo..\n",
    "\n",
    "- Debes registrarte a EarthData. Puedes encontrar un [tutorial aquí](https://urs.earthdata.nasa.gov/documentation/for_users/how_to_register): https://urs.earthdata.nasa.gov/documentation/for_users/how_to_register \n",
    "\n",
    "- ¡No olvides tu usuario y contraseña!\n",
    "\n",
    "- En el archivo `.netrc` que pueden encontrar en el repositorio, ubica la siguiente línea:\n",
    "\n",
    "`machine urs.earthdata.nasa.gov login {username} password {password}`\n",
    "\n",
    "Reemplaza `{usuario}` y `{contraseña}` por los tuyos. \n",
    "\n",
    "- Abre y sigue paso a paso `1_Getting_Started.ipynb` para confirmar que tus credenciales están configuradas correctamente.\n",
    "\n"
   ]
  }
 ],
 "metadata": {
  "kernelspec": {
   "display_name": "base",
   "language": "python",
   "name": "python3"
  },
  "language_info": {
   "codemirror_mode": {
    "name": "ipython",
    "version": 3
   },
   "file_extension": ".py",
   "mimetype": "text/x-python",
   "name": "python",
   "nbconvert_exporter": "python",
   "pygments_lexer": "ipython3",
   "version": "3.9.7"
  },
  "orig_nbformat": 4
 },
 "nbformat": 4,
 "nbformat_minor": 2
}
