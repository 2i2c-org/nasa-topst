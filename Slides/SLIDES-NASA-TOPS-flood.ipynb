{
 "cells": [
  {
   "cell_type": "code",
   "execution_count": null,
   "metadata": {
    "slideshow": {
     "slide_type": "skip"
    }
   },
   "outputs": [],
   "source": [
    "from IPython.display import Markdown\n"
   ]
  },
  {
   "cell_type": "markdown",
   "metadata": {
    "slideshow": {
     "slide_type": "slide"
    }
   },
   "source": [
    "# Analizando el Riesgo de Inundaciones de manera Reproducible con NASA Earthdata Cloud\n",
    "\n",
    "\n"
   ]
  },
  {
   "cell_type": "markdown",
   "metadata": {
    "slideshow": {
     "slide_type": "slide"
    }
   },
   "source": [
    "## Antes de empezar\n",
    "\n",
    "- Aceptaste estas [pautas de convivencia](https://www.metadocencia.org/pdc/).\n",
    "- Si hablas, luego silencia tu micrófono para evitar interrupciones por ruidos de fondo. Puede que lo hagamos por ti.\n",
    "- Para decir algo, pide la palabra o usa el chat.\n",
    "- ¿Podemos grabar el chat? ¿Podemos “sacar fotos”?\n",
    "\n"
   ]
  },
  {
   "cell_type": "markdown",
   "metadata": {
    "slideshow": {
     "slide_type": "slide"
    }
   },
   "source": [
    "\n",
    "<style>\n",
    "  .container {\n",
    "    text-align: center;\n",
    "  }\n",
    "  .title {\n",
    "    font-size: 40px; \n",
    "    font-weight: bold;\n",
    "    margin-bottom: 20px;\n",
    "  }\n",
    "  .centered-image {\n",
    "    display: flex;\n",
    "    margin: 0 auto;\n",
    "    margin-bottom: 20px;\n",
    "    justify-content: center;\n",
    "  }\n",
    "  .sub-images {\n",
    "    display: flex;\n",
    "    justify-content: center;\n",
    "  }\n",
    "  .sub-images img {\n",
    "    margin: 0 10px;\n",
    "  }\n",
    "</style>\n",
    "\n",
    "\n",
    "<div class=\"container\">\n",
    "  <div class=\"title\" >NASA Transform to Open Science</div>\n",
    "  <img width=\"300\" height=\"300\" src=\"imgs/TOPS.png\" alt=\"Logo de NASA TOPS\" class=\"centered-image\">\n",
    "  <div class=\"sub-images\">\n",
    "    <img width=\"100\" height=\"100\" src=\"imgs/MD_logo.png\" alt=\"Logo de MetaDocencia\">\n",
    "    <img width=\"100\" height=\"100\" src=\"imgs/2i2c_logo.png\" alt=\"Logo de 2i2c\">\n",
    "  </div>\n",
    "</div>"
   ]
  },
  {
   "cell_type": "markdown",
   "metadata": {
    "slideshow": {
     "slide_type": "slide"
    }
   },
   "source": [
    "## Presentación de los docentes"
   ]
  },
  {
   "cell_type": "markdown",
   "metadata": {
    "slideshow": {
     "slide_type": "slide"
    }
   },
   "source": [
    "## Objetivo general: \n",
    "\n",
    "Utilizar los productos abiertos de la NASA llamados Dynamic Surface Water eXtent (DSWx) - Landsat Sentinel-2 armonizado (HLS) para mapear la extensión de la inundación como resultado del evento monzónico de septiembre de 2022 en Pakistán.\n",
    "\n",
    "## Objetivos específicos: \n",
    "\n",
    "- Ingresar a entorno de Jupyter Hub facilitado por 2i2c\n",
    "- Loguearse con EarthData desde la Jupyter notebook.\n",
    "- Acceder a los productos DSWx-HLS.\n",
    "- Consultar la colección de datos DSWx-HLS Provisional Data para una región específica de interés y de acuerdo a una determinada fecha.\n",
    "- Obtener una vista previa de los datos circunscritos al área de interés\n",
    "- Crear una tabla de los resultados de búsqueda de la base de datos.\n",
    "- Visualizar el mapa de inundación."
   ]
  },
  {
   "cell_type": "markdown",
   "metadata": {
    "slideshow": {
     "slide_type": "slide"
    }
   },
   "source": [
    "## A quién está dirigido el curso\n",
    "\n",
    "Ana es agrónoma, y acaba de finalizar la Maestría en Hidrología durante la cuál estudió la variabilidad estacional de los recursos hídricos en la región de de los valles interandinos en Bolivia. Además, es parte de una comunidad de práctica orientada al análisis y disponibilización de datos geoespaciales que promueve la ciencia abierta. Está interesada en diseñar un curso de gestión de recursos hídricos con datos abiertos con foco en personas que conocen de datos geoespaciales pero necesitan aprender a analizar imágenes satélitales para la detección de zonas inundables.\n",
    "\n",
    "### Objetivos\n",
    "- Adquirir buenas prácticas de enseñanza para el dictado de un curso sobre el análisis de datos satelitales.\n",
    "- Aprender qué plataformas en línea y herramientas están disponibles para acceder y analizar datos de teledetección.\n",
    "- Desarrollar habilidades para integrar estudios de caso en el contexto de la gestión de recursos hídricos, brindando aplicaciones prácticas del análisis de imágenes satelitales.\n",
    "\n",
    "### Desafíos\n",
    "- Enseñar de una manera fácil y amigable análisis de datos a personas que no cuentan con nociones de programación\n",
    "- Trabajar con datos, materiales y flujos de trabajo que respeten los lineamientos de la ciencia abierta.\n",
    "\n"
   ]
  },
  {
   "cell_type": "markdown",
   "metadata": {
    "slideshow": {
     "slide_type": "slide"
    }
   },
   "source": [
    "### Outcome\n",
    "\n",
    "- Los participantes desarrollarán habilidades técnicas para consultar y trabajar con los productos OPERA DSWx-HLS Provisional Data desde la nube. Como resultado obtendrán y visualizarán mapas de inundación a partir de estos productos utilizando Python.\n",
    "- Los participantes serán capaces de diseñar y utilizar flujos de trabajo reproducibles, asegurando que sus análisis y procesamientos puedan ser replicados por otros o en situaciones similares.\n",
    "- Los participantes podrán contribuir a la comunidad compartiendo sus flujos de trabajo, scripts o conocimientos adquiridos, fomentando la colaboración y el intercambio de buenas prácticas.\n",
    "\n"
   ]
  },
  {
   "cell_type": "markdown",
   "metadata": {
    "slideshow": {
     "slide_type": "slide"
    }
   },
   "source": [
    "## Para poder seguir las actividades el participante necesita contar con:\n",
    "\n",
    "- Una cuenta de usuario gratuita en NASA EarthData: https://urs.earthdata.nasa.gov/ \n",
    "- Una cuenta de usuario gratuita en GitHub: https://github.com/\n",
    "- Una cuenta de usuario en hub 2i2c: https://showcase.2i2c.cloud/hub/login\n",
    "\n",
    "Puedes encontrar información sobre como en (link a primeros pasos)\n"
   ]
  },
  {
   "cell_type": "markdown",
   "metadata": {
    "slideshow": {
     "slide_type": "slide"
    }
   },
   "source": [
    "# Introducción a la generación de mapas de inundaciones utilizando datos de teledetección\n",
    "\n",
    "- Explora cambios en el agua en todo el mundo usando herramientas basadas en la nube y el dataset de OPERA DSWx-HLS.\n",
    "- Utiliza el Catálogo de Activos Espaciales y Temporales de CMR (CMR-STAC) para encontrar imágenes.\n",
    "- Trabaja con imágenes provisionales de extensión de agua obtenidas entre febrero de 2019 y septiembre de 2022.\n",
    "- Combina datos de Landsat 8 y Sentinel-2A/B para una visión completa.\n",
    "- Accede a 10 capas de información por imagen, incluyendo capa binaria de agua (B02_BWTR) y confianza en los datos (B03_CONF).\n",
    "\n",
    "## Ejemplo Práctico: Inundaciones en Pakistán\n",
    "- Usa DSWx-HLS para mapear las inundaciones causadas por las lluvias monzónicas en septiembre de 2022.\n"
   ]
  },
  {
   "cell_type": "markdown",
   "metadata": {
    "slideshow": {
     "slide_type": "slide"
    }
   },
   "source": [
    "## Te mostramos el mapa\n",
    "\n",
    "1. Setear el Ambiente de Trabajo\n",
    "2. Selección del Área de interés (AOI)\n",
    "3. Búsqueda y obtención de datos\n",
    "4. Análisis de los datos obtenidos\n",
    "5. Series de tiempo aplicada al área de interés\n",
    "6. Procesamiento y visualización de datos"
   ]
  },
  {
   "cell_type": "markdown",
   "metadata": {
    "slideshow": {
     "slide_type": "slide"
    }
   },
   "source": [
    "## Ejercicio 1\n",
    "\n",
    "### Cuéntanos algo sobre tí\n",
    "\n",
    "- Duración: 3 minutos\n",
    "- Usa el [documento que compartimos]() en el chat, ubicate en la línea XX y cuéntanos:\n",
    "    - Tu nombre\n",
    "    - Desde qué ciudad participas\n"
   ]
  },
  {
   "cell_type": "markdown",
   "metadata": {
    "slideshow": {
     "slide_type": "slide"
    }
   },
   "source": [
    "# Setear el ambiente de trabajo"
   ]
  },
  {
   "cell_type": "markdown",
   "metadata": {
    "slideshow": {
     "slide_type": "slide"
    }
   },
   "source": [
    "## Opera DSWx-HLS\n",
    "\n",
    "- Conjunto de datos que rastrea la extensión del agua en la superficie terrestre desde febrero de 2019 hasta septiembre de 2022.\n",
    "- Las imágenes combinan información de dos satélites: Landsat 8 y Sentinel-2A/B.\n",
    "\n"
   ]
  },
  {
   "cell_type": "markdown",
   "metadata": {
    "slideshow": {
     "slide_type": "slide"
    }
   },
   "source": [
    "## Opera DSWx-HLS\n",
    "- Cada imagen condensa 10 capas de información pero nos centraremos en:\n",
    "  - B02_BWTR (Capa binaria de agua): \n",
    "    - En el área en dónde hay agua, la capa vale 1 (blanco) y donde no hay agua, toma valor 0 (negro). \n",
    "  - B03_CONF (Capa de confianza): \n",
    "    - Indica qué tan seguro está el sistema DSWx-HLS de sus predicciones de agua. Valores altos (cerca de 100%) sugieren mayor certeza. En áreas con valores más bajos la confianza disminuye (¿sombras o nubes?)."
   ]
  },
  {
   "cell_type": "markdown",
   "metadata": {
    "slideshow": {
     "slide_type": "slide"
    }
   },
   "source": [
    "## Librerías que vamos a utilizar"
   ]
  },
  {
   "cell_type": "code",
   "execution_count": null,
   "metadata": {},
   "outputs": [],
   "source": [
    "\n",
    "# library to handle filepath operations\n",
    "from pathlib import Path\n",
    "\n",
    "# library for handling geospatial data\n",
    "import rasterio\n",
    "from rasterio.plot import show\n",
    "\n"
   ]
  },
  {
   "cell_type": "markdown",
   "metadata": {
    "slideshow": {
     "slide_type": "slide"
    }
   },
   "source": [
    "## Librerías que vamos a utilizar"
   ]
  },
  {
   "cell_type": "code",
   "execution_count": null,
   "metadata": {},
   "outputs": [],
   "source": [
    "\n",
    "\n",
    "# libraries to help with visualization\n",
    "import matplotlib.pyplot as plt\n",
    "from matplotlib.colors import ListedColormap\n",
    "from matplotlib import colors\n",
    "\n",
    "# handle numbers\n",
    "import numpy as np\n",
    "\n",
    "# imports for system calls\n",
    "import os"
   ]
  },
  {
   "cell_type": "markdown",
   "metadata": {
    "slideshow": {
     "slide_type": "slide"
    }
   },
   "source": [
    "## Inicializar parámetros definidos por el usuario\n",
    "\n",
    "- Define la zona de búsqueda.\n",
    "- Establece un periodo de tiempo específico para la búsqueda.\n",
    "- Imprime en la pantalla los detalles de la zona de búsqueda y las fechas elegidas para que puedas verificarlos."
   ]
  },
  {
   "cell_type": "markdown",
   "metadata": {
    "slideshow": {
     "slide_type": "slide"
    }
   },
   "source": [
    "## Tomamos un descanso de 5 min"
   ]
  }
 ],
 "metadata": {
  "kernelspec": {
   "display_name": "base",
   "language": "python",
   "name": "python3"
  },
  "language_info": {
   "codemirror_mode": {
    "name": "ipython",
    "version": 3
   },
   "file_extension": ".py",
   "mimetype": "text/x-python",
   "name": "python",
   "nbconvert_exporter": "python",
   "pygments_lexer": "ipython3",
   "version": "3.9.7"
  },
  "orig_nbformat": 4
 },
 "nbformat": 4,
 "nbformat_minor": 2
}
