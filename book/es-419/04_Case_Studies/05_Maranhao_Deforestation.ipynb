{
 "cells": [
  {
   "cell_type": "markdown",
   "id": "ab17179d",
   "metadata": {},
   "source": [
    "# Deforestación en Maranhão\n",
    "\n",
    "[La deforestación de la selva amazónica en Brasil](https://www.cfr.org/amazon-deforestation/#/en) es un reto constante. En este cuaderno computacional, utilizaremos el [producto de datos de OPERA DIST-HLS ](https://lpdaac.usgs.gov/documents/1766/OPERA_DIST_HLS_Product_Specification_V1.pdf) para estudiar la evolución de la pérdida de vegetación debido a causas naturales y antropogénicas. En particular, analizaremos la deforestación durante un período de aproximadamente dos años en el estado de Maranhão, Brasil.\n",
    "\n",
    "<center>\n",
    "   <img src=\"https://www.querencianews.com.br/wp-content/uploads/2023/03/WhatsApp-Image-2023-03-30-at-11.22.47-AM.jpeg\">\n",
    "   <br>\n",
    "   (de https://www.querencianews.com.br/video-de-drone-mostra-cidade-do-maranhao-que-corre-risco-de-desaparecer-por-causa-de-crateras)\n",
    "</center>\n",
    "\n",
    "***\n",
    "\n",
    "## Esquema de los pasos para el análisis\n",
    "\n",
    "- Identificación de los parámetros de búsqueda (AOI, ventana de tiempo, _endpoint_, etc.)\n",
    "- Obtener de los resultados de búsqueda\n",
    "- Explorar y refinar de los resultados de la búsqueda\n",
    "- Procesar los datos para obtener resultados relevantes\n",
    "\n",
    "En este caso, crearemos un DataFrame para resumir los resultados de la búsqueda, los reduciremos a un tamaño manejable y crearemos un selector interactivo para analizar los datos recuperados.\n",
    "\n",
    "***\n",
    "\n",
    "### Importación preliminar de librerías"
   ]
  },
  {
   "cell_type": "code",
   "execution_count": null,
   "id": "59d30996",
   "metadata": {},
   "outputs": [],
   "source": [
    "from warnings import filterwarnings\n",
    "filterwarnings('ignore')\n",
    "import numpy as np, pandas as pd, xarray as xr\n",
    "import rioxarray as rio\n",
    "import rasterio"
   ]
  },
  {
   "cell_type": "code",
   "execution_count": null,
   "id": "3216d7c8",
   "metadata": {},
   "outputs": [],
   "source": [
    "import hvplot.pandas, hvplot.xarray\n",
    "import geoviews as gv\n",
    "from geoviews import opts\n",
    "gv.extension('bokeh')"
   ]
  },
  {
   "cell_type": "code",
   "execution_count": null,
   "id": "b8a4c344",
   "metadata": {},
   "outputs": [],
   "source": [
    "from pystac_client import Client\n",
    "from osgeo import gdal\n",
    "# GDAL setup for accessing cloud data\n",
    "gdal.SetConfigOption('GDAL_HTTP_COOKIEFILE','~/.cookies.txt')\n",
    "gdal.SetConfigOption('GDAL_HTTP_COOKIEJAR', '~/.cookies.txt')\n",
    "gdal.SetConfigOption('GDAL_DISABLE_READDIR_ON_OPEN','EMPTY_DIR')\n",
    "gdal.SetConfigOption('CPL_VSIL_CURL_ALLOWED_EXTENSIONS','TIF, TIFF')"
   ]
  },
  {
   "cell_type": "markdown",
   "id": "a04d638b",
   "metadata": {},
   "source": [
    "### Funciones prácticas\n",
    "\n",
    "Estas funciones podrían incluirse en archivos modulares para proyectos de investigación más evolucionados. Para fines didácticos, se incluyen en este cuaderno computacional."
   ]
  },
  {
   "cell_type": "code",
   "execution_count": null,
   "id": "5c05bd4e",
   "metadata": {},
   "outputs": [],
   "source": [
    "# simple utility to make a rectangle with given center of width dx & height dy\n",
    "def make_bbox(pt,dx,dy):\n",
    "    '''Returns bounding-box represented as tuple (x_lo, y_lo, x_hi, y_hi)\n",
    "    given inputs pt=(x, y), width & height dx & dy respectively,\n",
    "    where x_lo = x-dx/2, x_hi=x+dx/2, y_lo = y-dy/2, y_hi = y+dy/2.\n",
    "    '''\n",
    "    return tuple(coord+sgn*delta for sgn in (-1,+1) for coord,delta in zip(pt, (dx/2,dy/2)))"
   ]
  },
  {
   "cell_type": "code",
   "execution_count": null,
   "id": "aef83b9f",
   "metadata": {},
   "outputs": [],
   "source": [
    "# simple utility to plot an AOI or bounding-box\n",
    "def plot_bbox(bbox):\n",
    "    '''Given bounding-box, returns GeoViews plot of Rectangle & Point at center\n",
    "    + bbox: bounding-box specified as (lon_min, lat_min, lon_max, lat_max)\n",
    "    Assume longitude-latitude coordinates.\n",
    "    '''\n",
    "    # These plot options are fixed but can be over-ridden\n",
    "    point_opts = opts.Points(size=12, alpha=0.25, color='blue')\n",
    "    rect_opts = opts.Rectangles(line_width=0, alpha=0.1, color='red')\n",
    "    lon_lat = (0.5*sum(bbox[::2]), 0.5*sum(bbox[1::2]))\n",
    "    return (gv.Points([lon_lat]) * gv.Rectangles([bbox])).opts(point_opts, rect_opts)"
   ]
  },
  {
   "cell_type": "code",
   "execution_count": null,
   "id": "601beaec",
   "metadata": {},
   "outputs": [],
   "source": [
    "# utility to extract search results into a Pandas DataFrame\n",
    "def search_to_dataframe(search):\n",
    "    '''Constructs Pandas DataFrame from PySTAC Earthdata search results.\n",
    "    DataFrame columns are determined from search item properties and assets.\n",
    "    'asset': string identifying an Asset type associated with a granule\n",
    "    'href': data URL for file associated with the Asset in a given row.'''\n",
    "    granules = list(search.items())\n",
    "    assert granules, \"Error: empty list of search results\"\n",
    "    props = list({prop for g in granules for prop in g.properties.keys()})\n",
    "    tile_ids = map(lambda granule: granule.id.split('_')[3], granules)\n",
    "    rows = (([g.properties.get(k, None) for k in props] + [a, g.assets[a].href, t])\n",
    "                for g, t in zip(granules,tile_ids) for a in g.assets )\n",
    "    df = pd.concat(map(lambda x: pd.DataFrame(x, index=props+['asset','href', 'tile_id']).T, rows),\n",
    "                   axis=0, ignore_index=True)\n",
    "    assert len(df), \"Empty DataFrame\"\n",
    "    return df"
   ]
  },
  {
   "cell_type": "markdown",
   "id": "99a46262",
   "metadata": {},
   "source": [
    "***\n",
    "\n",
    "## Obtención de los resultados de búsqueda\n",
    "\n",
    "Nos enfocaremos en un área de interés centrada en las coordenadas geográficas de longitud-latitud $(-43.65,^{\\circ}, -3.00^{\\circ})$ que se encuentra en el estado de Maranhão, Brasil. Analizaremos todos los datos disponibles desde enero de 2022 hasta finales de marzo de 2024."
   ]
  },
  {
   "cell_type": "code",
   "execution_count": null,
   "id": "dbb749a2",
   "metadata": {},
   "outputs": [],
   "source": [
    "AOI = make_bbox((-43.65, -3.00), 0.2, 0.2)\n",
    "DATE_RANGE = \"2022-01-01/2024-03-31\""
   ]
  },
  {
   "cell_type": "markdown",
   "id": "ecfea5fe",
   "metadata": {},
   "source": [
    "El gráfico que se genera a continuación ilustra el área de interés. La herramienta Bokeh Zoom es útil para analizar la caja en varias escalas de longitud."
   ]
  },
  {
   "cell_type": "code",
   "execution_count": null,
   "id": "f3dc8c42",
   "metadata": {},
   "outputs": [],
   "source": [
    "# Optionally plot the AOI\n",
    "basemap = gv.tile_sources.OSM(padding=0.1, alpha=0.75)\n",
    "plot_bbox(AOI) * basemap"
   ]
  },
  {
   "cell_type": "code",
   "execution_count": null,
   "id": "82740fa8",
   "metadata": {},
   "outputs": [],
   "source": [
    "search_params = dict(bbox=AOI, datetime=DATE_RANGE)\n",
    "print(search_params)"
   ]
  },
  {
   "cell_type": "markdown",
   "id": "17290bec",
   "metadata": {},
   "source": [
    "Para ejecutar la búsqueda, definimos el URI del _endpoint_ e instanciaremos un objeto `Client`."
   ]
  },
  {
   "cell_type": "code",
   "execution_count": null,
   "id": "77e817a1",
   "metadata": {},
   "outputs": [],
   "source": [
    "ENDPOINT = 'https://cmr.earthdata.nasa.gov/stac'\n",
    "PROVIDER = 'LPCLOUD'\n",
    "COLLECTIONS = [\"OPERA_L3_DIST-ALERT-HLS_V1_1\"]\n",
    "search_params.update(collections=COLLECTIONS)\n",
    "print(search_params)\n",
    "\n",
    "catalog = Client.open(f'{ENDPOINT}/{PROVIDER}/')\n",
    "search_results = catalog.search(**search_params)"
   ]
  },
  {
   "cell_type": "markdown",
   "id": "c1978d41",
   "metadata": {},
   "source": [
    "La búsqueda en sí es bastante rápida y arroja algunos miles de resultados que pueden analizarse más fácilmente en un  DataFrame de Pandas."
   ]
  },
  {
   "cell_type": "code",
   "execution_count": null,
   "id": "3b8c0cd5",
   "metadata": {},
   "outputs": [],
   "source": [
    "%%time\n",
    "df = search_to_dataframe(search_results)\n",
    "df.info()\n",
    "df.head()"
   ]
  },
  {
   "cell_type": "markdown",
   "id": "a451bfb1",
   "metadata": {},
   "source": [
    "Limpiar el DataFrame `df` de forma que tenga sentido:\n",
    "\n",
    "- renombrando la columna `eo:cloud_cover` como `cloud_cover`,\n",
    "- convirtiendo la columna `cloud_cover` en valores de punto flotante, y\n",
    "- eliminando columnas `datetime` atípicas,\n",
    "- convertiendo la columna `datetime` en `DatetimeIndex`,\n",
    "- estableciendo la columna `datetime` como `Index`, y\n",
    "- convirtiendo las columnas restantes en cadenas de caracteres."
   ]
  },
  {
   "cell_type": "code",
   "execution_count": null,
   "id": "59356d87",
   "metadata": {},
   "outputs": [],
   "source": [
    "df = df.rename(columns={'eo:cloud_cover':'cloud_cover'})\n",
    "df.cloud_cover = df.cloud_cover.astype(np.float16)\n",
    "df = df.drop(['start_datetime', 'end_datetime'], axis=1)\n",
    "df.datetime = pd.DatetimeIndex(df.datetime)\n",
    "df = df.set_index('datetime').sort_index()\n",
    "for col in 'asset href tile_id'.split():\n",
    "    df[col] = df[col].astype(pd.StringDtype())"
   ]
  },
  {
   "cell_type": "code",
   "execution_count": null,
   "id": "1a1d9264",
   "metadata": {},
   "outputs": [],
   "source": [
    "df.info()"
   ]
  },
  {
   "cell_type": "markdown",
   "id": "899895e8",
   "metadata": {},
   "source": [
    "***\n",
    "\n",
    "## Exploración y refinamiento de los resultados de la búsqueda\n",
    "\n",
    "Del conjunto de datos DIST-ALERT, la banda que que nos interesa es `VEG-DIST-STATUS`, así que construiremos una serie booleana `c1` que sea `True` siempre que la cadena de la columna `asset` incluya `VEG-DIST-STATUS` como subcadena. También podemos construir una serie booleana `c2` para filtrar las filas cuya `cloud_cover` exceda el 20%."
   ]
  },
  {
   "cell_type": "code",
   "execution_count": null,
   "id": "1b11057d",
   "metadata": {},
   "outputs": [],
   "source": [
    "c1 = df.asset.str.contains('VEG-DIST-STATUS')"
   ]
  },
  {
   "cell_type": "code",
   "execution_count": null,
   "id": "fb169036",
   "metadata": {},
   "outputs": [],
   "source": [
    "c2 = df.cloud_cover<20"
   ]
  },
  {
   "cell_type": "markdown",
   "id": "387adfb9",
   "metadata": {},
   "source": [
    "Si analizamos la columna `tile_id`, podemos ver que un único mosaico MGRS contiene el área de interés que especificamos. Como tal, todos los datos indexados en el`df` corresponden a mediciones distintas tomadas de un mosaico geográfico fijo en diferentes momentos."
   ]
  },
  {
   "cell_type": "code",
   "execution_count": null,
   "id": "9307ad62",
   "metadata": {},
   "outputs": [],
   "source": [
    "df.tile_id.value_counts()"
   ]
  },
  {
   "cell_type": "markdown",
   "id": "95b5571c",
   "metadata": {},
   "source": [
    "Podemos combinar la información anterior para reducir el `DataFrame` a una secuencia de filas mucho más pequeña.. También podemos eliminar las columnas `asset` y `tile_id` porque serán las mismas en todas las filas después del filtrado. De ahora en adelante solo necesitaremos la columna `href`."
   ]
  },
  {
   "cell_type": "code",
   "execution_count": null,
   "id": "e7ff6b9b",
   "metadata": {},
   "outputs": [],
   "source": [
    "df = df.loc[c1 & c2].drop(['asset', 'tile_id', 'cloud_cover'], axis=1)\n",
    "df.info()"
   ]
  },
  {
   "cell_type": "markdown",
   "id": "674e1f64",
   "metadata": {},
   "source": [
    "Parece que solo quedan 11 filas después de filtrar las demás. Estas pueden visualizarse interactivamente como se muestra a continuación.\n",
    "\n",
    "***\n",
    "\n",
    "## Procesamiento de los datos para obtener resultados relevantes"
   ]
  },
  {
   "cell_type": "code",
   "execution_count": null,
   "id": "0e771e99",
   "metadata": {},
   "outputs": [],
   "source": [
    "df"
   ]
  },
  {
   "cell_type": "markdown",
   "id": "4299a4c8",
   "metadata": {},
   "source": [
    "Podemos combinar la información anterior para reducir el `DataFrame` a una secuencia de filas mucho más pequeña. Utilizaremos un bucle para ensamblar un `DataArray` apilado a partir de los archivos remotos utilizando `xarray.concat`."
   ]
  },
  {
   "cell_type": "code",
   "execution_count": null,
   "id": "a6844e9f",
   "metadata": {},
   "outputs": [],
   "source": [
    "%%time\n",
    "stack = []\n",
    "for timestamp, row in df.iterrows():\n",
    "    data = rio.open_rasterio(row.href).squeeze()\n",
    "    data = data.rename(dict(x='longitude', y='latitude'))\n",
    "    del data.coords['band']\n",
    "    data.coords.update({'time':timestamp})\n",
    "    data.attrs = dict(description=f\"OPERA DIST: VEG-DIST-STATUS\", units=None)\n",
    "    stack.append(data)\n",
    "stack = xr.concat(stack, dim='time')\n",
    "stack"
   ]
  },
  {
   "cell_type": "markdown",
   "id": "bbe8f7fe",
   "metadata": {},
   "source": [
    "Como recordatorio, para la banda `VEG-DIST-STATUS`, interpretamos los valores ráster de la siguiente manera:\n",
    "\n",
    "- **0:** Sin alteración\n",
    "- **1:** Primera detección de alteraciones con cambios en la cobertura vegetal <50%\n",
    "- **2:** Detección provisional de alteraciones con cambios en la cobertura vegetal <50%\n",
    "- **3:** Detección confirmada de alteraciones con cambios en la cobertura vegetal < 50%\n",
    "- **4:** Primera detección de alteraciones con cambios en la cobertura vegetal ≥50%\n",
    "- **5:** Detección provisional de alteraciones con cambios en la cobertura vegetal ≥50%\n",
    "- **6:** Detección confirmada de alteraciones con cambios en la cobertura vegetal ≥50%\n",
    "- **7:** Detección finalizada de alteraciones con cambios en la cobertura vegetal <50%\n",
    "- **8:** Detección finalizada de alteraciones con cambios en lacobertura vegetal ≥50%\n",
    "- **255** Datos faltantes\n",
    "\n",
    "Al aplicar `np.unique` a la pila de rásters, vemos que todos estos 10 valores distintos aparecen en algún lugar de los datos."
   ]
  },
  {
   "cell_type": "code",
   "execution_count": null,
   "id": "d58a1898",
   "metadata": {},
   "outputs": [],
   "source": [
    "np.unique(stack)"
   ]
  },
  {
   "cell_type": "markdown",
   "id": "4a68ed68",
   "metadata": {},
   "source": [
    "Trataremos los píxeles con valores ausentes (por ejemplo, el `255`) igual que los píxeles sin alteraciones (por ejemplo, el valor `0`). Podríamos asignar el valor `nan`, pero eso convierte los datos a `float32` o `float64` y, por lo tanto, aumenta la cantidad de memoria requerida. Es decir, reasignar `255->0` nos permite ignorar los valores que faltan."
   ]
  },
  {
   "cell_type": "code",
   "execution_count": null,
   "id": "814cdc1f",
   "metadata": {},
   "outputs": [],
   "source": [
    "stack = stack.where(stack!=255, other=0)\n",
    "\n",
    "np.unique(stack)"
   ]
  },
  {
   "cell_type": "markdown",
   "id": "d9a0fb26",
   "metadata": {},
   "source": [
    "Definiremos un mapa de colores para identificar los píxeles que muestran signos de alteraciones. En vez de asignar colores diferentes a cada una de las 8 categorías, utilizaremos valores [RGBA](https://es.wikipedia.org/wiki/Espacio_de_color_RGBA) para asignar colores con un valor de transparencia. Con el mapa de colores definido en la siguiente celda, la mayoría de los píxeles serán totalmente transparentes. Los píxeles restantes son de color rojo con valores `alpha` estrictamente positivos. Los valores que realmente queremos ver son `3`, `6`, `7` y `8` (que indican una alteración confirmada en curso o una alteración que finalizó)."
   ]
  },
  {
   "cell_type": "code",
   "execution_count": null,
   "id": "65d80e0d",
   "metadata": {},
   "outputs": [],
   "source": [
    "# Define a colormap using RGBA values; these need to be written manually here...\n",
    "COLORS = [\n",
    "            (255, 255, 255, 0.0),   # No disturbance\n",
    "            (255,   0,   0, 0.25),  # <50% disturbance, first detection\n",
    "            (255,   0,   0, 0.25),  # <50% disturbance, provisional\n",
    "            (255,   0,   0, 0.50),  # <50% disturbance, confirmed, ongoing\n",
    "            (255,   0,   0, 0.50),  # ≥50% disturbance, first detection\n",
    "            (255,   0,   0, 0.50),  # ≥50% disturbance, provisional\n",
    "            (255,   0,   0, 1.00),  # ≥50% disturbance, confirmed, ongoing\n",
    "            (255,   0,   0, 0.75),  # <50% disturbance, finished\n",
    "            (255,   0,   0, 1.00),  # ≥50% disturbance, finished\n",
    "         ]"
   ]
  },
  {
   "cell_type": "markdown",
   "id": "d14bc8d4",
   "metadata": {},
   "source": [
    "Podemos, entonces, producir visualizaciones utilizando el arreglo `stack`.\n",
    "\n",
    "- Definimos `view` como un subconjunto de `stack` que se utiliza omisiones de píxeles `steps`  en cada dirección para acelerar el renderizado (cambiar a `steps=1` o `steps=None` cuando estemos listos para trazar a resolución completa).\n",
    "- Definimos los diccionarios `image_opts` y `layout_opts` para controlar los argumentos que pasaremos a `hvplot.image`.\n",
    "- El resultado, cuando se visualiza, es un gráfico interactivo con un control deslizante que nos permite ver cortes temporales específicos de los datos."
   ]
  },
  {
   "cell_type": "code",
   "execution_count": null,
   "id": "300a31a5",
   "metadata": {},
   "outputs": [],
   "source": [
    "steps = 100\n",
    "subset=slice(0,None,steps)\n",
    "view = stack.isel(longitude=subset, latitude=subset)\n",
    "\n",
    "image_opts = dict(\n",
    "                    x='longitude',\n",
    "                    y='latitude',\n",
    "                    cmap=COLORS,\n",
    "                    colorbar=False,\n",
    "                    clim=(-0.5,8.5),\n",
    "                    crs = stack.rio.crs,\n",
    "                    tiles=gv.tile_sources.ESRI,\n",
    "                    tiles_opts=dict(alpha=0.1, padding=0.1),\n",
    "                    project=True,\n",
    "                    rasterize=True,\n",
    "                    widget_location='bottom',\n",
    "                 )\n",
    "\n",
    "layout_opts = dict(\n",
    "                    title = 'Maranhão \\nDisturbance Alerts',\n",
    "                    xlabel='Longitude (°)',ylabel='Latitude (°)',\n",
    "                    fontscale=1.25,\n",
    "                    frame_width=500,\n",
    "                    frame_height=500,\n",
    "                  )"
   ]
  },
  {
   "cell_type": "code",
   "execution_count": null,
   "id": "5e1384c6",
   "metadata": {},
   "outputs": [],
   "source": [
    "view.hvplot.image(**image_opts, **layout_opts)"
   ]
  },
  {
   "cell_type": "markdown",
   "id": "27fb18cb",
   "metadata": {},
   "source": [
    "El control deslizante nos permite ver una tendencia de aumento en la deforestación a lo largo de dos años. Los primeros rásters tienen píxeles rojos distribuidos de forma dispersa por la región, mientras que los últimos tienen muchos más píxeles rojos (lo que indica que la vegetación está dañada). Es fácil utilizar el arreglo `stack` para contar los píxeles de cada categoría y obtener medidas cuantitativas de la deforestación.\n",
    "\n",
    "***"
   ]
  }
 ],
 "metadata": {
  "kernelspec": {
   "display_name": "Python 3 (ipykernel)",
   "language": "python",
   "name": "python3"
  }
 },
 "nbformat": 4,
 "nbformat_minor": 5
}
