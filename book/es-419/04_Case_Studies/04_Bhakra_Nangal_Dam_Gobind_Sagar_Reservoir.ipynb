{
 "cells": [
  {
   "cell_type": "markdown",
   "id": "447944e5",
   "metadata": {},
   "source": [
    "# La represa de Bhakra Nangal y el embalse de Gobind Sagar\n",
    "\n",
    "La [represa de Bhakra Nangal](https://en.wikipedia.org/wiki/Bhakra_Dam) se inauguró en 1963 en la India. La represa forma el embalse de Gobind Sagar y proporciona riego a 10 millones de acres en los estados vecinos de Punjab, Haryana y Rajastán. Podemos utilizar los datos del producto OPERA DSWx para observar las fluctuaciones en el nivel del agua durante largos periodos.\n",
    "\n",
    "<center>\n",
    "    <img src=\"https://upload.wikimedia.org/wikipedia/commons/thumb/1/1b/Bhakra_Dam_Aug_15_2008.JPG/440px-Bhakra_Dam_Aug_15_2008.JPG\">\n",
    "</center>\n",
    "\n",
    "## Esquema de las etapas del análisis\n",
    "\n",
    "- Identificar los parámetros de búsqueda\n",
    "  - Área de interés (AOI) y ventana temporal\n",
    "  - _Endpoint_, proveedor, identificador del catálogo (\"nombre corto\")\n",
    "- Obtención de los resultados de la búsqueda\n",
    "  - Instrospección, análisis para identificar características, bandas de interés\n",
    "  - Almacenar los resultados en un DataFrame para facilitar la exploración\n",
    "- Exploración y refinamiento de los resultados de la búsqueda\n",
    "  - Identificar los gránulos de mayor valor\n",
    "  - Filtrar los gránulos atípicos con mínima contribución\n",
    "  - Combinar los gránulos filtrados relevantes en un DataFrame\n",
    "  - Identificar el tipo de salida a generar\n",
    "- Procesar los datos para obtener resultados relevantes\n",
    "  - Descargar los gránulos relevantes en un Xarray DataArray, apilados adecuadamente\n",
    "  - Realizar los cálculos intermedios necesarios\n",
    "  - Combinar los fragmentos de datos relevantes en la visualización\n",
    "\n",
    "***\n",
    "\n",
    "### Importación preliminar de librerías"
   ]
  },
  {
   "cell_type": "code",
   "execution_count": null,
   "id": "f884a085",
   "metadata": {},
   "outputs": [],
   "source": [
    "from warnings import filterwarnings\n",
    "filterwarnings('ignore')\n",
    "import numpy as np, pandas as pd, xarray as xr\n",
    "import rioxarray as rio\n",
    "import rasterio"
   ]
  },
  {
   "cell_type": "code",
   "execution_count": null,
   "id": "5ba254ab",
   "metadata": {},
   "outputs": [],
   "source": [
    "# Imports for plotting\n",
    "import hvplot.pandas, hvplot.xarray\n",
    "import geoviews as gv\n",
    "from geoviews import opts\n",
    "gv.extension('bokeh')"
   ]
  },
  {
   "cell_type": "code",
   "execution_count": null,
   "id": "604ca993",
   "metadata": {},
   "outputs": [],
   "source": [
    "# STAC imports to retrieve cloud data\n",
    "from pystac_client import Client\n",
    "from osgeo import gdal\n",
    "# GDAL setup for accessing cloud data\n",
    "gdal.SetConfigOption('GDAL_HTTP_COOKIEFILE','~/.cookies.txt')\n",
    "gdal.SetConfigOption('GDAL_HTTP_COOKIEJAR', '~/.cookies.txt')\n",
    "gdal.SetConfigOption('GDAL_DISABLE_READDIR_ON_OPEN','EMPTY_DIR')\n",
    "gdal.SetConfigOption('CPL_VSIL_CURL_ALLOWED_EXTENSIONS','TIF, TIFF')"
   ]
  },
  {
   "cell_type": "markdown",
   "id": "3a36e387",
   "metadata": {},
   "source": [
    "### Funciones prácticas"
   ]
  },
  {
   "cell_type": "code",
   "execution_count": null,
   "id": "91884ed6",
   "metadata": {},
   "outputs": [],
   "source": [
    "# simple utility to make a rectangle with given center of width dx & height dy\n",
    "def make_bbox(pt,dx,dy):\n",
    "    '''Returns bounding-box represented as tuple (x_lo, y_lo, x_hi, y_hi)\n",
    "    given inputs pt=(x, y), width & height dx & dy respectively,\n",
    "    where x_lo = x-dx/2, x_hi=x+dx/2, y_lo = y-dy/2, y_hi = y+dy/2.\n",
    "    '''\n",
    "    return tuple(coord+sgn*delta for sgn in (-1,+1) for coord,delta in zip(pt, (dx/2,dy/2)))"
   ]
  },
  {
   "cell_type": "code",
   "execution_count": null,
   "id": "b56a5ad5",
   "metadata": {},
   "outputs": [],
   "source": [
    "# simple utility to plot an AOI or bounding-box\n",
    "def plot_bbox(bbox):\n",
    "    '''Given bounding-box, returns GeoViews plot of Rectangle & Point at center\n",
    "    + bbox: bounding-box specified as (lon_min, lat_min, lon_max, lat_max)\n",
    "    Assume longitude-latitude coordinates.\n",
    "    '''\n",
    "    # These plot options are fixed but can be over-ridden\n",
    "    point_opts = opts.Points(size=12, alpha=0.25, color='blue')\n",
    "    rect_opts = opts.Rectangles(line_width=0, alpha=0.1, color='red')\n",
    "    lon_lat = (0.5*sum(bbox[::2]), 0.5*sum(bbox[1::2]))\n",
    "    return (gv.Points([lon_lat]) * gv.Rectangles([bbox])).opts(point_opts, rect_opts)"
   ]
  },
  {
   "cell_type": "code",
   "execution_count": null,
   "id": "e2932134",
   "metadata": {},
   "outputs": [],
   "source": [
    "# utility to extract search results into a Pandas DataFrame\n",
    "def search_to_dataframe(search):\n",
    "    '''Constructs Pandas DataFrame from PySTAC Earthdata search results.\n",
    "    DataFrame columns are determined from search item properties and assets.\n",
    "    'asset': string identifying an Asset type associated with a granule\n",
    "    'href': data URL for file associated with the Asset in a given row.'''\n",
    "    granules = list(search.items())\n",
    "    assert granules, \"Error: empty list of search results\"\n",
    "    props = list({prop for g in granules for prop in g.properties.keys()})\n",
    "    tile_ids = map(lambda granule: granule.id.split('_')[3], granules)\n",
    "    rows = (([g.properties.get(k, None) for k in props] + [a, g.assets[a].href, t])\n",
    "                for g, t in zip(granules,tile_ids) for a in g.assets )\n",
    "    df = pd.concat(map(lambda x: pd.DataFrame(x, index=props+['asset','href', 'tile_id']).T, rows),\n",
    "                   axis=0, ignore_index=True)\n",
    "    assert len(df), \"Empty DataFrame\"\n",
    "    return df"
   ]
  },
  {
   "cell_type": "code",
   "execution_count": null,
   "id": "3b856830",
   "metadata": {},
   "outputs": [],
   "source": [
    "# utility to remap pixel values to a sequence of contiguous integers\n",
    "def relabel_pixels(data, values, null_val=255, transparent_val=0, replace_null=True, start=0):\n",
    "    \"\"\"\n",
    "    This function accepts a DataArray with a finite number of categorical values as entries.\n",
    "    It reassigns the pixel labels to a sequence of consecutive integers starting from start.\n",
    "    data:            Xarray DataArray with finitely many categories in its array of values.\n",
    "    null_val:        (default 255) Pixel value used to flag missing data and/or exceptions.\n",
    "    transparent_val: (default 0) Pixel value that will be fully transparent when rendered.\n",
    "    replace_null:    (default True) Maps null_value->transparent_value everywhere in data.\n",
    "    start:           (default 0) starting range of consecutive integer values for new labels.\n",
    "    The values returned are:\n",
    "    new_data:        Xarray DataArray containing pixels with new values\n",
    "    relabel:         dictionary associating old pixel values with new pixel values\n",
    "    \"\"\"\n",
    "    new_data = data.copy(deep=True)\n",
    "    if values:\n",
    "        values = np.sort(np.array(values, dtype=np.uint8))\n",
    "    else:\n",
    "        values = np.sort(np.unique(data.values.flatten()))\n",
    "    if replace_null:\n",
    "        new_data = new_data.where(new_data!=null_val, other=transparent_val)\n",
    "        values = values[np.where(values!=null_val)]\n",
    "    n_values = len(values)\n",
    "    new_values = np.arange(start=start, stop=start+n_values, dtype=values.dtype)\n",
    "    assert transparent_val in new_values, f\"{transparent_val=} not in {new_values}\"\n",
    "    relabel = dict(zip(values, new_values))\n",
    "    for old, new in relabel.items():\n",
    "        if new==old: continue\n",
    "        new_data = new_data.where(new_data!=old, other=new)\n",
    "    return new_data, relabel"
   ]
  },
  {
   "cell_type": "markdown",
   "id": "a1e916ba",
   "metadata": {},
   "source": [
    "Estas funciones podrían incluirse en archivos módular para proyectos de investigación más evolucionados. Para fines didácticos, se incluyen en este cuaderno computacional.\n",
    "\n",
    "***\n",
    "\n",
    "## Identificación de los parámetros de búsqueda\n",
    "\n",
    "Para las coordenadas de la represa, utilizaremos $(76.46^{\\circ}, 31.42^{\\circ})$. También buscaremos los datos de todo un año completo entre el 1 de abril de 2023 y el 1 de abril de 2024."
   ]
  },
  {
   "cell_type": "code",
   "execution_count": null,
   "id": "5f6e3170",
   "metadata": {},
   "outputs": [],
   "source": [
    "AOI = make_bbox((76.46, 31.42), 0.2, 0.2)\n",
    "DATE_RANGE = \"2023-04-01/2024-04-01\""
   ]
  },
  {
   "cell_type": "code",
   "execution_count": null,
   "id": "343da3b0",
   "metadata": {},
   "outputs": [],
   "source": [
    "# Optionally plot the AOI\n",
    "basemap = gv.tile_sources.OSM(alpha=0.5, padding=0.1)\n",
    "plot_bbox(AOI) * basemap"
   ]
  },
  {
   "cell_type": "code",
   "execution_count": null,
   "id": "9e734b84",
   "metadata": {},
   "outputs": [],
   "source": [
    "search_params = dict(bbox=AOI, datetime=DATE_RANGE)\n",
    "print(search_params)"
   ]
  },
  {
   "cell_type": "markdown",
   "id": "0d739b42",
   "metadata": {},
   "source": [
    "***\n",
    "\n",
    "## Obtención de los resultados de búsqueda\n",
    "\n",
    "Buscaremos productos de datos OPERA DSWx, así que definimos el `ENDPOINT`, el `PROVIDER` y las `COLLECTIONS` de la siguiente manera (estos valores se modifican ocasionalmente, así que puede ser necesario hacer algunas búsquedas en el [sitio web Earthdata Search](https://search.earthdata.nasa.gov) de la NASA)."
   ]
  },
  {
   "cell_type": "code",
   "execution_count": null,
   "id": "5deccdf2",
   "metadata": {},
   "outputs": [],
   "source": [
    "ENDPOINT = 'https://cmr.earthdata.nasa.gov/stac'\n",
    "PROVIDER = \"POCLOUD\"\n",
    "COLLECTIONS = [\"OPERA_L3_DSWX-HLS_V1_1.0\"]\n",
    "# Update the dictionary opts with list of collections to search\n",
    "search_params.update(collections=COLLECTIONS)\n",
    "print(search_params)"
   ]
  },
  {
   "cell_type": "code",
   "execution_count": null,
   "id": "29a74572",
   "metadata": {},
   "outputs": [],
   "source": [
    "%%time\n",
    "catalog = Client.open(f'{ENDPOINT}/{PROVIDER}/')\n",
    "search_results = catalog.search(**search_params)"
   ]
  },
  {
   "cell_type": "markdown",
   "id": "02a96899",
   "metadata": {},
   "source": [
    "Una vez que ejecutamos la búsqueda, los resultados se pueden consultar en un `DataFrame`."
   ]
  },
  {
   "cell_type": "code",
   "execution_count": null,
   "id": "8a28b72e",
   "metadata": {},
   "outputs": [],
   "source": [
    "%%time\n",
    "df = search_to_dataframe(search_results)\n",
    "df.head()"
   ]
  },
  {
   "cell_type": "markdown",
   "id": "b6ffc6ab",
   "metadata": {},
   "source": [
    "Limpiaremos el `DataFrame` `df` cambiando el nombre de la columna `eo:cloud_cover`, eliminando las columnas adicionales de fecha y hora, convirtiendo los tipos de datos de forma adecuada y seteando el índice."
   ]
  },
  {
   "cell_type": "code",
   "execution_count": null,
   "id": "e1614180",
   "metadata": {},
   "outputs": [],
   "source": [
    "df = df.rename(columns={'eo:cloud_cover':'cloud_cover'})\n",
    "df.cloud_cover = df.cloud_cover.astype(np.float16)\n",
    "df = df.drop(['start_datetime', 'end_datetime'], axis=1)\n",
    "df = df.convert_dtypes()\n",
    "df.datetime = pd.DatetimeIndex(df.datetime)\n",
    "df = df.set_index('datetime').sort_index()"
   ]
  },
  {
   "cell_type": "code",
   "execution_count": null,
   "id": "c03f98e4",
   "metadata": {},
   "outputs": [],
   "source": [
    "df.info()\n",
    "df.head()"
   ]
  },
  {
   "cell_type": "markdown",
   "id": "5c0b6fb1",
   "metadata": {},
   "source": [
    "En esta fase, el `DataFrame` de los resultados de la búsqueda tendrá más de dos mil filas. Entonces, vamos a reducirlo.\n",
    "\n",
    "***\n",
    "\n",
    "## Exploración y refinamiento de los resultados de la búsqueda\n",
    "\n",
    "Filtraremos las filas del `df` para capturar solo los gránulos capturados que tengan menos del 10% de nubosidad y la banda `B01_WTR` de los datos DSWx."
   ]
  },
  {
   "cell_type": "code",
   "execution_count": null,
   "id": "02df6572",
   "metadata": {},
   "outputs": [],
   "source": [
    "c1 = df.cloud_cover<10\n",
    "c2 = df.asset.str.contains('B01_WTR')"
   ]
  },
  {
   "cell_type": "code",
   "execution_count": null,
   "id": "7759360d",
   "metadata": {},
   "outputs": [],
   "source": [
    "df = df.loc[c1 & c2]\n",
    "df.info()"
   ]
  },
  {
   "cell_type": "markdown",
   "id": "e2205f2f",
   "metadata": {},
   "source": [
    "Podemos contar todas las entradas distintas de la columna `tile_id` y encontrar que solo hay una (`T43RFQ`). Eso significa que el AOI especificado se encuentra estrictamente dentro de un mosaico MGRS único y que todos los gránulos encontrados estarán asociados a ese mosaico geográfico específico."
   ]
  },
  {
   "cell_type": "code",
   "execution_count": null,
   "id": "6c5112d6",
   "metadata": {},
   "outputs": [],
   "source": [
    "df.tile_id.value_counts()"
   ]
  },
  {
   "cell_type": "markdown",
   "id": "ed1ac258",
   "metadata": {},
   "source": [
    "Redujimos el número total de gránulos a un poco más de cincuenta. Y los utilizaremos para generar una visualización.\n",
    "\n",
    "***\n",
    "\n",
    "## Procesamiento los datos para obtener resultados relevantes\n",
    "\n",
    "Como ya vimos varias veces, apilaremos los arreglos bidimensionales de los archivos GeoTIFF listados en `df.href` en un `DataArray` tridimensional. Utilizaremos el identificador `stack` para etiquetar el resultado."
   ]
  },
  {
   "cell_type": "code",
   "execution_count": null,
   "id": "d3204a31",
   "metadata": {},
   "outputs": [],
   "source": [
    "%%time\n",
    "stack = []\n",
    "for timestamp, row in df.iterrows():\n",
    "    data = rio.open_rasterio(row.href).squeeze()\n",
    "    data = data.rename(dict(x='longitude', y='latitude'))\n",
    "    del data.coords['band']\n",
    "    data.coords.update({'time':timestamp})\n",
    "    data.attrs = dict(description=f\"OPERA DIST: VEG-DIST-STATUS\", units=None)\n",
    "    stack.append(data)\n",
    "stack = xr.concat(stack, dim='time')\n",
    "stack"
   ]
  },
  {
   "cell_type": "markdown",
   "id": "2f9e853e",
   "metadata": {},
   "source": [
    "Podemos ver los valores de los pixeles que realmente aparecen en el arreglo `stack` utilizando la función NumPy `unique`."
   ]
  },
  {
   "cell_type": "code",
   "execution_count": null,
   "id": "97f6ab51",
   "metadata": {},
   "outputs": [],
   "source": [
    "np.unique(stack)"
   ]
  },
  {
   "cell_type": "markdown",
   "id": "718636eb",
   "metadata": {},
   "source": [
    "Como recordatorio, de acuerdo con la [especificación del producto DSWx](https://d2pn8kiwq2w21t.cloudfront.net/documents/ProductSpec_DSWX_URS309746.pdf), los significados de los valores ráster son los siguientes:\n",
    "\n",
    "- **0**: Sin agua&mdash;cualquier área con datos de reflectancia válidos que no sean de una de las otras categorías permitidas (agua abierta, agua superficial parcial, nieve/hielo, nube/sombra de nube, u océano enmascarado).\n",
    "- **1**: Agua abierta&mdash;cualquier píxel que sea completamente agua sin obstrucciones para el sensor, incluyendo obstrucciones por vegetación, terreno y edificios.\n",
    "- **2**: Agua parcialmente superficial&mdash;un área que es por lo menos 50% y menos de 100% agua abierta (por ejemplo, sumideros inundados, vegetación flotante, y píxeles bisecados por líneas costeras).\n",
    "- **252**: Nieve/Hielo.\n",
    "- **253**: Nube o sombra de nube&mdash;un área oscurecida por, o adyacente a, una nube o sombra de nube.\n",
    "- **254**: Océano enmascarado&mdash;un área identificada como océano utilizando una base de datos de la línea costera con un margen añadido.\n",
    "- **255**: Valor de relleno (datos faltantes).\n",
    "\n",
    "Observa que el valor `254`&mdash;océano enmascarado&mdash; no aparece en esta colección particular de rásteres porque esta región en particular está lejos de la costa.\n",
    "\n",
    "Para limpiar los datos (en caso de que querramos utilizar un mapa de colores), reasignemos los valores de los píxeles con nuestra función `relabel_pixels`. Esta vez, vamos a mantener los valores \"sin datos\" (`255`) para que podamos ver dónde faltan datos."
   ]
  },
  {
   "cell_type": "code",
   "execution_count": null,
   "id": "937824e8",
   "metadata": {},
   "outputs": [],
   "source": [
    "stack, relabel = relabel_pixels(stack, values=[0,1,2,252,253,255], replace_null=False)"
   ]
  },
  {
   "cell_type": "markdown",
   "id": "5263eb54",
   "metadata": {},
   "source": [
    "Podemos ejecutar `np.unique` de nuevo para asegurarnos de que los datos se modificaron como queríamos."
   ]
  },
  {
   "cell_type": "code",
   "execution_count": null,
   "id": "0b5b67cd",
   "metadata": {},
   "outputs": [],
   "source": [
    "np.unique(stack)"
   ]
  },
  {
   "cell_type": "markdown",
   "id": "194847f2",
   "metadata": {},
   "source": [
    "Ahora asignemos un mapa de colores para ayudar a visualizar las imágenes ráster. En este caso, el mapa de colores utiliza varios colores distintos con opacidad total y píxeles negros parcialmente transparentes para indicar los datos que faltan."
   ]
  },
  {
   "cell_type": "code",
   "execution_count": null,
   "id": "01f116d4",
   "metadata": {},
   "outputs": [],
   "source": [
    "# Define a colormap using RGBA values; these need to be written manually here...\n",
    "COLORS = {\n",
    "0: (255, 255, 255, 0.0),  # Not Water\n",
    "1: (  0,   0, 255, 1.0),  # Open Water\n",
    "2: (180, 213, 244, 1.0),  # Partial Surface Water\n",
    "3: (  0, 255, 255, 1.0),  # Snow/Ice\n",
    "4: (175, 175, 175, 1.0),  # Cloud/Cloud Shadow\n",
    "5: (  0,   0, 0, 0.5),    # Missing\n",
    "}"
   ]
  },
  {
   "cell_type": "markdown",
   "id": "5057b5bf",
   "metadata": {},
   "source": [
    "Podemo, entonces, visualizar los datos.\n",
    "\n",
    "- Definimos las opciones adecuadas en los diccionarios `image_opts` y `layout_opts`.\n",
    "- Construimos un objeto `view` que consiste en cortes extraídos del `stack` por submuestreo de cada píxel `steps` (reduce los `steps` a `1` o `None` para ver los rásteres a resolución completa)."
   ]
  },
  {
   "cell_type": "code",
   "execution_count": null,
   "id": "2c2b2ee3",
   "metadata": {},
   "outputs": [],
   "source": [
    "image_opts = dict(  \n",
    "                    x='longitude',\n",
    "                    y='latitude',\n",
    "                    cmap = list(COLORS.values()),\n",
    "                    colorbar=False,\n",
    "                    tiles = gv.tile_sources.OSM,\n",
    "                    tiles_opts=dict(padding=0.05, alpha=0.25),\n",
    "                    project=True,\n",
    "                    rasterize=True, \n",
    "                    framewise=False,\n",
    "                    widget_location='bottom',\n",
    "                 )\n",
    "\n",
    "layout_opts = dict(\n",
    "                    title = 'Bhakra Nangal Dam, India - water extent over a year',\n",
    "                    xlabel='Longitude (degrees)',\n",
    "                    ylabel='Latitude (degrees)',\n",
    "                    fontscale=1.25,\n",
    "                    frame_width=500, \n",
    "                    frame_height=500\n",
    "                   )"
   ]
  },
  {
   "cell_type": "code",
   "execution_count": null,
   "id": "2b62ed87",
   "metadata": {},
   "outputs": [],
   "source": [
    "steps = 100\n",
    "subset = slice(0,None,steps)\n",
    "view = stack.isel(longitude=subset, latitude=subset)\n",
    "view.hvplot.image( **image_opts, **layout_opts)"
   ]
  },
  {
   "cell_type": "markdown",
   "id": "9ca38db9",
   "metadata": {},
   "source": [
    "La visualización anterior puede tardar un poco en actualizarse (según la elección de `steps`). Esta permite ver la acumulación de agua a lo largo de un año. Hay algunos cortes en los que faltan muchos datos, así que debemos tener cuidado al interpretarlos.\n",
    "\n",
    "***"
   ]
  }
 ],
 "metadata": {
  "kernelspec": {
   "display_name": "Python 3 (ipykernel)",
   "language": "python",
   "name": "python3"
  }
 },
 "nbformat": 4,
 "nbformat_minor": 5
}
