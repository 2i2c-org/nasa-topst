{
 "cells": [
  {
   "cell_type": "markdown",
   "id": "499c072d",
   "metadata": {},
   "source": [
    "# Working with Vector Data"
   ]
  },
  {
   "cell_type": "markdown",
   "id": "6d47dbdb",
   "metadata": {},
   "source": [
    "Certain physical properties of interest in GIS are not conveniently captured by raster data on discrete grids. For instance, geometric features of a landscape like roads, rivers and boundaries between regions are better described using lines or curves in a suitable projected coordinate system. *Vector data*, in the context of GIS, refers to geometric representations of such aspects of a landscape."
   ]
  },
  {
   "cell_type": "markdown",
   "id": "f142a884",
   "metadata": {},
   "source": [
    "---"
   ]
  },
  {
   "cell_type": "markdown",
   "id": "8b007628",
   "metadata": {},
   "source": [
    "## Understanding Vector Data"
   ]
  },
  {
   "cell_type": "markdown",
   "id": "7c028cb3",
   "metadata": {},
   "source": [
    "*Vector data* consists of ordered sequences of *vertices*, i.e., pairs of numbers of the form $(x,y)$. The continuous coordinates of each vertex are associated with a physical spatial location in some projected *CRS* (*Coordinate Reference System*).\n",
    "\n",
    "+ *Point data*: Isolated vertices represent discrete zero-dimensional features (e.g., trees, street lamps, etc.).\n",
    "+ *Line data*: Any ordered sequence of at least two vertices constitutes a *\"polyline\"* that can be visualized by drawing straight lines between adjacent vertices. Line data is suitable for representing one-dimensional features like roads, trails, and rivers.\n",
    "+ *Polygon data*: Any ordered sequence of at least three vertices in which the first and last vertex are the same constitutes a *polygon* (i.e., a closed shape). Polygon data is suitable for describing two-dimensional regions like a lake or the boundary of a forest. A common use of polygon data is to represent borders between political constituencies (e.g., countries).\n",
    "\n",
    "A single vector dataset georeferenced with a particular CRS typically contains any number of points, lines, or polygons.\n",
    "\n",
    "![points-lines-polygons-vector-data-types](../assets/points-lines-polygons-vector-data-types.png)\n",
    "\n",
    "<p style=\"text-align: center;\">This image shows the three vector types: points, lines and polygons. Source: National Ecological Observatory Network.\n",
    "</p>"
   ]
  },
  {
   "cell_type": "markdown",
   "id": "b0305c16",
   "metadata": {},
   "source": [
    "![points](../assets/points.png)\n",
    "\n",
    "<p style=\"text-align: center;\">(Left image) Overhead view of a landscape; (right image) Point vector representations of salient features.<br>Source: *Sistemas de Información Geográfica* by Victor Olaya.\n",
    "</p>\n",
    "\n",
    "![lines](../assets/lines.png)\n",
    "<p style=\"text-align: center;\">(Left image) Overhead view of a river; (right image) Line vector representation of the river.<br>Source: *Sistemas de Información Geográfica* by Victor Olaya.\n",
    "</p>\n",
    "\n",
    "![polygon](../assets/polygon.png)\n",
    "\n",
    "<p style=\"text-align: center;\">(Left image) Overhead view of a lake; (right image) Polygon vector representation of the lake<br>Source: *Sistemas de Información Geográfica* by Victor Olaya.\n",
    "</p>"
   ]
  },
  {
   "cell_type": "markdown",
   "id": "ce3d293d",
   "metadata": {},
   "source": [
    "As with raster data, vector data representations are usually bundled with metadata to store various attributes associated with the dataset. Vector data is generally specified at a higher level of precision than the resolution than most raster grids allow. Moreover, geographic features represented as vector data enables computations that raster data does not. For instance, it is possible to determine various geometric or topological relationships:\n",
    "\n",
    "+ Does a point lie within the boundary of a geographic region?\n",
    "+ Do two roads intersect?\n",
    "+ What is the nearest point on a road to another region?\n",
    "\n",
    "Other geometric quantities like the length of a river or the surface area of a lake are available by applying techniques from computational geometry to vector data representations."
   ]
  },
  {
   "cell_type": "markdown",
   "id": "447f7bed",
   "metadata": {},
   "source": [
    "---"
   ]
  },
  {
   "cell_type": "markdown",
   "id": "5d4df8d7",
   "metadata": {},
   "source": [
    "## Using GeoJSON"
   ]
  },
  {
   "cell_type": "markdown",
   "id": "646a1547",
   "metadata": {},
   "source": [
    "[GeoJSON](https://geojson.org/) is a subset of [JSON (JavaScript object notation)](https://www.json.org). It was developed in the early 2000s to represent simple geographical features together with non-spatial attributes. The core idea is to provide a specification for encoding geospatial data that can be decoded by any JSON decoder.\n",
    "\n",
    "The GIS developers responsible for GeoJSON designed it with the intention that any web developer should be able to write a custom GeoJSON parser, allowing for many possible ways to use geospatial data beyond standard GIS software. The technical details of the GeoJSON format are described in the standards document [RFC7946](https://datatracker.ietf.org/doc/html/rfc7946).\n",
    "\n",
    "Let's see how to parse and plot GeoJSON files using [GeoPandas](https://geopandas.org/en/stable/). The local file `cables.geojson` stores line vector data representing underwater cables connecting different land masses.\n",
    "\n",
    "```{code-cell} python\n",
    "import geopandas as gpd\n",
    "from pathlib import Path\n",
    "\n",
    "FILE_STEM = Path.cwd().parent if 'book' == Path.cwd().parent.stem else 'book'\n",
    "GEOJSON = Path(FILE_STEM, 'assets/cables.geojson')\n",
    "print(GEOJSON)\n",
    "```\n",
    "\n",
    "```{code-cell} python\n",
    "with open(GEOJSON) as f:\n",
    "    text = f.read()\n",
    "print(text[:1500])\n",
    "```\n",
    "\n",
    "Trying to read the GeoJSON output above is tricky but predictable. JSON files are generically intended for machine consumption and are hence not very readable.\n",
    "\n",
    "Let's use the `geopandas.read_file` function to load the vector data into a `GeoDataFrame`.\n",
    "\n",
    "```{code-cell} python\n",
    "gdf = gpd.read_file(GEOJSON)\n",
    "display(gdf.head())\n",
    "gdf.info()\n",
    "```\n",
    "\n",
    "There are 530 rows each of which corresponds to line data (a connected sequence of line segments). We can use the `GeoDataFrame` column `color` as an option within a call to `.plot` to make a plot of these cables.\n",
    "\n",
    "```{code-cell} python\n",
    "gdf.geometry.plot(color=gdf.color, alpha=0.25);\n",
    "```\n",
    "\n",
    "Let's use a remote file to create another `GeoDataFrame`, this time containing polygon data.\n",
    "\n",
    "```{code-cell} python\n",
    "URL = \"http://d2ad6b4ur7yvpq.cloudfront.net/naturalearth-3.3.0/ne_110m_land.geojson\"\n",
    "gdf = gpd.read_file(URL)\n",
    "\n",
    "gdf\n",
    "```\n",
    "\n",
    "This time, the plot shows filled polygons corresponding to the countries of the world.\n",
    "\n",
    "```{code-cell} python\n",
    "gdf.plot(color='green', alpha=0.25) ;\n",
    "```\n",
    "\n",
    "The `GeoDataFrame.loc` accessor allows us to plot particular subsets of countries.\n",
    "\n",
    "```{code-cell} python\n",
    "gdf.loc[15:90].plot(color='green', alpha=0.25) ;\n",
    "```\n",
    "\n",
    "---"
   ]
  },
  {
   "cell_type": "markdown",
   "id": "5cfed4e8",
   "metadata": {},
   "source": [
    "## Using Shapefiles"
   ]
  },
  {
   "cell_type": "markdown",
   "id": "28b9c85c",
   "metadata": {},
   "source": [
    "The [shapefile](https://en.wikipedia.org/wiki/Shapefile) standard is a digital format for distributing geospatial vector data and its associated attributes. The standard—first developed by [ESRI](https://en.wikipedia.org/wiki/Esri) roughly 30 years ago—is supported by most modern GIS software tools. The name \"shapefile\" is a bit misleading because a \"shapefile\" typically consists of a bundle of several files (some mandatory, some optional) stored in a common directory with a common filename prefix.\n",
    "\n",
    "From [Wikipedia](https://en.wikipedia.org/wiki/Shapefile):\n",
    "\n",
    "> The shapefile format stores the geometry as primitive geometric shapes like points, lines, and polygons. These shapes, together with data attributes that are linked to each shape, create the representation of the geographic data. The term \"shapefile\" is quite common, but the format consists of a collection of files with a common filename prefix, stored in the same directory. The three mandatory files have filename extensions .shp, .shx, and .dbf. The actual shapefile relates specifically to the .shp file, but alone is incomplete for distribution as the other supporting files are required. Legacy GIS software may expect that the filename prefix be limited to eight characters to conform to the DOS 8.3 filename convention, though modern software applications accept files with longer names.\n",
    "\n",
    "Shapefiles use the [*Well-Known Binary (WKB)*](https://libgeos.org/specifications/wkb/) format for encoding geometries. This is a compact tabular format, i.e., row and column numbers ass value is significant. Some minor limitations of this format include the restriction of attribute field names to 10 characters or fewer and poor Unicode support; as a result, text is often abbreviated and encoded in ASCII.\n",
    "\n",
    "You can refer to the [ESRI Shapefile Technical Whitepaper](https://www.esri.com/content/dam/esrisites/sitecore-archive/Files/Pdfs/library/whitepapers/pdfs/shapefile.pdf) to find out more about shapefiles."
   ]
  },
  {
   "cell_type": "markdown",
   "id": "371c4458",
   "metadata": {},
   "source": [
    "#### Mandatory files"
   ]
  },
  {
   "cell_type": "markdown",
   "id": "1cb18584",
   "metadata": {},
   "source": [
    "- Main File (`.shp`): shape format, i.e., the spatial vector data (points, lines, and polygons) representing feature geometry.\n",
    "- Index File (`.shx`): shape index positions (to enable retrieval of feature geometry).\n",
    "- dBASE File (`.dbf`): standard database file storing attribute format (columnar attributes for each shape in dBase IV format, typically readable by, e.g., Microsoft Access or Excel).\n",
    "\n",
    "Records correspond in sequence in each of these files , i.e., attributes in record $k$ of the `dbf` file describe the feature in record $k$ of the associated `shp` file."
   ]
  },
  {
   "cell_type": "markdown",
   "id": "59cbec55",
   "metadata": {},
   "source": [
    "#### Optional files"
   ]
  },
  {
   "cell_type": "markdown",
   "id": "22da294c",
   "metadata": {},
   "source": [
    "- Projection File (`.prj`): description of relevant coordinate reference system using a [*well-known text (WKT or WKT-CRS)*  representation](https://en.wikipedia.org/wiki/Well-known_text_representation_of_coordinate_reference_systems).\n",
    "- Extensible Markup Language File (`.xml`): [geospatial metadata](https://en.wikipedia.org/wiki/Geospatial_metadata) in [XML](https://en.wikipedia.org/wiki/XML) format.\n",
    "- Code Page File (`.cpg`): plain text files to describe the encoding applied to create the shapefile. If your shapefile doesn’t have a .cpg file, then it has the system´s default encoding.\n",
    "- Spatial Index Files (`.sbn` and `.sbx`): encoded index files to speed up loading times.\n",
    "\n",
    "There are numerous other optional files; see the [whitepaper](https://www.esri.com/content/dam/esrisites/sitecore-archive/Files/Pdfs/library/whitepapers/pdfs/shapefile.pdf).\n",
    "\n",
    "As with GeoJSON files, shapefiles can be read directly using `geopandas.read_file` to load the `.shp` file. We'll do this now using an example shapefile that shows the boundary of a wildfire.\n",
    "\n",
    "```{code-cell} python\n",
    "SHAPEFILE = Path(FILE_STEM, 'assets/shapefiles/mckinney/McKinney_NIFC.shp')\n",
    "gdf = gpd.read_file(SHAPEFILE)\n",
    "gdf.info()\n",
    "gdf.head()\n",
    "```\n",
    "\n",
    "```{code-cell} python\n",
    "gdf.plot(color='red', alpha=0.5);\n",
    "```\n",
    "\n",
    "We'll use this particular shapefile again in later notebooks and explain what it represents in greater detail then.\n",
    "\n",
    "---"
   ]
  }
 ],
 "metadata": {
  "kernelspec": {
   "display_name": "Python 3 (ipykernel)",
   "language": "python",
   "name": "python3"
  }
 },
 "nbformat": 4,
 "nbformat_minor": 5
}
