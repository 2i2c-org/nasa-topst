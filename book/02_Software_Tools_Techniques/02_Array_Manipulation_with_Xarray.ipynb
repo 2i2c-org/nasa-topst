{
 "cells": [
  {
   "cell_type": "markdown",
   "id": "49dbb7d0",
   "metadata": {},
   "source": [
    "# Array Manipulation with [Xarray](https://docs.xarray.dev/en/stable/index.html)"
   ]
  },
  {
   "cell_type": "markdown",
   "id": "06324f63",
   "metadata": {
    "jupyter": {
     "source_hidden": false
    }
   },
   "source": [
    "There are numerous ways to work with geospatial data and so choosing tooling can be difficult. The principal library we'll be using is [*Xarray*](https://docs.xarray.dev/en/stable/index.html) for its `DataArray` and `Dataset` data structures and associated utilities as well as [NumPy](https://numpy.org) and [Pandas](https://pandas.pydata.org) for manipulating homogeneous numerical arrays and tabular data respectively."
   ]
  },
  {
   "cell_type": "markdown",
   "id": "4d0959c4",
   "metadata": {},
   "source": [
    "```{code-cell} python jupyter={\"source_hidden\": false}\n",
    "from warnings import filterwarnings\n",
    "filterwarnings('ignore')\n",
    "from pathlib import Path\n",
    "import numpy as np, pandas as pd, xarray as xr\n",
    "import rioxarray as rio\n",
    "\n",
    "FILE_STEM = Path.cwd().parent if 'book' == Path.cwd().parent.stem else 'book'\n",
    "```\n",
    "\n",
    "***"
   ]
  },
  {
   "cell_type": "markdown",
   "id": "4bc4a5b4",
   "metadata": {
    "jupyter": {
     "source_hidden": false
    }
   },
   "source": [
    "<center><img src=\"https://docs.xarray.dev/en/stable/_static/Xarray_Logo_RGB_Final.svg\" width=360px><</img></center>\n",
    "\n",
    "The principal data structure in Xarray is the [`DataArray`](https://docs.xarray.dev/en/stable/user-guide/data-structures.html) that provides support for labelled multi-dimensional arrays. [Project Pythia](https://foundations.projectpythia.org/core/xarray.html) provides a broad introduction to this package. We'll focus mainly on the specific parts of the Xarray API that we'll use for our particular geospatial analyses.\n",
    "\n",
    "Let's load an example `xarray.DataArray` data structure from a file whose location is given by `LOCAL_PATH`."
   ]
  },
  {
   "cell_type": "markdown",
   "id": "4a3aa1b4",
   "metadata": {},
   "source": [
    "```{code-cell} python jupyter={\"source_hidden\": false}\n",
    "LOCAL_PATH = Path(FILE_STEM, 'assets/OPERA_L3_DIST-ALERT-HLS_T10TEM_20220815T185931Z_20220817T153514Z_S2A_30_v0.1_VEG-ANOM-MAX.tif')\n",
    "data = rio.open_rasterio(LOCAL_PATH)\n",
    "```\n",
    "\n",
    "***"
   ]
  },
  {
   "cell_type": "markdown",
   "id": "b82c5224",
   "metadata": {},
   "source": [
    "## Examining the rich DataArray repr"
   ]
  },
  {
   "cell_type": "markdown",
   "id": "42f271c9",
   "metadata": {
    "jupyter": {
     "source_hidden": false
    }
   },
   "source": [
    "When using a Jupyter notebook, the Xarray `DataArray` `data` can be examined interactively.\n",
    "+ The output cell contains a rich Jupyter notebook `repr` for the `DataArray` class.\n",
    "+ The triangles next to the \"Coordinates\", \"Indexes\", and \"Attributes\" headings can be clicked with a mouse to reveal an expanded view."
   ]
  },
  {
   "cell_type": "markdown",
   "id": "dbf568c6",
   "metadata": {},
   "source": [
    "```{code-cell} python jupyter={\"source_hidden\": false}\n",
    "print(f'{type(data)=}\\n')\n",
    "data\n",
    "```\n",
    "\n",
    "***"
   ]
  },
  {
   "cell_type": "markdown",
   "id": "c631177e",
   "metadata": {},
   "source": [
    "## Examining DataArray attributes programmatically"
   ]
  },
  {
   "cell_type": "markdown",
   "id": "e6e35546",
   "metadata": {
    "jupyter": {
     "source_hidden": false
    }
   },
   "source": [
    "Of course, while this graphical view is handy, it is also possible to access various `DataArray` attributes programmatically. This permits us to write progam logic to manipulate `DataArray`s conditionally as needed. For instance:"
   ]
  },
  {
   "cell_type": "markdown",
   "id": "74630d04",
   "metadata": {},
   "source": [
    "```{code-cell} python jupyter={\"source_hidden\": false}\n",
    "print(data.coords)\n",
    "```"
   ]
  },
  {
   "cell_type": "markdown",
   "id": "c1017753",
   "metadata": {
    "jupyter": {
     "source_hidden": false
    }
   },
   "source": [
    "The dimensions `data.dims` are the strings/labels associated with the `DataArray` axes."
   ]
  },
  {
   "cell_type": "markdown",
   "id": "0b7a7a0c",
   "metadata": {},
   "source": [
    "```{code-cell} python jupyter={\"source_hidden\": false}\n",
    "data.dims\n",
    "```"
   ]
  },
  {
   "cell_type": "markdown",
   "id": "f90d443b",
   "metadata": {
    "jupyter": {
     "source_hidden": false
    }
   },
   "source": [
    "We can extract the coordinates as one-dimensional (homogeneous) NumPy arrays using the `coords` and the `.values` attributes."
   ]
  },
  {
   "cell_type": "markdown",
   "id": "ca4952f5",
   "metadata": {},
   "source": [
    "```{code-cell} python jupyter={\"source_hidden\": false}\n",
    "print(data.coords['x'].values)\n",
    "```"
   ]
  },
  {
   "cell_type": "markdown",
   "id": "72f09563",
   "metadata": {
    "jupyter": {
     "source_hidden": false
    }
   },
   "source": [
    "`data.attrs` is a dictionary containing other meta-data parsed from the GeoTIFF tags (the \"Attributes\" in the graphical view). Again, this is why `rioxarray` is useful; it is possible to write code that loads data from various fileformats into Xarray `DataArray`s, but this package wraps a lot of the messy code that would, e.g., populate `data.attrs`."
   ]
  },
  {
   "cell_type": "markdown",
   "id": "b80ea23a",
   "metadata": {},
   "source": [
    "```{code-cell} python jupyter={\"source_hidden\": false}\n",
    "data.attrs\n",
    "```\n",
    "\n",
    "***"
   ]
  },
  {
   "cell_type": "markdown",
   "id": "df6ad20d",
   "metadata": {},
   "source": [
    "## Using the DataArray rio accessor"
   ]
  },
  {
   "cell_type": "markdown",
   "id": "04b95a5b",
   "metadata": {
    "jupyter": {
     "source_hidden": false
    }
   },
   "source": [
    "As mentioned, `rioxarray` extends the class `xarray.DataArray` with an *accessor* called `rio`. The `rio` accessor effectively adds a namespace with a variety of attributes. We can use a Python list comprehension to display those that do not start with an underscore (the so-called \"private\" and \"dunder\" methods/attributes)."
   ]
  },
  {
   "cell_type": "markdown",
   "id": "b4e78038",
   "metadata": {},
   "source": [
    "```{code-cell} python jupyter={\"source_hidden\": false}\n",
    "[name for name in dir(data.rio) if not name.startswith('_')]\n",
    "```"
   ]
  },
  {
   "cell_type": "markdown",
   "id": "0f980f94",
   "metadata": {
    "jupyter": {
     "source_hidden": false
    }
   },
   "source": [
    "The attribute `data.rio.crs` is important for our purposes; it provides access to the coordinate reference system associated with this raster dataset."
   ]
  },
  {
   "cell_type": "markdown",
   "id": "d85d91d5",
   "metadata": {},
   "source": [
    "```{code-cell} python jupyter={\"source_hidden\": false}\n",
    "print(type(data.rio.crs))\n",
    "print(data.rio.crs)\n",
    "```"
   ]
  },
  {
   "cell_type": "markdown",
   "id": "d3c8cef0",
   "metadata": {
    "jupyter": {
     "source_hidden": false
    }
   },
   "source": [
    "The `.rio.crs` attribute itself is a data structure of class `CRS` from the [pyproj](https://pyproj4.github.io/pyproj/stable/index.html) project. The Python `repr` for this class returns a string like `EPSG:32610`; this number refers to the [EPSG Geodetic Parameter Dataset](https://en.wikipedia.org/wiki/EPSG_Geodetic_Parameter_Dataset).\n",
    "\n",
    "From [Wikipedia](https://en.wikipedia.org/wiki/EPSG_Geodetic_Parameter_Dataset): \n",
    "\n",
    "> EPSG Geodetic Parameter Dataset (also EPSG registry) is a public registry of [geodetic datums](https://en.wikipedia.org/wiki/Geodetic_datum), [spatial reference systems](https://en.wikipedia.org/wiki/Spatial_reference_system), [Earth ellipsoids](https://en.wikipedia.org/wiki/Earth_ellipsoid), coordinate transformations and related [units of measurement](https://en.wikipedia.org/wiki/Unit_of_measurement), originated by a member of the [European Petroleum Survey Group](https://en.wikipedia.org/wiki/European_Petroleum_Survey_Group) (EPSG) in 1985. Each entity is assigned an EPSG code between 1024 and 32767, along with a standard machine-readable [well-known text (WKT)](https://en.wikipedia.org/wiki/Well-known_text_representation_of_coordinate_reference_systems) representation. The dataset is maintained by the [IOGP](https://en.wikipedia.org/wiki/International_Association_of_Oil_%26_Gas_Producers) Geomatics Committee. "
   ]
  },
  {
   "cell_type": "markdown",
   "id": "70dffa2c",
   "metadata": {},
   "source": [
    "***"
   ]
  },
  {
   "cell_type": "markdown",
   "id": "eb07b66a",
   "metadata": {},
   "source": [
    "## Manipulating data in a DataArray"
   ]
  },
  {
   "cell_type": "markdown",
   "id": "a6ad7bd4",
   "metadata": {
    "jupyter": {
     "source_hidden": false
    }
   },
   "source": [
    "This data is stored using a particular [Universal Transverse Mercator (UTM)](https://en.wikipedia.org/wiki/Universal_Transverse_Mercator_coordinate_system) CRS; the coordinate labels would conventionally be *easting* and *northing*. However, when plotting, it will convenient to use *longitude* and *latitude* instead. We'll relabel the coordinates to reflect this; that is, the coordinate labelled `x` will be relabelled as `longitude` and the coordinate called `y` will be relabelled `latitude`."
   ]
  },
  {
   "cell_type": "markdown",
   "id": "c2ebb2e8",
   "metadata": {},
   "source": [
    "```{code-cell} python jupyter={\"source_hidden\": false}\n",
    "data = data.rename({'x':'longitude', 'y':'latitude'})\n",
    "```\n",
    "\n",
    "```{code-cell} python jupyter={\"source_hidden\": false}\n",
    "print(data.coords)\n",
    "```"
   ]
  },
  {
   "cell_type": "markdown",
   "id": "eb4de0e4",
   "metadata": {
    "jupyter": {
     "source_hidden": false
    }
   },
   "source": [
    "Again, even though the numerical values stored in the coordinate arrays don't strictly make sense as (longitude, latitude) values, we'll apply these labels now to simplify plotting later.\n",
    "\n",
    "Xarray `DataArray` objects enable *slicing* much like Python lists do. The following two cells both extract the same subarray by two different method calls."
   ]
  },
  {
   "cell_type": "markdown",
   "id": "0a747753",
   "metadata": {},
   "source": [
    "```{code-cell} python jupyter={\"source_hidden\": false}\n",
    "data.isel(longitude=slice(0,2))\n",
    "```\n",
    "\n",
    "```{code-cell} python jupyter={\"source_hidden\": false}\n",
    "data.sel(longitude=[499_995, 500_025])\n",
    "```"
   ]
  },
  {
   "cell_type": "markdown",
   "id": "8e4b2bb0",
   "metadata": {
    "jupyter": {
     "source_hidden": false
    }
   },
   "source": [
    "Rather than using brackets to slice sections of arrays (as in NumPy), for `DataArray`s, we can use the `sel` or `isel` methods to select slices by continuous coordinate values or by integer positions (i.e., \"pixel\" coordinates) respectively. This is similar to using `.loc` and `.iloc` in Pandas to extract entries from a Pandas `Series` or `DataFrame`.\n",
    "\n",
    "If we take a 2D slice from the 3D `DataArray` `data`, we can plot it using the `.plot` accessor (more on this later)."
   ]
  },
  {
   "cell_type": "code",
   "execution_count": null,
   "id": "ae607bcb",
   "metadata": {
    "jupyter": {
     "source_hidden": false
    }
   },
   "outputs": [],
   "source": [
    "data.isel(band=0).plot();"
   ]
  },
  {
   "cell_type": "markdown",
   "id": "37de7135",
   "metadata": {
    "jupyter": {
     "source_hidden": false
    }
   },
   "source": [
    "That plot took some time to render because the array plotted had $3,600\\times3,600$ pixels. We can use the Python builtin `slice` function to extract, say, every 100th pixel in either direction to plot a lower resolution image much faster."
   ]
  },
  {
   "cell_type": "markdown",
   "id": "08b7870b",
   "metadata": {},
   "source": [
    "```{code-cell} python jupyter={\"source_hidden\": false}\n",
    "steps = 100\n",
    "subset = slice(0,None,steps)\n",
    "view = data.isel(longitude=subset, latitude=subset, band=0)\n",
    "view.plot();\n",
    "```"
   ]
  },
  {
   "cell_type": "markdown",
   "id": "052b1928",
   "metadata": {
    "jupyter": {
     "source_hidden": false
    }
   },
   "source": [
    "The plot produced is rather dark (reflecting that most of the entries are zero according to the legend). Notice that the axes are labelled automatically using the `coords` we renamed before."
   ]
  },
  {
   "cell_type": "markdown",
   "id": "5fcf04ec",
   "metadata": {},
   "source": [
    "***"
   ]
  },
  {
   "cell_type": "markdown",
   "id": "e99fe61f",
   "metadata": {},
   "source": [
    "## Extracting DataArray data to NumPy, Pandas"
   ]
  },
  {
   "cell_type": "markdown",
   "id": "acf8de2b",
   "metadata": {
    "jupyter": {
     "source_hidden": false
    }
   },
   "source": [
    "Notice that a `DataArray` is a wrapper around a NumPy array. That NumPy array can be retrieved using the `.values` attribute."
   ]
  },
  {
   "cell_type": "markdown",
   "id": "09180490",
   "metadata": {},
   "source": [
    "```{code-cell} python jupyter={\"source_hidden\": false}\n",
    "array = data.values\n",
    "print(f'{type(array)=}')\n",
    "print(f'{array.shape=}')\n",
    "print(f'{array.dtype=}')\n",
    "print(f'{array.nbytes=}')\n",
    "```"
   ]
  },
  {
   "cell_type": "markdown",
   "id": "ae151a8c",
   "metadata": {
    "jupyter": {
     "source_hidden": false
    }
   },
   "source": [
    "This raster data is stored as 8-bit unsigned integer data, so one byte for each pixel. A single unsigned 8-bit integer can represent integer values between 0 and 255. In an array with a bit more than thirteen million elements, that means there are many repeated values. We can see by putting the pixel values into a Pandas `Series` and using the `.value_counts` method."
   ]
  },
  {
   "cell_type": "markdown",
   "id": "4619d8a1",
   "metadata": {},
   "source": [
    "```{code-cell} python jupyter={\"source_hidden\": false}\n",
    "s_flat = pd.Series(array.flatten()).value_counts()\n",
    "s_flat.sort_index()\n",
    "```"
   ]
  },
  {
   "cell_type": "markdown",
   "id": "2c5d85b5",
   "metadata": {
    "jupyter": {
     "source_hidden": false
    }
   },
   "source": [
    "Most of the entries in this raster array are zero. The numerical values vary between 0 and 100 with the exception of some 1,700 pixels with the value 255. This will make more sense when we discuss the DIST data product specification."
   ]
  },
  {
   "cell_type": "markdown",
   "id": "dd6c5daf",
   "metadata": {},
   "source": [
    "***"
   ]
  },
  {
   "cell_type": "markdown",
   "id": "fc37e816",
   "metadata": {},
   "source": [
    "## Accumulating & concatenating a sequence of DataArrays"
   ]
  },
  {
   "cell_type": "markdown",
   "id": "3d43a608",
   "metadata": {
    "jupyter": {
     "source_hidden": false
    }
   },
   "source": [
    "It is often convenient to *stack* multiple two-dimensional arrays of raster data into a single three-dimensional array. In NumPy, this is typically done with the [`numpy.concatenate` function](https://numpy.org/doc/stable/reference/generated/numpy.concatenate.html). There is a similar utility in Xarray—[`xarray.concat`](https://docs.xarray.dev/en/stable/generated/xarray.concat.html) (that is similar in design to the Pandas function [`pandas.concat`](https://pandas.pydata.org/pandas-docs/stable/reference/api/pandas.concat.html)). The principal distinction between `numpy.concatenate` and `xarray.concat` is that the latter function has to account for *labelled coordinates* while the former does not; this is important when, e.g., the coordinate axes of two rasters overlap but are not perfectly aligned.\n",
    "\n",
    "To see how stacking rasters works, we'll start by making a list of three GeoTIFF files (stored locally), initializing an empty list `stack`, and then building a list of `DataArray`s in a loop."
   ]
  },
  {
   "cell_type": "markdown",
   "id": "9237f322",
   "metadata": {},
   "source": [
    "```{code-cell} python jupyter={\"source_hidden\": false}\n",
    "RASTER_FILES = list((Path(FILE_STEM, 'assets').glob('OPERA*VEG*.tif')))\n",
    "\n",
    "stack = []\n",
    "for path in RASTER_FILES:\n",
    "    print(f\"Stacking {path.name}..\")\n",
    "    data = rio.open_rasterio(path).rename(dict(x='longitude', y='latitude'))\n",
    "    band_name = path.stem.split('_')[-1]\n",
    "    data.coords.update({'band': [band_name]})\n",
    "    data.attrs = dict(description=f\"OPERA DIST product\", units=None)\n",
    "    stack.append(data)\n",
    "```"
   ]
  },
  {
   "cell_type": "markdown",
   "id": "2fd759c1",
   "metadata": {
    "jupyter": {
     "source_hidden": false
    }
   },
   "source": [
    "Here are some important observations about the preceding code loop:\n",
    "\n",
    "+ Using `rioxarray.open_rasterio` to load an Xarray `DataArray` into memory does a lot of work for us. In particular, it makes sure the continuous coordinates are sensibly aligned with the underlying pixel coordinates.\n",
    "+ By default, `data.coords` has keys `x` & `y` that we choose to relabel as `longitude` & `latitude` respectively. Technically, the continuous coordinate values loaded from this particular GeoTIFF file are expressed in UTM coordinates (i.e., easting & northing), but, later, when plotting, the labels `longitude`  & `latitude` will be more convenient.\n",
    "+ `data.coords['band']` as loaded from the file has value `1`. We choose to overwrite that value with the name of the band (which we extract from the filename as `band_name`).\n",
    "+ By default, `rioxarray.open_rasterio` populates `data.attrs` with key-value pairs extracted from the TIFF tags. For different bands/layers, these attribute dictionaries could have conflicting keys or values. It may be advisable to preserve this metadata in some circumstances; we simply choose to discard it in this context to avoid potential conflicts. The minimal dictionary of attributes in the final data structure will have `description` and `units` as its only keys.\n",
    "\n",
    "Having built up a list of `DataArray`s in the list `stack`, we can assemble a three-dimensional `DataArray` using `xarray.concat`."
   ]
  },
  {
   "cell_type": "markdown",
   "id": "99ee0745",
   "metadata": {},
   "source": [
    "```{code-cell} python jupyter={\"source_hidden\": false}\n",
    "stack = xr.concat(stack, dim='band')\n",
    "```"
   ]
  },
  {
   "cell_type": "markdown",
   "id": "2a9cd901",
   "metadata": {
    "jupyter": {
     "source_hidden": false
    }
   },
   "source": [
    "The `xarray.concat` function accepts a sequence of `xarray.DataArray` objects with conforming dimensions and *concatenates* them along a specified dimension. For this example, we stack two-dimensional rasters that correspond to different bands or layers; that's why we use the option `dim='band'` in the call to `xarray.concat`. Later, we'll stack two-dimensional rasters along a *time* axis instead (this involves slightly different code to ensure correct labelling & alignment).\n",
    "\n",
    "Let's examine `stack` through its `repr` in this Jupyter notebook."
   ]
  },
  {
   "cell_type": "markdown",
   "id": "6d3b9a6f",
   "metadata": {},
   "source": [
    "```{code-cell} python jupyter={\"source_hidden\": false}\n",
    "stack\n",
    "```"
   ]
  },
  {
   "cell_type": "markdown",
   "id": "949d5cdc",
   "metadata": {
    "jupyter": {
     "source_hidden": false
    }
   },
   "source": [
    "Notice that `stack` has a CRS associated with it that was parsed by `rioxarray.open_rasterio`."
   ]
  },
  {
   "cell_type": "markdown",
   "id": "01b311cc",
   "metadata": {},
   "source": [
    "```{code-cell} python jupyter={\"source_hidden\": false}\n",
    "stack.rio.crs\n",
    "```"
   ]
  },
  {
   "cell_type": "markdown",
   "id": "32fd30a8",
   "metadata": {
    "jupyter": {
     "source_hidden": false
    }
   },
   "source": [
    "This process is very useful for analysis (assuming that there is enough memory available to store the entire collection of rasters). Later, we'll use this approach numerous times to manage collections of rasters of conforming dimensions. The stack can then be used for producing a dynamic visualization with a slider or, alternatively, for producing a static plot."
   ]
  },
  {
   "cell_type": "markdown",
   "id": "b95e5069",
   "metadata": {},
   "source": [
    "***"
   ]
  }
 ],
 "metadata": {
  "kernelspec": {
   "display_name": "Python 3 (ipykernel)",
   "language": "python",
   "name": "python3"
  }
 },
 "nbformat": 4,
 "nbformat_minor": 5
}
