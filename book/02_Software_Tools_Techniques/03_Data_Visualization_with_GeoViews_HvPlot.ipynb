{
 "cells": [
  {
   "cell_type": "markdown",
   "id": "7fc3acc3",
   "metadata": {},
   "source": [
    "# Data Visualization with GeoViews & HvPlot"
   ]
  },
  {
   "cell_type": "markdown",
   "id": "d4c8f584",
   "metadata": {
    "jupyter": {
     "source_hidden": false
    }
   },
   "source": [
    "The primary tools we'll use for plotting come from the [Holoviz](https://holoviz.org/) family of Python libraries, principally [GeoViews](https://geoviews.org/) and [hvPlot](https://hvplot.holoviz.org/). These are largely built on top of [HoloViews](https://holoviews.org/) and support multiple backends for rendering plots (notably [Bokeh](http://bokeh.pydata.org/) for interactive visualization and [Matplotlib](http://matplotlib.org/) for static, publication-quality plots)."
   ]
  },
  {
   "cell_type": "markdown",
   "id": "e69c5749",
   "metadata": {},
   "source": [
    "***"
   ]
  },
  {
   "cell_type": "markdown",
   "id": "aef9dc60",
   "metadata": {},
   "source": [
    "## [GeoViews](https://geoviews.org/)"
   ]
  },
  {
   "cell_type": "markdown",
   "id": "c0654e78",
   "metadata": {
    "jupyter": {
     "source_hidden": false
    }
   },
   "source": [
    "<center><img src=\"https://geoviews.org/_static/logo_horizontal.png\"></img></center>\n",
    "\n",
    "From the [GeoViews documentation](https://geoviews.org/index.html):\n",
    "\n",
    "> GeoViews is a [Python](http://python.org/) library that makes it easy to explore and visualize geographical, meteorological, and oceanographic datasets, such as those used in weather, climate, and remote sensing research.\n",
    ">\n",
    "> GeoViews is built on the [HoloViews](http://holoviews.org/) library for building flexible visualizations of multidimensional data. GeoViews adds a family of geographic plot types based on the [Cartopy](http://scitools.org.uk/cartopy) library, plotted using either the [Matplotlib](http://matplotlib.org/) or [Bokeh](http://bokeh.pydata.org/) packages. With GeoViews, you can now work easily and naturally with large, multidimensional geographic datasets, instantly visualizing any subset or combination of them, while always being able to access the raw data underlying any plot."
   ]
  },
  {
   "cell_type": "markdown",
   "id": "63251d38",
   "metadata": {},
   "source": [
    "```{code-cell} python jupyter={\"source_hidden\": false}\n",
    "import warnings\n",
    "warnings.filterwarnings('ignore')\n",
    "from pathlib import Path\n",
    "from pprint import pprint\n",
    "\n",
    "import geoviews as gv\n",
    "gv.extension('bokeh')\n",
    "from geoviews import opts\n",
    "\n",
    "FILE_STEM = Path.cwd().parent if 'book' == Path.cwd().parent.stem else 'book'\n",
    "```\n",
    "\n",
    "***"
   ]
  },
  {
   "cell_type": "markdown",
   "id": "bb9fd577",
   "metadata": {},
   "source": [
    "### Displaying a basemap"
   ]
  },
  {
   "cell_type": "markdown",
   "id": "3e26da0e",
   "metadata": {
    "jupyter": {
     "source_hidden": false
    }
   },
   "source": [
    "A *basemap* or *tile layer* is useful when displaying vector or raster data because it allows us to overlay the relevant geospatial data on a familar gepgraphical map as a background. The principal utility is we'll use is `gv.tile_sources`. We can use the method `opts` to specify additional confirguration settings. Below, we use the *Open Street Map (OSM)* Web Map Tile Service to create the object `basemap`. When we display the repr for this object in the notebook cell, the Bokeh menu at right enables interactive exploration."
   ]
  },
  {
   "cell_type": "markdown",
   "id": "9ed23606",
   "metadata": {},
   "source": [
    "```{code-cell} python jupyter={\"source_hidden\": false}\n",
    "basemap = gv.tile_sources.OSM.opts(width=600, height=400)\n",
    "basemap # When displayed, this basemap can be zoomed & panned using the menu at the right\n",
    "```\n",
    "\n",
    "***"
   ]
  },
  {
   "cell_type": "markdown",
   "id": "66f6d615",
   "metadata": {},
   "source": [
    "### Plotting points"
   ]
  },
  {
   "cell_type": "markdown",
   "id": "36d7ffba",
   "metadata": {
    "jupyter": {
     "source_hidden": false
    }
   },
   "source": [
    "To get started, let's define a regular Python tuple for the longitude-latitude coordinates of Tokyo, Japan."
   ]
  },
  {
   "cell_type": "markdown",
   "id": "70f4c5da",
   "metadata": {},
   "source": [
    "```{code-cell} python jupyter={\"source_hidden\": false}\n",
    "tokyo_lonlat = (139.692222, 35.689722)\n",
    "print(tokyo_lonlat)\n",
    "```"
   ]
  },
  {
   "cell_type": "markdown",
   "id": "da3d9fc8",
   "metadata": {
    "jupyter": {
     "source_hidden": false
    }
   },
   "source": [
    "The class `geoviews.Points` accepts a list of tuples (each of the form `(x, y)`)  & constructs a `Points` object that can be displayed. We can overlay the point created in the OpenStreetMap tiles from `basemap` using the `*` operator in Holoviews. We can also use `geoviews.opts` to set various display preferences for these points."
   ]
  },
  {
   "cell_type": "markdown",
   "id": "142403a2",
   "metadata": {},
   "source": [
    "```{code-cell} python jupyter={\"source_hidden\": false}\n",
    "tokyo_point   = gv.Points([tokyo_lonlat])\n",
    "point_opts = opts.Points(\n",
    "                          size=48,\n",
    "                          alpha=0.5,\n",
    "                          color='red'\n",
    "                        )\n",
    "print(type(tokyo_point))\n",
    "```\n",
    "\n",
    "```{code-cell} python jupyter={\"source_hidden\": false}\n",
    "# Use Holoviews * operator to overlay plot on basemap\n",
    "# Note: zoom out to see basemap (starts zoomed \"all the way in\")\n",
    "(basemap * tokyo_point).opts(point_opts)\n",
    "```\n",
    "\n",
    "```{code-cell} python jupyter={\"source_hidden\": false}\n",
    "# to avoid starting zoomed all the way in, this zooms \"all the way out\"\n",
    "(basemap * tokyo_point).opts(point_opts, opts.Overlay(global_extent=True))\n",
    "```\n",
    "\n",
    "***"
   ]
  },
  {
   "cell_type": "markdown",
   "id": "28bb6899",
   "metadata": {},
   "source": [
    "### Plotting rectangles"
   ]
  },
  {
   "cell_type": "markdown",
   "id": "bfcdcc7a",
   "metadata": {
    "jupyter": {
     "source_hidden": false
    }
   },
   "source": [
    "+ Standard way to represent rectangle (also called a *bounding box*) with corners\n",
    "  $$(x_{\\mathrm{min}},y_{\\mathrm{min}}), (x_{\\mathrm{min}},y_{\\mathrm{max}}), (x_{\\mathrm{max}},y_{\\mathrm{min}}), (x_{\\mathrm{max}},y_{\\mathrm{max}})$$\n",
    "  (assuming $x_{\\mathrm{max}}>x_{\\mathrm{min}}$ & $y_{\\mathrm{max}}>y_{\\mathrm{min}}$) is as a single 4-tuple\n",
    "  $$(x_{\\mathrm{min}},y_{\\mathrm{min}},x_{\\mathrm{max}},y_{\\mathrm{max}}),$$\n",
    "  i.e., the lower,left corner coordinates followed by the upper, right corner coordinates.\n",
    "\n",
    "  Let's create a simple function to generate a rectangle of a given width & height given the centre coordinate."
   ]
  },
  {
   "cell_type": "markdown",
   "id": "d2b7a189",
   "metadata": {},
   "source": [
    "```{code-cell} python jupyter={\"source_hidden\": false}\n",
    "# simple utility to make a rectangle centered at pt of width dx & height dy\n",
    "def make_bbox(pt,dx,dy):\n",
    "    '''Returns bounding box represented as tuple (x_lo, y_lo, x_hi, y_hi)\n",
    "    given inputs pt=(x, y), width & height dx & dy respectively,\n",
    "    where x_lo = x-dx/2, x_hi=x+dx/2, y_lo = y-dy/2, y_hi = y+dy/2.\n",
    "    '''\n",
    "    return tuple(coord+sgn*delta for sgn in (-1,+1) for coord,delta in zip(pt, (dx/2,dy/2)))\n",
    "```"
   ]
  },
  {
   "cell_type": "markdown",
   "id": "48fcd334",
   "metadata": {
    "jupyter": {
     "source_hidden": false
    }
   },
   "source": [
    "We can test the preceding function using the longitude-latitude coordinates of Marrakesh, Morocco."
   ]
  },
  {
   "cell_type": "markdown",
   "id": "203f844e",
   "metadata": {},
   "source": [
    "```{code-cell} python jupyter={\"source_hidden\": false}\n",
    "# Verify that the function bounds works as intended\n",
    "marrakesh_lonlat = (-7.93, 31.67)\n",
    "dlon, dlat = 0.5, 0.25\n",
    "marrakesh_bbox = make_bbox(marrakesh_lonlat, dlon, dlat)\n",
    "print(marrakesh_bbox)\n",
    "```"
   ]
  },
  {
   "cell_type": "markdown",
   "id": "57892ae0",
   "metadata": {
    "jupyter": {
     "source_hidden": false
    }
   },
   "source": [
    "The utility `geoviews.Rectangles` accepts a list of bounding boxes (each described by a tuple of the form `(x_min, y_min, x_max, y_max)`) to plot. We can again use `geoviews.opts` to tailor the rectangle as needed."
   ]
  },
  {
   "cell_type": "markdown",
   "id": "f41c5643",
   "metadata": {},
   "source": [
    "```{code-cell} python jupyter={\"source_hidden\": false}\n",
    "rectangle = gv.Rectangles([marrakesh_bbox])\n",
    "rect_opts = opts.Rectangles(\n",
    "                                line_width=0,\n",
    "                                alpha=0.1,\n",
    "                                color='red'\n",
    "                            )\n",
    "```"
   ]
  },
  {
   "cell_type": "markdown",
   "id": "da79f1f9",
   "metadata": {
    "jupyter": {
     "source_hidden": false
    }
   },
   "source": [
    "We can plot a point for Marrakesh as before using `geoviews.Points` (customized using `geoviews.opts`)."
   ]
  },
  {
   "cell_type": "markdown",
   "id": "1b941a43",
   "metadata": {},
   "source": [
    "```{code-cell} python jupyter={\"source_hidden\": false}\n",
    "marrakesh_point   = gv.Points([marrakesh_lonlat])\n",
    "point_opts = opts.Points(\n",
    "                          size=48,\n",
    "                          alpha=0.25,\n",
    "                          color='blue'\n",
    "                        )\n",
    "```"
   ]
  },
  {
   "cell_type": "markdown",
   "id": "6c2d1ccc",
   "metadata": {
    "jupyter": {
     "source_hidden": false
    }
   },
   "source": [
    "Finally, we can overlay all these features on the basemap with the options applied."
   ]
  },
  {
   "cell_type": "markdown",
   "id": "ba8e72c7",
   "metadata": {},
   "source": [
    "```{code-cell} python jupyter={\"source_hidden\": false}\n",
    "(basemap * rectangle * marrakesh_point).opts( rect_opts, point_opts )\n",
    "```"
   ]
  },
  {
   "cell_type": "markdown",
   "id": "cb33dac5",
   "metadata": {
    "jupyter": {
     "source_hidden": false
    }
   },
   "source": [
    "We'll use the approach above to visualize *Areas of Interest (AOIs)* when constructing search queries for NASA EarthData products. In particular, the convention of representing a bounding box by (left, lower, right, upper) ordinates is also used in the [PySTAC](https://pystac.readthedocs.io/en/stable/) API."
   ]
  },
  {
   "cell_type": "markdown",
   "id": "8bdd8a7d",
   "metadata": {},
   "source": [
    "***"
   ]
  },
  {
   "cell_type": "markdown",
   "id": "91a2fa15",
   "metadata": {},
   "source": [
    "## [hvPlot](https://hvplot.holoviz.org/)"
   ]
  },
  {
   "cell_type": "markdown",
   "id": "f45920eb",
   "metadata": {
    "jupyter": {
     "source_hidden": false
    }
   },
   "source": [
    "<center><img src=\"https://hvplot.holoviz.org/_images/diagram.svg\"></img></center>\n",
    "\n",
    "+ [hvPlot](https://hvplot.holoviz.org/) is designed to extend the `.plot` API from Pandas DataFrames.\n",
    "+ It works for Pandas DataFrames and Xarray DataArrays/Datasets."
   ]
  },
  {
   "cell_type": "markdown",
   "id": "2af2b09e",
   "metadata": {},
   "source": [
    "***"
   ]
  },
  {
   "cell_type": "markdown",
   "id": "3adfd4b3",
   "metadata": {},
   "source": [
    "### Plotting from a DataFrame with hvplot.pandas"
   ]
  },
  {
   "cell_type": "markdown",
   "id": "1e3ad286",
   "metadata": {
    "jupyter": {
     "source_hidden": false
    }
   },
   "source": [
    "The code below loads a Pandas DataFrame of temperature data."
   ]
  },
  {
   "cell_type": "markdown",
   "id": "9ccd78b1",
   "metadata": {},
   "source": [
    "```{code-cell} python jupyter={\"source_hidden\": false}\n",
    "import pandas as pd, numpy as np\n",
    "from pathlib import Path\n",
    "LOCAL_PATH = Path(FILE_STEM, 'assets/temperature.csv')\n",
    "```\n",
    "\n",
    "```{code-cell} python jupyter={\"source_hidden\": false}\n",
    "df = pd.read_csv(LOCAL_PATH, index_col=0, parse_dates=[0])\n",
    "df.head()\n",
    "```\n",
    "\n",
    "***"
   ]
  },
  {
   "cell_type": "markdown",
   "id": "f89241f0",
   "metadata": {},
   "source": [
    "#### Reviewing the Pandas DataFrame.plot API"
   ]
  },
  {
   "cell_type": "markdown",
   "id": "62cc878f",
   "metadata": {
    "jupyter": {
     "source_hidden": false
    }
   },
   "source": [
    "Let's extract a subset of columns from this DataFrame and generate a plot."
   ]
  },
  {
   "cell_type": "markdown",
   "id": "c55a6efd",
   "metadata": {},
   "source": [
    "```{code-cell} python jupyter={\"source_hidden\": false}\n",
    "west_coast = df[['Vancouver', 'Portland', 'San Francisco', 'Seattle', 'Los Angeles']]\n",
    "west_coast.head()\n",
    "```"
   ]
  },
  {
   "cell_type": "markdown",
   "id": "fcb9c278",
   "metadata": {
    "jupyter": {
     "source_hidden": false
    }
   },
   "source": [
    "The Pandas DataFrame `.plot` API provides access to a number of plotting methods. Here, we'll use `.plot.line`, but a range of other options are available (e.g., `.plot.area`, `.plot.bar`, `.plot.hist`, `.plot.scatter`, etc.). This API has been repeated in several libraries due to its convenience."
   ]
  },
  {
   "cell_type": "markdown",
   "id": "20dbff8d",
   "metadata": {},
   "source": [
    "```{code-cell} python jupyter={\"source_hidden\": false}\n",
    "west_coast.plot.line(); # This produces a static Matplotlib plot\n",
    "```\n",
    "\n",
    "***"
   ]
  },
  {
   "cell_type": "markdown",
   "id": "9d6fb94f",
   "metadata": {},
   "source": [
    "#### Using the hvPlot DataFrame.hvplot API"
   ]
  },
  {
   "cell_type": "markdown",
   "id": "fd474c7e",
   "metadata": {
    "jupyter": {
     "source_hidden": false
    }
   },
   "source": [
    "By importing `hvplot.pandas`, a similar interactive plot can be generated. The API for `.hvplot` mimics that for `.plot`. For instance, we can generate the line plot above using `.hvplot.line`. In this case, the default plotting backend is Bokeh, so the plot is *interactive*."
   ]
  },
  {
   "cell_type": "markdown",
   "id": "b52f733d",
   "metadata": {},
   "source": [
    "```{code-cell} python jupyter={\"source_hidden\": false}\n",
    "import hvplot.pandas\n",
    "west_coast.hvplot.line() # This produces an interactive Bokeh plot\n",
    "```"
   ]
  },
  {
   "cell_type": "markdown",
   "id": "d87874e2",
   "metadata": {
    "jupyter": {
     "source_hidden": false
    }
   },
   "source": [
    "It is possible to modify the plot to make it cleaner."
   ]
  },
  {
   "cell_type": "markdown",
   "id": "474e13db",
   "metadata": {},
   "source": [
    "```{code-cell} python jupyter={\"source_hidden\": false}\n",
    "west_coast.hvplot.line(width=600, height=300, grid=True)\n",
    "```"
   ]
  },
  {
   "cell_type": "markdown",
   "id": "720abd03",
   "metadata": {
    "jupyter": {
     "source_hidden": false
    }
   },
   "source": [
    "The `hvplot` API also works when chained together with other DataFrame method calls. For instance, we can resample the temperature data and compute a mean to smooth it out."
   ]
  },
  {
   "cell_type": "markdown",
   "id": "7caf932d",
   "metadata": {},
   "source": [
    "```{code-cell} python jupyter={\"source_hidden\": false}\n",
    "smoothed = west_coast.resample('2d').mean()\n",
    "smoothed.hvplot.line(width=600, height=300, grid=True)\n",
    "```\n",
    "\n",
    "***"
   ]
  },
  {
   "cell_type": "markdown",
   "id": "d3c4ba1a",
   "metadata": {},
   "source": [
    "### Plotting from a DataArray with hvplot.xarray"
   ]
  },
  {
   "cell_type": "markdown",
   "id": "a240c9f9",
   "metadata": {
    "jupyter": {
     "source_hidden": false
    }
   },
   "source": [
    "The Pandas `.plot` API was also extended to Xarray, i.e., for Xarray `DataArray`."
   ]
  },
  {
   "cell_type": "markdown",
   "id": "52aa4846",
   "metadata": {},
   "source": [
    "```{code-cell} python jupyter={\"source_hidden\": false}\n",
    "import xarray as xr\n",
    "import hvplot.xarray\n",
    "import rioxarray as rio\n",
    "```"
   ]
  },
  {
   "cell_type": "markdown",
   "id": "01613c54",
   "metadata": {
    "jupyter": {
     "source_hidden": false
    }
   },
   "source": [
    "To start, load a local GeoTIFF file using `rioxarray` into an Zarray `DataArray` structure."
   ]
  },
  {
   "cell_type": "markdown",
   "id": "68ed97f7",
   "metadata": {},
   "source": [
    "```{code-cell} python jupyter={\"source_hidden\": false}\n",
    "LOCAL_PATH = Path(FILE_STEM, 'assets/OPERA_L3_DIST-ALERT-HLS_T10TEM_20220815T185931Z_20220817T153514Z_S2A_30_v0.1_VEG-ANOM-MAX.tif')\n",
    "```\n",
    "\n",
    "```{code-cell} python jupyter={\"source_hidden\": false}\n",
    "data = rio.open_rasterio(LOCAL_PATH)\n",
    "data\n",
    "```"
   ]
  },
  {
   "cell_type": "markdown",
   "id": "87e952f3",
   "metadata": {
    "jupyter": {
     "source_hidden": false
    }
   },
   "source": [
    "We do some minor reformatting to the `DataArray`."
   ]
  },
  {
   "cell_type": "markdown",
   "id": "6a9928cf",
   "metadata": {},
   "source": [
    "```{code-cell} python jupyter={\"source_hidden\": false}\n",
    "data = data.squeeze() # to reduce 3D array with singleton dimension to 2D array\n",
    "data = data.rename({'x':'easting', 'y':'northing'})\n",
    "data\n",
    "```\n",
    "\n",
    "***"
   ]
  },
  {
   "cell_type": "markdown",
   "id": "832b2ab0",
   "metadata": {},
   "source": [
    "#### Reviewing the Xarray DataArray.plot API"
   ]
  },
  {
   "cell_type": "markdown",
   "id": "c81c4923",
   "metadata": {
    "jupyter": {
     "source_hidden": false
    }
   },
   "source": [
    "The `DataArray.plot` API by default uses Matplotlib's `pcolormesh` to display a 2D array stored within a `DataArray`. This takes a little time to render for this moderately high-resolution image."
   ]
  },
  {
   "cell_type": "markdown",
   "id": "4c30d56a",
   "metadata": {},
   "source": [
    "```{code-cell} python jupyter={\"source_hidden\": false}\n",
    "data.plot(); # by default, uses pcolormesh\n",
    "```\n",
    "\n",
    "***"
   ]
  },
  {
   "cell_type": "markdown",
   "id": "a1f372f1",
   "metadata": {},
   "source": [
    "#### Using the hvPlot DataArray.hvplot API"
   ]
  },
  {
   "cell_type": "markdown",
   "id": "d792e8fb",
   "metadata": {
    "jupyter": {
     "source_hidden": false
    }
   },
   "source": [
    "Again, the `DataArray.hvplot` API mimics the `DataArray.plot` API; by default, it uses a subclass derived from `holoviews.element.raster.Image`."
   ]
  },
  {
   "cell_type": "markdown",
   "id": "273c2b94",
   "metadata": {},
   "source": [
    "```{code-cell} python jupyter={\"source_hidden\": false}\n",
    "plot = data.hvplot() # by default uses Image class\n",
    "print(f'{type(plot)=}')\n",
    "plot\n",
    "```"
   ]
  },
  {
   "cell_type": "markdown",
   "id": "a40d78ec",
   "metadata": {
    "jupyter": {
     "source_hidden": false
    }
   },
   "source": [
    "The result above is an interactive plot, rendered using Bokeh.It's a bit slow, but we can add some options to speed up rendering. It also requires cleaning up; for instance, the image is not square, the colormap does not highlight useful features, the axes are transposed, and so on."
   ]
  },
  {
   "cell_type": "markdown",
   "id": "86a0290d",
   "metadata": {},
   "source": [
    "***"
   ]
  },
  {
   "cell_type": "markdown",
   "id": "4f745817",
   "metadata": {},
   "source": [
    "#### Building up options incrementally to improve plots"
   ]
  },
  {
   "cell_type": "markdown",
   "id": "7f00042e",
   "metadata": {
    "jupyter": {
     "source_hidden": false
    }
   },
   "source": [
    "Let's add options to improve the image. To do this, we'll initialize a Python dictionary `image_opts` to use within the call to the `image` method. We'll use the `dict.update` method to add key-value pairs to the dictionary incrementally, each time improving the output image."
   ]
  },
  {
   "cell_type": "markdown",
   "id": "d2cf9956",
   "metadata": {},
   "source": [
    "```{code-cell} python jupyter={\"source_hidden\": false}\n",
    "image_opts = dict(rasterize=True, dynamic=True)\n",
    "pprint(image_opts)\n",
    "```"
   ]
  },
  {
   "cell_type": "markdown",
   "id": "13967d03",
   "metadata": {
    "jupyter": {
     "source_hidden": false
    }
   },
   "source": [
    "To start, let's make the call to `hvplot.image` explicit & specify the sequence of axes. & apply the options from the dictionary `image_opts`. We'll use the dict-unpacking operation `**image_opts` each time we invoke `data.hvplot.image`."
   ]
  },
  {
   "cell_type": "markdown",
   "id": "a9777ee1",
   "metadata": {},
   "source": [
    "```{code-cell} python jupyter={\"source_hidden\": false}\n",
    "plot = data.hvplot.image(x='easting', y='northing', **image_opts)\n",
    "plot\n",
    "```"
   ]
  },
  {
   "cell_type": "markdown",
   "id": "3aeda26d",
   "metadata": {
    "jupyter": {
     "source_hidden": false
    }
   },
   "source": [
    "Next, let's fix the aspect ratio and image dimensions."
   ]
  },
  {
   "cell_type": "markdown",
   "id": "c7050ce4",
   "metadata": {},
   "source": [
    "```{code-cell} python jupyter={\"source_hidden\": false}\n",
    "image_opts.update(frame_width=500, frame_height=500, aspect='equal')\n",
    "pprint(image_opts)\n",
    "plot = data.hvplot.image(x='easting', y='northing', **image_opts)\n",
    "plot\n",
    "```"
   ]
  },
  {
   "cell_type": "markdown",
   "id": "cc761e6d",
   "metadata": {
    "jupyter": {
     "source_hidden": false
    }
   },
   "source": [
    "The image colormap is a bit unpleasant; let's change it and use transparency (`alpha`)."
   ]
  },
  {
   "cell_type": "markdown",
   "id": "2501346a",
   "metadata": {},
   "source": [
    "```{code-cell} python jupyter={\"source_hidden\": false}\n",
    "image_opts.update( cmap='hot_r', clim=(0,100), alpha=0.8 )\n",
    "pprint(image_opts)\n",
    "plot = data.hvplot.image(x='easting', y='northing', **image_opts)\n",
    "plot\n",
    "```"
   ]
  },
  {
   "cell_type": "markdown",
   "id": "bf5ea61c",
   "metadata": {
    "jupyter": {
     "source_hidden": false
    }
   },
   "source": [
    "Before adding a basemap, we need to account for the coordinate system. This is stored in the GeoTIFF file and, when read using `rioxarray.open_rasterio`, it is available by using the attribute `data.rio.crs`."
   ]
  },
  {
   "cell_type": "markdown",
   "id": "f6455a51",
   "metadata": {},
   "source": [
    "```{code-cell} python jupyter={\"source_hidden\": false}\n",
    "crs = data.rio.crs\n",
    "crs\n",
    "```"
   ]
  },
  {
   "cell_type": "markdown",
   "id": "7f6b2aa3",
   "metadata": {
    "jupyter": {
     "source_hidden": false
    }
   },
   "source": [
    "We can use the CRS recovered above as an optional argument to `hvplot.image`. Notice the coordinates have changed on the axes, but the labels are wrong. We can fix that shortly."
   ]
  },
  {
   "cell_type": "markdown",
   "id": "4819dd9c",
   "metadata": {},
   "source": [
    "```{code-cell} python jupyter={\"source_hidden\": false}\n",
    "image_opts.update(crs=crs)\n",
    "pprint(image_opts)\n",
    "plot = data.hvplot.image(x='easting', y='northing', **image_opts)\n",
    "plot\n",
    "```"
   ]
  },
  {
   "cell_type": "markdown",
   "id": "d22f6725",
   "metadata": {
    "jupyter": {
     "source_hidden": false
    }
   },
   "source": [
    "Let's now fix the labels. We'll use the Holoviews/GeoViews `opts` system to specify these options."
   ]
  },
  {
   "cell_type": "markdown",
   "id": "a5ce9622",
   "metadata": {},
   "source": [
    "```{code-cell} python jupyter={\"source_hidden\": false}\n",
    "label_opts = dict(title='VEG_ANOM_MAX', xlabel='Longitude (degrees)', ylabel='Latitude (degrees)')\n",
    "pprint(image_opts)\n",
    "pprint(label_opts)\n",
    "plot = data.hvplot.image(x='easting', y='northing', **image_opts).opts(**label_opts)\n",
    "plot\n",
    "```"
   ]
  },
  {
   "cell_type": "markdown",
   "id": "14dff36d",
   "metadata": {
    "jupyter": {
     "source_hidden": false
    }
   },
   "source": [
    "Let's overlay the image on a basemap so we can see the terrain underneath."
   ]
  },
  {
   "cell_type": "markdown",
   "id": "b28bfc7f",
   "metadata": {},
   "source": [
    "```{code-cell} python jupyter={\"source_hidden\": false}\n",
    "base = gv.tile_sources.ESRI\n",
    "base * plot\n",
    "```"
   ]
  },
  {
   "cell_type": "markdown",
   "id": "dc618615",
   "metadata": {
    "jupyter": {
     "source_hidden": false
    }
   },
   "source": [
    "Finally, the white pixels are distracting; let's filter them out using the `DataArray` method `where`."
   ]
  },
  {
   "cell_type": "markdown",
   "id": "dbba7c76",
   "metadata": {},
   "source": [
    "```{code-cell} python jupyter={\"source_hidden\": false}\n",
    "plot = data.where(data>0).hvplot.image(x='easting', y='northing', **image_opts).opts(**label_opts)\n",
    "plot * base\n",
    "```"
   ]
  },
  {
   "cell_type": "markdown",
   "id": "69e3df55",
   "metadata": {
    "jupyter": {
     "source_hidden": false
    }
   },
   "source": [
    "In this notebook, we applied some common strategies to generate plots. We'll use these extensively in the rest of the tutorial."
   ]
  },
  {
   "cell_type": "markdown",
   "id": "351c64e3",
   "metadata": {},
   "source": [
    "***"
   ]
  }
 ],
 "metadata": {
  "kernelspec": {
   "display_name": "Python 3 (ipykernel)",
   "language": "python",
   "name": "python3"
  }
 },
 "nbformat": 4,
 "nbformat_minor": 5
}
