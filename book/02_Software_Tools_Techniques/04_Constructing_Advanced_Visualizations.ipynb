{
 "cells": [
  {
   "cell_type": "markdown",
   "id": "3d80cb09",
   "metadata": {},
   "source": [
    "# Constructing Advanced Visualizations"
   ]
  },
  {
   "cell_type": "markdown",
   "id": "7bf5af87",
   "metadata": {
    "jupyter": {
     "source_hidden": false
    }
   },
   "source": [
    "Let's apply some of the tools we've seen so far to make some more sophisticated visualizations. These will include using vector data from a *GeoPandas* `GeoDataFrame`, constructing both static plots and dynamic views from a 3D array, and combining vector data and raster data.\n",
    "\n",
    "As context, the files we'll examine are based on [the 2022 McKinney widfire](https://en.wikipedia.org/wiki/McKinney_Fire) in Klamath National Forest (western Siskiyou County, California). The vector data is a snapshot of the boundary of a wildfire; the raster data corresponds to the  observed *land surface disturbance*  of vegetation (this will be explained in greater detail later)."
   ]
  },
  {
   "cell_type": "markdown",
   "id": "db9ea055",
   "metadata": {},
   "source": [
    "## Preliminary imports and file paths"
   ]
  },
  {
   "cell_type": "markdown",
   "id": "346f5627",
   "metadata": {
    "jupyter": {
     "source_hidden": false
    }
   },
   "source": [
    "To begin, some typical package imports are needed. We'll also define some paths to local files containing relevant geospatial data."
   ]
  },
  {
   "cell_type": "markdown",
   "id": "c49704b6",
   "metadata": {},
   "source": [
    "```{code-cell} python jupyter={\"source_hidden\": false}\n",
    "from warnings import filterwarnings\n",
    "filterwarnings('ignore')\n",
    "from pathlib import Path\n",
    "import numpy as np, pandas as pd, xarray as xr\n",
    "import geopandas as gpd\n",
    "import rioxarray as rio\n",
    "```\n",
    "\n",
    "```{code-cell} python jupyter={\"source_hidden\": false}\n",
    "# Imports for plotting\n",
    "import hvplot.pandas, hvplot.xarray\n",
    "import geoviews as gv\n",
    "from geoviews import opts\n",
    "gv.extension('bokeh')\n",
    "```\n",
    "\n",
    "```{code-cell} python jupyter={\"source_hidden\": false}\n",
    "FILE_STEM = Path.cwd().parent if 'book' == Path.cwd().parent.stem else 'book'\n",
    "ASSET_PATH = Path(FILE_STEM, 'assets')\n",
    "SHAPE_FILE = ASSET_PATH / 'shapefiles' / 'mckinney' / 'McKinney_NIFC.shp'\n",
    "RASTER_FILES = list(ASSET_PATH.glob('OPERA*VEG*.tif'))\n",
    "RASTER_FILE = RASTER_FILES[0]\n",
    "```\n",
    "\n",
    "***"
   ]
  },
  {
   "cell_type": "markdown",
   "id": "871d7a27",
   "metadata": {},
   "source": [
    "## Plotting vector data from a `GeoDataFrame`"
   ]
  },
  {
   "cell_type": "markdown",
   "id": "3a52a29b",
   "metadata": {
    "jupyter": {
     "source_hidden": false
    }
   },
   "source": [
    "<center><img src=\"https://geopandas.org/en/latest/_images/geopandas_logo.png\" width=360px></img></center>\n",
    "\n",
    "The [GeoPandas](https://geopandas.org/en/stable/index.html) package contains many useful tools for working with vector geospatial data. In particular, the [GeoPandas `GeoDataFrame`](https://geopandas.org/en/stable/docs/reference/api/geopandas.GeoDataFrame.html) is a subclass of the Pandas DataFrame that is specifically tailored for vector data stored in, e.g.,  *shapefiles*.\n",
    "\n",
    "As an example, let's load some vector data from the local path `SHAPEFILE` (as defined above)."
   ]
  },
  {
   "cell_type": "markdown",
   "id": "00113beb",
   "metadata": {},
   "source": [
    "```{code-cell} python jupyter={\"source_hidden\": false}\n",
    "shape_df = gpd.read_file(SHAPE_FILE)\n",
    "shape_df\n",
    "```"
   ]
  },
  {
   "cell_type": "markdown",
   "id": "e4fa4e89",
   "metadata": {
    "jupyter": {
     "source_hidden": false
    }
   },
   "source": [
    "The object `shape_df` is a [`GeoDataFrame`]((https://geopandas.org/en/stable/docs/reference/api/geopandas.GeoDataFrame.html)) that has over two dozen columns of metadata in a single row. The main column that concerns us is the `geometry` column; this column stores the coordinates of the vertices of a `MULTIPOLYGON`, i.e., a set of polygons."
   ]
  },
  {
   "cell_type": "markdown",
   "id": "93b27b49",
   "metadata": {},
   "source": [
    "```{code-cell} python jupyter={\"source_hidden\": false}\n",
    "shape_df.geometry \n",
    "```"
   ]
  },
  {
   "cell_type": "markdown",
   "id": "0fc68c53",
   "metadata": {
    "jupyter": {
     "source_hidden": false
    }
   },
   "source": [
    "The vertices of the polygons seem to be expressed as `(longitude, latitude)` pairs. We can verify what specific coordinate system is used by examining the `GeoDataFrame`'s `crs` attribute."
   ]
  },
  {
   "cell_type": "markdown",
   "id": "fd14d08f",
   "metadata": {},
   "source": [
    "```{code-cell} python jupyter={\"source_hidden\": false}\n",
    "print(shape_df.crs)\n",
    "```"
   ]
  },
  {
   "cell_type": "markdown",
   "id": "abfa2d1b",
   "metadata": {
    "jupyter": {
     "source_hidden": false
    }
   },
   "source": [
    "Let's use `hvplot` to generate a plot of this vector dataset."
   ]
  },
  {
   "cell_type": "markdown",
   "id": "825fc285",
   "metadata": {},
   "source": [
    "```{code-cell} python jupyter={\"source_hidden\": false}\n",
    "shape_df.hvplot()\n",
    "```"
   ]
  },
  {
   "cell_type": "markdown",
   "id": "f20f13db",
   "metadata": {
    "jupyter": {
     "source_hidden": false
    }
   },
   "source": [
    "The projection in this plot is a bit strange. The HoloViz documentation includes a [discussion of considerations when plotting geographic data](https://hvplot.holoviz.org/user_guide/Geographic_Data.html); the salient point to remember in this immediate context is that the option `geo=True` is useful.\n",
    "\n",
    "Let's create two Python dictionaries—`shapeplot_opts` & `layout_opts`—and build up a visualization."
   ]
  },
  {
   "cell_type": "markdown",
   "id": "83300eab",
   "metadata": {},
   "source": [
    "```{code-cell} python jupyter={\"source_hidden\": false}\n",
    "shapeplot_opts= dict(geo=True)\n",
    "layout_opts = dict(xlabel='Longitude', ylabel=\"Latitude\")\n",
    "print(f\"{shapeplot_opts=}\")\n",
    "print(f\"{layout_opts=}\")\n",
    "\n",
    "shape_df.hvplot(**shapeplot_opts).opts(**layout_opts)\n",
    "```"
   ]
  },
  {
   "cell_type": "markdown",
   "id": "90257a78",
   "metadata": {
    "jupyter": {
     "source_hidden": false
    }
   },
   "source": [
    "We can augment the plot by updating `shapeplot_opts`.\n",
    "+ Specifying `color=None` means that the polygons will not be filled.\n",
    "+ Specifying `line_width` and `line_color` modifies the appearance of the boundaries of the polygons."
   ]
  },
  {
   "cell_type": "markdown",
   "id": "d5b2df9a",
   "metadata": {},
   "source": [
    "```{code-cell} python jupyter={\"source_hidden\": false}\n",
    "shapeplot_opts.update( color=None ,\n",
    "                       line_width=2,\n",
    "                       line_color='red')\n",
    "print(shapeplot_opts)\n",
    "\n",
    "shape_df.hvplot(**shapeplot_opts).opts(**layout_opts)\n",
    "```"
   ]
  },
  {
   "cell_type": "markdown",
   "id": "c4c418c0",
   "metadata": {
    "jupyter": {
     "source_hidden": false
    }
   },
   "source": [
    "Let's fill the polygons with, say, `color=orange`  and make the filled area partially transparent by specifying an `alpha` value between zero and one."
   ]
  },
  {
   "cell_type": "markdown",
   "id": "6f6623d9",
   "metadata": {},
   "source": [
    "```{code-cell} python jupyter={\"source_hidden\": false}\n",
    "shapeplot_opts.update(color='orange', alpha=0.25)\n",
    "print(shapeplot_opts)\n",
    "\n",
    "shape_df.hvplot(**shapeplot_opts).opts(**layout_opts)\n",
    "```\n",
    "\n",
    "### Adding a basemap"
   ]
  },
  {
   "cell_type": "markdown",
   "id": "39adde19",
   "metadata": {
    "jupyter": {
     "source_hidden": false
    }
   },
   "source": [
    "Next, let's provide a basemap and overlay the plotted polygons using the `*` operator. Notice the use of parentheses to apply the `opts` method to the output of the `*` operator."
   ]
  },
  {
   "cell_type": "markdown",
   "id": "852971d8",
   "metadata": {},
   "source": [
    "```{code-cell} python jupyter={\"source_hidden\": false}\n",
    "basemap = gv.tile_sources.ESRI(height=500, width=500, padding=0.1)\n",
    "\n",
    "(shape_df.hvplot(**shapeplot_opts) * basemap).opts(**layout_opts)\n",
    "```"
   ]
  },
  {
   "cell_type": "markdown",
   "id": "20f944f5",
   "metadata": {
    "jupyter": {
     "source_hidden": false
    }
   },
   "source": [
    "The basemap does not need to be overlayed as as separate object; it can be specified using the `tiles` keyword. For instance, setting `tiles='OSM'` uses [OpenStreetMap](ttps://www.openstreetmap.org) tiles instead. Notice the dimensions of the image rendered are likely not the same as the previous image with the [ESRI](https://www.esri.com) tiles because we explicitly specified `height=500` & `width=500` in defining `basemap` earlier."
   ]
  },
  {
   "cell_type": "markdown",
   "id": "b114a532",
   "metadata": {},
   "source": [
    "```{code-cell} python jupyter={\"source_hidden\": false}\n",
    "shapeplot_opts.update(tiles='OSM')\n",
    "shape_df.hvplot(**shapeplot_opts).opts(**layout_opts)\n",
    "```"
   ]
  },
  {
   "cell_type": "markdown",
   "id": "cb62b35d",
   "metadata": {
    "jupyter": {
     "source_hidden": false
    }
   },
   "source": [
    "Let's remove the `tiles` option from `shapeplot_opts` and bind the resulting plot object to the identifier `shapeplot`."
   ]
  },
  {
   "cell_type": "markdown",
   "id": "9d00a915",
   "metadata": {},
   "source": [
    "```{code-cell} python jupyter={\"source_hidden\": false}\n",
    "del shapeplot_opts['tiles']\n",
    "print(shapeplot_opts)\n",
    "\n",
    "shapeplot = shape_df.hvplot(**shapeplot_opts)\n",
    "shapeplot\n",
    "```\n",
    "\n",
    "### Combining vector data with raster data in a static plot"
   ]
  },
  {
   "cell_type": "markdown",
   "id": "f284a19c",
   "metadata": {
    "jupyter": {
     "source_hidden": false
    }
   },
   "source": [
    "Let's combine this vector data with some raster data. We'll load raster data from a local file using the function `rioxarray.open_rasterio`. For convenience, we'll use method-chaining to relabel the coordinates of the `DataArray` loaded and use the `squeeze` method to convert the three-dimensional array loaded into a two-dimensional array."
   ]
  },
  {
   "cell_type": "markdown",
   "id": "fd933888",
   "metadata": {},
   "source": [
    "```{code-cell} python jupyter={\"source_hidden\": false}\n",
    "raster = (\n",
    "          rio.open_rasterio(RASTER_FILE)\n",
    "            .rename(dict(x='longitude', y='latitude'))\n",
    "            .squeeze()\n",
    "         )\n",
    "raster\n",
    "```"
   ]
  },
  {
   "cell_type": "markdown",
   "id": "8d810f62",
   "metadata": {
    "jupyter": {
     "source_hidden": false
    }
   },
   "source": [
    "We'll use a Python dictionary `image_opts` to store useful keyord arguments to pass to `hvplot.image`."
   ]
  },
  {
   "cell_type": "markdown",
   "id": "34a2675b",
   "metadata": {},
   "source": [
    "```{code-cell} python jupyter={\"source_hidden\": false}\n",
    "image_opts = dict(\n",
    "                    x='longitude',\n",
    "                    y='latitude',                   \n",
    "                    rasterize=True, \n",
    "                    dynamic=True,\n",
    "                    cmap='hot_r', \n",
    "                    clim=(0, 100), \n",
    "                    alpha=0.8,\n",
    "                    project=True,\n",
    "                 )\n",
    "\n",
    "raster.hvplot.image(**image_opts)\n",
    "```"
   ]
  },
  {
   "cell_type": "markdown",
   "id": "84c492b9",
   "metadata": {
    "jupyter": {
     "source_hidden": false
    }
   },
   "source": [
    "We can overlay `shapeplot` with the plotted raster data using the `*` operator. We can use the `Pan`, `Wheel Zoom`, and `Box Zoom` tools in the Bokeh toolbar to the right of the plot to zoom in and verify that the vector data has in fact been plotted on top of the raster data."
   ]
  },
  {
   "cell_type": "markdown",
   "id": "0ef6e80d",
   "metadata": {},
   "source": [
    "```{code-cell} python jupyter={\"source_hidden\": false}\n",
    "raster.hvplot.image(**image_opts) * shapeplot\n",
    "```"
   ]
  },
  {
   "cell_type": "markdown",
   "id": "e4aa84dc",
   "metadata": {
    "jupyter": {
     "source_hidden": false
    }
   },
   "source": [
    "We can additionally overlay the vector & raster data onto ESRI tiles using `basemap`."
   ]
  },
  {
   "cell_type": "markdown",
   "id": "324a9439",
   "metadata": {},
   "source": [
    "```{code-cell} python jupyter={\"source_hidden\": false}\n",
    "raster.hvplot.image(**image_opts) * shapeplot * basemap\n",
    "```"
   ]
  },
  {
   "cell_type": "markdown",
   "id": "689fcd82",
   "metadata": {
    "jupyter": {
     "source_hidden": false
    }
   },
   "source": [
    "Notice many of the white pixels are obscuring the plot. It turns out that these pixels correspond to zeros in the raster data that can safely be ignored. We can filter those out using the `where` method."
   ]
  },
  {
   "cell_type": "markdown",
   "id": "f7a6ff8c",
   "metadata": {},
   "source": [
    "```{code-cell} python jupyter={\"source_hidden\": false}\n",
    "raster = raster.where((raster!=0))\n",
    "layout_opts.update(title=\"McKinney 2022 Wildfires\")\n",
    "\n",
    "(raster.hvplot.image(**image_opts) * shapeplot * basemap).opts(**layout_opts)\n",
    "```\n",
    "\n",
    "***"
   ]
  },
  {
   "cell_type": "markdown",
   "id": "4bda1753",
   "metadata": {},
   "source": [
    "## Constructing static plots from a 3D array"
   ]
  },
  {
   "cell_type": "markdown",
   "id": "a8b1118b",
   "metadata": {
    "jupyter": {
     "source_hidden": false
    }
   },
   "source": [
    "Let's load a sequence of raster files into a three-dimensional array and produce some plots. To start, we'll construct a loop to read `DataArrays` from the files `RASTER_FILES` and we'll use `xarray.concat` to produce a single three-dimensional array of rasters (i.e., three $3,600\\times3,600$ rasters stacked vertically).  We'll learn the specific interpretations associated with the raster dataset in a later notebook; for now, let's just treat them as raw data to experiment with."
   ]
  },
  {
   "cell_type": "markdown",
   "id": "fc1eb4fe",
   "metadata": {},
   "source": [
    "```{code-cell} python jupyter={\"source_hidden\": false}\n",
    "stack = []\n",
    "for path in RASTER_FILES:\n",
    "    data = rio.open_rasterio(path).rename(dict(x='longitude', y='latitude'))\n",
    "    band_name = path.stem.split('_')[-1]\n",
    "    data.coords.update({'band': [band_name]})\n",
    "    data.attrs = dict(description=f\"OPERA DIST product\", units=None)\n",
    "    stack.append(data)\n",
    "\n",
    "stack = xr.concat(stack, dim='band')\n",
    "stack = stack.where(stack!=0)\n",
    "```"
   ]
  },
  {
   "cell_type": "markdown",
   "id": "0b42fc69",
   "metadata": {
    "jupyter": {
     "source_hidden": false
    }
   },
   "source": [
    "We relabel the axes `longitude` & `latitude` and we filter out pixels with value zero to make plotting simpler later."
   ]
  },
  {
   "cell_type": "markdown",
   "id": "42915ead",
   "metadata": {},
   "source": [
    "```{code-cell} python jupyter={\"source_hidden\": false}\n",
    "stack\n",
    "```"
   ]
  },
  {
   "cell_type": "markdown",
   "id": "8fb56c4d",
   "metadata": {
    "jupyter": {
     "source_hidden": false
    }
   },
   "source": [
    "Having built the `DataArray` `stack`, we can focus on visualization.\n",
    "\n",
    "If we want to generate a static plot with several images laid out, we can use `hvplot.image` together with the `.layout` method. To see how this works, let's start by redefining dictionaries `image_opts` and `layout_opts`."
   ]
  },
  {
   "cell_type": "markdown",
   "id": "a1d026f9",
   "metadata": {},
   "source": [
    "```{code-cell} python jupyter={\"source_hidden\": false}\n",
    "image_opts = dict(  x='longitude', \n",
    "                    y='latitude',\n",
    "                    rasterize=True, \n",
    "                    dynamic=True,\n",
    "                    cmap='hot_r',\n",
    "                    crs=stack.rio.crs,\n",
    "                    alpha=0.8,\n",
    "                    project=True, \n",
    "                    aspect='equal',\n",
    "                    shared_axes=False,\n",
    "                    colorbar=True,\n",
    "                    tiles='ESRI',\n",
    "                    padding=0.1)\n",
    "layout_opts = dict(xlabel='Longitude', ylabel=\"Latitude\")\n",
    "```"
   ]
  },
  {
   "cell_type": "markdown",
   "id": "9d968c37",
   "metadata": {
    "jupyter": {
     "source_hidden": false
    }
   },
   "source": [
    "To speed up rendering, we'll initially construct an object `view` that selects subsets of pixels; we initially define the parameter `steps=200` to restrict the view to every 200th pixel in either direction. If we reduce `steps`, it takes longer to render. Setting `steps=1` or `steps=None` is equivalent to selecting all pixels."
   ]
  },
  {
   "cell_type": "markdown",
   "id": "4b0a8068",
   "metadata": {},
   "source": [
    "```{code-cell} python jupyter={\"source_hidden\": false}\n",
    "steps = 200\n",
    "subset = slice(0, None, steps)\n",
    "layout_opts.update(frame_width=250, frame_height=250)\n",
    "\n",
    "\n",
    "view = stack.isel(latitude=subset, longitude=subset)\n",
    "view.hvplot.image(**image_opts).opts(**layout_opts).layout()\n",
    "```"
   ]
  },
  {
   "cell_type": "markdown",
   "id": "fd1fbce5",
   "metadata": {
    "jupyter": {
     "source_hidden": false
    }
   },
   "source": [
    "The `layout` method by default plotted each of the three rasters selected along the `band` axis horizontally."
   ]
  },
  {
   "cell_type": "markdown",
   "id": "05ac5375",
   "metadata": {},
   "source": [
    "***"
   ]
  },
  {
   "cell_type": "markdown",
   "id": "4dd311f7",
   "metadata": {},
   "source": [
    "## Constructing a dynamic view from a 3D array"
   ]
  },
  {
   "cell_type": "markdown",
   "id": "726df782",
   "metadata": {
    "jupyter": {
     "source_hidden": false
    }
   },
   "source": [
    "Another way to visualize a three-dimensional array is to associate a selection widget with one of the axes. If we call `hvplot.image` without appending the `.layout` method, the result is a *dynamic map*. In this instance, the selection widget allows us to choose slices from along the `band` axis.\n",
    "\n",
    "Again, increasing the parameter `steps` reduces the rendering time. Decreasing it to `1` or `None` renders at full resolution."
   ]
  },
  {
   "cell_type": "markdown",
   "id": "4fc5fc67",
   "metadata": {},
   "source": [
    "```{code-cell} python jupyter={\"source_hidden\": false}\n",
    "steps = 200\n",
    "subset = slice(0, None, steps)\n",
    "layout_opts.update(frame_height=400, frame_width=400)\n",
    "\n",
    "view = stack.isel(latitude=subset, longitude=subset)\n",
    "view.hvplot.image(**image_opts).opts(**layout_opts)\n",
    "```"
   ]
  },
  {
   "cell_type": "markdown",
   "id": "4d4479c6",
   "metadata": {
    "jupyter": {
     "source_hidden": false
    }
   },
   "source": [
    "Later, we'll stack many rasters with distinct timestamps along a `time` axis; when there are many slices, the selection widget will be rendered as a slider rather than as a drop-down menu. We can control the location of the widget using a keyword option `widget_location`."
   ]
  },
  {
   "cell_type": "markdown",
   "id": "18c5dc08",
   "metadata": {},
   "source": [
    "```{code-cell} python jupyter={\"source_hidden\": false}\n",
    "view.hvplot.image(widget_location='bottom_left', **image_opts, **layout_opts)\n",
    "```"
   ]
  },
  {
   "cell_type": "markdown",
   "id": "1ce904ed",
   "metadata": {
    "jupyter": {
     "source_hidden": false
    }
   },
   "source": [
    "Notice adding the `widget_location` option does slightly modify the sequence in which options are specified. That is, if we invoke something like\n",
    "```python\n",
    "view.hvplot.image(widget_location='top_left', **image_opts).opts(**layout_opts)\n",
    "```\n",
    "an exception is raised (hence the invocation in the code cell above). There are some subtle difficulties in working out the correct sequence to apply options when customizing HoloViz/Hvplot objects (mainly due to the ways in which namespaces overlap with Bokeh or other rendering back-ends). The best strategy is to start with as few options as possible and to experiment by incrementally adding options until we get the final visualization we want."
   ]
  },
  {
   "cell_type": "markdown",
   "id": "43d8a67b",
   "metadata": {},
   "source": [
    "***"
   ]
  },
  {
   "cell_type": "markdown",
   "id": "73eb061a",
   "metadata": {},
   "source": [
    "### Combining vector data with raster data in a dynamic view"
   ]
  },
  {
   "cell_type": "markdown",
   "id": "2a8bba7d",
   "metadata": {
    "jupyter": {
     "source_hidden": false
    }
   },
   "source": [
    "Finally, let's overlay our vector data from before—the boundary of the wildfire—with the dynamic view of this three-dimensional array of rasters. We can use the `*` operator to combine the output of `hvplot.image` with `shapeplot`, the rendered view of the vector data."
   ]
  },
  {
   "cell_type": "markdown",
   "id": "f3a7098c",
   "metadata": {},
   "source": [
    "```{code-cell} python jupyter={\"source_hidden\": false}\n",
    "steps = 200\n",
    "subset = slice(0, None, steps)\n",
    "view = stack.isel(latitude=subset, longitude=subset)\n",
    "\n",
    "image_opts.update(colorbar=False)\n",
    "layout_opts.update(frame_height=500, frame_width=500)\n",
    "(view.hvplot.image(**image_opts) * shapeplot).opts(**layout_opts)\n",
    "```"
   ]
  },
  {
   "cell_type": "markdown",
   "id": "986d4dfe",
   "metadata": {
    "jupyter": {
     "source_hidden": false
    }
   },
   "source": [
    "Again, getting the options specified correctly can take a bit of experimentation. The important ideas to take away here are:\n",
    "+ how to load relevant datasets with `geopandas` and `rioxarray`; and\n",
    "+ how to use `hvplot` interactively & incrementally to produce compelling visualizations."
   ]
  },
  {
   "cell_type": "markdown",
   "id": "02e0f9fd",
   "metadata": {},
   "source": [
    "***"
   ]
  }
 ],
 "metadata": {
  "kernelspec": {
   "display_name": "Python 3 (ipykernel)",
   "language": "python",
   "name": "python3"
  }
 },
 "nbformat": 4,
 "nbformat_minor": 5
}
