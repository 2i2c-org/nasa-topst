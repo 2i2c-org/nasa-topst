{
 "cells": [
  {
   "cell_type": "markdown",
   "id": "143fb1f8",
   "metadata": {},
   "source": [
    "# Loading Raster Data from GeoTIFF Files"
   ]
  },
  {
   "cell_type": "markdown",
   "id": "e60c1a73",
   "metadata": {
    "jupyter": {
     "source_hidden": false
    }
   },
   "source": [
    "Given that most of the geospatial data we'll work with in this tutorial is stored in GeoTIFF files, we need to know how to work with those files. The easiest solution is to use [rioxarray](https://corteva.github.io/rioxarray/html/index.html); this solution takes care of a lot of tricky details transparently. We can also use [Rasterio](https://rasterio.readthedocs.io/en/stable) as a tool for reading data or metadata from GeoTIFF files; judicious use of Rasterio can make a big difference when working with remote files in the cloud."
   ]
  },
  {
   "cell_type": "markdown",
   "id": "44619142",
   "metadata": {},
   "source": [
    "```{code-cell} python jupyter={\"source_hidden\": false}\n",
    "import numpy as np\n",
    "import rasterio\n",
    "import rioxarray as rio\n",
    "from pathlib import Path\n",
    "\n",
    "FILE_STEM = Path.cwd().parent if 'book' == Path.cwd().parent.stem else 'book'\n",
    "```\n",
    "\n",
    "***\n",
    "\n",
    "## [rioxarray](https://corteva.github.io/rioxarray/html/index.html)"
   ]
  },
  {
   "cell_type": "markdown",
   "id": "04fc3eac",
   "metadata": {
    "jupyter": {
     "source_hidden": false
    }
   },
   "source": [
    "`rioxarray` is a package that *extends* the Xarray package (more on that later). The primary `rioxarray` features we'll use within this tutorial are:\n",
    "+ `rioxarray.open_rasterio` to load GeoTIFF files directly into Xarray `DataArray` structures; and\n",
    "+ `xarray.DataArray.rio` to provides useful utilities (e.g., for specifying CRS information).\n",
    "\n",
    "To get used to working with GeoTIFF files, we'll use a few specific examples in this & later notebooks. We'll explain more about what kind of data is contained within the file later; for now, we just want to get used to loading data."
   ]
  },
  {
   "cell_type": "markdown",
   "id": "9adb8640",
   "metadata": {},
   "source": [
    "### Loading files into a DataArray"
   ]
  },
  {
   "cell_type": "markdown",
   "id": "091ea1f4",
   "metadata": {
    "jupyter": {
     "source_hidden": false
    }
   },
   "source": [
    "Observe first that `open_rasterio` works on local file paths and remote URLs.\n",
    "+ Predictably, local access is faster than remote access."
   ]
  },
  {
   "cell_type": "markdown",
   "id": "aebde811",
   "metadata": {},
   "source": [
    "```{code-cell} python jupyter={\"source_hidden\": false}\n",
    "%%time\n",
    "LOCAL_PATH = Path(FILE_STEM, 'assets/OPERA_L3_DIST-ALERT-HLS_T10TEM_20220815T185931Z_20220817T153514Z_S2A_30_v0.1_VEG-ANOM-MAX.tif')\n",
    "data = rio.open_rasterio(LOCAL_PATH)\n",
    "```\n",
    "\n",
    "```{code-cell} python jupyter={\"source_hidden\": false}\n",
    "%%time\n",
    "REMOTE_URL ='https://opera-provisional-products.s3.us-west-2.amazonaws.com/DIST/DIST_HLS/WG/DIST-ALERT/McKinney_Wildfire/OPERA_L3_DIST-ALERT-HLS_T10TEM_20220815T185931Z_20220817T153514Z_S2A_30_v0.1/OPERA_L3_DIST-ALERT-HLS_T10TEM_20220815T185931Z_20220817T153514Z_S2A_30_v0.1_VEG-ANOM-MAX.tif'\n",
    "data_remote = rio.open_rasterio(REMOTE_URL)\n",
    "```"
   ]
  },
  {
   "cell_type": "markdown",
   "id": "1006f270",
   "metadata": {
    "jupyter": {
     "source_hidden": false
    }
   },
   "source": [
    "This next operation compares elements of an Xarray `DataArray` elementwise (the use of the `.all` method is similar to what we would do to compare NumPy arrays). This is generally not an advisable way to compare arrays, series, dataframes, or other large data structures that contain floating-point data. However, in this particular instance, as the two data structures have been read from the same file stored in two different locations, element-by-element comparison makes sense. It confirms that the data loaded into memory from two different sources is identical in every bit."
   ]
  },
  {
   "cell_type": "markdown",
   "id": "3855f836",
   "metadata": {},
   "source": [
    "```{code-cell} python jupyter={\"source_hidden\": false}\n",
    "(data_remote == data).all() # Verify that the data is identical from both sources\n",
    "```\n",
    "\n",
    "***"
   ]
  },
  {
   "cell_type": "markdown",
   "id": "879ed2db",
   "metadata": {},
   "source": [
    "## [rasterio](https://rasterio.readthedocs.io/en/stable)"
   ]
  },
  {
   "cell_type": "markdown",
   "id": "e6a6fd97",
   "metadata": {
    "jupyter": {
     "source_hidden": false
    }
   },
   "source": [
    "This section can be safely skipped if `rioxarray` works adequately for our analyses, i.e., if loading data into memory is not prohibitive; when that is *not* the case, `rasterio` provides alternative strategies for exploring GeoTIFF files. That is, the `rasterio` package offers lower-level approaches to loading data than `rioxarray` does when needed.\n",
    "\n",
    "From the [Rasterio documentation](https://rasterio.readthedocs.io/en/stable):\n",
    "\n",
    "> Before Rasterio there was one Python option for accessing the many different kind of raster data files used in the GIS field: the Python bindings distributed with the [Geospatial Data Abstraction Library, GDAL](http://gdal.org/). These bindings extend Python, but provide little abstraction for GDAL’s C API. This means that Python programs using them tend to read and run like C programs. For example, GDAL’s Python bindings require users to watch out for dangling C pointers, potential crashers of programs. This is bad: among other considerations we’ve chosen Python instead of C to avoid problems with pointers.\n",
    ">\n",
    ">What would it be like to have a geospatial data abstraction in the Python standard library? One that used modern Python language features and idioms? One that freed users from concern about dangling pointers and other C programming pitfalls? Rasterio’s goal is to be this kind of raster data library – expressing GDAL’s data model using fewer non-idiomatic extension classes and more idiomatic Python types and protocols, while performing as fast as GDAL’s Python bindings.\n",
    ">\n",
    ">High performance, lower cognitive load, cleaner and more transparent code. This is what Rasterio is about."
   ]
  },
  {
   "cell_type": "markdown",
   "id": "2aa320a2",
   "metadata": {},
   "source": [
    "***"
   ]
  },
  {
   "cell_type": "markdown",
   "id": "6ba071bc",
   "metadata": {},
   "source": [
    "### Opening files with rasterio.open\n",
    "\n",
    "```{code-cell} python jupyter={\"source_hidden\": false}\n",
    "# Show rasterio.open works using context manager\n",
    "LOCAL_PATH = Path(FILE_STEM, 'assets/OPERA_L3_DIST-ALERT-HLS_T10TEM_20220815T185931Z_20220817T153514Z_S2A_30_v0.1_VEG-ANOM-MAX.tif')\n",
    "print(LOCAL_PATH)\n",
    "```"
   ]
  },
  {
   "cell_type": "markdown",
   "id": "03e0a5e6",
   "metadata": {
    "jupyter": {
     "source_hidden": false
    }
   },
   "source": [
    "Given a data source (e.g., a GeoTIFF file in the current context), we can open a `DatasetReader` object associated with using `rasterio.open`. Technically, we have to remember to close the object afterward. That is, our code would look like this:\n",
    "\n",
    "```{code-cell} python\n",
    "ds = rasterio.open(LOCAL_PATH)\n",
    "# ..\n",
    "# do some computation\n",
    "# ...\n",
    "ds.close()\n",
    "```\n",
    "\n",
    "As with file-handling in Python, we can use a *context manager* (i.e., a `with` clause) instead.\n",
    "```python\n",
    "with rasterio.open(LOCAL_PATH) as ds:\n",
    "  # ...\n",
    "  # do some computation\n",
    "  # ...\n",
    "\n",
    "# more code outside the scope of the with block.\n",
    "```\n",
    "The dataset will be closed automatically outside the `with` block."
   ]
  },
  {
   "cell_type": "markdown",
   "id": "01433b52",
   "metadata": {},
   "source": [
    "```{code-cell} python jupyter={\"source_hidden\": false}\n",
    "with rasterio.open(LOCAL_PATH) as ds:\n",
    "    print(f'{type(ds)=}')\n",
    "    assert not ds.closed\n",
    "\n",
    "# outside the scope of the with block\n",
    "assert ds.closed\n",
    "```"
   ]
  },
  {
   "cell_type": "markdown",
   "id": "edb0e35b",
   "metadata": {
    "jupyter": {
     "source_hidden": false
    }
   },
   "source": [
    "The principal advantage of using `rasterio.open` rather than `rioxarray.open_rasterio` to open a file is that the latter approach opens the file and immediately loads its contents into a `DataDarray` in memory.\n",
    "\n",
    "By contrast, using `rasterio.open` opens the file in place and its contents *are not* immediately loaded into memory. The file's data *can* be read, but this must be done explicitly. This makes a lot of difference when working with remote data; transferring the entire contents across a network involves certain costs. For example, if we examine the metadata—which is typically much smaller and can be transferred quickly—we may find, e.g., that moving an entire array of data across the network is not warranted."
   ]
  },
  {
   "cell_type": "markdown",
   "id": "a59755b0",
   "metadata": {},
   "source": [
    "***"
   ]
  },
  {
   "cell_type": "markdown",
   "id": "245e00bf",
   "metadata": {},
   "source": [
    "### Examining DatasetReader attributes"
   ]
  },
  {
   "cell_type": "markdown",
   "id": "c5fd7ef8",
   "metadata": {
    "jupyter": {
     "source_hidden": false
    }
   },
   "source": [
    "When a file is opened using `rasterio.open`, the object instantiated is from the `DatasetReader` class. This class has a number of attributes and methods of interest to us:\n",
    "\n",
    " |  | | |\n",
    " |--|--|--|\n",
    " |`profile`|`height`|`width` |\n",
    " |`shape` |`count`|`nodata`|\n",
    " |`crs`|`transform`|`bounds`|\n",
    " |`xy`|`index`|`read` |\n",
    "\n",
    "First, given a `DatasetReader` `ds` associated with a data source, examining `ds.profile` returns some diagnostic information."
   ]
  },
  {
   "cell_type": "markdown",
   "id": "7f21cfd0",
   "metadata": {},
   "source": [
    "```{code-cell} python jupyter={\"source_hidden\": false}\n",
    "with rasterio.open(LOCAL_PATH) as ds:\n",
    "    print(f'{ds.profile=}')\n",
    "```"
   ]
  },
  {
   "cell_type": "markdown",
   "id": "f2bfbd3f",
   "metadata": {
    "jupyter": {
     "source_hidden": false
    }
   },
   "source": [
    "The attributes `ds.height`, `ds.width`, `ds.shape`, `ds.count`, `ds.nodata`, and `ds.transform` are all included in the output from `ds.profile` but are also accessible individually."
   ]
  },
  {
   "cell_type": "markdown",
   "id": "165fce3f",
   "metadata": {},
   "source": [
    "```{code-cell} python jupyter={\"source_hidden\": false}\n",
    "with rasterio.open(LOCAL_PATH) as ds:\n",
    "    print(f'{ds.height=}')\n",
    "    print(f'{ds.width=}')\n",
    "    print(f'{ds.shape=}')\n",
    "    print(f'{ds.count=}')\n",
    "    print(f'{ds.nodata=}')\n",
    "    print(f'{ds.crs=}')\n",
    "    print(f'{ds.transform=}')\n",
    "```\n",
    "\n",
    "***"
   ]
  },
  {
   "cell_type": "markdown",
   "id": "2062cb73",
   "metadata": {},
   "source": [
    "### Reading data into memory"
   ]
  },
  {
   "cell_type": "markdown",
   "id": "32d8a433",
   "metadata": {
    "jupyter": {
     "source_hidden": false
    }
   },
   "source": [
    "The method `ds.read` loads an array from the data file into memory. Notice this can be done on local or remote files."
   ]
  },
  {
   "cell_type": "markdown",
   "id": "0a250f1a",
   "metadata": {},
   "source": [
    "```{code-cell} python jupyter={\"source_hidden\": false}\n",
    "%%time\n",
    "with rasterio.open(LOCAL_PATH) as ds:\n",
    "    array = ds.read()\n",
    "    print(f'{array.shape=}')\n",
    "```\n",
    "\n",
    "```{code-cell} python jupyter={\"source_hidden\": false}\n",
    "%%time\n",
    "with rasterio.open(REMOTE_URL) as ds:\n",
    "    array = ds.read()\n",
    "    print(f'{array.shape=}')\n",
    "```\n",
    "\n",
    "```{code-cell} python jupyter={\"source_hidden\": false}\n",
    "print(f'{type(array)=}')\n",
    "```"
   ]
  },
  {
   "cell_type": "markdown",
   "id": "2f82d5f8",
   "metadata": {
    "jupyter": {
     "source_hidden": false
    }
   },
   "source": [
    "The array loaded into memory with `ds.read` is a NumPy array. This can be wrapped by an Xarray `DataArray` if we provide additional code to specify the coordinate labels and so on."
   ]
  },
  {
   "cell_type": "markdown",
   "id": "39d64495",
   "metadata": {},
   "source": [
    "***"
   ]
  },
  {
   "cell_type": "markdown",
   "id": "8b449918",
   "metadata": {},
   "source": [
    "### Mapping coordinates"
   ]
  },
  {
   "cell_type": "markdown",
   "id": "f8fce944",
   "metadata": {
    "jupyter": {
     "source_hidden": false
    }
   },
   "source": [
    "Earlier, we loaded data from a local file into a `DataArray` called `da` using `rioxarray.open_rasterio`."
   ]
  },
  {
   "cell_type": "markdown",
   "id": "abb15305",
   "metadata": {},
   "source": [
    "```{code-cell} python jupyter={\"source_hidden\": false}\n",
    "da = rio.open_rasterio(LOCAL_PATH)\n",
    "da\n",
    "```"
   ]
  },
  {
   "cell_type": "markdown",
   "id": "04e887fa",
   "metadata": {
    "jupyter": {
     "source_hidden": false
    }
   },
   "source": [
    "Doing so simplified the loading raster data from a GeoTIFF file into an Xarray `DataArray` while filling in the metadata for us. In particular, the coordinates associated with the pixels were stored into `da.coords` (the default coordinate axes are `band`, `x`, and `y` for this three-dimensional array).\n",
    "\n",
    "If we ignore the extra `band` dimension, the pixels of the raster data are associated with pixel coordinates (integers) and spatial coordinates (real values, typically a point at the centre of each pixel). \n",
    "\n",
    "![](http://ioam.github.io/topographica/_images/matrix_coords.png)\n",
    "![](http://ioam.github.io/topographica/_images/sheet_coords_-0.2_0.4.png)\n",
    "(from `http://ioam.github.io/topographica`)\n",
    "\n",
    "The accessors `da.isel` and `da.sel` allow us to extract slices from the data array using pixel coordinates or spatial coordinates respectively."
   ]
  },
  {
   "cell_type": "markdown",
   "id": "9f7631cb",
   "metadata": {
    "jupyter": {
     "source_hidden": false
    }
   },
   "source": [
    "If we use `rasterio.open` to open a file, the `DatasetReader` attribute `transform` provides the details of how to convert between pixel and spatial coordinates. We will use this capability in some of the case studies later."
   ]
  },
  {
   "cell_type": "markdown",
   "id": "9ba4d692",
   "metadata": {},
   "source": [
    "```{code-cell} python jupyter={\"source_hidden\": false}\n",
    "with rasterio.open(LOCAL_PATH) as ds:\n",
    "    print(f'{ds.transform=}')\n",
    "    print(f'{np.abs(ds.transform[0])=}')\n",
    "    print(f'{np.abs(ds.transform[4])=}')\n",
    "```"
   ]
  },
  {
   "cell_type": "markdown",
   "id": "13b02193",
   "metadata": {
    "jupyter": {
     "source_hidden": false
    }
   },
   "source": [
    "The attribute `ds.transform` is an object describing an [*affine transformation*](https://en.wikipedia.org/wiki/Affine_transformation) (represented above as a $2\\times3$ matrix). Notice that the absolute values of the diagonal entries of the matrix `ds.transform` give the spatial dimensions of pixels ($30\\mathrm{m}\\times30\\mathrm{m}$ in this case).\n",
    "\n",
    "We can also use this object to convert pixel coordinates to the corresponding spatial coordinates."
   ]
  },
  {
   "cell_type": "markdown",
   "id": "bd95e612",
   "metadata": {},
   "source": [
    "```{code-cell} python jupyter={\"source_hidden\": false}\n",
    "with rasterio.open(LOCAL_PATH) as ds:\n",
    "    print(f'{ds.transform * (0,0)=}')       # top-left pixel\n",
    "    print(f'{ds.transform * (0,3660)=}')    # bottom-left pixel\n",
    "    print(f'{ds.transform * (3660,0)=}')    # top-right pixel\n",
    "    print(f'{ds.transform * (3660,3660)=}') # bottom-right pixel\n",
    "```"
   ]
  },
  {
   "cell_type": "markdown",
   "id": "41d2193c",
   "metadata": {
    "jupyter": {
     "source_hidden": false
    }
   },
   "source": [
    "The attribute `ds.bounds` displays the bounds of the spatial region (left, bottom, right, top)."
   ]
  },
  {
   "cell_type": "markdown",
   "id": "3c3ecf54",
   "metadata": {},
   "source": [
    "```{code-cell} python jupyter={\"source_hidden\": false}\n",
    "with rasterio.open(LOCAL_PATH) as ds:\n",
    "    print(f'coordinate bounds: {ds.bounds=}')\n",
    "```"
   ]
  },
  {
   "cell_type": "markdown",
   "id": "53f4157c",
   "metadata": {
    "jupyter": {
     "source_hidden": false
    }
   },
   "source": [
    "The method `ds.xy` also converts integer index coordinates to continuous coordinates. Notice that `ds.xy` maps integers to the centre of pixels. The loops below print out the first top left corner of the coordinates in pixel coordinates and then the cooresponding spatial coordinates."
   ]
  },
  {
   "cell_type": "markdown",
   "id": "ee3dfe62",
   "metadata": {},
   "source": [
    "```{code-cell} python jupyter={\"source_hidden\": false}\n",
    "with rasterio.open(LOCAL_PATH) as ds:\n",
    "    for k in range(3):\n",
    "        for l in range(4):\n",
    "            print(f'({k:2d},{l:2d})','\\t', end='')\n",
    "        print()\n",
    "    print()\n",
    "    for k in range(3):\n",
    "        for l in range(4):\n",
    "            e,n = ds.xy(k,l)\n",
    "            print(f'({e},{n})','\\t', end='')\n",
    "        print()\n",
    "    print()\n",
    "```"
   ]
  },
  {
   "cell_type": "markdown",
   "id": "8d6d7c1c",
   "metadata": {
    "jupyter": {
     "source_hidden": false
    }
   },
   "source": [
    "`ds.index` does the reverse: given spatial coordinates `(x,y)`, it returns the integer indices of the pixel that contains that point."
   ]
  },
  {
   "cell_type": "markdown",
   "id": "5a53ca13",
   "metadata": {},
   "source": [
    "```{code-cell} python jupyter={\"source_hidden\": false}\n",
    "with rasterio.open(LOCAL_PATH) as ds:\n",
    "    print(ds.index(500000, 4700015))\n",
    "```"
   ]
  },
  {
   "cell_type": "markdown",
   "id": "8ebbeabe",
   "metadata": {
    "jupyter": {
     "source_hidden": false
    }
   },
   "source": [
    "These conversions can be tricky, particularly because pixel coordinates map to the centres of the pixels and also because the second `y` spatial coordinate *decreases* as the second pixel coordinate *increases*. Keeping track of tedious details like this is partly why loading from `rioxarray` is useful, i.e., this is done for us. But it is worth knowing that we can reconstruct this mapping if needed from metadata in the GeoTIFF file (we use this fact later)."
   ]
  },
  {
   "cell_type": "markdown",
   "id": "c6fb35f5",
   "metadata": {},
   "source": [
    "```{code-cell} python jupyter={\"source_hidden\": false}\n",
    "with rasterio.open(LOCAL_PATH) as ds:\n",
    "    print(ds.bounds)\n",
    "    print(ds.transform * (0.5,0.5)) # Maps to centre of top left pixel\n",
    "    print(ds.xy(0,0))               # Same as above\n",
    "    print(ds.transform * (0,0))     # Maps to top left corner of top left pixel\n",
    "    print(ds.xy(-0.5,-0.5))         # Same as above\n",
    "    print(ds.transform[0], ds.transform[4])\n",
    "```\n",
    "\n",
    "***"
   ]
  }
 ],
 "metadata": {
  "kernelspec": {
   "display_name": "Python 3 (ipykernel)",
   "language": "python",
   "name": "python3"
  }
 },
 "nbformat": 4,
 "nbformat_minor": 5
}
