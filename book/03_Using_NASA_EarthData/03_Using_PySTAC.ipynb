{
 "cells": [
  {
   "cell_type": "markdown",
   "id": "e21154e9",
   "metadata": {},
   "source": [
    "# Using the PySTAC API"
   ]
  },
  {
   "cell_type": "markdown",
   "id": "6367e061",
   "metadata": {
    "jupyter": {
     "source_hidden": false
    }
   },
   "source": [
    "There is an abundance of data searchable through NASA's [Earthdata Search website](https://search.earthdata.nasa.gov). The preceding link connects to a GUI for searching [SpatioTemporal Asset Catalogs (STACs)](https://stacspec.org/) by specifying an *Area of Interest (AOI)* and a *time-window* or *range of dates*.\n",
    "\n",
    "For the sake of reproducibility, we want to be able to search asset catalogs programmatically. This is where the [PySTAC](https://pystac.readthedocs.io/en/stable/) library comes in."
   ]
  },
  {
   "cell_type": "markdown",
   "id": "5ff3c3e0",
   "metadata": {},
   "source": [
    "***"
   ]
  },
  {
   "cell_type": "markdown",
   "id": "27f6518c",
   "metadata": {},
   "source": [
    "## Outline of steps for analysis"
   ]
  },
  {
   "cell_type": "markdown",
   "id": "2c03b53d",
   "metadata": {
    "jupyter": {
     "source_hidden": false
    }
   },
   "source": [
    "+ Identifying search parameters\n",
    "    + AOI, time-window\n",
    "    + Endpoint, Provider, catalog identifier (\"short name\")\n",
    "+ Obtaining search results\n",
    "    + Instrospect, examine to identify features, bands of interest\n",
    "    + Wrap results into a DataFrame for easier exploration\n",
    "+ Exploring & refining search results\n",
    "    + Identify granules of highest value\n",
    "    + Filter extraneous granules with minimal contribution\n",
    "    + Assemble relevant filtered granules into DataFrame\n",
    "    + Identify kind of output to generate\n",
    "+ Data-wrangling to produce relevant output\n",
    "    + Download relevant granules into Xarray DataArray, stacked appropriately\n",
    "    + Do intermediate computations as necessary\n",
    "    + Assemble relevant data slices into visualization"
   ]
  },
  {
   "cell_type": "markdown",
   "id": "1724ab51",
   "metadata": {},
   "source": [
    "***"
   ]
  },
  {
   "cell_type": "markdown",
   "id": "d29b9c4d",
   "metadata": {},
   "source": [
    "## Identifying search parameters"
   ]
  },
  {
   "cell_type": "markdown",
   "id": "1ad49223",
   "metadata": {},
   "source": [
    "### Defining AOI & range of dates"
   ]
  },
  {
   "cell_type": "markdown",
   "id": "522bedf4",
   "metadata": {
    "jupyter": {
     "source_hidden": false
    }
   },
   "source": [
    "We'll start by considering a particular example. [Heavy rains severely impacted Southeast Texas in May 2024](https://www.texastribune.org/2024/05/03/texas-floods-weather-harris-county/), resulting in [flooding and causing significant damage to property and human life](https://www.texastribune.org/series/east-texas-floods-2024/).\n",
    " \n",
    "As usual, certain relevant imports are required. The first two cells are familiar (related to data analysis & visualization tools examined already). The third cell includes imports from the `pystac_client` library and `gdal` library followed by some settings required for using [GDAL (the Geospatial Data Abstraction Library)](https://gdal.org). These configuration details enable your notbook sessions to interact with remote sources of geospatial data smoothly."
   ]
  },
  {
   "cell_type": "markdown",
   "id": "56d000cb",
   "metadata": {},
   "source": [
    "```{code-cell} python jupyter={\"source_hidden\": false}\n",
    "from warnings import filterwarnings\n",
    "filterwarnings('ignore')\n",
    "# data wrangling imports\n",
    "import numpy as np\n",
    "import pandas as pd\n",
    "import xarray as xr\n",
    "import rioxarray as rio\n",
    "import rasterio\n",
    "```\n",
    "\n",
    "```{code-cell} python jupyter={\"source_hidden\": false}\n",
    "# Imports for plotting\n",
    "import hvplot.pandas\n",
    "import hvplot.xarray\n",
    "import geoviews as gv\n",
    "from geoviews import opts\n",
    "gv.extension('bokeh')\n",
    "```\n",
    "\n",
    "```{code-cell} python jupyter={\"source_hidden\": false}\n",
    "# STAC imports to retrieve cloud data\n",
    "from pystac_client import Client\n",
    "from osgeo import gdal\n",
    "# GDAL setup for accessing cloud data\n",
    "gdal.SetConfigOption('GDAL_HTTP_COOKIEFILE','~/.cookies.txt')\n",
    "gdal.SetConfigOption('GDAL_HTTP_COOKIEJAR', '~/.cookies.txt')\n",
    "gdal.SetConfigOption('GDAL_DISABLE_READDIR_ON_OPEN','EMPTY_DIR')\n",
    "gdal.SetConfigOption('CPL_VSIL_CURL_ALLOWED_EXTENSIONS','TIF, TIFF')\n",
    "```"
   ]
  },
  {
   "cell_type": "markdown",
   "id": "0b8a1f93",
   "metadata": {
    "jupyter": {
     "source_hidden": false
    }
   },
   "source": [
    "Next, let's define geographic search parameters so we can retrieve data pertinent to that flooding event. This involves specifying an *area of interest (AOI)* and a *range of dates*.\n",
    "+ The AOI is specified as a rectangle of longitude-latitude coordinates in a single 4-tuple of the form\n",
    "  $$({\\mathtt{longitude}}_{\\mathrm{min}},{\\mathtt{latitude}}_{\\mathrm{min}},{\\mathtt{longitude}}_{\\mathrm{max}},{\\mathtt{latitude}}_{\\mathrm{max}}),$$\n",
    "  i.e., the lower,left corner coordinates followed by the upper, right corner coordinates.\n",
    "+ The range of dates is specified as a string of the form\n",
    "  $$ {\\mathtt{date}_{\\mathrm{start}}}/{\\mathtt{date}_{\\mathrm{end}}}, $$\n",
    "  where dates are specified in standard ISO 8601 format `YYYY-MM-DD`."
   ]
  },
  {
   "cell_type": "markdown",
   "id": "bda31c61",
   "metadata": {},
   "source": [
    "```{code-cell} python jupyter={\"source_hidden\": false}\n",
    "# Center of the AOI\n",
    "livingston_tx_lonlat = (-95.09,30.69) # (lon, lat) form\n",
    "```"
   ]
  },
  {
   "cell_type": "markdown",
   "id": "1fd6ecd7",
   "metadata": {
    "jupyter": {
     "source_hidden": false
    }
   },
   "source": [
    "We'll write a few short functions to encapsulate the logic of our generic workflows. For research code, these would be placed in Python module files. For convenience, we'll embed the functions in this notebook and others so they can execute correctly with minimal dependencies."
   ]
  },
  {
   "cell_type": "markdown",
   "id": "382fffc7",
   "metadata": {},
   "source": [
    "```{code-cell} python jupyter={\"source_hidden\": false}\n",
    "# simple utility to make a rectangle with given center of width dx & height dy\n",
    "def make_bbox(pt,dx,dy):\n",
    "    '''Returns bounding-box represented as tuple (x_lo, y_lo, x_hi, y_hi)\n",
    "    given inputs pt=(x, y), width & height dx & dy respectively,\n",
    "    where x_lo = x-dx/2, x_hi=x+dx/2, y_lo = y-dy/2, y_hi = y+dy/2.\n",
    "    '''\n",
    "    return tuple(coord+sgn*delta for sgn in (-1,+1) for coord,delta in zip(pt, (dx/2,dy/2)))\n",
    "```\n",
    "\n",
    "```{code-cell} python jupyter={\"source_hidden\": false}\n",
    "# simple utility to plot an AOI or bounding-box\n",
    "def plot_bbox(bbox):\n",
    "    '''Given bounding-box, returns GeoViews plot of Rectangle & Point at center\n",
    "    + bbox: bounding-box specified as (lon_min, lat_min, lon_max, lat_max)\n",
    "    Assume longitude-latitude coordinates.\n",
    "    '''\n",
    "    # These plot options are fixed but can be over-ridden\n",
    "    point_opts = opts.Points(size=12, alpha=0.25, color='blue')\n",
    "    rect_opts = opts.Rectangles(line_width=0, alpha=0.1, color='red')\n",
    "    lon_lat = (0.5*sum(bbox[::2]), 0.5*sum(bbox[1::2]))\n",
    "    return (gv.Points([lon_lat]) * gv.Rectangles([bbox])).opts(point_opts, rect_opts)\n",
    "```\n",
    "\n",
    "```{code-cell} python jupyter={\"source_hidden\": false}\n",
    "AOI = make_bbox(livingston_tx_lonlat, 0.5, 0.25)\n",
    "basemap = gv.tile_sources.OSM.opts(width=500, height=500)\n",
    "plot_bbox(AOI) * basemap\n",
    "```"
   ]
  },
  {
   "cell_type": "markdown",
   "id": "e24c7b27",
   "metadata": {
    "jupyter": {
     "source_hidden": false
    }
   },
   "source": [
    "Let's add a date range. The flooding happened primarily between April 30th & May 2nd; we'll set a longer time window covering the months of April & May."
   ]
  },
  {
   "cell_type": "markdown",
   "id": "a38c65e6",
   "metadata": {},
   "source": [
    "```{code-cell} python jupyter={\"source_hidden\": false}\n",
    "start_date, stop_date = '2024-04-01', '2024-05-31'\n",
    "DATE_RANGE = f'{start_date}/{stop_date}'\n",
    "```"
   ]
  },
  {
   "cell_type": "markdown",
   "id": "538a5237",
   "metadata": {
    "jupyter": {
     "source_hidden": false
    }
   },
   "source": [
    "Finally, let's create a dictionary `search_params` that stores the AOI and the range of dates. This dictionary will be used to search for data in STACs."
   ]
  },
  {
   "cell_type": "markdown",
   "id": "07d065b5",
   "metadata": {},
   "source": [
    "```{code-cell} python jupyter={\"source_hidden\": false}\n",
    "search_params = dict(bbox=AOI, datetime=DATE_RANGE)\n",
    "print(search_params)\n",
    "```\n",
    "\n",
    "***"
   ]
  },
  {
   "cell_type": "markdown",
   "id": "c3324d24",
   "metadata": {},
   "source": [
    "## Obtaining search results"
   ]
  },
  {
   "cell_type": "markdown",
   "id": "77d20737",
   "metadata": {},
   "source": [
    "### Executing a search with the PySTAC API"
   ]
  },
  {
   "cell_type": "markdown",
   "id": "b4b3877c",
   "metadata": {
    "jupyter": {
     "source_hidden": false
    }
   },
   "source": [
    "Three other pieces of information are required to initiate a search for data: the *Endpoint* (a URL), the *Provider* (a string representing a path extending the Endpoint), & the *Collection identifiers* (a list of strings referring to specific catalogs). We generally need to experiment with NASA's [Earthdata Search website](https://search.earthdata.nasa.gov) to determine these values correctly for the specific data products we want to retrieve. The [NASA CMR STAC GitHub repository also monitors issues](https://github.com/nasa/cmr-stac/issues) related to the API for EarthData Cloud search queries.\n",
    "\n",
    "\n",
    "For the search for DSWx data products that we want to execute, these parameters are as defined in the next code cell."
   ]
  },
  {
   "cell_type": "markdown",
   "id": "50f72e85",
   "metadata": {},
   "source": [
    "```{code-cell} python jupyter={\"source_hidden\": false}\n",
    "ENDPOINT = 'https://cmr.earthdata.nasa.gov/stac' # base URL for the STAC to search\n",
    "PROVIDER = 'POCLOUD'\n",
    "COLLECTIONS = [\"OPERA_L3_DSWX-HLS_V1_1.0\"]\n",
    "# Update the dictionary opts with list of collections to search\n",
    "search_params.update(collections=COLLECTIONS)\n",
    "print(search_params)\n",
    "```"
   ]
  },
  {
   "cell_type": "markdown",
   "id": "99ca0527",
   "metadata": {
    "jupyter": {
     "source_hidden": false
    }
   },
   "source": [
    "Having defined the search parameters in the Python dictionary `search_params`, we can instantiate a `Client` and search the spatio-temporal asset catalog using the `Client.search` method."
   ]
  },
  {
   "cell_type": "markdown",
   "id": "7b040f5e",
   "metadata": {},
   "source": [
    "```{code-cell} python jupyter={\"source_hidden\": false}\n",
    "catalog = Client.open(f'{ENDPOINT}/{PROVIDER}/')\n",
    "search_results = catalog.search(**search_params)\n",
    "print(f'{type(search_results)=}\\n',search_results)\n",
    "```"
   ]
  },
  {
   "cell_type": "markdown",
   "id": "f1da2fe0",
   "metadata": {
    "jupyter": {
     "source_hidden": false
    }
   },
   "source": [
    "The object `search_results` returned by calling the `search` method is of type `ItemSearch`. To retrieve the results, we invoke the `items` method and cast the result as a Python `list` we'll bind to the identifier `granules`."
   ]
  },
  {
   "cell_type": "markdown",
   "id": "18078c4e",
   "metadata": {},
   "source": [
    "```{code-cell} python jupyter={\"source_hidden\": false}\n",
    "%%time\n",
    "granules = list(search_results.items())\n",
    "print(f\"Number of granules found with tiles overlapping given AOI: {len(granules)}\")\n",
    "```"
   ]
  },
  {
   "cell_type": "markdown",
   "id": "db502925",
   "metadata": {
    "jupyter": {
     "source_hidden": false
    }
   },
   "source": [
    "Let's examine the contents of the list `granules`."
   ]
  },
  {
   "cell_type": "markdown",
   "id": "61aa42bb",
   "metadata": {},
   "source": [
    "```{code-cell} python jupyter={\"source_hidden\": false}\n",
    "granule = granules[0]\n",
    "print(f'{type(granule)=}')\n",
    "```\n",
    "\n",
    "```{code-cell} python jupyter={\"source_hidden\": false}\n",
    "granule\n",
    "```"
   ]
  },
  {
   "cell_type": "markdown",
   "id": "61ee06f5",
   "metadata": {
    "jupyter": {
     "source_hidden": false
    }
   },
   "source": [
    "The object `granule` has a rich output representation in this Jupyter notebook. We can expand the attributes in the output cell by clicking the triangles.\n",
    "\n",
    "![](../assets/granule_output_repr.png)\n",
    "\n",
    "The term *granule* refers to a collection of data files (raster data in this case) all associated with raw data acquired by a particular satellite at a fixed timestamp over a particular geographic tile. There are a number of interesting attributes associated with this granule.\n",
    "+ `properties['datetime']`: a string representing the time of data acquisition for the raster data files in this granule;\n",
    "+ `properties['eo:cloud_cover']`: the percentage of pixels obscured by cloud and cloud shadow in this granule's raster data files; and\n",
    "+ `assets`: a Python `dict` whose values summarize the bands or levels of raster data associated with this granule."
   ]
  },
  {
   "cell_type": "markdown",
   "id": "9b1c72b7",
   "metadata": {},
   "source": [
    "```{code-cell} python jupyter={\"source_hidden\": false}\n",
    "print(f\"{type(granule.properties)=}\\n\")\n",
    "print(f\"{granule.properties['datetime']=}\\n\")\n",
    "print(f\"{granule.properties['eo:cloud_cover']=}\\n\")\n",
    "print(f\"{type(granule.assets)=}\\n\")\n",
    "print(f\"{granule.assets.keys()=}\\n\")\n",
    "```"
   ]
  },
  {
   "cell_type": "markdown",
   "id": "644b7494",
   "metadata": {
    "jupyter": {
     "source_hidden": false
    }
   },
   "source": [
    "Each object in `granule.assets` is an instance of the `Asset` class that has an attribute `href`. It is the `href` attribute that tells us where to locate a GeoTiff file associated with this asset of this granule."
   ]
  },
  {
   "cell_type": "markdown",
   "id": "2c5e27f5",
   "metadata": {},
   "source": [
    "```{code-cell} python jupyter={\"source_hidden\": false}\n",
    "for a in granule.assets:\n",
    "    print(f\"{a=}\\t{type(granule.assets[a])=}\")\n",
    "    print(f\"{granule.assets[a].href=}\\n\\n\")\n",
    "```"
   ]
  },
  {
   "cell_type": "markdown",
   "id": "c365362e",
   "metadata": {
    "jupyter": {
     "source_hidden": false
    }
   },
   "source": [
    "In addition, the `Item` has an `.id` attribute that stores a string. As with the filenames associated with OPERA products, this `.id` string contains the identifier for an MGRS geographic tile. We can extract that identifier applying Python string manipulations to the granule `.id` attribute. Let's do that and store the result in `tile_id`."
   ]
  },
  {
   "cell_type": "markdown",
   "id": "d1d37565",
   "metadata": {},
   "source": [
    "```{code-cell} python jupyter={\"source_hidden\": false}\n",
    "print(granule.id)\n",
    "tile_id = granule.id.split('_')[3]\n",
    "print(f\"{tile_id=}\")\n",
    "```\n",
    "\n",
    "***"
   ]
  },
  {
   "cell_type": "markdown",
   "id": "55b60800",
   "metadata": {},
   "source": [
    "### Summarizing search results in a DataFrame"
   ]
  },
  {
   "cell_type": "markdown",
   "id": "17ef53ad",
   "metadata": {
    "jupyter": {
     "source_hidden": false
    }
   },
   "source": [
    "The details of the search results are complicated to parse in this manner. Let's extract a few particular fields from the granules obtained into a Pandas `DataFrame` using a convenient Python function. We'll define the function here and re-use it in later notebooks."
   ]
  },
  {
   "cell_type": "markdown",
   "id": "8749ed4f",
   "metadata": {},
   "source": [
    "```{code-cell} python jupyter={\"source_hidden\": false}\n",
    "# utility to extract search results into a Pandas DataFrame\n",
    "def search_to_dataframe(search):\n",
    "    '''Constructs Pandas DataFrame from PySTAC Earthdata search results.\n",
    "    DataFrame columns are determined from search item properties and assets.\n",
    "    'asset': string identifying an Asset type associated with a granule\n",
    "    'href': data URL for file associated with the Asset in a given row.'''\n",
    "    granules = list(search.items())\n",
    "    assert granules, \"Error: empty list of search results\"\n",
    "    props = list({prop for g in granules for prop in g.properties.keys()})\n",
    "    tile_ids = map(lambda granule: granule.id.split('_')[3], granules)\n",
    "    rows = (([g.properties.get(k, None) for k in props] + [a, g.assets[a].href, t])\n",
    "                for g, t in zip(granules,tile_ids) for a in g.assets )\n",
    "    df = pd.concat(map(lambda x: pd.DataFrame(x, index=props+['asset','href', 'tile_id']).T, rows),\n",
    "                   axis=0, ignore_index=True)\n",
    "    assert len(df), \"Empty DataFrame\"\n",
    "    return df\n",
    "```"
   ]
  },
  {
   "cell_type": "markdown",
   "id": "05a8c578",
   "metadata": {
    "jupyter": {
     "source_hidden": false
    }
   },
   "source": [
    "Invoking `search_to_dataframe` on `search_results` encodes most of the important information from the search as a Pandas `DataFrame` as below."
   ]
  },
  {
   "cell_type": "markdown",
   "id": "62c0b60b",
   "metadata": {},
   "source": [
    "```{code-cell} python jupyter={\"source_hidden\": false}\n",
    "df = search_to_dataframe(search_results)\n",
    "df.head()\n",
    "```"
   ]
  },
  {
   "cell_type": "markdown",
   "id": "08be70b4",
   "metadata": {
    "jupyter": {
     "source_hidden": false
    }
   },
   "source": [
    "The `DataFrame.info` method allows us to examine the schema of this DataFrame."
   ]
  },
  {
   "cell_type": "markdown",
   "id": "629ec450",
   "metadata": {},
   "source": [
    "```{code-cell} python jupyter={\"source_hidden\": false}\n",
    "df.info()\n",
    "```"
   ]
  },
  {
   "cell_type": "markdown",
   "id": "bd33beac",
   "metadata": {
    "jupyter": {
     "source_hidden": false
    }
   },
   "source": [
    "Let's clean up the DataFrame of search results. This could be embedded in a function, but, it's worth knowing how to do this interactiely with Pandas. \n",
    "\n",
    "First, for these results, only one `Datetime` column is necessary; we can drop the others."
   ]
  },
  {
   "cell_type": "markdown",
   "id": "81d3f91f",
   "metadata": {},
   "source": [
    "```{code-cell} python jupyter={\"source_hidden\": false}\n",
    "df = df.drop(['start_datetime', 'end_datetime'], axis=1)\n",
    "df.info()\n",
    "```"
   ]
  },
  {
   "cell_type": "markdown",
   "id": "f9ff23ad",
   "metadata": {
    "jupyter": {
     "source_hidden": false
    }
   },
   "source": [
    "Next, let's fix the schema of the `DataFrame` `df` by casting the columns as sensible data types. It will also be convenient to use the acquisition timestamp as the DataFrame index. Let's do so using the `DataFrame.set_index` method."
   ]
  },
  {
   "cell_type": "markdown",
   "id": "4d0bc857",
   "metadata": {},
   "source": [
    "```{code-cell} python jupyter={\"source_hidden\": false}\n",
    "df['datetime'] = pd.DatetimeIndex(df['datetime'])\n",
    "df['eo:cloud_cover'] = df['eo:cloud_cover'].astype(np.float16)\n",
    "str_cols = ['asset', 'href', 'tile_id']\n",
    "for col in str_cols:\n",
    "    df[col] = df[col].astype(pd.StringDtype())\n",
    "df = df.set_index('datetime').sort_index()\n",
    "```\n",
    "\n",
    "```{code-cell} python jupyter={\"source_hidden\": false}\n",
    "df.info()\n",
    "```"
   ]
  },
  {
   "cell_type": "markdown",
   "id": "c7933397",
   "metadata": {
    "jupyter": {
     "source_hidden": false
    }
   },
   "source": [
    "This finally gives a DataFrame with a concise schema that can be used for later manipulations. Bundling the STAC search results into a Pandas `DataFrame` sensibly is a bit tricky. A number of the manipulations above could have been embedded within the function `search_to_dataframe`. But, given that the STAC API search results are still evolving, it's currently better to be flexible and to use Pandas interactively to work with search results. We'll see this more in later examples."
   ]
  },
  {
   "cell_type": "markdown",
   "id": "55a01b0e",
   "metadata": {},
   "source": [
    "***"
   ]
  },
  {
   "cell_type": "markdown",
   "id": "786eee62",
   "metadata": {},
   "source": [
    "## Exploring & refining search results"
   ]
  },
  {
   "cell_type": "markdown",
   "id": "ce8a8e55",
   "metadata": {
    "jupyter": {
     "source_hidden": false
    }
   },
   "source": [
    "If we examine the numerical `eo:cloud_cover` column of the DataFrame `df`, we can gather statistics using standard aggregations and the `DataFrame.agg` method."
   ]
  },
  {
   "cell_type": "markdown",
   "id": "d1bf1520",
   "metadata": {},
   "source": [
    "```{code-cell} python jupyter={\"source_hidden\": false}\n",
    "df['eo:cloud_cover'].agg(['min','mean','median','max'])\n",
    "```"
   ]
  },
  {
   "cell_type": "markdown",
   "id": "dbb27648",
   "metadata": {
    "jupyter": {
     "source_hidden": false
    }
   },
   "source": [
    "Notice that there are a number of `nan` entries in this column; Pandads statistical aggregation functions are typically \"`nan`-aware\" meaning that they implicitly ignore `nan` entries (\"Not-a-Number\") when computing statistics."
   ]
  },
  {
   "cell_type": "markdown",
   "id": "af7836b0",
   "metadata": {},
   "source": [
    "### Filtering the search DataFrame with Pandas"
   ]
  },
  {
   "cell_type": "markdown",
   "id": "f06dd484",
   "metadata": {
    "jupyter": {
     "source_hidden": false
    }
   },
   "source": [
    "As a first filtering operation, let's keep only the rows for which the cloud cover is less than 50%."
   ]
  },
  {
   "cell_type": "markdown",
   "id": "db2f2479",
   "metadata": {},
   "source": [
    "```{code-cell} python jupyter={\"source_hidden\": false}\n",
    "df_clear = df.loc[df['eo:cloud_cover']<50]\n",
    "df_clear\n",
    "```"
   ]
  },
  {
   "cell_type": "markdown",
   "id": "783e1c45",
   "metadata": {
    "jupyter": {
     "source_hidden": false
    }
   },
   "source": [
    "For this search query, each DSWX granule comprises raster data for ten bands or levels. We can see this by applying the Pandas `Series.value_counts` method to the `asset` column."
   ]
  },
  {
   "cell_type": "markdown",
   "id": "2c5b7599",
   "metadata": {},
   "source": [
    "```{code-cell} python jupyter={\"source_hidden\": false}\n",
    "df_clear.asset.value_counts()\n",
    "```"
   ]
  },
  {
   "cell_type": "markdown",
   "id": "ed09ff5c",
   "metadata": {
    "jupyter": {
     "source_hidden": false
    }
   },
   "source": [
    "Let's filter out the rows that correspond to the band `B01_WTR` of the DSWx data product. The Pandas `DataFrame.str` accessor makes this operation simple. We'll call the filtered `DataFrame` `b01_wtr`."
   ]
  },
  {
   "cell_type": "markdown",
   "id": "b0400c89",
   "metadata": {},
   "source": [
    "```{code-cell} python jupyter={\"source_hidden\": false}\n",
    "b01_wtr = df_clear.loc[df_clear.asset.str.contains('B01_WTR')]\n",
    "b01_wtr.info()\n",
    "b01_wtr.asset.value_counts()\n",
    "```"
   ]
  },
  {
   "cell_type": "markdown",
   "id": "6827be3f",
   "metadata": {
    "jupyter": {
     "source_hidden": false
    }
   },
   "source": [
    "We can also see that there are several geographic tiles associated with the granules found that intersect the AOI provided."
   ]
  },
  {
   "cell_type": "markdown",
   "id": "f342e4e3",
   "metadata": {},
   "source": [
    "```{code-cell} python jupyter={\"source_hidden\": false}\n",
    "b01_wtr.tile_id.value_counts()\n",
    "```"
   ]
  },
  {
   "cell_type": "markdown",
   "id": "c2f6ddd2",
   "metadata": {
    "jupyter": {
     "source_hidden": false
    }
   },
   "source": [
    "Remember, these codes refer to MGRS geographic tiles specified in a particular coordinate system. As we have identified these codes in the `tile_id` column, we can filter rows that correspond to, say, files collected over the MGRS tile `T15RUQ`:"
   ]
  },
  {
   "cell_type": "markdown",
   "id": "90c4c789",
   "metadata": {},
   "source": [
    "```{code-cell} python jupyter={\"source_hidden\": false}\n",
    "b01_wtr_t15ruq = b01_wtr.loc[b01_wtr.tile_id=='T15RUQ']\n",
    "b01_wtr_t15ruq\n",
    "```"
   ]
  },
  {
   "cell_type": "markdown",
   "id": "98f883fb",
   "metadata": {
    "jupyter": {
     "source_hidden": false
    }
   },
   "source": [
    "We now have a much shorter `DataFrame` `b01_wtr_t15ruq` that summarises the remote locations of files (i.e., GeoTiffs) that store raster data for the surface water band `B01_WTR` in MGRS tile `T15RUQ` collected at various time-stamps that lie within the time-window we specified. We canuse this DataFrame to download those files for analysis or visualization."
   ]
  },
  {
   "cell_type": "markdown",
   "id": "01cff7f8",
   "metadata": {},
   "source": [
    "***"
   ]
  },
  {
   "cell_type": "markdown",
   "id": "a82d8f13",
   "metadata": {},
   "source": [
    "## Data-wrangling to produce relevant output"
   ]
  },
  {
   "cell_type": "markdown",
   "id": "871072c9",
   "metadata": {},
   "source": [
    "### Stacking the data"
   ]
  },
  {
   "cell_type": "markdown",
   "id": "afa1f9e9",
   "metadata": {
    "jupyter": {
     "source_hidden": false
    }
   },
   "source": [
    "We have a `DataFrame` that identifies specific remote files of raster data. The next step is to combine this raster data into a data structure suitable for analysis. The Xarray `DataArray` is suitable in this case; the combination can be generated using the Xarray function `concat`. The function `urls_to_stack` in the next cell is long but not complicated; it takes a `DataFrame` with timestamps on the index and a column labelled `href` of URLs, it reads the files associated with those URLs one-by-one, and it stacks the relevant two-dimensional arrays of raster data into a three-dimensional array."
   ]
  },
  {
   "cell_type": "markdown",
   "id": "71fbe2eb",
   "metadata": {},
   "source": [
    "```{code-cell} python jupyter={\"source_hidden\": false}\n",
    "def urls_to_stack(granule_dataframe):\n",
    "    '''Processes DataFrame of PySTAC search results (with OPERA tile URLs) &\n",
    "    returns stacked Xarray DataArray (dimensions time, latitude, & longitude)'''\n",
    "    \n",
    "    stack = []\n",
    "    for i, row in granule_dataframe.iterrows():\n",
    "        with rasterio.open(row.href) as ds:\n",
    "            # extract CRS string\n",
    "            crs = str(ds.crs).split(':')[-1]\n",
    "            # extract the image spatial extent (xmin, ymin, xmax, ymax)\n",
    "            xmin, ymin, xmax, ymax = ds.bounds\n",
    "            # the x and y resolution of the image is available in image metadata\n",
    "            x_res = np.abs(ds.transform[0])\n",
    "            y_res = np.abs(ds.transform[4])\n",
    "            # read the data \n",
    "            img = ds.read()\n",
    "            # Ensure img has three dimensions (bands, y, x)\n",
    "            if img.ndim == 2:\n",
    "                img = np.expand_dims(img, axis=0) \n",
    "            lon = np.arange(xmin, xmax, x_res)\n",
    "            lat = np.arange(ymax, ymin, -y_res)\n",
    "            bands = np.arange(img.shape[0])\n",
    "            da = xr.DataArray(\n",
    "                                data=img,\n",
    "                                dims=[\"band\", \"lat\", \"lon\"],\n",
    "                                coords=dict(\n",
    "                                            lon=([\"lon\"], lon),\n",
    "                                            lat=([\"lat\"], lat),\n",
    "                                            time=i,\n",
    "                                            band=bands\n",
    "                                            ),\n",
    "                                attrs=dict(\n",
    "                                            description=\"OPERA DSWx B01\",\n",
    "                                            units=None,\n",
    "                                          ),\n",
    "                             )\n",
    "            da.rio.write_crs(crs, inplace=True)   \n",
    "            stack.append(da)\n",
    "    return xr.concat(stack, dim='time').squeeze()\n",
    "```\n",
    "\n",
    "```{code-cell} python jupyter={\"source_hidden\": false}\n",
    "%%time\n",
    "stack = urls_to_stack(b01_wtr_t15ruq)\n",
    "```\n",
    "\n",
    "```{code-cell} python jupyter={\"source_hidden\": false}\n",
    "stack\n",
    "```\n",
    "\n",
    "### Producing a data visualization\n",
    "\n",
    "```{code-cell} python jupyter={\"source_hidden\": false}\n",
    "#  Define a colormap with RGBA tuples\n",
    "COLORS = [(150, 150, 150, 0.1)]*256  # Setting all values to gray with low opacity\n",
    "COLORS[0] = (0, 255, 0, 0.1)         # Not-water class to green\n",
    "COLORS[1] = (0, 0, 255, 1)           # Open surface water\n",
    "COLORS[2] = (0, 0, 255, 1)           # Partial surface water\n",
    "```\n",
    "\n",
    "```{code-cell} python jupyter={\"source_hidden\": false}\n",
    "image_opts = dict(\n",
    "                   x='lon',\n",
    "                   y='lat',\n",
    "                   project=True,\n",
    "                   rasterize=True,\n",
    "                   cmap=COLORS, \n",
    "                   colorbar=False,\n",
    "                   tiles = gv.tile_sources.OSM,\n",
    "                   widget_location='bottom',\n",
    "                   frame_width=500,\n",
    "                   frame_height=500,\n",
    "                   xlabel='Longitude (degrees)',\n",
    "                   ylabel='Latitude (degrees)',\n",
    "                   title = 'DSWx data for May 2024 Texas floods',\n",
    "                   fontscale=1.25\n",
    "                  )\n",
    "```"
   ]
  },
  {
   "cell_type": "markdown",
   "id": "ecb6fff4",
   "metadata": {
    "jupyter": {
     "source_hidden": false
    }
   },
   "source": [
    "Plotting the images in entirety can use a lot of memory. Let's use the Xarray `DataArray.isel` method to extract a slice from the array `stack` with fewer pixels. This will allow rapid rendering and scrolling."
   ]
  },
  {
   "cell_type": "markdown",
   "id": "89553987",
   "metadata": {},
   "source": [
    "```{code-cell} python jupyter={\"source_hidden\": false}\n",
    "view = stack.isel(lon=slice(3000,None), lat=slice(3000,None))\n",
    "view.hvplot.image(**image_opts)\n",
    "```\n",
    "\n",
    "```{code-cell} python jupyter={\"source_hidden\": false}\n",
    "stack.hvplot.image(**image_opts) # Construct view from all slices.\n",
    "```"
   ]
  },
  {
   "cell_type": "markdown",
   "id": "3ea7cd22",
   "metadata": {
    "jupyter": {
     "source_hidden": false
    }
   },
   "source": [
    "Before continuing, remember to shut down the kernel for this notebook to free up memory for other computations."
   ]
  },
  {
   "cell_type": "markdown",
   "id": "543d97a2",
   "metadata": {},
   "source": [
    "***"
   ]
  },
  {
   "cell_type": "markdown",
   "id": "3ebef9e5",
   "metadata": {
    "jupyter": {
     "source_hidden": false
    }
   },
   "source": [
    "This notebook primarily provides an example to illustrate using the PySTAC API.\n",
    "\n",
    "In subsequent notebooks, we'll use this general workflow:\n",
    "\n",
    "1. Set up a search query by identifying a particular *AOI* and *range of dates*.\n",
    "2. Identify a suitable *endpoint*, *provider*, & *asset catalog* and execute the search using `pystac.Client`.\n",
    "3. Convert the search results into a Pandas DataFrame containing the principal fields of interest.\n",
    "4. Use the resulting DataFrame to filter for the most relevant remote data files needed for analysis and/or visualization.\n",
    "5. Execute the analysis and/or visualization using the DataFrame to retrieve the required data."
   ]
  }
 ],
 "metadata": {
  "kernelspec": {
   "display_name": "Python 3 (ipykernel)",
   "language": "python",
   "name": "python3"
  }
 },
 "nbformat": 4,
 "nbformat_minor": 5
}
