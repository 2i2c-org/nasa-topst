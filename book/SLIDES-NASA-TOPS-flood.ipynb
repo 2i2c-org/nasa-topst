{
 "cells": [
  {
   "cell_type": "code",
   "execution_count": 1,
   "metadata": {
    "slideshow": {
     "slide_type": "skip"
    }
   },
   "outputs": [],
   "source": [
    "from IPython.display import Markdown\n"
   ]
  },
  {
   "cell_type": "markdown",
   "metadata": {
    "slideshow": {
     "slide_type": "slide"
    }
   },
   "source": [
    "# Analizando el Riesgo de Inundaciones de manera Reproducible con NASA Earthdata Cloud\n",
    "\n",
    "\n"
   ]
  },
  {
   "cell_type": "markdown",
   "metadata": {
    "slideshow": {
     "slide_type": "slide"
    }
   },
   "source": [
    "## Antes de empezar\n",
    "\n",
    "- Aceptaste estas [pautas de convivencia](https://www.metadocencia.org/pdc/).\n",
    "- Si hablas, luego silencia tu micrófono para evitar interrupciones por ruidos de fondo. Puede que lo hagamos por ti.\n",
    "- Para decir algo, pide la palabra o usa el chat.\n",
    "- ¿Podemos grabar el chat? ¿Podemos “sacar fotos”?\n",
    "\n"
   ]
  },
  {
   "cell_type": "markdown",
   "metadata": {
    "slideshow": {
     "slide_type": "slide"
    }
   },
   "source": [
    "## Presentación de los docentes"
   ]
  },
  {
   "cell_type": "markdown",
   "metadata": {
    "slideshow": {
     "slide_type": "slide"
    }
   },
   "source": [
    "## Objetivo\n",
    "\n",
    "Uitilzar los productos abiertos de la NASA llamados Dynamic Surface Water eXtent (DSWx) - Landsat Sentinel-2 armonizado (HLS) para mapear la extensión de la inundación como resultado del evento monzónico de septiembre de 2022 en Pakistán.\n"
   ]
  },
  {
   "cell_type": "markdown",
   "metadata": {
    "slideshow": {
     "slide_type": "slide"
    }
   },
   "source": [
    "## Para poder seguir el taller necesitas contar con:\n",
    "- Una cuenta de usuario gratuita en NASA EarthData: https://urs.earthdata.nasa.gov/ \n",
    "- Una cuenta de usuario gratuita en GitHub: https://github.com/\n",
    "- Una cuenta de usuario en hub 2i2c: https://showcase.2i2c.cloud/hub/login\n"
   ]
  },
  {
   "cell_type": "markdown",
   "metadata": {
    "slideshow": {
     "slide_type": "slide"
    }
   },
   "source": [
    "## Te mostramos el mapa\n",
    "\n",
    "- Opera DSWx-HLS\n",
    "- API CMR-STAC: Búsqueda de datos basada en consultas espaciales\n",
    "- Inundaciones en Pakistán: un ejemplo práctico\n",
    "- Evaluación\n",
    "- Feedback"
   ]
  },
  {
   "cell_type": "markdown",
   "metadata": {
    "slideshow": {
     "slide_type": "slide"
    }
   },
   "source": [
    "## Ejercicio 1\n",
    "\n",
    "### Cuéntanos algo sobre tí\n",
    "\n",
    "- Duración: 3 minutos\n",
    "- Usa el [documento que compartimos]() en el chat, ubicate en la línea XX y cuéntanos:\n",
    "    - Tu nombre\n",
    "    - Desde qué ciudad participas\n"
   ]
  },
  {
   "cell_type": "markdown",
   "metadata": {
    "slideshow": {
     "slide_type": "slide"
    }
   },
   "source": [
    "## Opera DSWx-HLS\n",
    "\n",
    "- Conjunto de datos que rastrea la extensión del agua en la superficie terrestre desde febrero de 2019 hasta septiembre de 2022.\n",
    "- Las imágenes combinan información de dos satélites: Landsat 8 y Sentinel-2A/B.\n",
    "\n"
   ]
  },
  {
   "cell_type": "markdown",
   "metadata": {
    "slideshow": {
     "slide_type": "slide"
    }
   },
   "source": [
    "## Opera DSWx-HLS\n",
    "- Cada imagen condensa 10 capas de información pero nos centraremos en:\n",
    "  - B02_BWTR (Capa binaria de agua): \n",
    "    - En el área en dónde hay agua, la capa vale 1 (blanco) y donde no hay agua, toma valor 0 (negro). \n",
    "  - B03_CONF (Capa de confianza): \n",
    "    - Indica qué tan seguro está el sistema DSWx-HLS de sus predicciones de agua. Valores altos (cerca de 100%) sugieren mayor certeza. En áreas con valores más bajos la confianza disminuye (¿sombras o nubes?)."
   ]
  },
  {
   "cell_type": "markdown",
   "metadata": {
    "slideshow": {
     "slide_type": "slide"
    }
   },
   "source": [
    "## Librerías que vamos a utilizar"
   ]
  },
  {
   "cell_type": "code",
   "execution_count": 3,
   "metadata": {},
   "outputs": [],
   "source": [
    "\n",
    "# library to handle filepath operations\n",
    "from pathlib import Path\n",
    "\n",
    "# library for handling geospatial data\n",
    "import rasterio\n",
    "from rasterio.plot import show\n",
    "\n"
   ]
  },
  {
   "cell_type": "markdown",
   "metadata": {
    "slideshow": {
     "slide_type": "slide"
    }
   },
   "source": [
    "## Librerías que vamos a utilizar"
   ]
  },
  {
   "cell_type": "code",
   "execution_count": 4,
   "metadata": {},
   "outputs": [],
   "source": [
    "\n",
    "\n",
    "# libraries to help with visualization\n",
    "import matplotlib.pyplot as plt\n",
    "from matplotlib.colors import ListedColormap\n",
    "from matplotlib import colors\n",
    "\n",
    "# handle numbers\n",
    "import numpy as np\n",
    "\n",
    "# imports for system calls\n",
    "import os"
   ]
  },
  {
   "cell_type": "markdown",
   "metadata": {
    "slideshow": {
     "slide_type": "slide"
    }
   },
   "source": [
    "## Inicializar parámetros definidos por el usuario\n",
    "\n",
    "- Define la zona de búsqueda.\n",
    "- Establece un periodo de tiempo específico para la búsqueda.\n",
    "- Imprime en la pantalla los detalles de la zona de búsqueda y las fechas elegidas para que puedas verificarlos."
   ]
  },
  {
   "cell_type": "markdown",
   "metadata": {
    "slideshow": {
     "slide_type": "slide"
    }
   },
   "source": [
    "## Tomamos un descanso de 5 min"
   ]
  },
  {
   "cell_type": "code",
   "execution_count": null,
   "metadata": {},
   "outputs": [],
   "source": []
  },
  {
   "cell_type": "code",
   "execution_count": null,
   "metadata": {},
   "outputs": [],
   "source": []
  }
 ],
 "metadata": {
  "kernelspec": {
   "display_name": "Python 3 (ipykernel)",
   "language": "python",
   "name": "python3"
  },
  "language_info": {
   "codemirror_mode": {
    "name": "ipython",
    "version": 3
   },
   "file_extension": ".py",
   "mimetype": "text/x-python",
   "name": "python",
   "nbconvert_exporter": "python",
   "pygments_lexer": "ipython3",
   "version": "3.10.13"
  }
 },
 "nbformat": 4,
 "nbformat_minor": 4
}
