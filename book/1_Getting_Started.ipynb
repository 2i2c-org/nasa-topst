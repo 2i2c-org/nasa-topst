{
 "cells": [
  {
   "cell_type": "markdown",
   "metadata": {},
   "source": [
    "# 1 Getting Started"
   ]
  },
  {
   "cell_type": "markdown",
   "metadata": {},
   "source": [
    "This notebook steps through a simple example to test out Earth Data credentials that the user has setup by following the instructions outlined in [1_Getting_Started](1_Getting_Started.md)"
   ]
  },
  {
   "cell_type": "code",
   "execution_count": 1,
   "metadata": {},
   "outputs": [],
   "source": [
    "# library to handle filepath operations\n",
    "from pathlib import Path\n",
    "\n",
    "# library for handling geospatial data\n",
    "import rasterio\n",
    "from rasterio.plot import show\n",
    "\n",
    "# libraries to help with visualization\n",
    "import matplotlib.pyplot as plt\n",
    "from matplotlib.colors import ListedColormap\n",
    "from matplotlib import colors\n",
    "\n",
    "# handle numbers\n",
    "import numpy as np\n",
    "\n",
    "# imports for system calls\n",
    "import os"
   ]
  },
  {
   "cell_type": "code",
   "execution_count": 2,
   "metadata": {},
   "outputs": [],
   "source": [
    "# # this python command will copy your local .netrc file to the user home directory\n",
    "# # this is where the earthdata library will look for the login credentials\n",
    "_ = os.system(f\"cp .netrc {Path().home()}\")"
   ]
  },
  {
   "cell_type": "code",
   "execution_count": 5,
   "metadata": {},
   "outputs": [
    {
     "name": "stdout",
     "output_type": "stream",
     "text": [
      "C:\\Users\\Jesi\n"
     ]
    }
   ],
   "source": [
    "print(Path().home())"
   ]
  },
  {
   "cell_type": "code",
   "execution_count": 6,
   "metadata": {},
   "outputs": [
    {
     "data": {
      "text/plain": [
       "<rasterio.env.Env at 0x29195835be0>"
      ]
     },
     "execution_count": 6,
     "metadata": {},
     "output_type": "execute_result"
    }
   ],
   "source": [
    "# We set the following rasterio environment variables to read data from the cloud\n",
    "rio_env = rasterio.Env(\n",
    "                  GDAL_DISABLE_READDIR_ON_OPEN='EMPTY_DIR',\n",
    "                  CPL_VSIL_CURL_ALLOWED_EXTENSIONS=\"TIF, TIFF\",\n",
    "                  GDAL_HTTP_COOKIEFILE=Path('~/cookies.txt').expanduser(),\n",
    "                  GDAL_HTTP_COOKIEJAR=Path('~/cookies.txt').expanduser()\n",
    "                  )\n",
    "rio_env.__enter__()"
   ]
  },
  {
   "cell_type": "markdown",
   "metadata": {},
   "source": [
    "To test if we have correctly set up our NASA EarthData credentials in the `.netrc` file, we will be trying to download a sample file from the EarthData portal."
   ]
  },
  {
   "cell_type": "code",
   "execution_count": 8,
   "metadata": {},
   "outputs": [],
   "source": [
    "sample_file_href = \"https://archive.podaac.earthdata.nasa.gov/podaac-ops-cumulus-protected/OPERA_L3_DSWX-HLS_PROVISIONAL_V1/OPERA_L3_DSWx-HLS_T11SQA_20230415T181919Z_20230417T094518Z_S2B_30_v1.0_B02_BWTR.tif\""
   ]
  },
  {
   "cell_type": "code",
   "execution_count": 10,
   "metadata": {},
   "outputs": [
    {
     "name": "stdout",
     "output_type": "stream",
     "text": [
      "Success! Proceed to the next cell and visualize the downloaded data\n"
     ]
    }
   ],
   "source": [
    "try:\n",
    "    with rasterio.open(sample_file_href) as ds:\n",
    "        img = ds.read()\n",
    "        colormap = ds.colormap(1)\n",
    "        transform = ds.transform\n",
    "    print(\"Success! Proceed to the next cell and visualize the downloaded data\")\n",
    "except:\n",
    "    print(\"Something went wrong - check that your credentials file is correctly formatted and run the notebook from the beginning\")"
   ]
  },
  {
   "cell_type": "code",
   "execution_count": 11,
   "metadata": {},
   "outputs": [],
   "source": [
    "cmap = ListedColormap([np.array(colormap[key]) / 255 for key in range(256)])"
   ]
  },
  {
   "cell_type": "code",
   "execution_count": 12,
   "metadata": {},
   "outputs": [
    {
     "data": {
      "image/png": "[encoded data removed]",
      "text/plain": [
       "<Figure size 720x720 with 2 Axes>"
      ]
     },
     "metadata": {
      "needs_background": "light"
     },
     "output_type": "display_data"
    }
   ],
   "source": [
    "fig, ax = plt.subplots(1, 1, figsize=(10, 10))\n",
    "im = show(img, transform=transform, ax=ax, interpolation='none', cmap=cmap, vmin=0, vmax=255)\n",
    "ax.set_title('OPERA DSWx data over Lake Mead, USA',fontsize=14)\n",
    "ax.set_xlabel('UTM easting (meters)',fontsize=7)\n",
    "ax.ticklabel_format(axis='both', style='scientific',scilimits=(0,0),useOffset=False,useMathText=True)\n",
    "ax.tick_params(axis='both', which='major', labelsize=7)\n",
    "ax.yaxis.get_offset_text().set_fontsize(7)\n",
    "ax.xaxis.get_offset_text().set_fontsize(7)\n",
    "\n",
    "bounds =  [0, 1, 2, 3, \n",
    "           251, 252, 253,\n",
    "          ]\n",
    "\n",
    "im = im.get_images()[0]\n",
    "\n",
    "cbar=fig.colorbar(im, \n",
    "                  ax=ax, \n",
    "                  shrink=0.5, \n",
    "                  pad=0.05, \n",
    "                  boundaries=bounds, \n",
    "                  cmap=cmap, \n",
    "                  ticks=[0.5, 1.5, 2.5, 251.5, 252.5])\n",
    "\n",
    "cbar.ax.tick_params(labelsize=8)\n",
    "norm = colors.BoundaryNorm(bounds, cmap.N)\n",
    "cbar.set_ticklabels(['Not Water', \n",
    "                     'Open Water',\n",
    "                     'Partial Surface Water',\n",
    "                     'HLS Snow/Ice',\n",
    "                     'HLS Cloud/Cloud Shadow', \n",
    "                    ],\n",
    "                    fontsize=7)   "
   ]
  }
 ],
 "metadata": {
  "kernelspec": {
   "display_name": "Python 3 (ipykernel)",
   "language": "python",
   "name": "python3"
  },
  "language_info": {
   "codemirror_mode": {
    "name": "ipython",
    "version": 3
   },
   "file_extension": ".py",
   "mimetype": "text/x-python",
   "name": "python",
   "nbconvert_exporter": "python",
   "pygments_lexer": "ipython3",
   "version": "3.9.7"
  }
 },
 "nbformat": 4,
 "nbformat_minor": 4
}
