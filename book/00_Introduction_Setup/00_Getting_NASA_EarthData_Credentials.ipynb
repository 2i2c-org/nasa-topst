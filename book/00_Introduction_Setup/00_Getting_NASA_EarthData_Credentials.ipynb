{
 "cells": [
  {
   "cell_type": "markdown",
   "id": "736c0b0a",
   "metadata": {},
   "source": [
    "# Getting NASA Earthdata Credentials"
   ]
  },
  {
   "cell_type": "markdown",
   "id": "308e8129",
   "metadata": {},
   "source": [
    "This notebook lays out the process to obtain for NASA Earthdata credentials.\n",
    "\n",
    "**You can complete this step before the day of the actual tutorial.**"
   ]
  },
  {
   "cell_type": "markdown",
   "id": "c6a464a1",
   "metadata": {},
   "source": [
    "## Brief Introduction"
   ]
  },
  {
   "cell_type": "markdown",
   "id": "3f76c4d9",
   "metadata": {},
   "source": [
    "The [NASA Earth Science Data Systems (ESDS)](https://www.earthdata.nasa.gov/) program oversees the lifecycle of Earth science data from all its Earth observation missions, from acquisition to processing and distribution.\n",
    "\n",
    "For the purposes of this guide, the NASA Earthdata website is the entry point that allows full, free and open access to NASA's Earth science data collections, in order to accelerate scientific progress for the benefit of society. To access the data through this portal, users must first define their access credentials. To create an EarthData account, follow these steps:\n",
    "\n",
    "+ Go to the Earth Nasa website: [`https://www.earthdata.nasa.gov/`](https://www.earthdata.nasa.gov/). Then, select the menu option \"*Use Data*\" and then \"*Register*\". Finally, navigate to [`https://urs.earthdata.nasa.gov/`](https://urs.earthdata.nasa.gov/).\n",
    "\n",
    "![earthdata_login](../assets/earthdata_login.png) \n",
    "\n",
    "+ Select the \"*Register for a profile*\" option, there choose a username and password. You will need these later, so choose ones that you remember well. You will also need to complete your profile to complete the registration, where you will be asked for information such as email, country, and affiliation. Finally, choose \"*Register for Earthdata Login*\".\n",
    "\n",
    "![earthdata_profile](../assets/earthdata_profile2.png)"
   ]
  }
 ],
 "metadata": {
  "jupytext": {
   "cell_metadata_filter": "-all",
   "main_language": "python",
   "notebook_metadata_filter": "-all"
  }
 },
 "nbformat": 4,
 "nbformat_minor": 5
}
