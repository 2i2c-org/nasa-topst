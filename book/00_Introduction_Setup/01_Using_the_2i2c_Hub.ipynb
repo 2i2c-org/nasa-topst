{
 "cells": [
  {
   "cell_type": "markdown",
   "id": "a6c9dfc5",
   "metadata": {},
   "source": [
    "# Using the 2i2c Hub"
   ]
  },
  {
   "cell_type": "markdown",
   "id": "a8b0f6af",
   "metadata": {},
   "source": [
    "This notebook lays out instructions to log into the cloud infrastructure ([JupyterHub](https://jupyter.org/hub)) provided by [2i2c](https://2i2c.org) for this tutorial.\n",
    "\n",
    "**You won't be able to complete this step until the actual day of the tutorial (you'll get the password then).**"
   ]
  },
  {
   "cell_type": "markdown",
   "id": "865c2920",
   "metadata": {},
   "source": [
    "## 1. Logging into the 2i2c Hub"
   ]
  },
  {
   "cell_type": "markdown",
   "id": "79fc0f4c",
   "metadata": {},
   "source": [
    "To login to the JupyterHub provided by 2i2c, follow these steps:\n",
    "\n",
    "1. **Navigate to the 2i2c Hub:** Point your web browser to [this link](https://climaterisk.opensci.2i2c.cloud).\n",
    "\n",
    "2. **Log in with your Credentials:**\n",
    "\n",
    "  + **Username:** Feel free to choose any username you like.  We suggest using your GitHub username to avoid conflicts.\n",
    "  + **Password:** *You'll receive the password on the day of the tutorial*.\n",
    "\n",
    "![2i2c_login](../assets/2i2c_login.png)\n",
    "\n",
    "3. **Logging In:**\n",
    "\n",
    "The login process might take a few minutes, especially if a new virtual workspace needs to be created just for you. \n",
    "\n",
    "![start_server2](../assets/start_server_2i2c.png)\n",
    "\n",
    "* **What to Expect:**\n",
    "\n",
    "By default,  logging into [`https://climaterisk.opensci.2i2c.cloud`](https://climaterisk.opensci.2i2c.cloud) automatically clones a repository to work in. If the login is successful, you will see the following screen and are ready to start working. \n",
    "\n",
    "![work_environment_jupyter_lab](../assets/work_environment_jupyter_lab.png) \n",
    "\n",
    "**Notes:** Any files you work on will persist between sessions as long as you use the same username when logging in.\n",
    "\n",
    "## 2. Configuring the Cloud Environment to Access NASA EarthData from Python\n",
    "\n",
    "To access NASA's EarthData products from Python programs or Jupyter notebooks, it is necessary to save your NASA EarthData credentials in a special file called `.netrc` in your home directory.\n",
    "\n",
    "+ You can create this file by executing the script `make_netrc.py` in a terminal:\n",
    "  ```bash\n",
    "  $ python make_netrc.py\n",
    "  ```\n",
    "  You can also choose to execute this script within this Jupyter notebook by executing the Python cell below (using the `%run` magic).\n",
    "\n",
    "  Some caveats:\n",
    "  + The script won't execute if `~/.netrc` exists already. You can delete that file or rename it if you want to preserve the credentials within.\n",
    "  + The script prompts for your NASA EarthData username & password, so watch for the prompt if you execute it from a Jupyter notebook."
   ]
  },
  {
   "cell_type": "code",
   "execution_count": null,
   "id": "60a69e17",
   "metadata": {},
   "outputs": [],
   "source": [
    "%run make_netrc.py"
   ]
  },
  {
   "cell_type": "markdown",
   "id": "1b43a2b2",
   "metadata": {},
   "source": [
    "+ Alternatively, you can create a file called `.netrc` in your home folder (i.e., `~/.netrc`) with content as follows:\n",
    "   ```\n",
    "   machine urs.earthdata.nasa.gov login USERNAME password PASSWORD\n",
    "   ```\n",
    "   Of course, you would replace `USERNAME` and `PASSWORD` in your `.netrc` file with your actual NASA EarthData account details. Once the `.netrc` file is saved with your correct credentials, it's good practice to restrict access to the file:\n",
    "   ```bash\n",
    "   $ chmod 600 ~/.netrc\n",
    "   ```"
   ]
  },
  {
   "cell_type": "markdown",
   "id": "51b2ff1d",
   "metadata": {
    "lines_to_next_cell": 0
   },
   "source": [
    "## 3. Verifying Access to NASA EarthData Products"
   ]
  },
  {
   "cell_type": "markdown",
   "id": "48c076c6",
   "metadata": {
    "lines_to_next_cell": 0
   },
   "source": [
    "To make sure everything is working properly, execute the script `test_netrc.py`:\n",
    "```bash\n",
    "$ python test_netrc.py\n",
    "```\n",
    "Again, you can execute this directly from this notebook using the Python cell below:"
   ]
  },
  {
   "cell_type": "code",
   "execution_count": null,
   "id": "3cb90c8d",
   "metadata": {},
   "outputs": [],
   "source": [
    "%run test_netrc.py"
   ]
  },
  {
   "cell_type": "markdown",
   "id": "c662e0b1",
   "metadata": {},
   "source": [
    "If that worked smoothly, you're done! You now have everything you need to explore NASA's Earth observation data through the EarthData portal!"
   ]
  }
 ],
 "metadata": {
  "jupytext": {
   "cell_metadata_filter": "-all",
   "main_language": "bash",
   "notebook_metadata_filter": "-all"
  }
 },
 "nbformat": 4,
 "nbformat_minor": 5
}
