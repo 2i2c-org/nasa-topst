{
 "cells": [
  {
   "cell_type": "markdown",
   "id": "214a6835",
   "metadata": {},
   "source": [
    "# Carga de datos ráster desde archivos GeoTIFF"
   ]
  },
  {
   "cell_type": "markdown",
   "id": "ac1d2e0d",
   "metadata": {
    "jupyter": {
     "source_hidden": false
    }
   },
   "source": [
    "\n",
    "Dado que la mayoría de los datos geoespaciales con los que trabajaremos en este tutorial están almacenados en archivos GeoTIFF, debemos saber cómo trabajar con esos archivos. La solución más sencilla es utilizar [rioxarray](https://corteva.github.io/rioxarray/html/index.html). Esta solución se encarga de muchos detalles complicados de forma transparente. También podemos utilizar [Rasterio](https://rasterio.readthedocs.io/en/stable) como herramienta para leer datos o metadatos de archivos GeoTIFF. Un uso adecuado de Rasterio puede marcar una gran diferencia a la hora de trabajar con archivos remotos en la nube.\n"
   ]
  },
  {
   "cell_type": "markdown",
   "id": "b87adcc6",
   "metadata": {},
   "source": [
    "```{code-cell} python jupyter={\"source_hidden\": false}\n",
    "import numpy as np\n",
    "import rasterio\n",
    "import rioxarray as rio\n",
    "from pathlib import Path\n",
    "\n",
    "FILE_STEM = Path.cwd().parent if 'book' == Path.cwd().parent.stem else 'book'\n",
    "```\n",
    "\n",
    "***\n",
    "\n",
    "## [rioxarray](https://corteva.github.io/rioxarray/html/index.html)"
   ]
  },
  {
   "cell_type": "markdown",
   "id": "9dde3311",
   "metadata": {
    "jupyter": {
     "source_hidden": false
    }
   },
   "source": [
    "\n",
    "`rioxarray` es un paquete que _extiende_ el paquete Xarray (hablaremos al respecto más adelante). Las principales funciones de `rioxarray` que utilizaremos en este tutorial son:\n",
    "\n",
    "- `rioxarray.open_rasterio` para cargar archivos GeoTIFF directamente en estructuras Xarray `DataArray`, y\n",
    "- `xarray.DataArray.rio` para proporcionar usos útiles (por ejemplo, para especificar información CRS).\n",
    "\n",
    "Para acostumbrarnos a trabajar con archivos GeoTIFF, utilizaremos algunos ejemplos específicos en este cuaderno computacional y en otros posteriores. Más adelante explicaremos qué tipo de datos contiene el archivo, por el momento, solo queremos acostumbrarnos a cargar datos.\n"
   ]
  },
  {
   "cell_type": "markdown",
   "id": "130cfd94",
   "metadata": {},
   "source": [
    "### Carga de archivos en un DataArray"
   ]
  },
  {
   "cell_type": "markdown",
   "id": "04f3b268",
   "metadata": {
    "jupyter": {
     "source_hidden": false
    }
   },
   "source": [
    "\n",
    "Observa en primer lugar que `open_rasterio` funciona con direcciones de archivos locales y URL remotas.\n",
    "\n",
    "- Como era de esperarse, el acceso local es más rápido que el remoto.\n"
   ]
  },
  {
   "cell_type": "markdown",
   "id": "6c8c6383",
   "metadata": {},
   "source": [
    "```{code-cell} python jupyter={\"source_hidden\": false}\n",
    "%%time\n",
    "LOCAL_PATH = Path(FILE_STEM, 'assets/OPERA_L3_DIST-ALERT-HLS_T10TEM_20220815T185931Z_20220817T153514Z_S2A_30_v0.1_VEG-ANOM-MAX.tif')\n",
    "data = rio.open_rasterio(LOCAL_PATH)\n",
    "```\n",
    "\n",
    "```{code-cell} python jupyter={\"source_hidden\": false}\n",
    "%%time\n",
    "REMOTE_URL ='https://opera-provisional-products.s3.us-west-2.amazonaws.com/DIST/DIST_HLS/WG/DIST-ALERT/McKinney_Wildfire/OPERA_L3_DIST-ALERT-HLS_T10TEM_20220815T185931Z_20220817T153514Z_S2A_30_v0.1/OPERA_L3_DIST-ALERT-HLS_T10TEM_20220815T185931Z_20220817T153514Z_S2A_30_v0.1_VEG-ANOM-MAX.tif'\n",
    "data_remote = rio.open_rasterio(REMOTE_URL)\n",
    "```"
   ]
  },
  {
   "cell_type": "markdown",
   "id": "3f45e537",
   "metadata": {
    "jupyter": {
     "source_hidden": false
    }
   },
   "source": [
    "\n",
    "La siguiente operación compara elementos de un Xarray `DataArray` elemento a elemento (el uso del método `.all` es similar a lo que haríamos para comparar arrays NumPy). Por lo general, esta no es una forma recomendable de comparar matrices, series, dataframes u otras estructuras de datos grandes que contengan datos de punto flotante. Sin embargo, en este caso concreto, como las dos estructuras de datos se leyeron del mismo archivo almacenado en dos ubicaciones diferentes, la comparación elemento a elemento tiene sentido. Confirma que los datos cargados en la memoria desde dos fuentes distintas son idénticos en cada bit.\n"
   ]
  },
  {
   "cell_type": "markdown",
   "id": "54607c1b",
   "metadata": {},
   "source": [
    "```{code-cell} python jupyter={\"source_hidden\": false}\n",
    "(data_remote == data).all() # Verify that the data is identical from both sources\n",
    "```\n",
    "\n",
    "***\n",
    "\n",
    "## [rasterio](https://rasterio.readthedocs.io/en/stable)"
   ]
  },
  {
   "cell_type": "markdown",
   "id": "1e5a2fc5",
   "metadata": {
    "jupyter": {
     "source_hidden": false
    }
   },
   "source": [
    "\n",
    "Esta sección puede omitirse si `rioxarray` funciona adecuadamente para nuestros análisis, es decir, si la carga de datos en la memoria no es prohibitiva. Cuando _no_ sea el caso, `rasterio` proporciona estrategias alternativas para explorar los archivos GeoTIFF. Es decir, el paquete `rasterio` ofrece formas de bajo nivel para cargar datos que `rioxarray` cuando sea necesario.\n",
    "\n",
    "De la [documentación de Rasterio](https://rasterio.readthedocs.io/en/stable):\n",
    "\n",
    "> Antes de Rasterio había una opción en Python para acceder a los diferentes tipos de archivos de datos ráster utilizados en el campo de los SIG: los enlaces de Python distribuidos con la [Biblioteca de Abstracción de Datos Geoespaciales](http://gdal.org/) (GDAL, por sus siglas en inglés de _Geospatial Data Abstraction Library_). Estos enlaces extienden Python, pero proporcionan poca abstracción para la Interface de programación de aplicaciones C (API C, por sus siglas en inglés de _Application Programming Interface_) de GDAL. Esto significa que los programas Python que los utilizan tienden a leerse y ejecutarse como programas de C. Por ejemplo, los enlaces a Python de GDAL obligan a los usuarios a tener cuidado con los punteros de C incorrectos, que pueden bloquear los programas. Esto es malo: entre otras consideraciones hemos elegido Python en vez de C para evitar problemas con los punteros.\n",
    ">\n",
    "> ¿Cómo sería tener una abstracción de datos geoespaciales en la biblioteca estándar de Python? ¿Una que utilizara características y modismos modernos del lenguaje Python? ¿Una que liberara a los usuarios de la preocupación por los punteros incorrectos y otras trampas de la programación en C? El objetivo de Rasterio es ser este tipo de biblioteca de datos ráster, que exprese el modelo de datos de GDAL utilizando menos clases de extensión no idiomáticas y tipos y protocolos de Python más idiomáticos, a la vez que funciona tan rápido como los enlaces de Python de GDAL.\n",
    ">\n",
    "> Alto rendimiento, menor carga cognitiva, código más limpio y transparente. Eso es Rasterio.\n"
   ]
  },
  {
   "cell_type": "markdown",
   "id": "f8ee3f69",
   "metadata": {},
   "source": [
    "***\n",
    "\n",
    "### Abrir archivos con rasterio.open\n",
    "\n",
    "```{code-cell} python jupyter={\"source_hidden\": false}\n",
    "# Show rasterio.open works using context manager\n",
    "LOCAL_PATH = Path(FILE_STEM, 'assets/OPERA_L3_DIST-ALERT-HLS_T10TEM_20220815T185931Z_20220817T153514Z_S2A_30_v0.1_VEG-ANOM-MAX.tif')\n",
    "print(LOCAL_PATH)\n",
    "```"
   ]
  },
  {
   "cell_type": "markdown",
   "id": "2ef4d6f4",
   "metadata": {
    "jupyter": {
     "source_hidden": false
    }
   },
   "source": [
    "\n",
    "Dada una fuente de datos (por ejemplo, un archivo GeoTIFF en el contexto actual), podemos abrir un objeto `DatasetReader` asociado utilizando `rasterio.open`. Técnicamente, debemos recordar cerrar el objeto después. Es decir, nuestro código quedaría así:\n",
    "\n",
    "```{code-cell} python\n",
    "ds = rasterio.open(LOCAL_PATH)\n",
    "# ..\n",
    "# do some computation\n",
    "# ...\n",
    "ds.close()\n",
    "```\n",
    "\n",
    "Al igual que con el manejo de archivos en Python, podemos utilizar un _administrador de contexto_ (es decir, una cláusula `with`) en su lugar.\n",
    "\n",
    "```python\n",
    "with rasterio.open(LOCAL_PATH) as ds:\n",
    "  # ...\n",
    "  # do some computation\n",
    "  # ...\n",
    "\n",
    "# more code outside the scope of the with block.\n",
    "```\n",
    "\n",
    "El conjunto de datos se cerrará automáticamente fuera del bloque `with`.\n"
   ]
  },
  {
   "cell_type": "markdown",
   "id": "919e5506",
   "metadata": {},
   "source": [
    "```{code-cell} python jupyter={\"source_hidden\": false}\n",
    "with rasterio.open(LOCAL_PATH) as ds:\n",
    "    print(f'{type(ds)=}')\n",
    "    assert not ds.closed\n",
    "\n",
    "# outside the scope of the with block\n",
    "assert ds.closed\n",
    "```"
   ]
  },
  {
   "cell_type": "markdown",
   "id": "7b207ce5",
   "metadata": {
    "jupyter": {
     "source_hidden": false
    }
   },
   "source": [
    "\n",
    "La principal ventaja al utilizar `rasterio.open` en vez de `rioxarray.open_rasterio` para abrir un archivo es que este último método abre el archivo y carga inmediatamente su contenido en un `DataDarray` en la memoria.\n",
    "\n",
    "Por el contrario, al utilizar `rasterio.open` se abre el archivo en su lugar y su contenido _no_ se carga inmediatamente en la memoria. Los datos del archivo _pueden_ leerse, pero esto debe hacerse explícitamente. Esto representa una gran diferencia cuando se trabaja con datos remotos. Transferir todo el contenido a través de una red de datos implica ciertos costos. Por ejemplo, si examinamos los metadatos, que suelen ser mucho más pequeños y pueden transferirse rápidamente, podemos descubrir, por ejemplo, que no está justificado mover todo un _array_ de datos a través de la red.\n"
   ]
  },
  {
   "cell_type": "markdown",
   "id": "f72bacfe",
   "metadata": {},
   "source": [
    "***\n",
    "\n",
    "### Análisis de los atributos DatasetReader"
   ]
  },
  {
   "cell_type": "markdown",
   "id": "967acfb9",
   "metadata": {
    "jupyter": {
     "source_hidden": false
    }
   },
   "source": [
    "\n",
    "Cuando se abre un archivo utilizando `rasterio.open`, el objeto instanciado es de la clase `DatasetReader`. Esta clase tiene una serie de atributos y métodos de interés para nosotros:\n",
    "\n",
    "|           |             |          |\n",
    "| --------- | ----------- | -------- |\n",
    "| `profile` | `height`    | `width`  |\n",
    "| `shape`   | `count`     | `nodata` |\n",
    "| `crs`     | `transform` | `bounds` |\n",
    "| `xy`      | `index`     | `read`   |\n",
    "\n",
    "En primer lugar, dado un `DatasetReader` `ds` asociado a una fuente de datos, el análisis de `ds.profile` devuelve cierta información de diagnóstico.\n"
   ]
  },
  {
   "cell_type": "markdown",
   "id": "733a5a5e",
   "metadata": {},
   "source": [
    "```{code-cell} python jupyter={\"source_hidden\": false}\n",
    "with rasterio.open(LOCAL_PATH) as ds:\n",
    "    print(f'{ds.profile=}')\n",
    "```"
   ]
  },
  {
   "cell_type": "markdown",
   "id": "b5850fab",
   "metadata": {
    "jupyter": {
     "source_hidden": false
    }
   },
   "source": [
    "\n",
    "Los atributos `ds.height`, `ds.width`, `ds.shape`, `ds.count`, `ds.nodata` y `ds.transform` se incluyen en la salida de `ds.profile`, pero también son accesibles individualmente.\n"
   ]
  },
  {
   "cell_type": "markdown",
   "id": "49d11145",
   "metadata": {},
   "source": [
    "```{code-cell} python jupyter={\"source_hidden\": false}\n",
    "with rasterio.open(LOCAL_PATH) as ds:\n",
    "    print(f'{ds.height=}')\n",
    "    print(f'{ds.width=}')\n",
    "    print(f'{ds.shape=}')\n",
    "    print(f'{ds.count=}')\n",
    "    print(f'{ds.nodata=}')\n",
    "    print(f'{ds.crs=}')\n",
    "    print(f'{ds.transform=}')\n",
    "```\n",
    "\n",
    "***\n",
    "\n",
    "### Lectura de datos en la memoria"
   ]
  },
  {
   "cell_type": "markdown",
   "id": "360edd49",
   "metadata": {
    "jupyter": {
     "source_hidden": false
    }
   },
   "source": [
    "\n",
    "El método `ds.read` carga un _array_ del archivo de datos en la memoria. Ten en cuenta que esto se puede hacer en archivos locales o remotos.\n"
   ]
  },
  {
   "cell_type": "markdown",
   "id": "c47f6f7f",
   "metadata": {},
   "source": [
    "```{code-cell} python jupyter={\"source_hidden\": false}\n",
    "%%time\n",
    "with rasterio.open(LOCAL_PATH) as ds:\n",
    "    array = ds.read()\n",
    "    print(f'{array.shape=}')\n",
    "```\n",
    "\n",
    "```{code-cell} python jupyter={\"source_hidden\": false}\n",
    "%%time\n",
    "with rasterio.open(REMOTE_URL) as ds:\n",
    "    array = ds.read()\n",
    "    print(f'{array.shape=}')\n",
    "```\n",
    "\n",
    "```{code-cell} python jupyter={\"source_hidden\": false}\n",
    "print(f'{type(array)=}')\n",
    "```"
   ]
  },
  {
   "cell_type": "markdown",
   "id": "b7d04613",
   "metadata": {
    "jupyter": {
     "source_hidden": false
    }
   },
   "source": [
    "\n",
    "El _array_ cargado en la memoria con `ds.read` es una matriz NumPy. Este puede ser encapsulado por un Xarray `DataArray` si proporcionamos código adicional para especificar las etiquetas de las coordenadas y demás.\n"
   ]
  },
  {
   "cell_type": "markdown",
   "id": "e1b1733a",
   "metadata": {},
   "source": [
    "***\n",
    "\n",
    "### Mapeo de coordenadas"
   ]
  },
  {
   "cell_type": "markdown",
   "id": "a3c3c839",
   "metadata": {
    "jupyter": {
     "source_hidden": false
    }
   },
   "source": [
    "\n",
    "Anteriormente, cargamos los datos de un archivo local en un `DataArray` llamado `da` utilizando `rioxarray.open_rasterio`.\n"
   ]
  },
  {
   "cell_type": "markdown",
   "id": "1c716d8e",
   "metadata": {},
   "source": [
    "```{code-cell} python jupyter={\"source_hidden\": false}\n",
    "da = rio.open_rasterio(LOCAL_PATH)\n",
    "da\n",
    "```"
   ]
  },
  {
   "cell_type": "markdown",
   "id": "93726988",
   "metadata": {
    "jupyter": {
     "source_hidden": false
    }
   },
   "source": [
    "\n",
    "De este modo se simplificó la carga de datos ráster de un archivo GeoTIFF en un Xarray `DataArray` a la vez que cargaban los metadatos automáticamente. En particular, las coordenadas asociadas a los píxeles se almacenaron en `da.coords` (los ejes de coordenadas predeterminados son `band`, `x` y `y` para este _array_ tridimensional).\n",
    "\n",
    "Si ignoramos la dimensión extra de `band`, los píxeles de los datos ráster se asocian con coordenadas de píxel (enteros) y coordenadas espaciales (valores reales, típicamente un punto en el centro de cada píxel).\n",
    "\n",
    "![](http://ioam.github.io/topographica/_images/matrix_coords.png)\n",
    "![](http://ioam.github.io/topographica/_images/sheet_coords_-0.2_0.4.png)\n",
    "(de `http://ioam.github.io/topographica`)\n",
    "\n",
    "Los accesores `da.isel` y `da.sel` nos permiten extraer porciones del _array_ utilizando coordenadas de píxel o coordenadas espaciales, respectivamente.\n"
   ]
  },
  {
   "cell_type": "markdown",
   "id": "5adeec97",
   "metadata": {
    "jupyter": {
     "source_hidden": false
    }
   },
   "source": [
    "\n",
    "Si utilizamos `rasterio.open` para abrir un archivo, el atributo `transform` de `DatasetReader` proporciona los detalles sobre cómo realizar la conversión entre coordenadas de píxel y espaciales. Utilizaremos esta propiedad en algunos de los casos prácticos más adelante.\n"
   ]
  },
  {
   "cell_type": "markdown",
   "id": "816268e6",
   "metadata": {},
   "source": [
    "```{code-cell} python jupyter={\"source_hidden\": false}\n",
    "with rasterio.open(LOCAL_PATH) as ds:\n",
    "    print(f'{ds.transform=}')\n",
    "    print(f'{np.abs(ds.transform[0])=}')\n",
    "    print(f'{np.abs(ds.transform[4])=}')\n",
    "```"
   ]
  },
  {
   "cell_type": "markdown",
   "id": "9e7512b2",
   "metadata": {
    "jupyter": {
     "source_hidden": false
    }
   },
   "source": [
    "\n",
    "El atributo `ds.transform` es un objeto que describe una [_transformación afín_](https://es.wikipedia.org/wiki/Transformaci%C3%B3n_af%C3%ADn) (representada anteriormente como una matriz $2\\times3$). Observa que los valores absolutos de las entradas diagonales de la matriz `ds.transform` dan las dimensiones espaciales de los píxeles ($30\\mathrm{m}\\times30\\mathrm{m}$ en este caso).\n",
    "\n",
    "También podemos utilizar este objeto para convertir las coordenadas de los píxeles en las coordenadas espaciales correspondientes.\n"
   ]
  },
  {
   "cell_type": "markdown",
   "id": "ebe5996f",
   "metadata": {},
   "source": [
    "```{code-cell} python jupyter={\"source_hidden\": false}\n",
    "with rasterio.open(LOCAL_PATH) as ds:\n",
    "    print(f'{ds.transform * (0,0)=}')       # top-left pixel\n",
    "    print(f'{ds.transform * (0,3660)=}')    # bottom-left pixel\n",
    "    print(f'{ds.transform * (3660,0)=}')    # top-right pixel\n",
    "    print(f'{ds.transform * (3660,3660)=}') # bottom-right pixel\n",
    "```"
   ]
  },
  {
   "cell_type": "markdown",
   "id": "14dd621c",
   "metadata": {
    "jupyter": {
     "source_hidden": false
    }
   },
   "source": [
    "\n",
    "El atributo `ds.bounds` muestra los límites de la región espacial (izquierda, abajo, derecha, arriba).\n"
   ]
  },
  {
   "cell_type": "markdown",
   "id": "589358be",
   "metadata": {},
   "source": [
    "```{code-cell} python jupyter={\"source_hidden\": false}\n",
    "with rasterio.open(LOCAL_PATH) as ds:\n",
    "    print(f'coordinate bounds: {ds.bounds=}')\n",
    "```"
   ]
  },
  {
   "cell_type": "markdown",
   "id": "101217c5",
   "metadata": {
    "jupyter": {
     "source_hidden": false
    }
   },
   "source": [
    "\n",
    "El método `ds.xy` también convierte coordenadas de índice entero en coordenadas continuas. Observa que `ds.xy` asigna enteros al centro de los píxeles. Los bucles siguientes imprimen la primera esquina superior izquierda de las coordenadas en coordenadas de píxel y, después, las coordenadas espaciales correspondientes.\n"
   ]
  },
  {
   "cell_type": "markdown",
   "id": "3d52b7cc",
   "metadata": {},
   "source": [
    "```{code-cell} python jupyter={\"source_hidden\": false}\n",
    "with rasterio.open(LOCAL_PATH) as ds:\n",
    "    for k in range(3):\n",
    "        for l in range(4):\n",
    "            print(f'({k:2d},{l:2d})','\\t', end='')\n",
    "        print()\n",
    "    print()\n",
    "    for k in range(3):\n",
    "        for l in range(4):\n",
    "            e,n = ds.xy(k,l)\n",
    "            print(f'({e},{n})','\\t', end='')\n",
    "        print()\n",
    "    print()\n",
    "```"
   ]
  },
  {
   "cell_type": "markdown",
   "id": "e2e32fec",
   "metadata": {
    "jupyter": {
     "source_hidden": false
    }
   },
   "source": [
    "\n",
    "`ds.index` hace lo contrario: dadas las coordenadas espaciales `(x,y)`, devuelve los índices enteros del píxel que contiene ese punto.\n"
   ]
  },
  {
   "cell_type": "markdown",
   "id": "b102326e",
   "metadata": {},
   "source": [
    "```{code-cell} python jupyter={\"source_hidden\": false}\n",
    "with rasterio.open(LOCAL_PATH) as ds:\n",
    "    print(ds.index(500000, 4700015))\n",
    "```"
   ]
  },
  {
   "cell_type": "markdown",
   "id": "e6bdc722",
   "metadata": {
    "jupyter": {
     "source_hidden": false
    }
   },
   "source": [
    "\n",
    "Estas conversiones pueden ser complicadas, sobre todo porque las coordenadas de píxel corresponden a los centros de los píxeles y también porque la segunda coordenada espacial `y` _disminuye_ a medida que la segunda coordenada de píxel _aumenta_. Hacer un seguimiento de detalles tediosos como este es en parte la razón por la que resulta útil cargar desde `rioxarray`, es decir, que nosotros lo hagamos. Pero vale la pena saber que podemos reconstruir este mapeo si es necesario a partir de los metadatos en el archivo GeoTIFF (utilizaremos este hecho más adelante).\n"
   ]
  },
  {
   "cell_type": "markdown",
   "id": "d40bdafc",
   "metadata": {},
   "source": [
    "```{code-cell} python jupyter={\"source_hidden\": false}\n",
    "with rasterio.open(LOCAL_PATH) as ds:\n",
    "    print(ds.bounds)\n",
    "    print(ds.transform * (0.5,0.5)) # Maps to centre of top left pixel\n",
    "    print(ds.xy(0,0))               # Same as above\n",
    "    print(ds.transform * (0,0))     # Maps to top left corner of top left pixel\n",
    "    print(ds.xy(-0.5,-0.5))         # Same as above\n",
    "    print(ds.transform[0], ds.transform[4])\n",
    "```\n",
    "\n",
    "***"
   ]
  }
 ],
 "metadata": {
  "kernelspec": {
   "display_name": "Python 3 (ipykernel)",
   "language": "python",
   "name": "python3"
  }
 },
 "nbformat": 4,
 "nbformat_minor": 5
}
