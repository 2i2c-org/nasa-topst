{
 "cells": [
  {
   "cell_type": "markdown",
   "id": "2f212e59",
   "metadata": {},
   "source": [
    "# Construyendo visualizaciones avanzadas"
   ]
  },
  {
   "cell_type": "markdown",
   "id": "9a18408c",
   "metadata": {
    "jupyter": {
     "source_hidden": false
    }
   },
   "source": [
    "\n",
    "Vamos a aplicar algunas de las herramientas que hemos visto hasta ahora para obtener algunas visualizaciones más sofisticadas. Estas incluirán el uso de datos vectoriales de un `GeoDataFrame` de _GeoPandas_, se construirán gráficos estáticos y dinámicos a partir de un arreglo 3D y se combinarán datos vectoriales y datos ráster.\n",
    "\n",
    "Como contexto, los archivos que examinaremos se basan en [el incendio McKinney que ocurrió en el 2022](https://en.wikipedia.org/wiki/McKinney_Fire), en el Bosque Nacional Klamath (al oeste del condado de Siskiyou, California). Los datos vectoriales representan una instantánea del límite de un incendio forestal. Los datos ráster corresponden a la alteración que se observó en la superficie de la vegetación (esto se explicará con mayor detalle más adelante).\n"
   ]
  },
  {
   "cell_type": "markdown",
   "id": "5963d34f",
   "metadata": {},
   "source": [
    "## Importación preliminar y direcciones de los archivos"
   ]
  },
  {
   "cell_type": "markdown",
   "id": "30bc2d82",
   "metadata": {
    "jupyter": {
     "source_hidden": false
    }
   },
   "source": [
    "\n",
    "Para empezar, se necesitan algunas importaciones típicas de paquetes. También definiremos algunas direcciones a archivos locales que contienen datos geoespaciales relevantes.\n"
   ]
  },
  {
   "cell_type": "markdown",
   "id": "baf8305c",
   "metadata": {},
   "source": [
    "```{code-cell} python jupyter={\"source_hidden\": false}\n",
    "from warnings import filterwarnings\n",
    "filterwarnings('ignore')\n",
    "from pathlib import Path\n",
    "import numpy as np, pandas as pd, xarray as xr\n",
    "import geopandas as gpd\n",
    "import rioxarray as rio\n",
    "```\n",
    "\n",
    "```{code-cell} python jupyter={\"source_hidden\": false}\n",
    "# Imports for plotting\n",
    "import hvplot.pandas, hvplot.xarray\n",
    "import geoviews as gv\n",
    "from geoviews import opts\n",
    "gv.extension('bokeh')\n",
    "```\n",
    "\n",
    "```{code-cell} python jupyter={\"source_hidden\": false}\n",
    "FILE_STEM = Path.cwd().parent if 'book' == Path.cwd().parent.stem else 'book'\n",
    "ASSET_PATH = Path(FILE_STEM, 'assets')\n",
    "SHAPE_FILE = ASSET_PATH / 'shapefiles' / 'mckinney' / 'McKinney_NIFC.shp'\n",
    "RASTER_FILES = list(ASSET_PATH.glob('OPERA*VEG*.tif'))\n",
    "RASTER_FILE = RASTER_FILES[0]\n",
    "```\n",
    "\n",
    "***\n",
    "\n",
    "## Graficar datos vectoriales desde un `GeoDataFrame`"
   ]
  },
  {
   "cell_type": "markdown",
   "id": "f9533495",
   "metadata": {
    "jupyter": {
     "source_hidden": false
    }
   },
   "source": [
    "\n",
    "<center><img src=\"https://geopandas.org/en/latest/_images/geopandas_logo.png\" width=360px></center>\n",
    "\n",
    "El paquete [GeoPandas](https://geopandas.org/en/stable/index.html) contiene muchas herramientas útiles para trabajar con datos geoespaciales vectoriales. En particular, el [`GeoDataFrame` de GeoPandas](https://geopandas.org/en/stable/docs/reference/api/geopandas.GeoDataFrame.html) es una subclase del `DataFrame` de Pandas que está específicamente diseñado, por ejemplo, para datos vectoriales almacenados en _shapefiles_.\n",
    "\n",
    "Como ejemplo, vamos a cargar algunos datos vectoriales desde la ruta local `SHAPEFILE` (tal como se definió anteriormente).\n"
   ]
  },
  {
   "cell_type": "markdown",
   "id": "be941b80",
   "metadata": {},
   "source": [
    "```{code-cell} python jupyter={\"source_hidden\": false}\n",
    "shape_df = gpd.read_file(SHAPE_FILE)\n",
    "shape_df\n",
    "```"
   ]
  },
  {
   "cell_type": "markdown",
   "id": "a89c3362",
   "metadata": {
    "jupyter": {
     "source_hidden": false
    }
   },
   "source": [
    "\n",
    "El objeto `shape_df` es un [`GeoDataFrame`](https://geopandas.org/en/stable/docs/reference/api/geopandas.GeoDataFrame.html) que tiene más de dos docenas de columnas de metadatos en una sola fila. La columna principal que nos interesa es la de `geometry`. Esta columna almacena las coordenadas de los vértices de un `MULTIPOLYGON`, es decir, un conjunto de polígonos.\n"
   ]
  },
  {
   "cell_type": "markdown",
   "id": "7f49734a",
   "metadata": {},
   "source": [
    "```{code-cell} python jupyter={\"source_hidden\": false}\n",
    "shape_df.geometry \n",
    "```"
   ]
  },
  {
   "cell_type": "markdown",
   "id": "48a9605d",
   "metadata": {
    "jupyter": {
     "source_hidden": false
    }
   },
   "source": [
    "\n",
    "Los vértices de los polígonos parecen expresarse como pares de `(longitude, latitude)`. Podemos determinar qué sistema de coordenadas específico se utiliza examinando el atributo `crs` del `GeoDataFrame`.\n"
   ]
  },
  {
   "cell_type": "markdown",
   "id": "104c35a6",
   "metadata": {},
   "source": [
    "```{code-cell} python jupyter={\"source_hidden\": false}\n",
    "print(shape_df.crs)\n",
    "```"
   ]
  },
  {
   "cell_type": "markdown",
   "id": "24f656dc",
   "metadata": {
    "jupyter": {
     "source_hidden": false
    }
   },
   "source": [
    "\n",
    "Utilicemos `hvplot` para generar un gráfico de este conjunto de datos vectoriales.\n"
   ]
  },
  {
   "cell_type": "markdown",
   "id": "1ab8a2b5",
   "metadata": {},
   "source": [
    "```{code-cell} python jupyter={\"source_hidden\": false}\n",
    "shape_df.hvplot()\n",
    "```"
   ]
  },
  {
   "cell_type": "markdown",
   "id": "bfcf2acd",
   "metadata": {
    "jupyter": {
     "source_hidden": false
    }
   },
   "source": [
    "\n",
    "La proyección en este gráfico es un poco extraña. La documentación de HoloViz incluye una [discusión sobre las consideraciones cuando se visualizan datos geográficos](https://hvplot.holoviz.org/user_guide/Geographic_Data.html). El punto importante a recordar en este contexto es que la opción `geo=True` es útil.\n",
    "\n",
    "Vamos a crear dos diccionarios de Python, `shapeplot_opts` y `layout_opts`, y construiremos una visualización.\n"
   ]
  },
  {
   "cell_type": "markdown",
   "id": "0f9c3eeb",
   "metadata": {},
   "source": [
    "```{code-cell} python jupyter={\"source_hidden\": false}\n",
    "shapeplot_opts= dict(geo=True)\n",
    "layout_opts = dict(xlabel='Longitude', ylabel=\"Latitude\")\n",
    "print(f\"{shapeplot_opts=}\")\n",
    "print(f\"{layout_opts=}\")\n",
    "\n",
    "shape_df.hvplot(**shapeplot_opts).opts(**layout_opts)\n",
    "```"
   ]
  },
  {
   "cell_type": "markdown",
   "id": "d4af86b0",
   "metadata": {
    "jupyter": {
     "source_hidden": false
    }
   },
   "source": [
    "\n",
    "La documentación de HoloViz incluye una [discusión sobre las consideraciones cuando se grafican datos geográficos](https://hvplot.holoviz.org/user_guide/Geographic_Data.html). El punto importante que se debe recordar en el contexto  inmediato es que la opción `geo=True` es útil.\n",
    "\n",
    "- Definir `color=None` significa que los polígonos no se rellenarán.\n",
    "- Al especificar `line_width` y `line_color` se modifica la apariencia de los límites de los polígonos.\n"
   ]
  },
  {
   "cell_type": "markdown",
   "id": "305106b0",
   "metadata": {},
   "source": [
    "```{code-cell} python jupyter={\"source_hidden\": false}\n",
    "shapeplot_opts.update( color=None ,\n",
    "                       line_width=2,\n",
    "                       line_color='red')\n",
    "print(shapeplot_opts)\n",
    "\n",
    "shape_df.hvplot(**shapeplot_opts).opts(**layout_opts)\n",
    "```"
   ]
  },
  {
   "cell_type": "markdown",
   "id": "dbd298ff",
   "metadata": {
    "jupyter": {
     "source_hidden": false
    }
   },
   "source": [
    "\n",
    "Rellenemos los polígonos con color naranja utilizando la opción `color=orange` y hagamos que el área rellenada sea parcialmente transparente especificando un valor para `alpha` entre cero y uno.\n"
   ]
  },
  {
   "cell_type": "markdown",
   "id": "5aa40398",
   "metadata": {},
   "source": [
    "```{code-cell} python jupyter={\"source_hidden\": false}\n",
    "shapeplot_opts.update(color='orange', alpha=0.25)\n",
    "print(shapeplot_opts)\n",
    "\n",
    "shape_df.hvplot(**shapeplot_opts).opts(**layout_opts)\n",
    "```\n",
    "\n",
    "### Agregado de un mapa base"
   ]
  },
  {
   "cell_type": "markdown",
   "id": "0b2739f1",
   "metadata": {
    "jupyter": {
     "source_hidden": false
    }
   },
   "source": [
    "\n",
    "A continuación, proporcionemos un mapa base y superpongamos los polígonos trazados utilizando el operador `*`. Observa el uso de paréntesis para aplicar el método `opts` a la salida del operador `*`.\n"
   ]
  },
  {
   "cell_type": "markdown",
   "id": "a41039c2",
   "metadata": {},
   "source": [
    "```{code-cell} python jupyter={\"source_hidden\": false}\n",
    "basemap = gv.tile_sources.ESRI(height=500, width=500, padding=0.1)\n",
    "\n",
    "(shape_df.hvplot(**shapeplot_opts) * basemap).opts(**layout_opts)\n",
    "```"
   ]
  },
  {
   "cell_type": "markdown",
   "id": "660b210f",
   "metadata": {
    "jupyter": {
     "source_hidden": false
    }
   },
   "source": [
    "\n",
    "El mapa base no necesita ser superpuesto como un objeto separado, puede especificarse utilizando la palabra clave `tiles`. Por ejemplo, al establecer `tiles='OSM'` se utilizan los mosaicos de [OpenStreetMap](ttps://www.openstreetmap.org). Observa que las dimensiones de la imagen renderizada probablemente no sean las mismas que las de la imagen anterior con los mosaicos [ESRI](https://www.esri.com), ya que antes especificamos explícitamente la altura de 500, con la opción `height=500`, y el ancho de 500, con la opción `width=500`, en la definición del `basemap`.\n"
   ]
  },
  {
   "cell_type": "markdown",
   "id": "ef9fcc27",
   "metadata": {},
   "source": [
    "```{code-cell} python jupyter={\"source_hidden\": false}\n",
    "shapeplot_opts.update(tiles='OSM')\n",
    "shape_df.hvplot(**shapeplot_opts).opts(**layout_opts)\n",
    "```"
   ]
  },
  {
   "cell_type": "markdown",
   "id": "3ddd3f67",
   "metadata": {
    "jupyter": {
     "source_hidden": false
    }
   },
   "source": [
    "\n",
    "Vamos a eliminar la opción `tiles` de `shapeplot_opts` y a vincular el objeto del gráfico resultante al identificador `shapeplot`.\n"
   ]
  },
  {
   "cell_type": "markdown",
   "id": "c9ca137e",
   "metadata": {},
   "source": [
    "```{code-cell} python jupyter={\"source_hidden\": false}\n",
    "del shapeplot_opts['tiles']\n",
    "print(shapeplot_opts)\n",
    "\n",
    "shapeplot = shape_df.hvplot(**shapeplot_opts)\n",
    "shapeplot\n",
    "```\n",
    "\n",
    "### Combinación de datos vectoriales con datos ráster en un gráfico estático"
   ]
  },
  {
   "cell_type": "markdown",
   "id": "2f118b2d",
   "metadata": {
    "jupyter": {
     "source_hidden": false
    }
   },
   "source": [
    "\n",
    "Combinemos estos datos vectoriales con algunos datos ráster. Cargaremos los datos raster desde un archivo local utilizando la función `rioxarray.open_rasterio`. Por practicidad, usaremos el encadenamiento de métodos para reetiquetar las coordenadas del `DataArray` cargado y usaremos el método `squeeze` para convertir el arreglo tridimensional que se cargó en uno bidimensional.\n"
   ]
  },
  {
   "cell_type": "markdown",
   "id": "94b945ee",
   "metadata": {},
   "source": [
    "```{code-cell} python jupyter={\"source_hidden\": false}\n",
    "raster = (\n",
    "          rio.open_rasterio(RASTER_FILE)\n",
    "            .rename(dict(x='longitude', y='latitude'))\n",
    "            .squeeze()\n",
    "         )\n",
    "raster\n",
    "```"
   ]
  },
  {
   "cell_type": "markdown",
   "id": "eab22098",
   "metadata": {
    "jupyter": {
     "source_hidden": false
    }
   },
   "source": [
    "\n",
    "Utilizaremos un diccionario de Python `image_opts` para almacenar argumentos útiles y pasarlos a `hvplot.image`.\n"
   ]
  },
  {
   "cell_type": "markdown",
   "id": "8f60ee2c",
   "metadata": {},
   "source": [
    "```{code-cell} python jupyter={\"source_hidden\": false}\n",
    "image_opts = dict(\n",
    "                    x='longitude',\n",
    "                    y='latitude',                   \n",
    "                    rasterize=True, \n",
    "                    dynamic=True,\n",
    "                    cmap='hot_r', \n",
    "                    clim=(0, 100), \n",
    "                    alpha=0.8,\n",
    "                    project=True,\n",
    "                 )\n",
    "\n",
    "raster.hvplot.image(**image_opts)\n",
    "```"
   ]
  },
  {
   "cell_type": "markdown",
   "id": "56ffdd50",
   "metadata": {
    "jupyter": {
     "source_hidden": false
    }
   },
   "source": [
    "\n",
    "Podemos superponer `shapeplot` con los datos ráster graficados utilizando el operador `*`. Podemos utilizar las herramientas `Pan`, `Wheel Zoom` y `Box Zoom` en la barra de herramientas de Bokeh a la derecha del gráfico para hacer _zoom_ y comprobar que los datos vectoriales fueron trazados encima de los datos ráster.\n"
   ]
  },
  {
   "cell_type": "markdown",
   "id": "94c4d1ff",
   "metadata": {},
   "source": [
    "```{code-cell} python jupyter={\"source_hidden\": false}\n",
    "raster.hvplot.image(**image_opts) * shapeplot\n",
    "```"
   ]
  },
  {
   "cell_type": "markdown",
   "id": "da3883ab",
   "metadata": {
    "jupyter": {
     "source_hidden": false
    }
   },
   "source": [
    "\n",
    "Además, podemos superponer los datos vectoriales y ráster en mosaicos ESRI utilizando `basemap`.\n"
   ]
  },
  {
   "cell_type": "markdown",
   "id": "bf0c8db8",
   "metadata": {},
   "source": [
    "```{code-cell} python jupyter={\"source_hidden\": false}\n",
    "raster.hvplot.image(**image_opts) * shapeplot * basemap\n",
    "```"
   ]
  },
  {
   "cell_type": "markdown",
   "id": "0d52f484",
   "metadata": {
    "jupyter": {
     "source_hidden": false
    }
   },
   "source": [
    "\n",
    "Observa que muchos de los píxeles blancos oscurecen el gráfico. Resulta que estos píxeles corresponden a ceros en los datos ráster, los cuales pueden ser ignorados sin problema. Podemos filtrarlos utilizando el método `where`.\n"
   ]
  },
  {
   "cell_type": "markdown",
   "id": "2830cc7e",
   "metadata": {},
   "source": [
    "```{code-cell} python jupyter={\"source_hidden\": false}\n",
    "raster = raster.where((raster!=0))\n",
    "layout_opts.update(title=\"McKinney 2022 Wildfires\")\n",
    "\n",
    "(raster.hvplot.image(**image_opts) * shapeplot * basemap).opts(**layout_opts)\n",
    "```\n",
    "\n",
    "***\n",
    "\n",
    "## Construcción de gráficos estáticos a partir de un arreglo 3D"
   ]
  },
  {
   "cell_type": "markdown",
   "id": "a80f7d0c",
   "metadata": {
    "jupyter": {
     "source_hidden": false
    }
   },
   "source": [
    "\n",
    "Vamos a cargar una secuencia de archivos ráster en un arreglo tridimensional y generaremos algunos gráficos. Para empezar, construiremos un bucle para leer `DataArrays` de los archivos `RASTER_FILES` y utilizaremos `xarray.concat` para generar un único arreglo de rásters tridimensional (es decir, tres rásters de $3,600\\times3,600$ apilados verticalmente).  Aprenderemos las interpretaciones específicas asociadas con el conjunto de datos ráster en un cuaderno computacional posterior. Por el momento, los trataremos como datos sin procesar con los que experimentaremos.\n"
   ]
  },
  {
   "cell_type": "markdown",
   "id": "8cd20221",
   "metadata": {},
   "source": [
    "```{code-cell} python jupyter={\"source_hidden\": false}\n",
    "stack = []\n",
    "for path in RASTER_FILES:\n",
    "    data = rio.open_rasterio(path).rename(dict(x='longitude', y='latitude'))\n",
    "    band_name = path.stem.split('_')[-1]\n",
    "    data.coords.update({'band': [band_name]})\n",
    "    data.attrs = dict(description=f\"OPERA DIST product\", units=None)\n",
    "    stack.append(data)\n",
    "\n",
    "stack = xr.concat(stack, dim='band')\n",
    "stack = stack.where(stack!=0)\n",
    "```"
   ]
  },
  {
   "cell_type": "markdown",
   "id": "65082005",
   "metadata": {
    "jupyter": {
     "source_hidden": false
    }
   },
   "source": [
    "\n",
    "Renombramos los ejes `longitude` y `latitude` y filtramos los píxeles con valor cero para simplificar la visualización posterior.\n"
   ]
  },
  {
   "cell_type": "markdown",
   "id": "86629d74",
   "metadata": {},
   "source": [
    "```{code-cell} python jupyter={\"source_hidden\": false}\n",
    "stack\n",
    "```"
   ]
  },
  {
   "cell_type": "markdown",
   "id": "6dcf9393",
   "metadata": {
    "jupyter": {
     "source_hidden": false
    }
   },
   "source": [
    "\n",
    "Una vez que el `stack` de `DataArray` esté construido, podemos enfocarnos en la visualización.\n",
    "\n",
    "Si queremos generar un gráfico estático con varias imágenes, podemos utilizar `hvplot.image` junto con el método `.layout`. Para ver cómo funciona, empecemos por redefinir los diccionarios `image_opts` y `layout_opts`.\n"
   ]
  },
  {
   "cell_type": "markdown",
   "id": "f43e090e",
   "metadata": {},
   "source": [
    "```{code-cell} python jupyter={\"source_hidden\": false}\n",
    "image_opts = dict(  x='longitude', \n",
    "                    y='latitude',\n",
    "                    rasterize=True, \n",
    "                    dynamic=True,\n",
    "                    cmap='hot_r',\n",
    "                    crs=stack.rio.crs,\n",
    "                    alpha=0.8,\n",
    "                    project=True, \n",
    "                    aspect='equal',\n",
    "                    shared_axes=False,\n",
    "                    colorbar=True,\n",
    "                    tiles='ESRI',\n",
    "                    padding=0.1)\n",
    "layout_opts = dict(xlabel='Longitude', ylabel=\"Latitude\")\n",
    "```"
   ]
  },
  {
   "cell_type": "markdown",
   "id": "ccbb6f57",
   "metadata": {
    "jupyter": {
     "source_hidden": false
    }
   },
   "source": [
    "\n",
    "Para acelerar el renderizado, construiremos inicialmente un objeto `view` que seleccione subconjuntos de píxeles. Definimos inicialmente el parámetro `steps=200` para restringir la vista a cada 200 píxeles en cualquier dirección. Si reducimos los `steps`, se tarda más en renderizar. Establecer `steps=1` o `steps=None` equivale a seleccionar todos los píxeles.\n"
   ]
  },
  {
   "cell_type": "markdown",
   "id": "e5c6c1e5",
   "metadata": {},
   "source": [
    "```{code-cell} python jupyter={\"source_hidden\": false}\n",
    "steps = 200\n",
    "subset = slice(0, None, steps)\n",
    "layout_opts.update(frame_width=250, frame_height=250)\n",
    "\n",
    "\n",
    "view = stack.isel(latitude=subset, longitude=subset)\n",
    "view.hvplot.image(**image_opts).opts(**layout_opts).layout()\n",
    "```"
   ]
  },
  {
   "cell_type": "markdown",
   "id": "d84c7899",
   "metadata": {
    "jupyter": {
     "source_hidden": false
    }
   },
   "source": [
    "\n",
    "El método `layout` traza de manera predeterminada cada uno de los tres rásteres seleccionados a lo largo del eje `band` horizontalmente.\n"
   ]
  },
  {
   "cell_type": "markdown",
   "id": "f7359d4f",
   "metadata": {},
   "source": [
    "***\n",
    "\n",
    "## Construcción de una vista dinámica a partir de un arreglo 3D"
   ]
  },
  {
   "cell_type": "markdown",
   "id": "651bcf00",
   "metadata": {
    "jupyter": {
     "source_hidden": false
    }
   },
   "source": [
    "\n",
    "Otra forma de visualizar un arreglo tridimensional es asociar un _widget_ de selección a uno de los ejes. Si llamamos a `hvplot.image` sin agregar el método `.layout` el resultado es un _mapa dinámico_. En este caso, el _widget_ de selección nos permite elegir cortes a lo largo del eje `band`.\n",
    "\n",
    "Una vez más, aumentar el valor del parámetro `steps` reduce el tiempo de renderizado. Reducirlo a `1` o a `None` renderiza a resolución completa.\n"
   ]
  },
  {
   "cell_type": "markdown",
   "id": "eabe1455",
   "metadata": {},
   "source": [
    "```{code-cell} python jupyter={\"source_hidden\": false}\n",
    "steps = 200\n",
    "subset = slice(0, None, steps)\n",
    "layout_opts.update(frame_height=400, frame_width=400)\n",
    "\n",
    "view = stack.isel(latitude=subset, longitude=subset)\n",
    "view.hvplot.image(**image_opts).opts(**layout_opts)\n",
    "```"
   ]
  },
  {
   "cell_type": "markdown",
   "id": "9c446578",
   "metadata": {
    "jupyter": {
     "source_hidden": false
    }
   },
   "source": [
    "\n",
    "Más adelante apilaremos muchos rásters con distintas marcas temporales a lo largo de un eje `time`. Cuando haya muchos cortes, el _widget_ de selección se renderizará como un deslizador en vez de como un menú desplegable. Podemos controlar la ubicación del _widget_ utilizando una opción de palabra clave `widget_location`.\n"
   ]
  },
  {
   "cell_type": "markdown",
   "id": "2d36b775",
   "metadata": {},
   "source": [
    "```{code-cell} python jupyter={\"source_hidden\": false}\n",
    "view.hvplot.image(widget_location='bottom_left', **image_opts, **layout_opts)\n",
    "```"
   ]
  },
  {
   "cell_type": "markdown",
   "id": "77f6ba8d",
   "metadata": {
    "jupyter": {
     "source_hidden": false
    }
   },
   "source": [
    "\n",
    "Observa que agregar la opción `widget_location` modifica ligeramente la secuencia en la que se especifican las opciones. Es decir, si invocamos algo como\n",
    "\n",
    "```python\n",
    "view.hvplot.image(widget_location='top_left', **image_opts).opts(**layout_opts)\n",
    "```\n",
    "\n",
    "se genera una excepción (de ahí la invocación en la celda de código anterior). Hay algunas dificultades sutiles en la elaboración de la secuencia correcta para aplicar opciones al personalizar objetos HoloViz/Hvplot (principalmente debido a las formas en que los espacios de los nombres se superponen con Bokeh u otros _backends_ de renderizado). La mejor estrategia es empezar con el menor número de opciones posible y experimentar añadiendo opciones de forma incremental hasta que obtengamos la visualización final que deseamos.\n"
   ]
  },
  {
   "cell_type": "markdown",
   "id": "bf457484",
   "metadata": {},
   "source": [
    "***\n",
    "\n",
    "### Combinación de datos vectoriales con datos ráster en una vista dinámica."
   ]
  },
  {
   "cell_type": "markdown",
   "id": "66c99775",
   "metadata": {
    "jupyter": {
     "source_hidden": false
    }
   },
   "source": [
    "\n",
    "Por último, vamos a superponer nuestros datos vectoriales anteriores, los límites del incendio forestal, con la vista dinámica de este arreglo tridimensional de rásteres. Podemos utilizar el operador `*` para combinar la salida de `hvplot.image` con `shapeplot`, la vista renderizada de los datos vectoriales.\n"
   ]
  },
  {
   "cell_type": "markdown",
   "id": "ed3874c8",
   "metadata": {},
   "source": [
    "```{code-cell} python jupyter={\"source_hidden\": false}\n",
    "steps = 200\n",
    "subset = slice(0, None, steps)\n",
    "view = stack.isel(latitude=subset, longitude=subset)\n",
    "\n",
    "image_opts.update(colorbar=False)\n",
    "layout_opts.update(frame_height=500, frame_width=500)\n",
    "(view.hvplot.image(**image_opts) * shapeplot).opts(**layout_opts)\n",
    "```"
   ]
  },
  {
   "cell_type": "markdown",
   "id": "f902cb93",
   "metadata": {
    "jupyter": {
     "source_hidden": false
    }
   },
   "source": [
    "\n",
    "Una vez más, la correcta especificación de las opciones puede requerir un poco de experimentación. Las ideas importantes que se deben tomar en cuenta aquí son:\n",
    "\n",
    "- cómo cargar conjuntos de datos relevantes con `geopandas` and `rioxarray`, y\n",
    "- cómo utilizar `hvplot` de forma interactiva e incremental para generar visualizaciones atractivas.\n"
   ]
  },
  {
   "cell_type": "markdown",
   "id": "9da19791",
   "metadata": {},
   "source": [
    "***"
   ]
  }
 ],
 "metadata": {
  "kernelspec": {
   "display_name": "Python 3 (ipykernel)",
   "language": "python",
   "name": "python3"
  }
 },
 "nbformat": 4,
 "nbformat_minor": 5
}
