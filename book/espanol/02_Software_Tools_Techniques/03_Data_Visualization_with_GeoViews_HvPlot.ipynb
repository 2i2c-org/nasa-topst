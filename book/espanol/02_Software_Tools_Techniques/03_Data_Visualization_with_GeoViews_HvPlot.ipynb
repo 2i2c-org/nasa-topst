{
 "cells": [
  {
   "cell_type": "markdown",
   "id": "ce0fcac3",
   "metadata": {},
   "source": [
    "# Visualización de datos con GeoViews y HvPlot"
   ]
  },
  {
   "cell_type": "markdown",
   "id": "2a2046f7",
   "metadata": {
    "jupyter": {
     "source_hidden": false
    }
   },
   "source": [
    "\n",
    "Las principales herramientas que utilizaremos para la visualización de datos provienen de la familia [Holoviz](https://holoviz.org/) de librerías Python, principalmente [GeoViews](https://geoviews.org/) y [hvPlot](https://hvplot.holoviz.org/). Estas están construidas en gran parte sobre [HoloViews](https://holoviews.org/) y soportan múltiples _backends_ para la representación de gráficos ([Bokeh](http://bokeh.pydata.org/) para visualización interactiva y [Matplotlib](http://matplotlib.org/) para gráficos estáticos con calidad de publicación.\n"
   ]
  },
  {
   "cell_type": "markdown",
   "id": "e53a59c9",
   "metadata": {},
   "source": [
    "***\n",
    "\n",
    "## [GeoViews](https://geoviews.org/)"
   ]
  },
  {
   "cell_type": "markdown",
   "id": "10007774",
   "metadata": {
    "jupyter": {
     "source_hidden": false
    }
   },
   "source": [
    "\n",
    "<center><img src=\"https://geoviews.org/_static/logo_horizontal.png\"></center>\n",
    "\n",
    "De la [documentación de GeoViews](https://geoviews.org/index.html):\n",
    "\n",
    "> GeoViews es una librería de [Python](http://python.org/) que facilita la exploración y visualización de conjuntos de datos geográficos, meteorológicos y oceanográficos, como los que se utilizan en la investigación meteorológica, climática y de teledetección.\n",
    ">\n",
    "> GeoViews se basa en la biblioteca [HoloViews](http://holoviews.org/) y permite crear visualizaciones flexibles de datos multidimensionales. GeoViews agrega una familia de tipos de gráficos geográficos basados en la librería [Cartopy](http://scitools.org.uk/cartopy), trazados con los paquetes [Matplotlib](http://matplotlib.org/) o [Bokeh](http://bokeh.pydata.org/). Con GeoViews, puedes trabajar de forma fácil y natural con grandes conjuntos de datos geográficos multidimensionales, visualizando al instante cualquier subconjunto o combinación de ellos. Al mismo tiempo, podrás acceder siempre a los datos crudos subyacentes a cualquier gráfico.\n"
   ]
  },
  {
   "cell_type": "markdown",
   "id": "d5115d1b",
   "metadata": {},
   "source": [
    "```{code-cell} python jupyter={\"source_hidden\": false}\n",
    "import warnings\n",
    "warnings.filterwarnings('ignore')\n",
    "from pathlib import Path\n",
    "from pprint import pprint\n",
    "\n",
    "import geoviews as gv\n",
    "gv.extension('bokeh')\n",
    "from geoviews import opts\n",
    "\n",
    "FILE_STEM = Path.cwd().parent if 'book' == Path.cwd().parent.stem else 'book'\n",
    "```\n",
    "\n",
    "***\n",
    "\n",
    "### Visualización de un mapa base"
   ]
  },
  {
   "cell_type": "markdown",
   "id": "6512de0b",
   "metadata": {
    "jupyter": {
     "source_hidden": false
    }
   },
   "source": [
    "\n",
    "Un _mapa base_ o _capa de mosaico_ es útil cuando se muestran datos vectoriales o ráster porque nos permite superponer los datos geoespaciales relevantes sobre un mapa geográfico conocido como fondo. La principal funcionalidad que utilizaremos es `gv.tile_sources`. Podemos utilizar el método `opts` para especificar parámetros de configuración adicionales. A continuación, utilizaremos el servicio de mapas web _Open Street Map (OSM)_ (en español, Mapas de Calles Abiertos) para crear el objeto `basemap`. Cuando mostramos la representación de este objeto en la celda del cuaderno computacional, el menú de Bokeh que está a la derecha permite la exploración interactiva.\n"
   ]
  },
  {
   "cell_type": "markdown",
   "id": "943ee34d",
   "metadata": {},
   "source": [
    "```{code-cell} python jupyter={\"source_hidden\": false}\n",
    "basemap = gv.tile_sources.OSM.opts(width=600, height=400)\n",
    "basemap # When displayed, this basemap can be zoomed & panned using the menu at the right\n",
    "```\n",
    "\n",
    "***\n",
    "\n",
    "### Gráficos de puntos"
   ]
  },
  {
   "cell_type": "markdown",
   "id": "ac4ef881",
   "metadata": {
    "jupyter": {
     "source_hidden": false
    }
   },
   "source": [
    "\n",
    "Para empezar, vamos a definir una tupla regular en Python para las coordenadas de longitud y latitud de Tokio, Japón.\n"
   ]
  },
  {
   "cell_type": "markdown",
   "id": "931efb94",
   "metadata": {},
   "source": [
    "```{code-cell} python jupyter={\"source_hidden\": false}\n",
    "tokyo_lonlat = (139.692222, 35.689722)\n",
    "print(tokyo_lonlat)\n",
    "```"
   ]
  },
  {
   "cell_type": "markdown",
   "id": "016fc728",
   "metadata": {
    "jupyter": {
     "source_hidden": false
    }
   },
   "source": [
    "\n",
    "La clase `geoviews.Points` acepta una lista de tuplas (cada una de la forma `(x, y)`) y construye un objeto `Points` que puede ser visualizado. Podemos superponer el punto creado en los mosaicos OpenStreetMap de `basemap` utilizando el operador `*` en Holoviews. También podemos utilizar `geoviews.opts` para establecer varias preferencias de visualización para estos puntos.\n"
   ]
  },
  {
   "cell_type": "markdown",
   "id": "1cd746da",
   "metadata": {},
   "source": [
    "```{code-cell} python jupyter={\"source_hidden\": false}\n",
    "tokyo_point   = gv.Points([tokyo_lonlat])\n",
    "point_opts = opts.Points(\n",
    "                          size=48,\n",
    "                          alpha=0.5,\n",
    "                          color='red'\n",
    "                        )\n",
    "print(type(tokyo_point))\n",
    "```\n",
    "\n",
    "```{code-cell} python jupyter={\"source_hidden\": false}\n",
    "# Use Holoviews * operator to overlay plot on basemap\n",
    "# Note: zoom out to see basemap (starts zoomed \"all the way in\")\n",
    "(basemap * tokyo_point).opts(point_opts)\n",
    "```\n",
    "\n",
    "```{code-cell} python jupyter={\"source_hidden\": false}\n",
    "# to avoid starting zoomed all the way in, this zooms \"all the way out\"\n",
    "(basemap * tokyo_point).opts(point_opts, opts.Overlay(global_extent=True))\n",
    "```\n",
    "\n",
    "***\n",
    "\n",
    "### Gráficos de rectángulos"
   ]
  },
  {
   "cell_type": "markdown",
   "id": "bd07cf09",
   "metadata": {
    "jupyter": {
     "source_hidden": false
    }
   },
   "source": [
    "\n",
    "- Forma estándar de representar un rectángulo (también llamado caja delimitadora) con vértices $$(x_{\\mathrm{min}},y_{\\mathrm{min}}), (x_{\\mathrm{min}},y_{\\mathrm{max}}), (x_{\\mathrm{max}},y_{\\mathrm{min}}), (x_{\\mathrm{max}},y_{\\mathrm{max}})$$\n",
    "  (suponiendo que $x_{\\mathrm{max}}>x_{\\mathrm{min}}$ & $y_{\\mathrm{max}}>y_{\\mathrm{min}}$) es como única cuadrupla\n",
    "  $$(x_{\\mathrm{min}},y_{\\mathrm{min}},x_{\\mathrm{max}},y_{\\mathrm{max}}),$$\n",
    "  es decir, las coordenadas de la esquina inferior izquierda seguidas de las coordenadas de la esquina superior derecha.\n",
    "\n",
    "  Vamos a crear una función sencilla para generar un rectángulo de un ancho y altura dados, según la coordenada central.\n"
   ]
  },
  {
   "cell_type": "markdown",
   "id": "2931b6b8",
   "metadata": {},
   "source": [
    "```{code-cell} python jupyter={\"source_hidden\": false}\n",
    "# simple utility to make a rectangle centered at pt of width dx & height dy\n",
    "def make_bbox(pt,dx,dy):\n",
    "    '''Returns bounding box represented as tuple (x_lo, y_lo, x_hi, y_hi)\n",
    "    given inputs pt=(x, y), width & height dx & dy respectively,\n",
    "    where x_lo = x-dx/2, x_hi=x+dx/2, y_lo = y-dy/2, y_hi = y+dy/2.\n",
    "    '''\n",
    "    return tuple(coord+sgn*delta for sgn in (-1,+1) for coord,delta in zip(pt, (dx/2,dy/2)))\n",
    "```"
   ]
  },
  {
   "cell_type": "markdown",
   "id": "766454bb",
   "metadata": {
    "jupyter": {
     "source_hidden": false
    }
   },
   "source": [
    "\n",
    "Podemos probar la función anterior utilizando las coordenadas de longitud y latitud de Marruecos.\n"
   ]
  },
  {
   "cell_type": "markdown",
   "id": "606478b9",
   "metadata": {},
   "source": [
    "```{code-cell} python jupyter={\"source_hidden\": false}\n",
    "# Verify that the function bounds works as intended\n",
    "marrakesh_lonlat = (-7.93, 31.67)\n",
    "dlon, dlat = 0.5, 0.25\n",
    "marrakesh_bbox = make_bbox(marrakesh_lonlat, dlon, dlat)\n",
    "print(marrakesh_bbox)\n",
    "```"
   ]
  },
  {
   "cell_type": "markdown",
   "id": "78935e9f",
   "metadata": {
    "jupyter": {
     "source_hidden": false
    }
   },
   "source": [
    "\n",
    "La función `geoviews.Rectangles` acepta una lista de cajas delimitadoras (cada uno descrito por una tupla de la forma `(x_min, y_min, x_max, y_max)`) para el trazado. También podemos utilizar `geoviews.opts` para adaptar el rectángulo a nuestras necesidades.\n"
   ]
  },
  {
   "cell_type": "markdown",
   "id": "463ff84a",
   "metadata": {},
   "source": [
    "```{code-cell} python jupyter={\"source_hidden\": false}\n",
    "rectangle = gv.Rectangles([marrakesh_bbox])\n",
    "rect_opts = opts.Rectangles(\n",
    "                                line_width=0,\n",
    "                                alpha=0.1,\n",
    "                                color='red'\n",
    "                            )\n",
    "```"
   ]
  },
  {
   "cell_type": "markdown",
   "id": "9c38af63",
   "metadata": {
    "jupyter": {
     "source_hidden": false
    }
   },
   "source": [
    "\n",
    "Podemos graficar un punto para Marruecos al igual que antes utilizando `geoviews.Points` (personalizado utilizando `geoviews.opts`).\n"
   ]
  },
  {
   "cell_type": "markdown",
   "id": "ddde95c8",
   "metadata": {},
   "source": [
    "```{code-cell} python jupyter={\"source_hidden\": false}\n",
    "marrakesh_point   = gv.Points([marrakesh_lonlat])\n",
    "point_opts = opts.Points(\n",
    "                          size=48,\n",
    "                          alpha=0.25,\n",
    "                          color='blue'\n",
    "                        )\n",
    "```"
   ]
  },
  {
   "cell_type": "markdown",
   "id": "40198871",
   "metadata": {
    "jupyter": {
     "source_hidden": false
    }
   },
   "source": [
    "\n",
    "Por último, podemos superponer todas estas características en el mapa base con las opciones aplicadas.\n"
   ]
  },
  {
   "cell_type": "markdown",
   "id": "7b187ed2",
   "metadata": {},
   "source": [
    "```{code-cell} python jupyter={\"source_hidden\": false}\n",
    "(basemap * rectangle * marrakesh_point).opts( rect_opts, point_opts )\n",
    "```"
   ]
  },
  {
   "cell_type": "markdown",
   "id": "eee4ff8b",
   "metadata": {
    "jupyter": {
     "source_hidden": false
    }
   },
   "source": [
    "\n",
    "Utilizaremos el método anterior para visualizar _(AOIs)_ al construir consultas de búsqueda para los productos EarthData de la NASA. En particular, la convención de representar una caja delimitadora por ordenadas (izquierda, inferior, derecha, superior) también se utiliza en la API [PySTAC](https://pystac.readthedocs.io/en/stable/).\n"
   ]
  },
  {
   "cell_type": "markdown",
   "id": "a61d5500",
   "metadata": {},
   "source": [
    "***\n",
    "\n",
    "## [hvPlot](https://hvplot.holoviz.org/)"
   ]
  },
  {
   "cell_type": "markdown",
   "id": "d3f0299f",
   "metadata": {
    "jupyter": {
     "source_hidden": false
    }
   },
   "source": [
    "\n",
    "<center><img src=\"https://hvplot.holoviz.org/_images/diagram.svg\"></center>\n",
    "\n",
    "- [hvPlot](https://hvplot.holoviz.org/) está diseñado para extender la API `.plot` de `DataFrames` de Pandas.\n",
    "- Funciona para `DataFrames` de Pandas y `DataArrays`/`Datasets` de Xarray.\n"
   ]
  },
  {
   "cell_type": "markdown",
   "id": "0a8f87b0",
   "metadata": {},
   "source": [
    "***\n",
    "\n",
    "### Graficar desde un DataFrame con hvplot.pandas"
   ]
  },
  {
   "cell_type": "markdown",
   "id": "b957428e",
   "metadata": {
    "jupyter": {
     "source_hidden": false
    }
   },
   "source": [
    "\n",
    "El código siguiente carga un `DataFrame` de Pandas con datos de temperatura.\n"
   ]
  },
  {
   "cell_type": "markdown",
   "id": "b5186705",
   "metadata": {},
   "source": [
    "```{code-cell} python jupyter={\"source_hidden\": false}\n",
    "import pandas as pd, numpy as np\n",
    "from pathlib import Path\n",
    "LOCAL_PATH = Path(FILE_STEM, 'assets/temperature.csv')\n",
    "```\n",
    "\n",
    "```{code-cell} python jupyter={\"source_hidden\": false}\n",
    "df = pd.read_csv(LOCAL_PATH, index_col=0, parse_dates=[0])\n",
    "df.head()\n",
    "```\n",
    "\n",
    "***\n",
    "\n",
    "#### Revisando la API de `DataFrame.plot` de Pandas"
   ]
  },
  {
   "cell_type": "markdown",
   "id": "254b80d9",
   "metadata": {
    "jupyter": {
     "source_hidden": false
    }
   },
   "source": [
    "\n",
    "Vamos a extraer un subconjunto de columnas de este `DataFrame` y generar un gráfico.\n"
   ]
  },
  {
   "cell_type": "markdown",
   "id": "7bdcbad1",
   "metadata": {},
   "source": [
    "```{code-cell} python jupyter={\"source_hidden\": false}\n",
    "west_coast = df[['Vancouver', 'Portland', 'San Francisco', 'Seattle', 'Los Angeles']]\n",
    "west_coast.head()\n",
    "```"
   ]
  },
  {
   "cell_type": "markdown",
   "id": "1270701e",
   "metadata": {
    "jupyter": {
     "source_hidden": false
    }
   },
   "source": [
    "\n",
    "La API de `.plot` de `DataFrame` de Pandas proporciona acceso a varios métodos de visualización. Aquí usaremos `.plot.line`, pero hay otras opciones disponibles (por ejemplo, `.plot.area`, `.plot.bar`, `.plot.nb`, `.plot.scatter`, etc.). Esta API se ha repetido en varias librerías debido a su conveniencia.\n"
   ]
  },
  {
   "cell_type": "markdown",
   "id": "e102be36",
   "metadata": {},
   "source": [
    "```{code-cell} python jupyter={\"source_hidden\": false}\n",
    "west_coast.plot.line(); # This produces a static Matplotlib plot\n",
    "```\n",
    "\n",
    "***\n",
    "\n",
    "#### Usando la API de hvPlot `DataFrame.hvplot`"
   ]
  },
  {
   "cell_type": "markdown",
   "id": "91eac85b",
   "metadata": {
    "jupyter": {
     "source_hidden": false
    }
   },
   "source": [
    "\n",
    "Importando `hvplot.pandas`, se puede generar un gráfico interactivo similar. La API para `.hvplot` imita esto para `.plot`. Por ejemplo, podemos generar la gráfica de línea anterior usando `.hvplot.line`. En este caso, el _backend_ para los gráficos por defecto es Bokeh, así que el gráfico es _interactivo_.\n"
   ]
  },
  {
   "cell_type": "markdown",
   "id": "c33c48d8",
   "metadata": {},
   "source": [
    "```{code-cell} python jupyter={\"source_hidden\": false}\n",
    "import hvplot.pandas\n",
    "west_coast.hvplot.line() # This produces an interactive Bokeh plot\n",
    "```"
   ]
  },
  {
   "cell_type": "markdown",
   "id": "9bcdcb05",
   "metadata": {
    "jupyter": {
     "source_hidden": false
    }
   },
   "source": [
    "\n",
    "La API `.plot`  de DataFrame de Pandas proporciona acceso a una serie de métodos de graficación.\n"
   ]
  },
  {
   "cell_type": "markdown",
   "id": "1a294971",
   "metadata": {},
   "source": [
    "```{code-cell} python jupyter={\"source_hidden\": false}\n",
    "west_coast.hvplot.line(width=600, height=300, grid=True)\n",
    "```"
   ]
  },
  {
   "cell_type": "markdown",
   "id": "113cf29e",
   "metadata": {
    "jupyter": {
     "source_hidden": false
    }
   },
   "source": [
    "\n",
    "La API `hvplot` también funciona cuando está enlazada junto con otras llamadas del método `DataFrame`. Por ejemplo, podemos muestrear los datos de temperatura y calcular la media para suavizarlos.\n"
   ]
  },
  {
   "cell_type": "markdown",
   "id": "d3221dbb",
   "metadata": {},
   "source": [
    "```{code-cell} python jupyter={\"source_hidden\": false}\n",
    "smoothed = west_coast.resample('2d').mean()\n",
    "smoothed.hvplot.line(width=600, height=300, grid=True)\n",
    "```\n",
    "\n",
    "***\n",
    "\n",
    "### Graficar desde un `DataArray` con `hvplot.xarray`"
   ]
  },
  {
   "cell_type": "markdown",
   "id": "b5e486a6",
   "metadata": {
    "jupyter": {
     "source_hidden": false
    }
   },
   "source": [
    "\n",
    "La API `.plot` de Pandas también se extendió a Xarray, es decir, para `DataArray`. de Xarray\n"
   ]
  },
  {
   "cell_type": "markdown",
   "id": "824c674e",
   "metadata": {},
   "source": [
    "```{code-cell} python jupyter={\"source_hidden\": false}\n",
    "import xarray as xr\n",
    "import hvplot.xarray\n",
    "import rioxarray as rio\n",
    "```"
   ]
  },
  {
   "cell_type": "markdown",
   "id": "054af6b3",
   "metadata": {
    "jupyter": {
     "source_hidden": false
    }
   },
   "source": [
    "\n",
    "Para empezar, carga un archivo GeoTIFF local usando `rioxarray` en una estructura Zarray de `DataArray`.\n"
   ]
  },
  {
   "cell_type": "markdown",
   "id": "2e6352b2",
   "metadata": {},
   "source": [
    "```{code-cell} python jupyter={\"source_hidden\": false}\n",
    "LOCAL_PATH = Path(FILE_STEM, 'assets/OPERA_L3_DIST-ALERT-HLS_T10TEM_20220815T185931Z_20220817T153514Z_S2A_30_v0.1_VEG-ANOM-MAX.tif')\n",
    "```\n",
    "\n",
    "```{code-cell} python jupyter={\"source_hidden\": false}\n",
    "data = rio.open_rasterio(LOCAL_PATH)\n",
    "data\n",
    "```"
   ]
  },
  {
   "cell_type": "markdown",
   "id": "6d456c9c",
   "metadata": {
    "jupyter": {
     "source_hidden": false
    }
   },
   "source": [
    "\n",
    "Hacemos algunos cambios menores al `DataArray`.\n"
   ]
  },
  {
   "cell_type": "markdown",
   "id": "96fb7cf4",
   "metadata": {},
   "source": [
    "```{code-cell} python jupyter={\"source_hidden\": false}\n",
    "data = data.squeeze() # to reduce 3D array with singleton dimension to 2D array\n",
    "data = data.rename({'x':'easting', 'y':'northing'})\n",
    "data\n",
    "```\n",
    "\n",
    "***\n",
    "\n",
    "#### Revisando la API `DataFrame.plot` de Pandas"
   ]
  },
  {
   "cell_type": "markdown",
   "id": "ffc00cc7",
   "metadata": {
    "jupyter": {
     "source_hidden": false
    }
   },
   "source": [
    "\n",
    "La API `DataArray.plot` por defecto usa el `pcolormesh` de Matplotlib para mostrar un arreglo de 2D almacenado dentro de un `DataArray`. La renderización de esta imagen moderadamente de alta resolución lleva un poco de tiempo.\n"
   ]
  },
  {
   "cell_type": "markdown",
   "id": "a38d2b5b",
   "metadata": {},
   "source": [
    "```{code-cell} python jupyter={\"source_hidden\": false}\n",
    "data.plot(); # by default, uses pcolormesh\n",
    "```\n",
    "\n",
    "***\n",
    "\n",
    "#### Usando la API de hvPlot `DataFrame.hvplot`"
   ]
  },
  {
   "cell_type": "markdown",
   "id": "12da9d8b",
   "metadata": {
    "jupyter": {
     "source_hidden": false
    }
   },
   "source": [
    "\n",
    "De nuevo, la API `DataArray.hvplot` imita la API `DataArray.plot`; de forma predeterminada, utiliza una subclase derivada de `holoviews.element.raster.Image`.\n"
   ]
  },
  {
   "cell_type": "markdown",
   "id": "1ac921d3",
   "metadata": {},
   "source": [
    "```{code-cell} python jupyter={\"source_hidden\": false}\n",
    "plot = data.hvplot() # by default uses Image class\n",
    "print(f'{type(plot)=}')\n",
    "plot\n",
    "```"
   ]
  },
  {
   "cell_type": "markdown",
   "id": "6cd6c0f1",
   "metadata": {
    "jupyter": {
     "source_hidden": false
    }
   },
   "source": [
    "\n",
    "El resultado anterior es una visualización interactiva, procesada usando Bokeh. Esto es un poco lento, pero podemos añadir algunas opciones para acelerar la renderización. También se requiere una manipulación de la misma; por ejemplo, la imagen no es cuadrada, el mapa de colores no resalta características útiles, los ejes son transpuestos, etc.\n"
   ]
  },
  {
   "cell_type": "markdown",
   "id": "2f4decb4",
   "metadata": {},
   "source": [
    "***\n",
    "\n",
    "#### Creando opciones para mejorar los gráficos de manera incremental"
   ]
  },
  {
   "cell_type": "markdown",
   "id": "a38aad4f",
   "metadata": {
    "jupyter": {
     "source_hidden": false
    }
   },
   "source": [
    "\n",
    "Añadamos opciones para mejorar la imagen. Para hacer esto, iniciaremos un diccionario de Python `image_opts` para usar dentro de la llamada al método `image`. Creando opciones para mejorar los gráficos de manera incremental.\n"
   ]
  },
  {
   "cell_type": "markdown",
   "id": "37a4cc23",
   "metadata": {},
   "source": [
    "```{code-cell} python jupyter={\"source_hidden\": false}\n",
    "image_opts = dict(rasterize=True, dynamic=True)\n",
    "pprint(image_opts)\n",
    "```"
   ]
  },
  {
   "cell_type": "markdown",
   "id": "3d037d50",
   "metadata": {
    "jupyter": {
     "source_hidden": false
    }
   },
   "source": [
    "\n",
    "Para empezar, hagamos la llamada explícita a `hvplot.image` y especifiquemos la secuencia de ejes. Y apliquemos las opciones del diccionario `image_opts`. Utilizaremos la operación `dict-unpacking` `**image_opts` cada vez que invoquemos a `data.hvplot.image`.\n"
   ]
  },
  {
   "cell_type": "markdown",
   "id": "a912b229",
   "metadata": {},
   "source": [
    "```{code-cell} python jupyter={\"source_hidden\": false}\n",
    "plot = data.hvplot.image(x='easting', y='northing', **image_opts)\n",
    "plot\n",
    "```"
   ]
  },
  {
   "cell_type": "markdown",
   "id": "eb65adf2",
   "metadata": {
    "jupyter": {
     "source_hidden": false
    }
   },
   "source": [
    "\n",
    "A continuación, vamos a corregir  el ratio y las dimensiones de la imagen.\n"
   ]
  },
  {
   "cell_type": "markdown",
   "id": "c233fb83",
   "metadata": {},
   "source": [
    "```{code-cell} python jupyter={\"source_hidden\": false}\n",
    "image_opts.update(frame_width=500, frame_height=500, aspect='equal')\n",
    "pprint(image_opts)\n",
    "plot = data.hvplot.image(x='easting', y='northing', **image_opts)\n",
    "plot\n",
    "```"
   ]
  },
  {
   "cell_type": "markdown",
   "id": "f6b5ffb5",
   "metadata": {
    "jupyter": {
     "source_hidden": false
    }
   },
   "source": [
    "\n",
    "A continuación, vamos a corregir  el ratio y las dimensiones de la imagen.\n"
   ]
  },
  {
   "cell_type": "markdown",
   "id": "011c9566",
   "metadata": {},
   "source": [
    "```{code-cell} python jupyter={\"source_hidden\": false}\n",
    "image_opts.update( cmap='hot_r', clim=(0,100), alpha=0.8 )\n",
    "pprint(image_opts)\n",
    "plot = data.hvplot.image(x='easting', y='northing', **image_opts)\n",
    "plot\n",
    "```"
   ]
  },
  {
   "cell_type": "markdown",
   "id": "b09b6c9f",
   "metadata": {
    "jupyter": {
     "source_hidden": false
    }
   },
   "source": [
    "\n",
    "Antes de añadir un mapa de base, tenemos que tener en cuenta el sistema de coordenadas. Esto se almacena en el archivo GeoTIFF y, cuando se lee usando `rioxarray.open_rasterio`, se disponibilizada mediante el atributo `data.rio.crs`.\n"
   ]
  },
  {
   "cell_type": "markdown",
   "id": "c3d1932d",
   "metadata": {},
   "source": [
    "```{code-cell} python jupyter={\"source_hidden\": false}\n",
    "crs = data.rio.crs\n",
    "crs\n",
    "```"
   ]
  },
  {
   "cell_type": "markdown",
   "id": "7998665c",
   "metadata": {
    "jupyter": {
     "source_hidden": false
    }
   },
   "source": [
    "\n",
    "Podemos usar el CRS recuperado arriba como un argumento opcional para `hvplot.image`. Ten en cuenta que las coordenadas han cambiado en los ejes, pero las etiquetas no son las correctas. Podemos arreglarlo.\n"
   ]
  },
  {
   "cell_type": "markdown",
   "id": "77f13fb9",
   "metadata": {},
   "source": [
    "```{code-cell} python jupyter={\"source_hidden\": false}\n",
    "image_opts.update(crs=crs)\n",
    "pprint(image_opts)\n",
    "plot = data.hvplot.image(x='easting', y='northing', **image_opts)\n",
    "plot\n",
    "```"
   ]
  },
  {
   "cell_type": "markdown",
   "id": "968ae4aa",
   "metadata": {
    "jupyter": {
     "source_hidden": false
    }
   },
   "source": [
    "\n",
    "Ahora vamos a corregir las etiquetas. Utilizaremos el sistema Holoviews/GeoViews `opts` para especificar estas opciones.\n"
   ]
  },
  {
   "cell_type": "markdown",
   "id": "2a587650",
   "metadata": {},
   "source": [
    "```{code-cell} python jupyter={\"source_hidden\": false}\n",
    "label_opts = dict(title='VEG_ANOM_MAX', xlabel='Longitude (degrees)', ylabel='Latitude (degrees)')\n",
    "pprint(image_opts)\n",
    "pprint(label_opts)\n",
    "plot = data.hvplot.image(x='easting', y='northing', **image_opts).opts(**label_opts)\n",
    "plot\n",
    "```"
   ]
  },
  {
   "cell_type": "markdown",
   "id": "a6356246",
   "metadata": {
    "jupyter": {
     "source_hidden": false
    }
   },
   "source": [
    "\n",
    "Vamos a superponer la imagen en un mapa base para que podamos ver el terreno debajo.\n"
   ]
  },
  {
   "cell_type": "markdown",
   "id": "9f9face9",
   "metadata": {},
   "source": [
    "```{code-cell} python jupyter={\"source_hidden\": false}\n",
    "base = gv.tile_sources.ESRI\n",
    "base * plot\n",
    "```"
   ]
  },
  {
   "cell_type": "markdown",
   "id": "6f94017e",
   "metadata": {
    "jupyter": {
     "source_hidden": false
    }
   },
   "source": [
    "\n",
    "Finalmente, como los píxeles blancos distraen vamos a filtrarlos utilizando el método `DataArray` `where`.\n"
   ]
  },
  {
   "cell_type": "markdown",
   "id": "18a6f130",
   "metadata": {},
   "source": [
    "```{code-cell} python jupyter={\"source_hidden\": false}\n",
    "plot = data.where(data>0).hvplot.image(x='easting', y='northing', **image_opts).opts(**label_opts)\n",
    "plot * base\n",
    "```"
   ]
  },
  {
   "cell_type": "markdown",
   "id": "18198301",
   "metadata": {
    "jupyter": {
     "source_hidden": false
    }
   },
   "source": [
    "\n",
    "En este cuaderno computacional aplicamos algunas estrategias comunes para generar gráficos. Los usaremos extensamente en el resto del tutorial.\n"
   ]
  },
  {
   "cell_type": "markdown",
   "id": "291eee22",
   "metadata": {},
   "source": [
    "***"
   ]
  }
 ],
 "metadata": {
  "kernelspec": {
   "display_name": "Python 3 (ipykernel)",
   "language": "python",
   "name": "python3"
  }
 },
 "nbformat": 4,
 "nbformat_minor": 5
}
