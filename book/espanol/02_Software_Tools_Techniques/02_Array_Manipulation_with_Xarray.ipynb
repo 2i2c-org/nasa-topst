{
 "cells": [
  {
   "cell_type": "markdown",
   "id": "3ef434f7",
   "metadata": {},
   "source": [
    "# Manipulación de arreglos con [Xarray](https://docs.xarray.dev/en/stable/index.html)"
   ]
  },
  {
   "cell_type": "markdown",
   "id": "1681d6b1",
   "metadata": {
    "jupyter": {
     "source_hidden": false
    }
   },
   "source": [
    "\n",
    "Hay numerosas formas de trabajar con datos geoespaciales, así que elegir una herramienta puede ser difícil. La principal librería que utilizaremos es [_Xarray_](https://docs.xarray.dev/en/stable/index.html) por sus estructuras de datos `DataArray` y `Dataset`, y sus utilidades asociadas, así como [NumPy](https://numpy.org) y [Pandas](https://pandas.pydata.org) para manipular arreglos numéricos homogéneos y datos tabulares, respectivamente.\n"
   ]
  },
  {
   "cell_type": "markdown",
   "id": "0d94476f",
   "metadata": {},
   "source": [
    "```{code-cell} python jupyter={\"source_hidden\": false}\n",
    "from warnings import filterwarnings\n",
    "filterwarnings('ignore')\n",
    "from pathlib import Path\n",
    "import numpy as np, pandas as pd, xarray as xr\n",
    "import rioxarray as rio\n",
    "\n",
    "FILE_STEM = Path.cwd().parent if 'book' == Path.cwd().parent.stem else 'book'\n",
    "```\n",
    "\n",
    "***"
   ]
  },
  {
   "cell_type": "markdown",
   "id": "46a5ba85",
   "metadata": {
    "jupyter": {
     "source_hidden": false
    }
   },
   "source": [
    "\n",
    "<center><img src=\"https://docs.xarray.dev/en/stable/_static/Xarray_Logo_RGB_Final.svg\" width=360px></center>\n",
    "\n",
    "La principal estructura de datos de Xarray es [`DataArray`](https://docs.xarray.dev/en/stable/user-guide/data-structures.html), que ofrece soporte para arreglos multidimensionales etiquetados. El [Projecto Pythia](https://foundations.projectpythia.org/core/xarray.html) proporciona una amplia introducción a este paquete. Nos enfocaremos principalmente en las partes específicas del API Xarray que utilizaremos para nuestros análisis geoespaciales particulares.\n",
    "\n",
    "Vamos a cargar una estructura de datos `xarray.DataArray` de ejemplo desde un archivo cuya ubicación viene determinada por `LOCAL_PATH`.\n"
   ]
  },
  {
   "cell_type": "markdown",
   "id": "dea9127e",
   "metadata": {},
   "source": [
    "```{code-cell} python jupyter={\"source_hidden\": false}\n",
    "LOCAL_PATH = Path(FILE_STEM, 'assets/OPERA_L3_DIST-ALERT-HLS_T10TEM_20220815T185931Z_20220817T153514Z_S2A_30_v0.1_VEG-ANOM-MAX.tif')\n",
    "data = rio.open_rasterio(LOCAL_PATH)\n",
    "```\n",
    "\n",
    "***\n",
    "\n",
    "## Análisis de la `repr` enriquecida de `DataArray`"
   ]
  },
  {
   "cell_type": "markdown",
   "id": "7735f0ee",
   "metadata": {
    "jupyter": {
     "source_hidden": false
    }
   },
   "source": [
    "\n",
    "Cuando se utiliza un cuaderno computacional de Jupyter, los datos Xarray `DataArray` `data` se pueden analizar de forma interactiva.\n",
    "\n",
    "- La celda de salida contiene un cuaderno computacional Jupyter `repr` enriquecido para la clase `DataArray`.\n",
    "- Los triángulos situados junto a los encabezados \"Coordinates\", \"Indexes\" y \"Attributes\" pueden pulsarse con el mouse para mostrar una vista ampliada.\n"
   ]
  },
  {
   "cell_type": "markdown",
   "id": "1c12e617",
   "metadata": {},
   "source": [
    "```{code-cell} python jupyter={\"source_hidden\": false}\n",
    "print(f'{type(data)=}\\n')\n",
    "data\n",
    "```\n",
    "\n",
    "***\n",
    "\n",
    "## Análisis de los atributos de `DataArray` mediante programación"
   ]
  },
  {
   "cell_type": "markdown",
   "id": "de635b68",
   "metadata": {
    "jupyter": {
     "source_hidden": false
    }
   },
   "source": [
    "\n",
    "Por supuesto, aunque esta vista gráfica es práctica, también es posible acceder a varios atributos de `DataArray` mediante programación. Esto nos permite escribir una lógica programatica para manipular los `DataArray` condicionalmente según sea necesario. Por ejemplo:\n"
   ]
  },
  {
   "cell_type": "markdown",
   "id": "91995779",
   "metadata": {},
   "source": [
    "```{code-cell} python jupyter={\"source_hidden\": false}\n",
    "print(data.coords)\n",
    "```"
   ]
  },
  {
   "cell_type": "markdown",
   "id": "9e3b2385",
   "metadata": {
    "jupyter": {
     "source_hidden": false
    }
   },
   "source": [
    "\n",
    "Las dimensiones `data.dims` son las cadenas/etiquetas asociadas a los ejes del `DataArray`.\n"
   ]
  },
  {
   "cell_type": "markdown",
   "id": "b14e7ef1",
   "metadata": {},
   "source": [
    "```{code-cell} python jupyter={\"source_hidden\": false}\n",
    "data.dims\n",
    "```"
   ]
  },
  {
   "cell_type": "markdown",
   "id": "8d8e7e39",
   "metadata": {
    "jupyter": {
     "source_hidden": false
    }
   },
   "source": [
    "\n",
    "Podemos extraer las coordenadas como arreglos NumPy unidimensionales (homogéneas) utilizando los atributos `coords` y `.values`.\n"
   ]
  },
  {
   "cell_type": "markdown",
   "id": "947b0076",
   "metadata": {},
   "source": [
    "```{code-cell} python jupyter={\"source_hidden\": false}\n",
    "print(data.coords['x'].values)\n",
    "```"
   ]
  },
  {
   "cell_type": "markdown",
   "id": "bd2dd110",
   "metadata": {
    "jupyter": {
     "source_hidden": false
    }
   },
   "source": [
    "\n",
    "`data.attrs` es un diccionario que contiene otros metadatos analizados a partir de las etiquetas GeoTIFF (los \"Atributos\" en la vista gráfica). Una vez más, esta es la razón por la que `rioxarray` es útil. Es posible escribir código que cargue datos de varios formatos de archivo en Xarray `DataArray`, pero este paquete encapsula mucho del código desordenado que, por ejemplo, rellenaría `data.attrs`.\n"
   ]
  },
  {
   "cell_type": "markdown",
   "id": "debea4e1",
   "metadata": {},
   "source": [
    "```{code-cell} python jupyter={\"source_hidden\": false}\n",
    "data.attrs\n",
    "```\n",
    "\n",
    "***\n",
    "\n",
    "## Uso del método de acceso `rio` de `DataArray`"
   ]
  },
  {
   "cell_type": "markdown",
   "id": "5587587e",
   "metadata": {
    "jupyter": {
     "source_hidden": false
    }
   },
   "source": [
    "\n",
    "Tal como se mencionó, `rioxarray` extiende la clase `xarray.DataArray` con un método de acceso llamado `rio`. El método de acceso `rio` agrega efectivamente un espacio de nombres con una variedad de atributos. Podemos usar una lista de comprensión de Python para mostrar los que no empiezan con guión bajo (los llamados métodos/atributos \"private\" y \"dunder\").\n"
   ]
  },
  {
   "cell_type": "markdown",
   "id": "dfff097b",
   "metadata": {},
   "source": [
    "```{code-cell} python jupyter={\"source_hidden\": false}\n",
    "[name for name in dir(data.rio) if not name.startswith('_')]\n",
    "```"
   ]
  },
  {
   "cell_type": "markdown",
   "id": "892c09d8",
   "metadata": {
    "jupyter": {
     "source_hidden": false
    }
   },
   "source": [
    "\n",
    "El atributo `data.rio.crs` es importante para nuestros propósitos. Proporciona acceso al sistema de referencia de coordenadas asociado a este conjunto de datos ráster.\n"
   ]
  },
  {
   "cell_type": "markdown",
   "id": "e1b2728f",
   "metadata": {},
   "source": [
    "```{code-cell} python jupyter={\"source_hidden\": false}\n",
    "print(type(data.rio.crs))\n",
    "print(data.rio.crs)\n",
    "```"
   ]
  },
  {
   "cell_type": "markdown",
   "id": "ebc71a8f",
   "metadata": {
    "jupyter": {
     "source_hidden": false
    }
   },
   "source": [
    "\n",
    "El atributo `.rio.crs` es una estructura de datos de la clase `CRS` del proyecto [pyproj](https://pyproj4.github.io/pyproj/stable/index.html). La `repr` de Python para esta clase devuelve una cadena como `EPSG:32610`. Este número se refiere al [conjunto de datos de parámetros geodésicos _European Petroleum Survey Group_ (EPGS)](https://en.wikipedia.org/wiki/EPSG_Geodetic_Parameter_Dataset) (en español, Grupo Europeo de Estudio sobre el Petróleo).\n",
    "\n",
    "De [Wikipedia](https://en.wikipedia.org/wiki/EPSG_Geodetic_Parameter_Dataset):\n",
    "\n",
    "> El [EPSG Geodetic Parameter Dataset (también conocido como registro EPSG)](https://en.wikipedia.org/wiki/EPSG_Geodetic_Parameter_Dataset) es un registro público de [datums geodésicos](https://es.wikipedia.org/wiki/Sistema_de_referencia_geod%C3%A9sico), [sistemas de referencia espacial](https://es.wikipedia.org/wiki/Sistema_de_referencia_espacial), [elipsoides terrestres](https://es.wikipedia.org/wiki/Elipsoide_de_referencia), transformaciones de coordenadas y [unidades de medida](https://es.wikipedia.org/wiki/Unidad_de_medida) relacionadas, originados por un miembro del [EPGS](https://en.wikipedia.org/wiki/European_Petroleum_Survey_Group) en 1985. A cada entidad se le asigna un código EPSG comprendido entre 1024 y 32767, junto con una representación estándar de [texto conocido (WKT)](https://en.wikipedia.org/wiki/Well-known_text_representation_of_coordinate_reference_systems) legible por máquina. El mantenimiento del conjunto de datos corre a cargo del Comité de Geomática [IOGP](https://en.wikipedia.org/wiki/International_Association_of_Oil_%26_Gas_Producers).\n"
   ]
  },
  {
   "cell_type": "markdown",
   "id": "4d492f40",
   "metadata": {},
   "source": [
    "***\n",
    "\n",
    "## Manipulación de los datos en un `DataArray`"
   ]
  },
  {
   "cell_type": "markdown",
   "id": "d8c24a26",
   "metadata": {
    "jupyter": {
     "source_hidden": false
    }
   },
   "source": [
    "\n",
    "Estos datos se almacenan utilizando un CRS [ sistema de coordenadas universal transversal de Mercator (UTM)](https://en.wikipedia.org/wiki/Universal_Transverse_Mercator_coordinate_system) (por sus siglas en inglés de _Mercator transversal universal_) particular. Las etiquetas de las coordenadas serían convencionalmente _este_ y _norte_. Sin embargo, a la hora de hacer el trazo, será conveniente utilizar _longitud_ y _latitud_ en su lugar. Reetiquetaremos las coordenadas para reflejar esto, es decir, la coordenada llamada `x` se reetiquetará como `longitude` y la coordenada llamada `y` se reetiquetará como `latitude`.\n"
   ]
  },
  {
   "cell_type": "markdown",
   "id": "d3ad321d",
   "metadata": {},
   "source": [
    "```{code-cell} python jupyter={\"source_hidden\": false}\n",
    "data = data.rename({'x':'longitude', 'y':'latitude'})\n",
    "```\n",
    "\n",
    "```{code-cell} python jupyter={\"source_hidden\": false}\n",
    "print(data.coords)\n",
    "```"
   ]
  },
  {
   "cell_type": "markdown",
   "id": "2c29a291",
   "metadata": {
    "jupyter": {
     "source_hidden": false
    }
   },
   "source": [
    "\n",
    "Una vez más, aunque los valores numéricos almacenados en los arreglos de coordenadas no tienen sentido estrictamente como valores (longitud, latitud), aplicaremos estas etiquetas ahora para simplificar el trazado más adelante.\n",
    "\n",
    "Los objetos Xarray `DataArray` permiten estraer subconjuntos de forma muy similar a las listas de Python. Las dos celdas siguientes extraen ambas el mismo subarreglo mediante dos llamadas a métodos diferentes.\n"
   ]
  },
  {
   "cell_type": "markdown",
   "id": "c073fc3b",
   "metadata": {},
   "source": [
    "```{code-cell} python jupyter={\"source_hidden\": false}\n",
    "data.isel(longitude=slice(0,2))\n",
    "```\n",
    "\n",
    "```{code-cell} python jupyter={\"source_hidden\": false}\n",
    "data.sel(longitude=[499_995, 500_025])\n",
    "```"
   ]
  },
  {
   "cell_type": "markdown",
   "id": "b8fb02f9",
   "metadata": {
    "jupyter": {
     "source_hidden": false
    }
   },
   "source": [
    "\n",
    "En vez de utilizar paréntesis para cortar secciones de arreglos (como en NumPy), para `DataArray`, podemos utilizar los métodos `sel` o `isel` para seleccionar subconjuntos por valores de coordenadas continuas o por posiciones enteras (es decir, coordenadas de \"píxel\") respectivamente. Esto es similar al uso de `.loc` and `.iloc` en Pandas para extraer entradas de una Pandas `Series` o `DataFrame`.\n",
    "\n",
    "Si tomamos un subconjunto en 2D de los `DataArray` `data` 3D, podemos graficarlo usando el método de acceso `.plot` (hablaremos al respecto más adelante).\n"
   ]
  },
  {
   "cell_type": "code",
   "execution_count": null,
   "id": "ea1458b2",
   "metadata": {
    "jupyter": {
     "source_hidden": false
    }
   },
   "outputs": [],
   "source": [
    "data.isel(band=0).plot();"
   ]
  },
  {
   "cell_type": "markdown",
   "id": "8779b54b",
   "metadata": {
    "jupyter": {
     "source_hidden": false
    }
   },
   "source": [
    "\n",
    "Este gráfico tarda un poco en procesarse porque el arreglo representado tiene $3,600\\times3,600$ píxeles. Podemos utilizar la función `slice` de Python para extraer, por ejemplo, cada 100 píxeles en cualquier dirección para trazar una imagen de menor resolución mucho más rápido.\n"
   ]
  },
  {
   "cell_type": "markdown",
   "id": "5fcc8195",
   "metadata": {},
   "source": [
    "```{code-cell} python jupyter={\"source_hidden\": false}\n",
    "steps = 100\n",
    "subset = slice(0,None,steps)\n",
    "view = data.isel(longitude=subset, latitude=subset, band=0)\n",
    "view.plot();\n",
    "```"
   ]
  },
  {
   "cell_type": "markdown",
   "id": "6ab1f258",
   "metadata": {
    "jupyter": {
     "source_hidden": false
    }
   },
   "source": [
    "\n",
    "El gráfico producido es bastante oscuro (lo que refleja que la mayoría de las entradas son cero según la leyenda). Observa que los ejes se etiquetan automáticamente utilizando las `coords` que renombramos antes.\n"
   ]
  },
  {
   "cell_type": "markdown",
   "id": "9c71c29e",
   "metadata": {},
   "source": [
    "***\n",
    "\n",
    "## Extracción de datos `DataArray` a NumPy, Pandas"
   ]
  },
  {
   "cell_type": "markdown",
   "id": "d17552d8",
   "metadata": {
    "jupyter": {
     "source_hidden": false
    }
   },
   "source": [
    "\n",
    "Observa que un `DataArray` encapsula de un arreglo NumPy. Ese arreglo NumPy se puede recuperar usando el atributo `.values`.\n"
   ]
  },
  {
   "cell_type": "markdown",
   "id": "0508ee0f",
   "metadata": {},
   "source": [
    "```{code-cell} python jupyter={\"source_hidden\": false}\n",
    "array = data.values\n",
    "print(f'{type(array)=}')\n",
    "print(f'{array.shape=}')\n",
    "print(f'{array.dtype=}')\n",
    "print(f'{array.nbytes=}')\n",
    "```"
   ]
  },
  {
   "cell_type": "markdown",
   "id": "208c83af",
   "metadata": {
    "jupyter": {
     "source_hidden": false
    }
   },
   "source": [
    "\n",
    "Estos datos ráster se almacenan como datos enteros sin signo de 8 bits, es decir, un byte por cada píxel. Un entero de 8 bits sin signo puede representar valores enteros entre 0 y 255. En un arreglo con algo más de trece millones de elementos, eso significa que hay muchos valores repetidos. Podemos verlo poniendo los valores de los píxeles en una Pandas `Series` y usando el método `.value_counts`.\n"
   ]
  },
  {
   "cell_type": "markdown",
   "id": "b9ccec34",
   "metadata": {},
   "source": [
    "```{code-cell} python jupyter={\"source_hidden\": false}\n",
    "s_flat = pd.Series(array.flatten()).value_counts()\n",
    "s_flat.sort_index()\n",
    "```"
   ]
  },
  {
   "cell_type": "markdown",
   "id": "deb475f5",
   "metadata": {
    "jupyter": {
     "source_hidden": false
    }
   },
   "source": [
    "\n",
    "La mayoría de las entradas de este arreglo ráster son cero. Los valores numéricos varían entre 0 y 100 con la excepción de unos 1,700 píxeles con el valor 255. Esto tendrá más sentido cuando hablemos de la especificación del producto de datos DIST.\n"
   ]
  },
  {
   "cell_type": "markdown",
   "id": "e8222254",
   "metadata": {},
   "source": [
    "***\n",
    "\n",
    "## Acumulación y concatenación de una secuencia de `DataArrays`"
   ]
  },
  {
   "cell_type": "markdown",
   "id": "60187b4f",
   "metadata": {
    "jupyter": {
     "source_hidden": false
    }
   },
   "source": [
    "\n",
    "A menudo es conveniente apilar múltiples arreglos bidimensionales de datos ráster en un único arreglo tridimensional. En NumPy, esto se hace típicamente con la función [`numpy.concatenate`](https://numpy.org/doc/stable/reference/generated/numpy.concatenate.html). Hay una funcionalidad similar en Xarray—[`xarray.concat`](https://docs.xarray.dev/en/stable/generated/xarray.concat.html) (que es similar en diseño a la función [`pandas.concat`](https://pandas.pydata.org/pandas-docs/stable/reference/api/pandas.concat.html)). La principal diferencia entre `numpy.concatenate` y `xarray.concat` es que esta última función debe tener en cuenta las _coordenadas etiquetadas_, mientras que la primera no. Esto es importante cuando, por ejemplo, los ejes de coordenadas de dos rásters se superponen pero no están perfectamente alineados.\n",
    "\n",
    "Para ver cómo funciona el apilamiento de rásteres, empezaremos haciendo una lista de tres archivos GeoTIFF (almacenados localmente), inicializando una lista de `stack` vacía, y después construyendo una lista de `DataArrays` en un bucle.\n"
   ]
  },
  {
   "cell_type": "markdown",
   "id": "d6ad6a33",
   "metadata": {},
   "source": [
    "```{code-cell} python jupyter={\"source_hidden\": false}\n",
    "RASTER_FILES = list((Path(FILE_STEM, 'assets').glob('OPERA*VEG*.tif')))\n",
    "\n",
    "stack = []\n",
    "for path in RASTER_FILES:\n",
    "    print(f\"Stacking {path.name}..\")\n",
    "    data = rio.open_rasterio(path).rename(dict(x='longitude', y='latitude'))\n",
    "    band_name = path.stem.split('_')[-1]\n",
    "    data.coords.update({'band': [band_name]})\n",
    "    data.attrs = dict(description=f\"OPERA DIST product\", units=None)\n",
    "    stack.append(data)\n",
    "```"
   ]
  },
  {
   "cell_type": "markdown",
   "id": "1dee664c",
   "metadata": {
    "jupyter": {
     "source_hidden": false
    }
   },
   "source": [
    "\n",
    "He aquí algunas observaciones importantes sobre el bucle de código anterior:\n",
    "\n",
    "- El uso de `rioxarray.open_rasterio` para cargar un Xarray `DataArray` en memoria hace mucho trabajo por nosotros. En particular, se asegura de que las coordenadas continuas están alineadas con las coordenadas de píxeles subyacentes.\n",
    "- De manera predeterminada, `data.coords` tiene las claves `x` y `y` que elegimos reetiquetar como `longitude` y `latitude` respectivamente. Técnicamente, los valores de las coordenadas continuas que se cargaron desde este archivo GeoTIFF en particular se expresan en coordenadas UTM (es decir, este y norte), pero, posteriormente, al trazar, las etiquetas `longitude` y `latitude` serán más convenientes.\n",
    "- `data.coords['band']`, tal como se cargó desde el archivo, tiene el valor `1`. Elegimos sobrescribir ese valor con el nombre de la banda (que extraemos del nombre del archivo como `band_name`).\n",
    "- De manera predeterminada, `rioxarray.open_rasterio` completa `data.attrs` con pares clave-valor extraídos de las etiquetas TIFF. Para diferentes bandas/capas, estos diccionarios de atributos podrían tener claves o valores conflictivos. Puede ser aconsejable conservar estos metadatos en algunas circunstancias. Simplemente elegimos descartarlos en este contexto para evitar posibles conflictos. El diccionario mínimo de atributos de la estructura de datos final tendrá como únicas claves `description` y `units`.\n",
    "\n",
    "Dado que construimos una lista de `DataArray` en la lista `stack`, podemos ensamblar un `DataArray` tridimensional utilizando `xarray.concat`.\n"
   ]
  },
  {
   "cell_type": "markdown",
   "id": "b7b2ed55",
   "metadata": {},
   "source": [
    "```{code-cell} python jupyter={\"source_hidden\": false}\n",
    "stack = xr.concat(stack, dim='band')\n",
    "```"
   ]
  },
  {
   "cell_type": "markdown",
   "id": "ad608f61",
   "metadata": {
    "jupyter": {
     "source_hidden": false
    }
   },
   "source": [
    "\n",
    "La función `xarray.concat` acepta una secuencia de objetos `xarray.DataArray` con dimensiones conformes y los _concatena_ a lo largo de una dimensión especificada. Para este ejemplo, apilamos rásteres bidimensionales que corresponden a diferentes bandas o capas. Por eso utilizamos la opción `dim='band'` en la llamada a `xarray.concat`. Más adelante, en cambio, apilaremos rásteres bidimensionales a lo largo de un eje _temporal_ (esto implica un código ligeramente diferente para garantizar el etiquetado y la alineación correctos).\n",
    "\n",
    "Examinemos `stack` mediante su `repr`en este cuaderno computacional Jupyter.\n"
   ]
  },
  {
   "cell_type": "markdown",
   "id": "570bf145",
   "metadata": {},
   "source": [
    "```{code-cell} python jupyter={\"source_hidden\": false}\n",
    "stack\n",
    "```"
   ]
  },
  {
   "cell_type": "markdown",
   "id": "190ffbe5",
   "metadata": {
    "jupyter": {
     "source_hidden": false
    }
   },
   "source": [
    "\n",
    "Observa que `stack` tiene un CRS asociado que fue analizado por `rioxarray.open_rasterio`.\n"
   ]
  },
  {
   "cell_type": "markdown",
   "id": "740a7278",
   "metadata": {},
   "source": [
    "```{code-cell} python jupyter={\"source_hidden\": false}\n",
    "stack.rio.crs\n",
    "```"
   ]
  },
  {
   "cell_type": "markdown",
   "id": "0929c674",
   "metadata": {
    "jupyter": {
     "source_hidden": false
    }
   },
   "source": [
    "\n",
    "Este proceso es muy útil para el análisis (suponiendo que haya suficiente memoria disponible para almacenar toda la colección de rásteres). Más adelante, utilizaremos este enfoque varias veces para manipular colecciones de rásteres de dimensiones conformes. El apilamiento se puede utilizar para producir una visualización dinámica con un control deslizante o, alternativamente, para producir un gráfico estático.\n"
   ]
  },
  {
   "cell_type": "markdown",
   "id": "93bed93e",
   "metadata": {},
   "source": [
    "***"
   ]
  }
 ],
 "metadata": {
  "kernelspec": {
   "display_name": "Python 3 (ipykernel)",
   "language": "python",
   "name": "python3"
  }
 },
 "nbformat": 4,
 "nbformat_minor": 5
}
