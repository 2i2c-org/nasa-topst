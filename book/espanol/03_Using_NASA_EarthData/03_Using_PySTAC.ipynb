{
 "cells": [
  {
   "cell_type": "markdown",
   "id": "af261dc9",
   "metadata": {},
   "source": [
    "# Uso de la API de PySTAC"
   ]
  },
  {
   "cell_type": "markdown",
   "id": "b53f82af",
   "metadata": {
    "jupyter": {
     "source_hidden": false
    }
   },
   "source": [
    "\n",
    "En el sitio web [Earthdata Search](https://search.earthdata.nasa.gov) de la NASA se puede buscar una gran cantidad de datos. El enlace anterior se conecta a una interfaz gráfica de usuario (GUI, por sus siglas en inglés de _Graphical User Interface_) para buscar en los [catálogos activos espaciotemporales (STACs, por sus siglas en inglés de _SpatioTemporal Asset Catalogs_)](https://stacspec.org/) al especificar un área de interés (AOI, por sus siglas en inglés de _Area of Interest_) y una _ventana temporal_ o un _intervalo de fechas_.\n",
    "\n",
    "En pos de la reproducibilidad, se busca que las personas usuarias sean capaces de buscar en los catálogos de activos de manera programática. Aquí es donde entra en juego la librería [PySTAC](https://pystac.readthedocs.io/en/stable/).\n"
   ]
  },
  {
   "cell_type": "markdown",
   "id": "7b725dd4",
   "metadata": {},
   "source": [
    "***\n",
    "\n",
    "## Esquema de las etapas del análisis"
   ]
  },
  {
   "cell_type": "markdown",
   "id": "d1630a2f",
   "metadata": {
    "jupyter": {
     "source_hidden": false
    }
   },
   "source": [
    "\n",
    "- Identificación de los parámetros de búsqueda\n",
    "  - AOI, ventana temporal\n",
    "  - Endpoint, proveedor, identificador del catálogo (\"nombre corto\")\n",
    "- Obtención de los resultados de la búsqueda\n",
    "  - Exploración de datos, análisis para identificar características, bandas de interés\n",
    "  - Almacenar los resultados en un DataFrame para facilitar la exploración\n",
    "- Explorar y refinar los resultados de la búsqueda\n",
    "  - Identificar los granos de mayor valor\n",
    "  - Filtrar los granos anómalos con una contribución mínima\n",
    "  - Combinar los granos filtrados correspondientes en un DataFrame\n",
    "  - Identificar el tipo de salida que se quiere obtener\n",
    "- Procesamiento de los datos para generar resultados relevantes\n",
    "  - Descargar los granos relevantes en un tipo de dato DataArray de la libreria Xarray, apilados adecuadamente\n",
    "  - Realizar los cálculos intermedios necesarios\n",
    "  - Integrar los fragmentos de datos relevantes en una visualización\n"
   ]
  },
  {
   "cell_type": "markdown",
   "id": "d72e2aaa",
   "metadata": {},
   "source": [
    "***\n",
    "\n",
    "## Identificar los parámetros de búsqueda\n",
    "\n",
    "### Definir el AOI y el rango de fechas"
   ]
  },
  {
   "cell_type": "markdown",
   "id": "f778f263",
   "metadata": {
    "jupyter": {
     "source_hidden": false
    }
   },
   "source": [
    "\n",
    "Comenzaremos tomando en cuenta un ejemplo concreto. [Las fuertes lluvias afectaron gravemente al sureste de Texas en mayo de 2024](https://www.texastribune.org/2024/05/03/texas-floods-weather-harris-county/), provocando [inundaciones y causando importantes daños materiales y humanos](https://www.texastribune.org/series/east-texas-floods-2024/).\n",
    "\n",
    "Como es usual, se requiere la importación de ciertas librerías relevantes. Las dos primeras celdas son familiares (relacionadas con las herramientas de análisis y la visualización de los datos que ya se examinaron). La tercera celda incluye la importación de la biblioteca `pystac_client` y de la biblioteca `gdal`, seguidas de algunos ajustes necesarios para utilizar la [Biblioteca de Abstracción de Datos Geoespaciales (GDAL, por sus siglas en inglés, Geospatial Data Abstraction Library)](https://gdal.org). Estos detalles en la configuración permiten que las sesiones de tu cuaderno computacional interactúen sin problemas con las fuentes remotas de datos geoespaciales.\n"
   ]
  },
  {
   "cell_type": "markdown",
   "id": "886f3b3c",
   "metadata": {},
   "source": [
    "```{code-cell} python jupyter={\"source_hidden\": false}\n",
    "from warnings import filterwarnings\n",
    "filterwarnings('ignore')\n",
    "# data wrangling imports\n",
    "import numpy as np\n",
    "import pandas as pd\n",
    "import xarray as xr\n",
    "import rioxarray as rio\n",
    "import rasterio\n",
    "```\n",
    "\n",
    "```{code-cell} python jupyter={\"source_hidden\": false}\n",
    "# Imports for plotting\n",
    "import hvplot.pandas\n",
    "import hvplot.xarray\n",
    "import geoviews as gv\n",
    "from geoviews import opts\n",
    "gv.extension('bokeh')\n",
    "```\n",
    "\n",
    "```{code-cell} python jupyter={\"source_hidden\": false}\n",
    "# STAC imports to retrieve cloud data\n",
    "from pystac_client import Client\n",
    "from osgeo import gdal\n",
    "# GDAL setup for accessing cloud data\n",
    "gdal.SetConfigOption('GDAL_HTTP_COOKIEFILE','~/.cookies.txt')\n",
    "gdal.SetConfigOption('GDAL_HTTP_COOKIEJAR', '~/.cookies.txt')\n",
    "gdal.SetConfigOption('GDAL_DISABLE_READDIR_ON_OPEN','EMPTY_DIR')\n",
    "gdal.SetConfigOption('CPL_VSIL_CURL_ALLOWED_EXTENSIONS','TIF, TIFF')\n",
    "```"
   ]
  },
  {
   "cell_type": "markdown",
   "id": "d1847664",
   "metadata": {
    "jupyter": {
     "source_hidden": false
    }
   },
   "source": [
    "\n",
    "A continuación, definiremos los parámetros de búsqueda geográfica para poder recuperar los datos correspondientes a ese evento de inundación. Esto consiste en especificar un _AOI_ y un _intervalo de fechas_.\n",
    "\n",
    "- El AOI se especifica como un rectángulo de coordenadas de longitud-latitud en una única 4-tupla con la forma\n",
    "  $$({\\mathtt{longitude}}_{\\mathrm{min}},{\\mathtt{latitude}}_{\\mathrm{min}},{\\mathtt{longitude}}_{\\mathrm{max}},{\\mathtt{latitude}}_{\\mathrm{max}}),$$\n",
    "  por ejemplo, las coordenadas de la esquina inferior izquierda seguidas de las coordenadas de la esquina superior derecha.\n",
    "- El intervalo de fechas se especifica como una cadena de la forma\n",
    "  $${\\mathtt{date}_{\\mathrm{start}}}/{\\mathtt{date}_{\\mathrm{end}}},$$\n",
    "  donde las fechas se especifican en el formato estándar `YYYY-MM-DD`.\n"
   ]
  },
  {
   "cell_type": "markdown",
   "id": "6e4b5cf8",
   "metadata": {},
   "source": [
    "```{code-cell} python jupyter={\"source_hidden\": false}\n",
    "# Center of the AOI\n",
    "livingston_tx_lonlat = (-95.09,30.69) # (lon, lat) form\n",
    "```"
   ]
  },
  {
   "cell_type": "markdown",
   "id": "68ef22e4",
   "metadata": {
    "jupyter": {
     "source_hidden": false
    }
   },
   "source": [
    "\n",
    "Escribiremos algunas funciones cortas para encapsular la lógica de nuestros flujos de trabajo genéricos. Para el código de investigación, estas se colocarían en archivos de Python. Por practicidad, incrustaremos las funciones en este cuaderno y en otros para que puedan ejecutarse correctamente con dependencias mínimas.\n"
   ]
  },
  {
   "cell_type": "markdown",
   "id": "d74d2bd1",
   "metadata": {},
   "source": [
    "```{code-cell} python jupyter={\"source_hidden\": false}\n",
    "# simple utility to make a rectangle with given center of width dx & height dy\n",
    "def make_bbox(pt,dx,dy):\n",
    "    '''Returns bounding-box represented as tuple (x_lo, y_lo, x_hi, y_hi)\n",
    "    given inputs pt=(x, y), width & height dx & dy respectively,\n",
    "    where x_lo = x-dx/2, x_hi=x+dx/2, y_lo = y-dy/2, y_hi = y+dy/2.\n",
    "    '''\n",
    "    return tuple(coord+sgn*delta for sgn in (-1,+1) for coord,delta in zip(pt, (dx/2,dy/2)))\n",
    "```\n",
    "\n",
    "```{code-cell} python jupyter={\"source_hidden\": false}\n",
    "# simple utility to plot an AOI or bounding-box\n",
    "def plot_bbox(bbox):\n",
    "    '''Given bounding-box, returns GeoViews plot of Rectangle & Point at center\n",
    "    + bbox: bounding-box specified as (lon_min, lat_min, lon_max, lat_max)\n",
    "    Assume longitude-latitude coordinates.\n",
    "    '''\n",
    "    # These plot options are fixed but can be over-ridden\n",
    "    point_opts = opts.Points(size=12, alpha=0.25, color='blue')\n",
    "    rect_opts = opts.Rectangles(line_width=0, alpha=0.1, color='red')\n",
    "    lon_lat = (0.5*sum(bbox[::2]), 0.5*sum(bbox[1::2]))\n",
    "    return (gv.Points([lon_lat]) * gv.Rectangles([bbox])).opts(point_opts, rect_opts)\n",
    "```\n",
    "\n",
    "```{code-cell} python jupyter={\"source_hidden\": false}\n",
    "AOI = make_bbox(livingston_tx_lonlat, 0.5, 0.25)\n",
    "basemap = gv.tile_sources.OSM.opts(width=500, height=500)\n",
    "plot_bbox(AOI) * basemap\n",
    "```"
   ]
  },
  {
   "cell_type": "markdown",
   "id": "a6beeb1d",
   "metadata": {
    "jupyter": {
     "source_hidden": false
    }
   },
   "source": [
    "\n",
    "Agreguemos un intervalo de fechas. Las inundaciones ocurrieron principalmente entre el 30 de abril y el 2 de mayo. Estableceremos una ventana temporal más larga que cubra los meses de abril y mayo.\n"
   ]
  },
  {
   "cell_type": "markdown",
   "id": "2b26f52c",
   "metadata": {},
   "source": [
    "```{code-cell} python jupyter={\"source_hidden\": false}\n",
    "start_date, stop_date = '2024-04-01', '2024-05-31'\n",
    "DATE_RANGE = f'{start_date}/{stop_date}'\n",
    "```"
   ]
  },
  {
   "cell_type": "markdown",
   "id": "18f674a0",
   "metadata": {
    "jupyter": {
     "source_hidden": false
    }
   },
   "source": [
    "\n",
    "Por último, se crea un un diccionario `search_params` que almacene el AOI y el intervalo de fechas. Este diccionario se utilizará para buscar datos en los STACs.\n"
   ]
  },
  {
   "cell_type": "markdown",
   "id": "663945ca",
   "metadata": {},
   "source": [
    "```{code-cell} python jupyter={\"source_hidden\": false}\n",
    "search_params = dict(bbox=AOI, datetime=DATE_RANGE)\n",
    "print(search_params)\n",
    "```\n",
    "\n",
    "***\n",
    "\n",
    "## Obtención de los resultados de búsqueda\n",
    "\n",
    "### Ejecución de una búsqueda con la API PySTAC"
   ]
  },
  {
   "cell_type": "markdown",
   "id": "597904be",
   "metadata": {
    "jupyter": {
     "source_hidden": false
    }
   },
   "source": [
    "\n",
    "Para iniciar una búsqueda de datos se necesitan tres datos más: el _Endpoint_ (una URL), el _Proveedor_ (una cadena que representa una ruta que extiende el _Endpoint_) y los _Identificadores de la colección_ (una lista de cadenas que hacen referencia a catálogos específicos). Generalmente, debemos probar con el [sitio web de Earthdata Search](https://search.earthdata.nasa.gov) de la NASA para determinar correctamente los valores para los productos de datos específicos que queremos recuperar. El [repositorio de GitHub de la NASA CMR STAC también supervisa los problemas](https://github.com/nasa/cmr-stac/issues) relacionados con la API para las consultas de búsqueda de EarthData Cloud.\n",
    "\n",
    "Para la búsqueda de productos de datos DSWx que se quiere ejecutar, estos parámetros son los que se definen en la siguiente celda de código.\n"
   ]
  },
  {
   "cell_type": "markdown",
   "id": "de232035",
   "metadata": {},
   "source": [
    "```{code-cell} python jupyter={\"source_hidden\": false}\n",
    "ENDPOINT = 'https://cmr.earthdata.nasa.gov/stac' # base URL for the STAC to search\n",
    "PROVIDER = 'POCLOUD'\n",
    "COLLECTIONS = [\"OPERA_L3_DSWX-HLS_V1_1.0\"]\n",
    "# Update the dictionary opts with list of collections to search\n",
    "search_params.update(collections=COLLECTIONS)\n",
    "print(search_params)\n",
    "```"
   ]
  },
  {
   "cell_type": "markdown",
   "id": "99e04ce9",
   "metadata": {
    "jupyter": {
     "source_hidden": false
    }
   },
   "source": [
    "\n",
    "Una vez que se definieron los parámetros de búsqueda en el diccionario de Python `search_params`, se puede instanciar un `Cliente` y buscar en el catálogo espacio-temporal de activos utilizando el método `Client.search`.\n"
   ]
  },
  {
   "cell_type": "markdown",
   "id": "e7cb619f",
   "metadata": {},
   "source": [
    "```{code-cell} python jupyter={\"source_hidden\": false}\n",
    "catalog = Client.open(f'{ENDPOINT}/{PROVIDER}/')\n",
    "search_results = catalog.search(**search_params)\n",
    "print(f'{type(search_results)=}\\n',search_results)\n",
    "```"
   ]
  },
  {
   "cell_type": "markdown",
   "id": "a306e7e7",
   "metadata": {
    "jupyter": {
     "source_hidden": false
    }
   },
   "source": [
    "\n",
    "El objeto `search_results` que se obtuvo al llamar al método `search` es del tipo `ItemSearch`. Para recuperar los resultados, invocamos al método `items` y convertimos el resultado en una `list` de Python que asociaremos al identificador `granules`.\n"
   ]
  },
  {
   "cell_type": "markdown",
   "id": "cd5f7412",
   "metadata": {},
   "source": [
    "```{code-cell} python jupyter={\"source_hidden\": false}\n",
    "%%time\n",
    "granules = list(search_results.items())\n",
    "print(f\"Number of granules found with tiles overlapping given AOI: {len(granules)}\")\n",
    "```"
   ]
  },
  {
   "cell_type": "markdown",
   "id": "35351cbe",
   "metadata": {
    "jupyter": {
     "source_hidden": false
    }
   },
   "source": [
    "\n",
    "Se analiza el contenido de la lista `granules`.\n"
   ]
  },
  {
   "cell_type": "markdown",
   "id": "2053d1a3",
   "metadata": {},
   "source": [
    "```{code-cell} python jupyter={\"source_hidden\": false}\n",
    "granule = granules[0]\n",
    "print(f'{type(granule)=}')\n",
    "```\n",
    "\n",
    "```{code-cell} python jupyter={\"source_hidden\": false}\n",
    "granule\n",
    "```"
   ]
  },
  {
   "cell_type": "markdown",
   "id": "fa432c96",
   "metadata": {
    "jupyter": {
     "source_hidden": false
    }
   },
   "source": [
    "\n",
    "El objeto `granule` tiene una representación de salida enriquecida en este cuaderno computacional de Jupyter. Podemos ampliar los atributos en la celda de salida haciendo clic en los triángulos.\n",
    "\n",
    "![](../../assets/granule_output_repr.png)\n",
    "\n",
    "El término _grano_ se refiere a una colección de archivos de datos (datos ráster en este caso), todos ellos asociados a datos sin procesar adquiridos por un satélite concreto en una fecha y hora fija sobre un mosaico geográfico concreto. Hay una gran variedad de atributos interesantes asociados con este grano.\n",
    "\n",
    "- properties['datetime']: una cadena que representa la hora de adquisición de los datos de los archivos de datos ráster de este grano,\n",
    "- properties['eo:cloud_cover']: el porcentaje de píxeles oscurecidos por nubes y sombras de nubes en los archivos de datos ráster de este grano, y\n",
    "- `assets`: un `dict` de Python cuyos valores resumen las bandas o niveles de los datos ráster asociados con este gránulo.\n"
   ]
  },
  {
   "cell_type": "markdown",
   "id": "b1eea0d2",
   "metadata": {},
   "source": [
    "```{code-cell} python jupyter={\"source_hidden\": false}\n",
    "print(f\"{type(granule.properties)=}\\n\")\n",
    "print(f\"{granule.properties['datetime']=}\\n\")\n",
    "print(f\"{granule.properties['eo:cloud_cover']=}\\n\")\n",
    "print(f\"{type(granule.assets)=}\\n\")\n",
    "print(f\"{granule.assets.keys()=}\\n\")\n",
    "```"
   ]
  },
  {
   "cell_type": "markdown",
   "id": "b6618b9b",
   "metadata": {
    "jupyter": {
     "source_hidden": false
    }
   },
   "source": [
    "\n",
    "Cada objeto en `granule.assets` es una instancia de la clase `Asset` que tiene un atributo `href`. Es el atributo `href` el que nos indica dónde localizar un archivo GeoTiff asociado con el activo de este gránulo.\n"
   ]
  },
  {
   "cell_type": "markdown",
   "id": "1f530609",
   "metadata": {},
   "source": [
    "```{code-cell} python jupyter={\"source_hidden\": false}\n",
    "for a in granule.assets:\n",
    "    print(f\"{a=}\\t{type(granule.assets[a])=}\")\n",
    "    print(f\"{granule.assets[a].href=}\\n\\n\")\n",
    "```"
   ]
  },
  {
   "cell_type": "markdown",
   "id": "302f5433",
   "metadata": {
    "jupyter": {
     "source_hidden": false
    }
   },
   "source": [
    "\n",
    "Además, el `Item` tiene un atributo `.id` que almacena una cadena de caracteres. Al igual que ocurre con los nombres de archivos asociados a los productos OPERA, esta cadena `.id` contiene el identificador de un mosaico geográfico MGRS. Podemos extraer ese identificador aplicando manipulación de cadenas con Python al atributo `.id` del gránulo. Se realiza y se almacena el resultado en la variable `tile_id`.\n"
   ]
  },
  {
   "cell_type": "markdown",
   "id": "198040ef",
   "metadata": {},
   "source": [
    "```{code-cell} python jupyter={\"source_hidden\": false}\n",
    "print(granule.id)\n",
    "tile_id = granule.id.split('_')[3]\n",
    "print(f\"{tile_id=}\")\n",
    "```\n",
    "\n",
    "***\n",
    "\n",
    "### Resumiendo los resultados de la búsqueda en un DataFrame"
   ]
  },
  {
   "cell_type": "markdown",
   "id": "26c90d59",
   "metadata": {
    "jupyter": {
     "source_hidden": false
    }
   },
   "source": [
    "\n",
    "Los detalles de los resultados de la búsqueda son complicados de analizar de esta manera. Se extraen algunos campos concretos de los gránulos obtenidos en un `DataFrame` de Pandas utilizando una función de Python. Definiremos la función aquí y la reutilizaremos en cuadernos posteriores.\n"
   ]
  },
  {
   "cell_type": "markdown",
   "id": "6c7f13a4",
   "metadata": {},
   "source": [
    "```{code-cell} python jupyter={\"source_hidden\": false}\n",
    "# utility to extract search results into a Pandas DataFrame\n",
    "def search_to_dataframe(search):\n",
    "    '''Constructs Pandas DataFrame from PySTAC Earthdata search results.\n",
    "    DataFrame columns are determined from search item properties and assets.\n",
    "    'asset': string identifying an Asset type associated with a granule\n",
    "    'href': data URL for file associated with the Asset in a given row.'''\n",
    "    granules = list(search.items())\n",
    "    assert granules, \"Error: empty list of search results\"\n",
    "    props = list({prop for g in granules for prop in g.properties.keys()})\n",
    "    tile_ids = map(lambda granule: granule.id.split('_')[3], granules)\n",
    "    rows = (([g.properties.get(k, None) for k in props] + [a, g.assets[a].href, t])\n",
    "                for g, t in zip(granules,tile_ids) for a in g.assets )\n",
    "    df = pd.concat(map(lambda x: pd.DataFrame(x, index=props+['asset','href', 'tile_id']).T, rows),\n",
    "                   axis=0, ignore_index=True)\n",
    "    assert len(df), \"Empty DataFrame\"\n",
    "    return df\n",
    "```"
   ]
  },
  {
   "cell_type": "markdown",
   "id": "f9b0a63e",
   "metadata": {
    "jupyter": {
     "source_hidden": false
    }
   },
   "source": [
    "\n",
    "Invocar `search_to_dataframe` en `search_results` codifica la mayor parte de la información importante de la búsqueda como un Pandas `DataFrame`, tal como se muestra a continuación.\n"
   ]
  },
  {
   "cell_type": "markdown",
   "id": "fd703fe0",
   "metadata": {},
   "source": [
    "```{code-cell} python jupyter={\"source_hidden\": false}\n",
    "df = search_to_dataframe(search_results)\n",
    "df.head()\n",
    "```"
   ]
  },
  {
   "cell_type": "markdown",
   "id": "6cacbc84",
   "metadata": {
    "jupyter": {
     "source_hidden": false
    }
   },
   "source": [
    "\n",
    "El método `DataFrame.info` nos permite examinar la estructura de este DataFrame.\n"
   ]
  },
  {
   "cell_type": "markdown",
   "id": "a8989547",
   "metadata": {},
   "source": [
    "```{code-cell} python jupyter={\"source_hidden\": false}\n",
    "df.info()\n",
    "```"
   ]
  },
  {
   "cell_type": "markdown",
   "id": "0acd3498",
   "metadata": {
    "jupyter": {
     "source_hidden": false
    }
   },
   "source": [
    "\n",
    "Se limpia el DataFrame que contiene los resultados de búsqueda. Esto podría estar incluido en una función, pero vale la pena saber cómo se hace esto con Pandas de manera interactiva.\n",
    "\n",
    "En primer lugar, para estos resultados, solo es necesaria una columna `Datetime`, se pueden eliminar las demás.\n"
   ]
  },
  {
   "cell_type": "markdown",
   "id": "6b792a01",
   "metadata": {},
   "source": [
    "```{code-cell} python jupyter={\"source_hidden\": false}\n",
    "df = df.drop(['start_datetime', 'end_datetime'], axis=1)\n",
    "df.info()\n",
    "```"
   ]
  },
  {
   "cell_type": "markdown",
   "id": "81b2afec",
   "metadata": {
    "jupyter": {
     "source_hidden": false
    }
   },
   "source": [
    "\n",
    "A continuación, se arregla el esquema del `DataFrame` `df` convirtiendo las columnas en tipos de datos sensibles. También será conveniente utilizar la marca de tiempo de la adquisición como índice del DataFrame. Se realiza utilizando el método `DataFrame.set_index`.\n"
   ]
  },
  {
   "cell_type": "markdown",
   "id": "04de4f98",
   "metadata": {},
   "source": [
    "```{code-cell} python jupyter={\"source_hidden\": false}\n",
    "df['datetime'] = pd.DatetimeIndex(df['datetime'])\n",
    "df['eo:cloud_cover'] = df['eo:cloud_cover'].astype(np.float16)\n",
    "str_cols = ['asset', 'href', 'tile_id']\n",
    "for col in str_cols:\n",
    "    df[col] = df[col].astype(pd.StringDtype())\n",
    "df = df.set_index('datetime').sort_index()\n",
    "```\n",
    "\n",
    "```{code-cell} python jupyter={\"source_hidden\": false}\n",
    "df.info()\n",
    "```"
   ]
  },
  {
   "cell_type": "markdown",
   "id": "e6e525d7",
   "metadata": {
    "jupyter": {
     "source_hidden": false
    }
   },
   "source": [
    "\n",
    "Como resultado se obtiene un DataFrame con un esquema conciso que se puede utilizar para manipulaciones posteriores. Agrupar los resultados de la búsqueda STAC en un `DataFrame` de Pandas de forma razonable es un poco complicado. Varias de las manipulaciones anteriores podrían haberse incluido en la función `search_to_dataframe`. Pero, dado que los resultados de búsqueda de la API de STAC aún están evolucionando, actualmente es mejor ser flexible y utilizar Pandas de forma interactiva para trabajar con los resultados de búsqueda. Se verá esto con más detalle en ejemplos posteriores.\n"
   ]
  },
  {
   "cell_type": "markdown",
   "id": "54c1dc73",
   "metadata": {},
   "source": [
    "***\n",
    "\n",
    "## Explorar y refinar los resultados de búsqueda"
   ]
  },
  {
   "cell_type": "markdown",
   "id": "cf23b01b",
   "metadata": {
    "jupyter": {
     "source_hidden": false
    }
   },
   "source": [
    "\n",
    "Si se examina la columna numérica `eo:cloud_cover` del DataFrame `df`, se pueden recopilar estadísticas utilizando agregaciones estándar y el método `DataFrame.agg`.\n"
   ]
  },
  {
   "cell_type": "markdown",
   "id": "fa9abecd",
   "metadata": {},
   "source": [
    "```{code-cell} python jupyter={\"source_hidden\": false}\n",
    "df['eo:cloud_cover'].agg(['min','mean','median','max'])\n",
    "```"
   ]
  },
  {
   "cell_type": "markdown",
   "id": "b210db4e",
   "metadata": {
    "jupyter": {
     "source_hidden": false
    }
   },
   "source": [
    "\n",
    "Observa que hay varias entradas `nan` en esta columna. Las funciones de agregación estadística de Pandas suelen ser \"`nan`-aware\", esto significa que ignoran implícitamente las entradas `nan` al calcular las estadísticas.\n"
   ]
  },
  {
   "cell_type": "markdown",
   "id": "b2acc5de",
   "metadata": {},
   "source": [
    "### Filtrado del DataFrame de búsqueda con Pandas"
   ]
  },
  {
   "cell_type": "markdown",
   "id": "6bc6ed5c",
   "metadata": {
    "jupyter": {
     "source_hidden": false
    }
   },
   "source": [
    "\n",
    "Como primera operación de filtrado, se mantienen solo las filas para las que la cobertura de las nubes es inferior al 50%.\n"
   ]
  },
  {
   "cell_type": "markdown",
   "id": "915e8a97",
   "metadata": {},
   "source": [
    "```{code-cell} python jupyter={\"source_hidden\": false}\n",
    "df_clear = df.loc[df['eo:cloud_cover']<50]\n",
    "df_clear\n",
    "```"
   ]
  },
  {
   "cell_type": "markdown",
   "id": "94575b08",
   "metadata": {
    "jupyter": {
     "source_hidden": false
    }
   },
   "source": [
    "\n",
    "Para esta consulta de búsqueda, cada gránulo DSWX comprende datos ráster para diez bandas o niveles. Se puede ver esto aplicando el método Pandas `Series.value_counts` a la columna `asset`.\n"
   ]
  },
  {
   "cell_type": "markdown",
   "id": "faecafbe",
   "metadata": {},
   "source": [
    "```{code-cell} python jupyter={\"source_hidden\": false}\n",
    "df_clear.asset.value_counts()\n",
    "```"
   ]
  },
  {
   "cell_type": "markdown",
   "id": "31935995",
   "metadata": {
    "jupyter": {
     "source_hidden": false
    }
   },
   "source": [
    "\n",
    "Se filtran las filas que corresponden a la banda `B01_WTR` del producto de datos DSWx. La función de Pandas `DataFrame.str` hace que esta operación sea sencilla. Se nombra al `DataFrame` filtrado como `b01_wtr`.\n"
   ]
  },
  {
   "cell_type": "markdown",
   "id": "7a591a6d",
   "metadata": {},
   "source": [
    "```{code-cell} python jupyter={\"source_hidden\": false}\n",
    "b01_wtr = df_clear.loc[df_clear.asset.str.contains('B01_WTR')]\n",
    "b01_wtr.info()\n",
    "b01_wtr.asset.value_counts()\n",
    "```"
   ]
  },
  {
   "cell_type": "markdown",
   "id": "b38acd7c",
   "metadata": {
    "jupyter": {
     "source_hidden": false
    }
   },
   "source": [
    "\n",
    "También se puede observar que hay varios mosaicos geográficos asociados a los gránulos encontrados que intersecan el AOI proporcionado.\n"
   ]
  },
  {
   "cell_type": "markdown",
   "id": "47903fe7",
   "metadata": {},
   "source": [
    "```{code-cell} python jupyter={\"source_hidden\": false}\n",
    "b01_wtr.tile_id.value_counts()\n",
    "```"
   ]
  },
  {
   "cell_type": "markdown",
   "id": "61534c58",
   "metadata": {
    "jupyter": {
     "source_hidden": false
    }
   },
   "source": [
    "\n",
    "Recuerda que estos códigos se refieren a mosaicos geográficos MGRS especificados en un sistema de coordenadas concreto. Como se identifican estos códigos en la columna `tile_id`, se puede filtrar las filas que corresponden, por ejemplo, a los archivos recopilados sobre el mosaico T15RUQ del MGRS:\n"
   ]
  },
  {
   "cell_type": "markdown",
   "id": "a995ab55",
   "metadata": {},
   "source": [
    "```{code-cell} python jupyter={\"source_hidden\": false}\n",
    "b01_wtr_t15ruq = b01_wtr.loc[b01_wtr.tile_id=='T15RUQ']\n",
    "b01_wtr_t15ruq\n",
    "```"
   ]
  },
  {
   "cell_type": "markdown",
   "id": "7f028a17",
   "metadata": {
    "jupyter": {
     "source_hidden": false
    }
   },
   "source": [
    "\n",
    "Se obtiene un `DataFrame` `b01_wtr_t15ruq` mucho más corto que resume las ubicaciones remotas de los archivos (por ejemplo, GeoTiffs) que almacenan datos ráster para la banda de aguas superficiales `B01_WTR` en el mosaico MGRS `T15RUQ` recopilados en varias marcas de tiempo que se encuentran dentro de la ventana de tiempo que especificamos. Se puede utilizar este DataFrame para descargar esos archivos para su análisis o visualización.\n"
   ]
  },
  {
   "cell_type": "markdown",
   "id": "6e7e1f76",
   "metadata": {},
   "source": [
    "***\n",
    "\n",
    "## Procesamiento de datos para obtener resultados relevantes\n",
    "\n",
    "### Apilamiento de los datos"
   ]
  },
  {
   "cell_type": "markdown",
   "id": "8a847bbb",
   "metadata": {
    "jupyter": {
     "source_hidden": false
    }
   },
   "source": [
    "\n",
    "Se cuenta con un `DataFrame` que identifica archivos remotos específicos de datos ráster. El siguiente paso es combinar estos datos ráster en una estructura de datos adecuada para el análisis. El Xarray `DataArray` es adecuado en este caso. La combinación puede generarse utilizando la función `concat` de Xarray. La función `urls_to_stack` en la siguiente celda es larga pero no es complicada. Toma un `DataFrame` con marcas de tiempo en el índice y una columna etiquetada `href` de las URL, lee los archivos asociados a esas URL uno a uno, y apila las matrices bidimensionales relevantes de datos ráster en una matriz tridimensional.\n"
   ]
  },
  {
   "cell_type": "markdown",
   "id": "cce043e3",
   "metadata": {},
   "source": [
    "```{code-cell} python jupyter={\"source_hidden\": false}\n",
    "def urls_to_stack(granule_dataframe):\n",
    "    '''Processes DataFrame of PySTAC search results (with OPERA tile URLs) &\n",
    "    returns stacked Xarray DataArray (dimensions time, latitude, & longitude)'''\n",
    "    \n",
    "    stack = []\n",
    "    for i, row in granule_dataframe.iterrows():\n",
    "        with rasterio.open(row.href) as ds:\n",
    "            # extract CRS string\n",
    "            crs = str(ds.crs).split(':')[-1]\n",
    "            # extract the image spatial extent (xmin, ymin, xmax, ymax)\n",
    "            xmin, ymin, xmax, ymax = ds.bounds\n",
    "            # the x and y resolution of the image is available in image metadata\n",
    "            x_res = np.abs(ds.transform[0])\n",
    "            y_res = np.abs(ds.transform[4])\n",
    "            # read the data \n",
    "            img = ds.read()\n",
    "            # Ensure img has three dimensions (bands, y, x)\n",
    "            if img.ndim == 2:\n",
    "                img = np.expand_dims(img, axis=0) \n",
    "            lon = np.arange(xmin, xmax, x_res)\n",
    "            lat = np.arange(ymax, ymin, -y_res)\n",
    "            bands = np.arange(img.shape[0])\n",
    "            da = xr.DataArray(\n",
    "                                data=img,\n",
    "                                dims=[\"band\", \"lat\", \"lon\"],\n",
    "                                coords=dict(\n",
    "                                            lon=([\"lon\"], lon),\n",
    "                                            lat=([\"lat\"], lat),\n",
    "                                            time=i,\n",
    "                                            band=bands\n",
    "                                            ),\n",
    "                                attrs=dict(\n",
    "                                            description=\"OPERA DSWx B01\",\n",
    "                                            units=None,\n",
    "                                          ),\n",
    "                             )\n",
    "            da.rio.write_crs(crs, inplace=True)   \n",
    "            stack.append(da)\n",
    "    return xr.concat(stack, dim='time').squeeze()\n",
    "```\n",
    "\n",
    "```{code-cell} python jupyter={\"source_hidden\": false}\n",
    "%%time\n",
    "stack = urls_to_stack(b01_wtr_t15ruq)\n",
    "```\n",
    "\n",
    "```{code-cell} python jupyter={\"source_hidden\": false}\n",
    "stack\n",
    "```\n",
    "\n",
    "### Crear una visualización de los datos\n",
    "\n",
    "```{code-cell} python jupyter={\"source_hidden\": false}\n",
    "#  Define a colormap with RGBA tuples\n",
    "COLORS = [(150, 150, 150, 0.1)]*256  # Setting all values to gray with low opacity\n",
    "COLORS[0] = (0, 255, 0, 0.1)         # Not-water class to green\n",
    "COLORS[1] = (0, 0, 255, 1)           # Open surface water\n",
    "COLORS[2] = (0, 0, 255, 1)           # Partial surface water\n",
    "```\n",
    "\n",
    "```{code-cell} python jupyter={\"source_hidden\": false}\n",
    "image_opts = dict(\n",
    "                   x='lon',\n",
    "                   y='lat',\n",
    "                   project=True,\n",
    "                   rasterize=True,\n",
    "                   cmap=COLORS, \n",
    "                   colorbar=False,\n",
    "                   tiles = gv.tile_sources.OSM,\n",
    "                   widget_location='bottom',\n",
    "                   frame_width=500,\n",
    "                   frame_height=500,\n",
    "                   xlabel='Longitude (degrees)',\n",
    "                   ylabel='Latitude (degrees)',\n",
    "                   title = 'DSWx data for May 2024 Texas floods',\n",
    "                   fontscale=1.25\n",
    "                  )\n",
    "```"
   ]
  },
  {
   "cell_type": "markdown",
   "id": "1f5b9f41",
   "metadata": {
    "jupyter": {
     "source_hidden": false
    }
   },
   "source": [
    "\n",
    "Visualizar las imágenes completas puede consumir mucha memoria. Se utiliza el método Xarray `DataArray.isel` para extraer un trozo del arreglo `stack` con menos píxeles. Esto permitirá un rápido renderizado y desplazamiento.\n"
   ]
  },
  {
   "cell_type": "markdown",
   "id": "ef303234",
   "metadata": {},
   "source": [
    "```{code-cell} python jupyter={\"source_hidden\": false}\n",
    "view = stack.isel(lon=slice(3000,None), lat=slice(3000,None))\n",
    "view.hvplot.image(**image_opts)\n",
    "```\n",
    "\n",
    "```{code-cell} python jupyter={\"source_hidden\": false}\n",
    "stack.hvplot.image(**image_opts) # Construct view from all slices.\n",
    "```"
   ]
  },
  {
   "cell_type": "markdown",
   "id": "4228d912",
   "metadata": {
    "jupyter": {
     "source_hidden": false
    }
   },
   "source": [
    "\n",
    "Antes de continuar, recuerda apagar el kernel de este cuaderno computacional para liberar memoria para otros cálculos.\n"
   ]
  },
  {
   "cell_type": "markdown",
   "id": "32a3ff1a",
   "metadata": {},
   "source": [
    "***"
   ]
  },
  {
   "cell_type": "markdown",
   "id": "a207ae42",
   "metadata": {
    "jupyter": {
     "source_hidden": false
    }
   },
   "source": [
    "\n",
    "Este cuaderno computacional proporciona principalmente un ejemplo para ilustrar el uso de la API de PySTAC.\n",
    "\n",
    "En los siguientes cuadernos computacionales, utilizaremos este flujo de trabajo general:\n",
    "\n",
    "1. Establecer una consulta de búsqueda mediante la identificación de un _AOI_ particular y un _intervalo de fechas_.\n",
    "2. Identificar un _endpoint_, un _proveedor_ y un _catálogo de activos_ adecuados, y ejecutar la búsqueda utilizando `pystac.Client`.\n",
    "3. Convertir los resultados de la búsqueda en un DataFrame de Pandas que contenga los principales campos de interés.\n",
    "4. Utilizar el DataFrame resultante para filtrar los archivos de datos remotos más relevantes necesarios para el análisis y/o la visualización.\n",
    "5. Ejecutar el análisis y/o la visualización utilizando el DataFrame para recuperar los datos requeridos.\n"
   ]
  }
 ],
 "metadata": {
  "kernelspec": {
   "display_name": "Python 3 (ipykernel)",
   "language": "python",
   "name": "python3"
  }
 },
 "nbformat": 4,
 "nbformat_minor": 5
}
