{
 "cells": [
  {
   "cell_type": "markdown",
   "id": "1855cf26",
   "metadata": {},
   "source": [
    "# Cómo obtener las credenciales de NASA Earthdata\n",
    "\n",
    "En este cuaderno se describe el proceso para obtener las credenciales de NASA Earthdata.\n",
    "\n",
    "**Puedes completar este paso antes del día que se dicte el tutorial.**\n",
    "\n",
    "## Breve introducción\n",
    "\n",
    "El programa [Sistemas de datos científicos de la Tierra (ESDS, por sus siglas en inglés) de la NASA](https://www.earthdata.nasa.gov/) supervisa el ciclo de vida de los datos de ciencias de la Tierra de todas sus misiones de observación terrestre, desde su adquisición hasta su procesamiento y distribución.\n",
    "\n",
    "Para fines de esta guía, el sitio web NASA Earthdata es el punto de entrada que permite el acceso completo, gratuito y abierto a las colecciones de datos de ciencias de la Tierra de la NASA, con el fin de acelerar el progreso científico en beneficio de la sociedad. Para acceder a los datos mediante este portal, quienes deseen usarlos deben definir primero sus credenciales de acceso. Para crear una cuenta en EarthData, sigue estos pasos:\n",
    "\n",
    "- Ingresa al sitio web de EarthData de la NASA: [`https://www.earthdata.nasa.gov/`](https://www.earthdata.nasa.gov/). Luego, selecciona la opción \"_Use Data_\" en el menú, y luego \"_Register_\". Finalmente, ingresa a la siguiente dirección [`https://urs.earthdata.nasa.gov/`](https://urs.earthdata.nasa.gov/).\n",
    "\n",
    "![earthdata\\_login](../../assets/earthdata_login.png) (earthdata_inicio_de_sesión)\n",
    "\n",
    "- Selecciona la opción \"_Register for a profile_\" (\"_Registrarse para obtener un perfil_\") y elige un nombre de usuario y una contraseña. Necesitarás estos datos más adelante, así que elige aquellos que recuerdes bien. También tendrás que completar tu perfil para finalizar el registro, en el mismo se te pedirá información como correo electrónico, país y afiliación. Por último, elige \"_Register for Earthdata Login_\" (\"_Registrarse para iniciar sesión en Earthdata_\").\n",
    "\n",
    "![earthdata\\_perfil](../../assets/earthdata_profile2.png)"
   ]
  }
 ],
 "metadata": {
  "jupytext": {
   "cell_metadata_filter": "-all",
   "main_language": "python",
   "notebook_metadata_filter": "-all"
  }
 },
 "nbformat": 4,
 "nbformat_minor": 5
}
