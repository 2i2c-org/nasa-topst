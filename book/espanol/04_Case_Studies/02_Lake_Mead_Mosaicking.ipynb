{
 "cells": [
  {
   "cell_type": "markdown",
   "id": "49048a32",
   "metadata": {},
   "source": [
    "# Generación de un mosaico del lago Mead"
   ]
  },
  {
   "cell_type": "markdown",
   "id": "c8e6d6d6",
   "metadata": {
    "jupyter": {
     "source_hidden": false
    }
   },
   "source": [
    "\n",
    "El [Lake Mead](https://es.wikipedia.org/wiki/Lago_Mead) es un embalse de agua que se encuentra en el suroeste de los Estados Unidos y es importante para el riego en esa zona. El lago ha tenido una importante sequía durante la última década y, en particular, entre 2020 y 2023. En este cuaderno computacional, buscaremos datos GeoTIFF relacionados con este lago y sintetizaremos varios archivos ráster para producir una visualización.\n",
    "\n",
    "***\n"
   ]
  },
  {
   "cell_type": "markdown",
   "id": "9e0bf585",
   "metadata": {},
   "source": [
    "## Esquema de los pasos para el análisis"
   ]
  },
  {
   "cell_type": "markdown",
   "id": "aa8bf526",
   "metadata": {
    "jupyter": {
     "source_hidden": false
    }
   },
   "source": [
    "\n",
    "- Identificar los parámetros de búsqueda\n",
    "  - AOI y ventana temporal\n",
    "  - _Endpoint_, proveedor, identificador del catálogo (\"nombre corto\")\n",
    "- Obtención de los resultados de búsqueda\n",
    "  - Exploracion, análisis para identificar características, bandas de interés\n",
    "  - Almacenar los resultados en un DataFrame para facilitar la exploración\n",
    "- Exploración y refinamiento de los resultados de la búsqueda\n",
    "  - Identificar los gránulos de mayor valor\n",
    "  - Filtrar los gránulos atípicos con contribución mínima\n",
    "  - Combinar los gránulos filtrados en un DataFrame\n",
    "  - Identificar el tipo de salida a generar\n",
    "- Procesamiento de los datos para obtener resultados relevantes\n",
    "  - Descargar los gránulos relevantes en Xarray DataArray, apilados adecuadamente\n",
    "  - Realizar los cálculos intermedios necesarios\n",
    "  - Unir los datos relevantes en una visualización\n"
   ]
  },
  {
   "cell_type": "markdown",
   "id": "d81abb88",
   "metadata": {},
   "source": [
    "***\n",
    "\n",
    "### Importación preliminar\n",
    "\n",
    "```{code-cell} python jupyter={\"source_hidden\": false}\n",
    "from warnings import filterwarnings\n",
    "filterwarnings('ignore')\n",
    "import numpy as np, pandas as pd, xarray as xr\n",
    "import rioxarray as rio\n",
    "```\n",
    "\n",
    "```{code-cell} python jupyter={\"source_hidden\": false}\n",
    "# Imports for plotting\n",
    "import hvplot.pandas, hvplot.xarray\n",
    "import geoviews as gv\n",
    "from geoviews import opts\n",
    "gv.extension('bokeh')\n",
    "from bokeh.models import FixedTicker\n",
    "```\n",
    "\n",
    "```{code-cell} python jupyter={\"source_hidden\": false}\n",
    "# STAC imports to retrieve cloud data\n",
    "from pystac_client import Client\n",
    "from osgeo import gdal\n",
    "# GDAL setup for accessing cloud data\n",
    "gdal.SetConfigOption('GDAL_HTTP_COOKIEFILE','~/.cookies.txt')\n",
    "gdal.SetConfigOption('GDAL_HTTP_COOKIEJAR', '~/.cookies.txt')\n",
    "gdal.SetConfigOption('GDAL_DISABLE_READDIR_ON_OPEN','EMPTY_DIR')\n",
    "gdal.SetConfigOption('CPL_VSIL_CURL_ALLOWED_EXTENSIONS','TIF, TIFF')\n",
    "```\n",
    "\n",
    "### Funciones prácticas"
   ]
  },
  {
   "cell_type": "markdown",
   "id": "49c799e5",
   "metadata": {
    "jupyter": {
     "source_hidden": false
    }
   },
   "source": [
    "\n",
    "Estas funciones podrían incluirse en archivos modulares para proyectos de investigación más evolucionados. Para fines didácticos, se incluyen en este cuaderno computacional.\n"
   ]
  },
  {
   "cell_type": "markdown",
   "id": "9b62e123",
   "metadata": {},
   "source": [
    "```{code-cell} python jupyter={\"source_hidden\": false}\n",
    "# simple utility to make a rectangle with given center of width dx & height dy\n",
    "def make_bbox(pt,dx,dy):\n",
    "    '''Returns bounding-box represented as tuple (x_lo, y_lo, x_hi, y_hi)\n",
    "    given inputs pt=(x, y), width & height dx & dy respectively,\n",
    "    where x_lo = x-dx/2, x_hi=x+dx/2, y_lo = y-dy/2, y_hi = y+dy/2.\n",
    "    '''\n",
    "    return tuple(coord+sgn*delta for sgn in (-1,+1) for coord,delta in zip(pt, (dx/2,dy/2)))\n",
    "```\n",
    "\n",
    "```{code-cell} python jupyter={\"source_hidden\": false}\n",
    "# simple utility to plot an AOI or bounding-box\n",
    "def plot_bbox(bbox):\n",
    "    '''Given bounding-box, returns GeoViews plot of Rectangle & Point at center\n",
    "    + bbox: bounding-box specified as (lon_min, lat_min, lon_max, lat_max)\n",
    "    Assume longitude-latitude coordinates.\n",
    "    '''\n",
    "    # These plot options are fixed but can be over-ridden\n",
    "    point_opts = opts.Points(size=12, alpha=0.25, color='blue')\n",
    "    rect_opts = opts.Rectangles(line_width=0, alpha=0.1, color='red')\n",
    "    lon_lat = (0.5*sum(bbox[::2]), 0.5*sum(bbox[1::2]))\n",
    "    return (gv.Points([lon_lat]) * gv.Rectangles([bbox])).opts(point_opts, rect_opts)\n",
    "```\n",
    "\n",
    "```{code-cell} python jupyter={\"source_hidden\": false}\n",
    "# utility to extract search results into a Pandas DataFrame\n",
    "def search_to_dataframe(search):\n",
    "    '''Constructs Pandas DataFrame from PySTAC Earthdata search results.\n",
    "    DataFrame columns are determined from search item properties and assets.\n",
    "    'asset': string identifying an Asset type associated with a granule\n",
    "    'href': data URL for file associated with the Asset in a given row.'''\n",
    "    granules = list(search.items())\n",
    "    assert granules, \"Error: empty list of search results\"\n",
    "    props = list({prop for g in granules for prop in g.properties.keys()})\n",
    "    tile_ids = map(lambda granule: granule.id.split('_')[3], granules)\n",
    "    rows = (([g.properties.get(k, None) for k in props] + [a, g.assets[a].href, t])\n",
    "                for g, t in zip(granules,tile_ids) for a in g.assets )\n",
    "    df = pd.concat(map(lambda x: pd.DataFrame(x, index=props+['asset','href', 'tile_id']).T, rows),\n",
    "                   axis=0, ignore_index=True)\n",
    "    assert len(df), \"Empty DataFrame\"\n",
    "    return df\n",
    "```\n",
    "\n",
    "```{code-cell} python jupyter={\"source_hidden\": false}\n",
    "# utility to remap pixel values to a sequence of contiguous integers\n",
    "def relabel_pixels(data, values, null_val=255, transparent_val=0, replace_null=True, start=0):\n",
    "    \"\"\"\n",
    "    This function accepts a DataArray with a finite number of categorical values as entries.\n",
    "    It reassigns the pixel labels to a sequence of consecutive integers starting from start.\n",
    "    data:            Xarray DataArray with finitely many categories in its array of values.\n",
    "    null_val:        (default 255) Pixel value used to flag missing data and/or exceptions.\n",
    "    transparent_val: (default 0) Pixel value that will be fully transparent when rendered.\n",
    "    replace_null:    (default True) Maps null_value->transparent_value everywhere in data.\n",
    "    start:           (default 0) starting range of consecutive integer values for new labels.\n",
    "    The values returned are:\n",
    "    new_data:        Xarray DataArray containing pixels with new values\n",
    "    relabel:         dictionary associating old pixel values with new pixel values\n",
    "    \"\"\"\n",
    "    new_data = data.copy(deep=True)\n",
    "    if values:\n",
    "        values = np.sort(np.array(values, dtype=np.uint8))\n",
    "    else:\n",
    "        values = np.sort(np.unique(data.values.flatten()))\n",
    "    if replace_null:\n",
    "        new_data = new_data.where(new_data!=null_val, other=transparent_val)\n",
    "        values = values[np.where(values!=null_val)]\n",
    "    n_values = len(values)\n",
    "    new_values = np.arange(start=start, stop=start+n_values, dtype=values.dtype)\n",
    "    assert transparent_val in new_values, f\"{transparent_val=} not in {new_values}\"\n",
    "    relabel = dict(zip(values, new_values))\n",
    "    for old, new in relabel.items():\n",
    "        if new==old: continue\n",
    "        new_data = new_data.where(new_data!=old, other=new)\n",
    "    return new_data, relabel\n",
    "```\n",
    "\n",
    "***\n",
    "\n",
    "## Identificación de los parámetros de búsqueda"
   ]
  },
  {
   "cell_type": "markdown",
   "id": "d9c9fe3e",
   "metadata": {
    "jupyter": {
     "source_hidden": false
    }
   },
   "source": [
    "\n",
    "Identificaremos un punto geográfico cerca de la orilla norte del [lago Mead](https://es.wikipedia.org/wiki/Lago_Mead), haremos un cuadro delimitador y elegiremos un intervalo de fechas que cubra marzo y parte de abril del 2023.\n"
   ]
  },
  {
   "cell_type": "markdown",
   "id": "9fac141f",
   "metadata": {},
   "source": [
    "```{code-cell} python jupyter={\"source_hidden\": false}\n",
    "lake_mead = (-114.754, 36.131)\n",
    "AOI = make_bbox(lake_mead, 0.1, 0.1)\n",
    "DATE_RANGE = \"2023-03-01/2023-04-15\"\n",
    "```\n",
    "\n",
    "```{code-cell} python jupyter={\"source_hidden\": false}\n",
    "# Optionally plot the AOI\n",
    "basemap = gv.tile_sources.OSM(width=500, height=500, padding=0.1)\n",
    "plot_bbox(AOI) * basemap\n",
    "```\n",
    "\n",
    "```{code-cell} python jupyter={\"source_hidden\": false}\n",
    "search_params = dict(bbox=AOI, datetime=DATE_RANGE)\n",
    "print(search_params)\n",
    "```\n",
    "\n",
    "***\n",
    "\n",
    "## Obtención de los resultados de búsqueda"
   ]
  },
  {
   "cell_type": "markdown",
   "id": "8a8adf77",
   "metadata": {
    "jupyter": {
     "source_hidden": false
    }
   },
   "source": [
    "\n",
    "Como siempre, especificaremos el _endpoint_ de búsqueda, el proveedor y el catálogo. Para la familia de productos de datos DSWx son los siguientes.\n"
   ]
  },
  {
   "cell_type": "markdown",
   "id": "ede0ca03",
   "metadata": {},
   "source": [
    "```{code-cell} python jupyter={\"source_hidden\": false}\n",
    "ENDPOINT = 'https://cmr.earthdata.nasa.gov/stac'\n",
    "PROVIDER = 'POCLOUD'\n",
    "COLLECTIONS = [\"OPERA_L3_DSWX-HLS_V1_1.0\"]\n",
    "# Update the dictionary opts with list of collections to search\n",
    "search_params.update(collections=COLLECTIONS)\n",
    "print(search_params)\n",
    "```\n",
    "\n",
    "```{code-cell} python jupyter={\"source_hidden\": false}\n",
    "catalog = Client.open(f'{ENDPOINT}/{PROVIDER}/')\n",
    "search_results = catalog.search(**search_params)\n",
    "```"
   ]
  },
  {
   "cell_type": "markdown",
   "id": "08895945",
   "metadata": {
    "jupyter": {
     "source_hidden": false
    }
   },
   "source": [
    "\n",
    "Convertimos los resultados de la búsqueda en un `DataFrame` para facilitar su lectura.\n"
   ]
  },
  {
   "cell_type": "markdown",
   "id": "290b4063",
   "metadata": {},
   "source": [
    "```{code-cell} python jupyter={\"source_hidden\": false}\n",
    "df = search_to_dataframe(search_results)\n",
    "display(df.head())\n",
    "df.info()\n",
    "```"
   ]
  },
  {
   "cell_type": "markdown",
   "id": "50982e56",
   "metadata": {
    "jupyter": {
     "source_hidden": false
    }
   },
   "source": [
    "\n",
    "Limpiaremos el DataFrame `df` de maneras estándar:\n",
    "\n",
    "- eliminando las columnas `start_datetime` y `end_datetime`,\n",
    "- renombrando la columna `eo:cloud_cover`,\n",
    "- convirtiendo las columnas a tipos de datos adecuados, y\n",
    "- asignando la columna `datetime` como el índice.\n"
   ]
  },
  {
   "cell_type": "markdown",
   "id": "0d33ef2f",
   "metadata": {},
   "source": [
    "```{code-cell} python jupyter={\"source_hidden\": false}\n",
    "df.datetime = pd.DatetimeIndex(df.datetime)\n",
    "df = df.drop(['start_datetime', 'end_datetime'], axis=1)\n",
    "df = df.rename({'eo:cloud_cover':'cloud_cover'}, axis=1)\n",
    "df['cloud_cover'] = df['cloud_cover'].astype(np.float16)\n",
    "for col in ['asset', 'href', 'tile_id']:\n",
    "    df[col] = df[col].astype(pd.StringDtype())\n",
    "df = df.set_index('datetime').sort_index()\n",
    "```\n",
    "\n",
    "```{code-cell} python jupyter={\"source_hidden\": false}\n",
    "display(df.head())\n",
    "df.info()\n",
    "```\n",
    "\n",
    "***\n",
    "\n",
    "## Exploración y refinamiento de los resultados de la búsqueda"
   ]
  },
  {
   "cell_type": "markdown",
   "id": "e821e59a",
   "metadata": {
    "jupyter": {
     "source_hidden": false
    }
   },
   "source": [
    "\n",
    "Podemos observar la columna `assets` para ver cuáles bandas diferentes están disponibles en los resultados devueltos.\n"
   ]
  },
  {
   "cell_type": "markdown",
   "id": "98f45267",
   "metadata": {},
   "source": [
    "```{code-cell} python jupyter={\"source_hidden\": false}\n",
    "df.asset.value_counts()\n",
    "```"
   ]
  },
  {
   "cell_type": "markdown",
   "id": "02d89528",
   "metadata": {
    "jupyter": {
     "source_hidden": false
    }
   },
   "source": [
    "\n",
    "La banda `0_B01_WTR` es con la que queremos trabajar posteriormente.\n",
    "\n",
    "También podemos ver cuánta nubosidad hay en los resultados de nuestra búsqueda.\n"
   ]
  },
  {
   "cell_type": "markdown",
   "id": "48cd345d",
   "metadata": {},
   "source": [
    "```{code-cell} python jupyter={\"source_hidden\": false}\n",
    "df.cloud_cover.agg(['min','mean','median','max'])\n",
    "```"
   ]
  },
  {
   "cell_type": "markdown",
   "id": "b273b94f",
   "metadata": {
    "jupyter": {
     "source_hidden": false
    }
   },
   "source": [
    "\n",
    "Podemos extraer las filas seleccionadas del `DataFrame` usando `Series` booleanas. Específicamente, seleccionaremos las filas que tengan menos de 10% de nubosidad y en las que el `asset` sea la banda `0_B01_WTR`.\n"
   ]
  },
  {
   "cell_type": "markdown",
   "id": "336fa73a",
   "metadata": {},
   "source": [
    "```{code-cell} python jupyter={\"source_hidden\": false}\n",
    "c1 = (df.cloud_cover <= 10)\n",
    "c2 = (df.asset.str.contains('B01_WTR'))\n",
    "b01_wtr = df.loc[c1 & c2].drop(['asset', 'cloud_cover'], axis=1)\n",
    "b01_wtr\n",
    "```"
   ]
  },
  {
   "cell_type": "markdown",
   "id": "f1a748a3",
   "metadata": {
    "jupyter": {
     "source_hidden": false
    }
   },
   "source": [
    "\n",
    "Por último, podemos ver cuántos mosaicos MGRS diferentes intersecan nuestro AOI.\n"
   ]
  },
  {
   "cell_type": "markdown",
   "id": "59cd7f04",
   "metadata": {},
   "source": [
    "```{code-cell} python jupyter={\"source_hidden\": false}\n",
    "b01_wtr.tile_id.value_counts()\n",
    "```"
   ]
  },
  {
   "cell_type": "markdown",
   "id": "828f3ee8",
   "metadata": {
    "jupyter": {
     "source_hidden": false
    }
   },
   "source": [
    "\n",
    "Hay cuatro mosaicos geográficos distintos que intersecan este AOI en particular.\n",
    "\n",
    "***\n"
   ]
  },
  {
   "cell_type": "markdown",
   "id": "4063fc51",
   "metadata": {},
   "source": [
    "## Procesamiento de los datos para obtener resultados relevantes"
   ]
  },
  {
   "cell_type": "markdown",
   "id": "eb85b565",
   "metadata": {
    "jupyter": {
     "source_hidden": false
    }
   },
   "source": [
    "\n",
    "Esta vez, utilizaremos una técnica llamada _creación de mosaicos_ para combinar datos ráster de mosaicos adyacentes en un conjunto único de datos ráster. Esto requiere la función `rasterio.merge.merge` como antes. También necesitaremos la función `rasterio.transform.array_bounds` para alinear correctamente las coordenadas.\n"
   ]
  },
  {
   "cell_type": "markdown",
   "id": "6d0d2250",
   "metadata": {},
   "source": [
    "```{code-cell} python jupyter={\"source_hidden\": false}\n",
    "import rasterio\n",
    "from rasterio.merge import merge\n",
    "from rasterio.transform import array_bounds\n",
    "```"
   ]
  },
  {
   "cell_type": "markdown",
   "id": "a26bc578",
   "metadata": {
    "jupyter": {
     "source_hidden": false
    }
   },
   "source": [
    "\n",
    "Ya hemos utilizado la función `merge` para combinar distintos conjuntos de datos ráster asociados a un único mosaico MGRS. En esta ocasión, los datos ráster combinados provendrán de mosaicos MGRS adyacentes. Al llamar a la función `merge` en la siguiente celda de código, la columna `b01_wtr.href` se tratará como una lista de URL ([Localizadores Uniformes de Recursos](https://es.wikipedia.org/wiki/Localizador_de_recursos_uniforme) (URL, por su siglas en inglés de _Uniform Resource Locator_)). Para cada URL de la lista, se descargará y se procesará un archivo GeoTIFF. El resultado neto es un mosaico de imágenes, es decir, un ráster fusionado que contiene una combinación de todos los rásteres. Los detalles del algoritmo de fusión se describen en la [documentación del módulo `rasterio.merge`](https://rasterio.readthedocs.io/en/latest/api/rasterio.merge.html).\n"
   ]
  },
  {
   "cell_type": "markdown",
   "id": "4bbed18b",
   "metadata": {},
   "source": [
    "```{code-cell} python jupyter={\"source_hidden\": false}\n",
    "%%time\n",
    "mosaicked_img, mosaic_transform = merge(b01_wtr.href)\n",
    "```"
   ]
  },
  {
   "cell_type": "markdown",
   "id": "a6787af1",
   "metadata": {
    "jupyter": {
     "source_hidden": false
    }
   },
   "source": [
    "\n",
    "La salida consiste de nuevo en un arreglo de NumPy y una transformación de coordenadas.\n"
   ]
  },
  {
   "cell_type": "markdown",
   "id": "8bbfdff3",
   "metadata": {},
   "source": [
    "```{code-cell} python jupyter={\"source_hidden\": false}\n",
    "print(f\"{type(mosaicked_img)=}\\n\")\n",
    "print(f\"{mosaicked_img.shape=}\\n\")\n",
    "print(f\"{type(mosaic_transform)=}\\n\")\n",
    "print(f\"{mosaic_transform=}\\n\")\n",
    "```"
   ]
  },
  {
   "cell_type": "markdown",
   "id": "8e8aabd0",
   "metadata": {
    "jupyter": {
     "source_hidden": false
    }
   },
   "source": [
    "\n",
    "Las entradas de `mosaic_transform` describen una [_transformación afín_](https://es.wikipedia.org/wiki/Transformaci%C3%B3n_af%C3%ADn) de coordenadas de píxel a coordenadas UTM continuas. En particular:\n",
    "\n",
    "- la entrada `mosaic_transform[0]` es el ancho horizontal de cada píxel en metros, y\n",
    "- la entrada `mosaic_transform[4]` es la altura vertical de cada píxel en metros.\n",
    "\n",
    "Observa también que, en este caso, `mosaic_transform[4]` es un valor negativo (es decir, `mosaic_transform[4]==-30.0`). Esto nos dice que la orientación del eje vertical de coordenadas continuas se opone a la orientación del eje vertical de coordenadas de píxeles, es decir, la coordenada continua vertical disminuye en dirección descendente, a diferencia de la coordenada vertical de píxeles.\n",
    "\n",
    "Cuando pasamos el objeto `mosaic_transform` a la función `rasterio.transform.array_bounds`, el valor que se devuelve es un cuadro delimitador, es decir, una tupla de la forma `(x_min, y_min, x_max, y_max)` que describe las esquinas inferior izquierda y superior derecha de la imagen en mosaico resultante en coordenadas continuas UTM.\n"
   ]
  },
  {
   "cell_type": "markdown",
   "id": "3b8ca542",
   "metadata": {},
   "source": [
    "```{code-cell} python jupyter={\"source_hidden\": false}\n",
    "bounds = array_bounds(*mosaicked_img.shape[1:], mosaic_transform)\n",
    "\n",
    "bounds\n",
    "```"
   ]
  },
  {
   "cell_type": "markdown",
   "id": "0825d554",
   "metadata": {
    "jupyter": {
     "source_hidden": false
    }
   },
   "source": [
    "\n",
    "La combinación de toda la información anterior nos permite reconstruir las coordenadas UTM continuas asociadas a cada píxel. Computaremos arreglos para estas coordenadas continuas y las etiquetaremos como `longitude` y `latitude`. Estas coordenadas serían más precisas si se llamaran `easting` y `northing`, pero utilizaremos las etiquetas `longitude` y `latitude` respectivamente cuando adjuntemos los arreglos de coordenadas a un Xarray `DataArray`. Elegimos estas etiquetas porque, cuando los datos ráster se visualizan con `hvplot.image`, la salida utilizará coordenadas longitud-latitud.\n"
   ]
  },
  {
   "cell_type": "markdown",
   "id": "2b46eaed",
   "metadata": {},
   "source": [
    "```{code-cell} python jupyter={\"source_hidden\": false}\n",
    "longitude = np.arange(bounds[0], bounds[2], mosaic_transform[0])\n",
    "latitude = np.arange(bounds[3], bounds[1], mosaic_transform[4])\n",
    "```"
   ]
  },
  {
   "cell_type": "markdown",
   "id": "dbeb1a6b",
   "metadata": {
    "jupyter": {
     "source_hidden": false
    }
   },
   "source": [
    "\n",
    "Almacenamos la imagen en mosaico y los metadatos relevantes en un Xarray `DataArray`.\n"
   ]
  },
  {
   "cell_type": "markdown",
   "id": "407e5b68",
   "metadata": {},
   "source": [
    "```{code-cell} python jupyter={\"source_hidden\": false}\n",
    "raster = xr.DataArray(\n",
    "        data=mosaicked_img,\n",
    "        dims=[\"band\", \"latitude\", \"longitude\"],\n",
    "        coords=dict(\n",
    "            longitude=([\"longitude\"], longitude),\n",
    "            latitude=([\"latitude\"], latitude),\n",
    "        ),\n",
    "        attrs=dict(\n",
    "            description=\"OPERA DSWx B01\",\n",
    "            units=None,\n",
    "        ),\n",
    "    )\n",
    "raster\n",
    "```"
   ]
  },
  {
   "cell_type": "markdown",
   "id": "93c61a1e",
   "metadata": {
    "jupyter": {
     "source_hidden": false
    }
   },
   "source": [
    "\n",
    "Necesitamos adjuntar un objeto CRS al objeto `raster`. Para ello, utilizaremos `rasterio.open` para cargar los metadatos relevantes de uno de los gránulos asociados a `b01_wtr` (deberían ser los mismos para todos estos archivos).\n"
   ]
  },
  {
   "cell_type": "markdown",
   "id": "d6f21bac",
   "metadata": {},
   "source": [
    "```{code-cell} python jupyter={\"source_hidden\": false}\n",
    "with rasterio.open(b01_wtr.href[0]) as ds:\n",
    "    crs = ds.crs\n",
    "\n",
    "raster.rio.write_crs(crs, inplace=True)\n",
    "print(raster.rio.crs)\n",
    "```"
   ]
  },
  {
   "cell_type": "markdown",
   "id": "fe126d0b",
   "metadata": {
    "jupyter": {
     "source_hidden": false
    }
   },
   "source": [
    "\n",
    "En el código de investigación, podríamos agrupar los comandos anteriores en una función y guardarla en un módulo. No lo haremos aquí porque, para los propósitos de este tutorial, es preferible asegurarse de que podemos analizar la salida de varias líneas de código interactivamente.\n",
    "\n",
    "Con todos los pasos anteriores completados, estamos listos para producir una visualización del mosaico. Reetiquetaremos los valores de los píxeles para que la barra de colores del resultado final sea más prolija.\n"
   ]
  },
  {
   "cell_type": "markdown",
   "id": "a1066a31",
   "metadata": {},
   "source": [
    "```{code-cell} python jupyter={\"source_hidden\": false}\n",
    "raster, relabel = relabel_pixels(raster, values=[0,1,2,253,254,255])\n",
    "```"
   ]
  },
  {
   "cell_type": "markdown",
   "id": "e9ac8d8a",
   "metadata": {
    "jupyter": {
     "source_hidden": false
    }
   },
   "source": [
    "\n",
    "Vamos a definir las opciones de imagen, las opciones de diseño, y un mapa de color en los diccionarios como lo hicimos anteriormente para generar una única visualización.\n"
   ]
  },
  {
   "cell_type": "markdown",
   "id": "c35c15d9",
   "metadata": {},
   "source": [
    "```{code-cell} python jupyter={\"source_hidden\": false}\n",
    "image_opts = dict(\n",
    "                    x='longitude',\n",
    "                    y='latitude',                   \n",
    "                    rasterize=True, \n",
    "                    dynamic=True,\n",
    "                    crs=raster.rio.crs\n",
    "                 )\n",
    "layout_opts = dict(\n",
    "                    xlabel='Longitude',\n",
    "                    ylabel='Latitude',\n",
    "                  )\n",
    "```\n",
    "\n",
    "```{code-cell} python jupyter={\"source_hidden\": false}\n",
    "# Define a colormap using RGBA values; these need to be written manually here...\n",
    "COLORS = {\n",
    "0: (255, 255, 255, 0.0),  # No Water\n",
    "1:  (0,   0, 255, 1.0),   # Open Water\n",
    "2:  (180, 213, 244, 1.0), # Partial Surface Water\n",
    "3: (  0, 255, 255, 1.0),  # Snow/Ice\n",
    "4: (175, 175, 175, 1.0),  # Cloud/Cloud Shadow\n",
    "5: ( 0,   0, 127, 0.5),   # Ocean Masked\n",
    "}\n",
    "\n",
    "c_labels = [\"Not water\", \"Open water\", \"Partial Surface Water\", \"Snow/Ice\",\n",
    "            \"Cloud/Cloud Shadow\", \"Ocean Masked\"]\n",
    "c_ticks = list(COLORS.keys())\n",
    "limits = (c_ticks[0]-0.5, c_ticks[-1]+0.5)\n",
    "\n",
    "c_bar_opts = dict( ticker=FixedTicker(ticks=c_ticks),\n",
    "                   major_label_overrides=dict(zip(c_ticks, c_labels)),\n",
    "                   major_tick_line_width=0, )\n",
    "\n",
    "image_opts.update({ 'cmap': list(COLORS.values()),\n",
    "                    'clim': limits,\n",
    "                  })\n",
    "\n",
    "layout_opts.update(dict(colorbar_opts=c_bar_opts))\n",
    "```"
   ]
  },
  {
   "cell_type": "markdown",
   "id": "78684cf9",
   "metadata": {
    "jupyter": {
     "source_hidden": false
    }
   },
   "source": [
    "\n",
    "Definiremos el mapa base como un objeto separado para superponerlo usando el operador `*`.\n"
   ]
  },
  {
   "cell_type": "markdown",
   "id": "4e0d0460",
   "metadata": {},
   "source": [
    "```{code-cell} python jupyter={\"source_hidden\": false}\n",
    "basemap = gv.tile_sources.ESRI(frame_width=500, frame_height=500, padding=0.05, alpha=0.25)\n",
    "```"
   ]
  },
  {
   "cell_type": "markdown",
   "id": "12ecff81",
   "metadata": {
    "jupyter": {
     "source_hidden": false
    }
   },
   "source": [
    "\n",
    "Por último, podemos utilizar la función `slice` de Python para extraer rápidamente las imágenes reducidas antes de tratar de ver la imagen completa. Recuerda que reducir el valor de `steps` a `1` (o `None`) visualiza el ráster a resolución completa.\n"
   ]
  },
  {
   "cell_type": "markdown",
   "id": "bd3e7844",
   "metadata": {},
   "source": [
    "```{code-cell} python jupyter={\"source_hidden\": false}\n",
    "%%time\n",
    "steps = 1\n",
    "view = raster.isel(longitude=slice(0,None,steps), latitude=slice(0,None,steps)).squeeze()\n",
    "\n",
    "view.hvplot.image(**image_opts).opts(**layout_opts) * basemap\n",
    "```"
   ]
  },
  {
   "cell_type": "markdown",
   "id": "f40cadc4",
   "metadata": {
    "jupyter": {
     "source_hidden": false
    }
   },
   "source": [
    "\n",
    "Este ráster es mucho más grande de los que analizamos anteriormente (requiere aproximadamente 4 veces más espacio de almacenamiento). Este proceso podría ser iterado para hacer un deslizador que muestre los resultados fusionados de mosaicos vecinos en diferentes momentos. Esto, por supuesto, requiere que haya suficiente memoria disponible.\n",
    "\n",
    "***\n"
   ]
  }
 ],
 "metadata": {
  "kernelspec": {
   "display_name": "Python 3 (ipykernel)",
   "language": "python",
   "name": "python3"
  }
 },
 "nbformat": 4,
 "nbformat_minor": 5
}
