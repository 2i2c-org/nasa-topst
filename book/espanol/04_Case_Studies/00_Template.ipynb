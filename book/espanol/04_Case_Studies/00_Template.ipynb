{
 "cells": [
  {
   "cell_type": "markdown",
   "id": "47670c54",
   "metadata": {},
   "source": [
    "# Plantilla para el uso de del servicio cloud ofrecido por EarthData\n",
    "\n",
    "## Esquema de los pasos para el análisis"
   ]
  },
  {
   "cell_type": "markdown",
   "id": "1ba648c0",
   "metadata": {
    "jupyter": {
     "source_hidden": false
    }
   },
   "source": [
    "\n",
    "- Identificación de los parámetros de búsqueda\n",
    "  - Área de interés (AOI, por las siglas en inglés de _area of interest_) y ventana temporal\n",
    "  - _Endpoint_, proveedor, identificador del catálogo (\"nombre corto\")\n",
    "- Obtención de los resultados de la búsqueda\n",
    "  - Exploracion, análisis para identificar características, bandas de interés\n",
    "  - Almacenar los resultados en un DataFrame para facilitar la exploración\n",
    "- Explorar y refinar los resultados de la búsqueda\n",
    "  - Identificar los gránulos de mayor valor\n",
    "  - Filtrar los gránulos atípicos con mínima contribución\n",
    "  - Combinar los gránulos filtrados relevantes en un DataFrame\n",
    "  - Identificar el tipo de salida a generar\n",
    "- Procesar los datos para obtener resultados relevantes\n",
    "  - Descargar los gránulos relevantes en Xarray DataArray, apilados adecuadamente\n",
    "  - Realizar los cálculos intermedios necesarios\n",
    "  - Combinar los datos relevantes en una visualización\n"
   ]
  },
  {
   "cell_type": "markdown",
   "id": "cf15e81b",
   "metadata": {},
   "source": [
    "***\n",
    "\n",
    "### Importación preliminar de librerías"
   ]
  },
  {
   "cell_type": "code",
   "execution_count": null,
   "id": "81759179",
   "metadata": {
    "jupyter": {
     "source_hidden": false
    }
   },
   "outputs": [],
   "source": [
    "from warnings import filterwarnings\n",
    "filterwarnings('ignore')\n",
    "# data wrangling imports\n",
    "import numpy as np\n",
    "import pandas as pd\n",
    "import xarray as xr\n",
    "import rioxarray as rio\n",
    "import rasterio"
   ]
  },
  {
   "cell_type": "code",
   "execution_count": null,
   "id": "515117e4",
   "metadata": {
    "jupyter": {
     "source_hidden": false
    }
   },
   "outputs": [],
   "source": [
    "# Imports for plotting\n",
    "import hvplot.pandas\n",
    "import hvplot.xarray\n",
    "import geoviews as gv\n",
    "from geoviews import opts\n",
    "gv.extension('bokeh')"
   ]
  },
  {
   "cell_type": "code",
   "execution_count": null,
   "id": "a0d51e38",
   "metadata": {
    "jupyter": {
     "source_hidden": false
    }
   },
   "outputs": [],
   "source": [
    "# STAC imports to retrieve cloud data\n",
    "from pystac_client import Client\n",
    "from osgeo import gdal\n",
    "# GDAL setup for accessing cloud data\n",
    "gdal.SetConfigOption('GDAL_HTTP_COOKIEFILE','~/.cookies.txt')\n",
    "gdal.SetConfigOption('GDAL_HTTP_COOKIEJAR', '~/.cookies.txt')\n",
    "gdal.SetConfigOption('GDAL_DISABLE_READDIR_ON_OPEN','EMPTY_DIR')\n",
    "gdal.SetConfigOption('CPL_VSIL_CURL_ALLOWED_EXTENSIONS','TIF, TIFF')"
   ]
  },
  {
   "cell_type": "markdown",
   "id": "7afca8ec",
   "metadata": {},
   "source": [
    "### Funciones prácticas\n",
    "\n",
    "Estas funciones podrían incluirse en archivos de módulos para proyectos de investigación más evolucionados. Para fines didácticos, se incluyen en este cuaderno computacional."
   ]
  },
  {
   "cell_type": "code",
   "execution_count": null,
   "id": "5324465f",
   "metadata": {
    "jupyter": {
     "source_hidden": false
    }
   },
   "outputs": [],
   "source": [
    "# simple utility to make a rectangle with given center of width dx & height dy\n",
    "def make_bbox(pt,dx,dy):\n",
    "    '''Returns bounding-box represented as tuple (x_lo, y_lo, x_hi, y_hi)\n",
    "    given inputs pt=(x, y), width & height dx & dy respectively,\n",
    "    where x_lo = x-dx/2, x_hi=x+dx/2, y_lo = y-dy/2, y_hi = y+dy/2.\n",
    "    '''\n",
    "    return tuple(coord+sgn*delta for sgn in (-1,+1) for coord,delta in zip(pt, (dx/2,dy/2)))"
   ]
  },
  {
   "cell_type": "code",
   "execution_count": null,
   "id": "339e6033",
   "metadata": {
    "jupyter": {
     "source_hidden": false
    }
   },
   "outputs": [],
   "source": [
    "# simple utility to plot an AOI or bounding-box\n",
    "def plot_bbox(bbox):\n",
    "    '''Given bounding-box, returns GeoViews plot of Rectangle & Point at center\n",
    "    + bbox: bounding-box specified as (lon_min, lat_min, lon_max, lat_max)\n",
    "    Assume longitude-latitude coordinates.\n",
    "    '''\n",
    "    # These plot options are fixed but can be over-ridden\n",
    "    point_opts = opts.Points(size=12, alpha=0.25, color='blue')\n",
    "    rect_opts = opts.Rectangles(line_width=0, alpha=0.1, color='red')\n",
    "    lon_lat = (0.5*sum(bbox[::2]), 0.5*sum(bbox[1::2]))\n",
    "    return (gv.Points([lon_lat]) * gv.Rectangles([bbox])).opts(point_opts, rect_opts)"
   ]
  },
  {
   "cell_type": "code",
   "execution_count": null,
   "id": "f418debf",
   "metadata": {
    "jupyter": {
     "source_hidden": false
    }
   },
   "outputs": [],
   "source": [
    "# utility to extract search results into a Pandas DataFrame\n",
    "def search_to_dataframe(search):\n",
    "    '''Constructs Pandas DataFrame from PySTAC Earthdata search results.\n",
    "    DataFrame columns are determined from search item properties and assets.\n",
    "    'asset': string identifying an Asset type associated with a granule\n",
    "    'href': data URL for file associated with the Asset in a given row.'''\n",
    "    granules = list(search.items())\n",
    "    assert granules, \"Error: empty list of search results\"\n",
    "    props = list({prop for g in granules for prop in g.properties.keys()})\n",
    "    tile_ids = map(lambda granule: granule.id.split('_')[3], granules)\n",
    "    rows = (([g.properties.get(k, None) for k in props] + [a, g.assets[a].href, t])\n",
    "                for g, t in zip(granules,tile_ids) for a in g.assets )\n",
    "    df = pd.concat(map(lambda x: pd.DataFrame(x, index=props+['asset','href', 'tile_id']).T, rows),\n",
    "                   axis=0, ignore_index=True)\n",
    "    assert len(df), \"Empty DataFrame\"\n",
    "    return df"
   ]
  },
  {
   "cell_type": "code",
   "execution_count": null,
   "id": "8882d68f",
   "metadata": {
    "jupyter": {
     "source_hidden": false
    }
   },
   "outputs": [],
   "source": [
    "# utility to process DataFrame of search results & return DataArray of stacked raster images\n",
    "def urls_to_stack(granule_dataframe):\n",
    "    '''Processes DataFrame of PySTAC search results (with OPERA tile URLs) &\n",
    "    returns stacked Xarray DataArray (dimensions time, latitude, & longitude)'''\n",
    "    \n",
    "    stack = []\n",
    "    for i, row in granule_dataframe.iterrows():\n",
    "        with rasterio.open(row.href) as ds:\n",
    "            # extract CRS string\n",
    "            crs = str(ds.crs).split(':')[-1]\n",
    "            # extract the image spatial extent (xmin, ymin, xmax, ymax)\n",
    "            xmin, ymin, xmax, ymax = ds.bounds\n",
    "            # the x and y resolution of the image is available in image metadata\n",
    "            x_res = np.abs(ds.transform[0])\n",
    "            y_res = np.abs(ds.transform[4])\n",
    "            # read the data \n",
    "            img = ds.read()\n",
    "            # Ensure img has three dimensions (bands, y, x)\n",
    "            if img.ndim == 2:\n",
    "                img = np.expand_dims(img, axis=0) \n",
    "            lon = np.arange(xmin, xmax, x_res)\n",
    "            lat = np.arange(ymax, ymin, -y_res)\n",
    "            bands = np.arange(img.shape[0])\n",
    "            da = xr.DataArray(\n",
    "                                data=img,\n",
    "                                dims=[\"band\", \"lat\", \"lon\"],\n",
    "                                coords=dict(\n",
    "                                            lon=([\"lon\"], lon),\n",
    "                                            lat=([\"lat\"], lat),\n",
    "                                            time=i,\n",
    "                                            band=bands\n",
    "                                            ),\n",
    "                                attrs=dict(\n",
    "                                            description=\"OPERA DSWx B01\",\n",
    "                                            units=None,\n",
    "                                          ),\n",
    "                             )\n",
    "            da.rio.write_crs(crs, inplace=True)   \n",
    "            stack.append(da)\n",
    "    return xr.concat(stack, dim='time').squeeze()"
   ]
  },
  {
   "cell_type": "markdown",
   "id": "8eba6f33",
   "metadata": {},
   "source": [
    "***\n",
    "\n",
    "## Identificación de los parámetros de búsqueda"
   ]
  },
  {
   "cell_type": "code",
   "execution_count": null,
   "id": "290484be",
   "metadata": {
    "jupyter": {
     "source_hidden": false
    }
   },
   "outputs": [],
   "source": [
    "AOI = ...\n",
    "DATE_RANGE = ..."
   ]
  },
  {
   "cell_type": "code",
   "execution_count": null,
   "id": "27f6fde9",
   "metadata": {
    "jupyter": {
     "source_hidden": false
    }
   },
   "outputs": [],
   "source": [
    "# Optionally plot the AOI"
   ]
  },
  {
   "cell_type": "code",
   "execution_count": null,
   "id": "b0f81d35",
   "metadata": {
    "jupyter": {
     "source_hidden": false
    }
   },
   "outputs": [],
   "source": [
    "search_params = dict(bbox=AOI, datetime=DATE_RANGE)\n",
    "print(search_params)"
   ]
  },
  {
   "cell_type": "markdown",
   "id": "e37d58e4",
   "metadata": {},
   "source": [
    "***\n",
    "\n",
    "## Obtención de los resultados de la búsqueda"
   ]
  },
  {
   "cell_type": "code",
   "execution_count": null,
   "id": "50add650",
   "metadata": {
    "jupyter": {
     "source_hidden": false
    }
   },
   "outputs": [],
   "source": [
    "ENDPOINT = ...\n",
    "PROVIDER = ...\n",
    "COLLECTIONS = ...\n",
    "# Update the dictionary opts with list of collections to search\n",
    "search_params.update(collections=COLLECTIONS)\n",
    "print(search_params)"
   ]
  },
  {
   "cell_type": "code",
   "execution_count": null,
   "id": "7ba558d9",
   "metadata": {
    "jupyter": {
     "source_hidden": false
    }
   },
   "outputs": [],
   "source": [
    "catalog = Client.open(f'{ENDPOINT}/{PROVIDER}/')\n",
    "search_results = catalog.search(**search_params)"
   ]
  },
  {
   "cell_type": "code",
   "execution_count": null,
   "id": "67fe0108",
   "metadata": {},
   "outputs": [],
   "source": [
    "df = search_to_dataframe(search_results)\n",
    "df.head()"
   ]
  },
  {
   "cell_type": "markdown",
   "id": "0565e6fa",
   "metadata": {},
   "source": [
    "Limpiar el DataFrame `df` de forma que tenga sentido (por ejemplo, eliminando columnas/filas innecesarias, convirtiendo columnas en tipos de datos fijos, estableciendo un índice, etc.)."
   ]
  },
  {
   "cell_type": "code",
   "execution_count": null,
   "id": "213e3a0d",
   "metadata": {},
   "outputs": [],
   "source": []
  },
  {
   "cell_type": "markdown",
   "id": "19a730ad",
   "metadata": {},
   "source": [
    "***\n",
    "\n",
    "## Exploración y refinamiento de los resultados de la búsqueda"
   ]
  },
  {
   "cell_type": "markdown",
   "id": "c9ad90e0",
   "metadata": {
    "jupyter": {
     "source_hidden": false
    }
   },
   "source": [
    "\n",
    "Consiste en filtrar filas o columnas adecuadamente para limitar los resultados de la búsqueda a los archivos de datos ráster más relevantes para el análisis y/o la visualización. Esto puede significar enfocarse en determinadas regiones geográficos, bandas específicas del producto de datos, determinadas fechas o períodos, etc.\n"
   ]
  },
  {
   "cell_type": "code",
   "execution_count": null,
   "id": "ff120de6",
   "metadata": {},
   "outputs": [],
   "source": []
  },
  {
   "cell_type": "markdown",
   "id": "d44ea4f3",
   "metadata": {},
   "source": [
    "***\n",
    "\n",
    "## Procesamiento de los datos para obtener resultados relevantes\n",
    "\n",
    "Esto puede incluir apilar matrices bidimensionales en una matriz tridimensional, combinar imágenes ráster de mosaicos adyacentes en uno solo, etc."
   ]
  },
  {
   "cell_type": "code",
   "execution_count": null,
   "id": "a4b2fbdd",
   "metadata": {},
   "outputs": [],
   "source": []
  },
  {
   "cell_type": "markdown",
   "id": "8b29b94b",
   "metadata": {},
   "source": [
    "***"
   ]
  }
 ],
 "metadata": {
  "kernelspec": {
   "display_name": "Python 3 (ipykernel)",
   "language": "python",
   "name": "python3"
  }
 },
 "nbformat": 4,
 "nbformat_minor": 5
}
